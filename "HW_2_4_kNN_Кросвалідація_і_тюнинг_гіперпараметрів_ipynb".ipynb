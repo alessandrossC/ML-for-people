{
  "nbformat": 4,
  "nbformat_minor": 0,
  "metadata": {
    "colab": {
      "provenance": [],
      "include_colab_link": true
    },
    "kernelspec": {
      "name": "python3",
      "display_name": "Python 3"
    },
    "language_info": {
      "name": "python"
    }
  },
  "cells": [
    {
      "cell_type": "markdown",
      "metadata": {
        "id": "view-in-github",
        "colab_type": "text"
      },
      "source": [
        "<a href=\"https://colab.research.google.com/github/alessandrossC/ML-for-people/blob/main/%22HW_2_4_kNN_%D0%9A%D1%80%D0%BE%D1%81%D0%B2%D0%B0%D0%BB%D1%96%D0%B4%D0%B0%D1%86%D1%96%D1%8F_%D1%96_%D1%82%D1%8E%D0%BD%D0%B8%D0%BD%D0%B3_%D0%B3%D1%96%D0%BF%D0%B5%D1%80%D0%BF%D0%B0%D1%80%D0%B0%D0%BC%D0%B5%D1%82%D1%80%D1%96%D0%B2_ipynb%22.ipynb\" target=\"_parent\"><img src=\"https://colab.research.google.com/assets/colab-badge.svg\" alt=\"Open In Colab\"/></a>"
      ]
    },
    {
      "cell_type": "markdown",
      "source": [
        "В цьому домашньому завданні ми знову працюємо з даними з нашого змагання [\"Bank Customer Churn Prediction (DLU Course)\"](https://www.kaggle.com/t/7c080c5d8ec64364a93cf4e8f880b6a0).\n",
        "\n",
        "Тут ми побудуємо рішення задачі класифікації з використанням kNearestNeighboors, знайдемо оптимальні гіперпараметри для цього методу і зробимо базові ансамблі. Це дасть змогу порівняти перформанс моделі з попередніми вивченими методами."
      ],
      "metadata": {
        "id": "fDefDHQt8LXC"
      }
    },
    {
      "cell_type": "markdown",
      "source": [
        "0. Зчитайте дані `train.csv` та зробіть препроцесинг використовуючи написаний Вами скрипт `process_bank_churn.py` так, аби в результаті отримати дані в розбитті X_train, train_targets, X_val, val_targets для експериментів.\n",
        "\n",
        "  Якщо Вам не вдалось реалізувати в завданні `2.3. Дерева прийняття рішень` скрипт `process_bank_churn.py` - можна скористатись готовим скриптом з запропонованого рішення того завдання."
      ],
      "metadata": {
        "id": "LhivzW9W8-Dz"
      }
    },
    {
      "cell_type": "code",
      "source": [
        "from google.colab import drive\n",
        "drive.mount('/content/drive')"
      ],
      "metadata": {
        "id": "Z-mntPMAH-rv",
        "colab": {
          "base_uri": "https://localhost:8080/"
        },
        "outputId": "4ee999cd-23f2-4d26-8783-a4e720a4e45b"
      },
      "execution_count": 71,
      "outputs": [
        {
          "output_type": "stream",
          "name": "stdout",
          "text": [
            "Drive already mounted at /content/drive; to attempt to forcibly remount, call drive.mount(\"/content/drive\", force_remount=True).\n"
          ]
        }
      ]
    },
    {
      "cell_type": "code",
      "source": [
        "%load_ext autoreload\n",
        "%autoreload 2"
      ],
      "metadata": {
        "colab": {
          "base_uri": "https://localhost:8080/"
        },
        "id": "vNAn6YQ6uKoY",
        "outputId": "b21c8bff-7778-4c6a-da58-8b7b4e0c107b"
      },
      "execution_count": 72,
      "outputs": [
        {
          "output_type": "stream",
          "name": "stdout",
          "text": [
            "The autoreload extension is already loaded. To reload it, use:\n",
            "  %reload_ext autoreload\n"
          ]
        }
      ]
    },
    {
      "cell_type": "code",
      "source": [
        "!wget -O process_bank_churn.py https://raw.githubusercontent.com/alessandrossC/ML-for-people/main/process_bank_churn.py"
      ],
      "metadata": {
        "colab": {
          "base_uri": "https://localhost:8080/"
        },
        "id": "ZDJauvmjxEhv",
        "outputId": "76cee471-cf48-4945-fb19-388854350e6f"
      },
      "execution_count": 73,
      "outputs": [
        {
          "output_type": "stream",
          "name": "stdout",
          "text": [
            "--2025-02-23 14:07:41--  https://raw.githubusercontent.com/alessandrossC/ML-for-people/main/process_bank_churn.py\n",
            "Resolving raw.githubusercontent.com (raw.githubusercontent.com)... 185.199.108.133, 185.199.109.133, 185.199.110.133, ...\n",
            "Connecting to raw.githubusercontent.com (raw.githubusercontent.com)|185.199.108.133|:443... connected.\n",
            "HTTP request sent, awaiting response... 200 OK\n",
            "Length: 6466 (6.3K) [text/plain]\n",
            "Saving to: ‘process_bank_churn.py’\n",
            "\n",
            "\rprocess_bank_churn.   0%[                    ]       0  --.-KB/s               \rprocess_bank_churn. 100%[===================>]   6.31K  --.-KB/s    in 0s      \n",
            "\n",
            "2025-02-23 14:07:41 (35.7 MB/s) - ‘process_bank_churn.py’ saved [6466/6466]\n",
            "\n"
          ]
        }
      ]
    },
    {
      "cell_type": "code",
      "source": [
        "%load_ext autoreload\n",
        "%autoreload 2"
      ],
      "metadata": {
        "colab": {
          "base_uri": "https://localhost:8080/"
        },
        "id": "5LX6LajexJcl",
        "outputId": "2fa34991-bc4d-4b3f-f733-aedb24244fe1"
      },
      "execution_count": 74,
      "outputs": [
        {
          "output_type": "stream",
          "name": "stdout",
          "text": [
            "The autoreload extension is already loaded. To reload it, use:\n",
            "  %reload_ext autoreload\n"
          ]
        }
      ]
    },
    {
      "cell_type": "code",
      "source": [
        "import sys\n",
        "\n",
        "# Добавляем текущую папку в пути Python\n",
        "sys.path.append(\".\")\n",
        "\n",
        "# Пробуем импортировать\n",
        "from process_bank_churn import process_data"
      ],
      "metadata": {
        "id": "4jZk_6qJuS9O"
      },
      "execution_count": 75,
      "outputs": []
    },
    {
      "cell_type": "code",
      "source": [
        "import pandas as pd\n",
        "\n",
        "df = pd.read_csv('/content/train.csv')\n",
        "processed_data = process_data(df, scaler_numeric=False)\n",
        "print(processed_data)"
      ],
      "metadata": {
        "colab": {
          "base_uri": "https://localhost:8080/"
        },
        "collapsed": true,
        "id": "E-PPaXAjymji",
        "outputId": "3138711d-7f3a-4171-f566-3b6f6d1f058e"
      },
      "execution_count": 76,
      "outputs": [
        {
          "output_type": "stream",
          "name": "stdout",
          "text": [
            "{'train_x':        CreditScore   Age  Tenure    Balance  NumOfProducts  HasCrCard  \\\n",
            "0            682.0  30.0     1.0  131394.56            1.0        1.0   \n",
            "1            684.0  39.0     2.0  178058.06            1.0        1.0   \n",
            "2            705.0  35.0     6.0  116320.68            2.0        1.0   \n",
            "3            669.0  58.0     0.0       0.00            2.0        0.0   \n",
            "4            707.0  21.0     3.0       0.00            2.0        1.0   \n",
            "...            ...   ...     ...        ...            ...        ...   \n",
            "11995        633.0  33.0     4.0       0.00            2.0        0.0   \n",
            "11996        673.0  40.0     1.0       0.00            1.0        1.0   \n",
            "11997        621.0  29.0     8.0       0.00            2.0        1.0   \n",
            "11998        590.0  42.0     7.0       0.00            2.0        0.0   \n",
            "11999        545.0  27.0     2.0       0.00            2.0        1.0   \n",
            "\n",
            "       IsActiveMember  EstimatedSalary  Geography_France  Geography_Germany  \\\n",
            "0                 1.0        143952.24               1.0                0.0   \n",
            "1                 0.0        145518.31               1.0                0.0   \n",
            "2                 0.0        174431.01               0.0                1.0   \n",
            "3                 1.0         51565.98               0.0                0.0   \n",
            "4                 1.0        148564.76               1.0                0.0   \n",
            "...               ...              ...               ...                ...   \n",
            "11995             0.0        123537.05               1.0                0.0   \n",
            "11996             1.0         47832.82               1.0                0.0   \n",
            "11997             1.0        133535.29               1.0                0.0   \n",
            "11998             0.0         72643.95               0.0                0.0   \n",
            "11999             0.0        102233.73               1.0                0.0   \n",
            "\n",
            "       Geography_Spain  Gender_Female  Gender_Male  \n",
            "0                  0.0            0.0          1.0  \n",
            "1                  0.0            1.0          0.0  \n",
            "2                  0.0            0.0          1.0  \n",
            "3                  1.0            0.0          1.0  \n",
            "4                  0.0            0.0          1.0  \n",
            "...                ...            ...          ...  \n",
            "11995              0.0            1.0          0.0  \n",
            "11996              0.0            1.0          0.0  \n",
            "11997              0.0            0.0          1.0  \n",
            "11998              1.0            0.0          1.0  \n",
            "11999              0.0            1.0          0.0  \n",
            "\n",
            "[12000 rows x 13 columns], 'train_y': 7180     0.0\n",
            "10393    0.0\n",
            "80       0.0\n",
            "3365     0.0\n",
            "12236    0.0\n",
            "        ... \n",
            "9493     0.0\n",
            "8463     0.0\n",
            "8143     0.0\n",
            "11512    0.0\n",
            "9360     0.0\n",
            "Name: Exited, Length: 12000, dtype: float64, 'val_x':       CreditScore   Age  Tenure    Balance  NumOfProducts  HasCrCard  \\\n",
            "0           714.0  46.0     1.0  115764.32            4.0        1.0   \n",
            "1           593.0  41.0     5.0       0.00            2.0        1.0   \n",
            "2           731.0  38.0     2.0       0.00            2.0        0.0   \n",
            "3           673.0  43.0     4.0  155739.76            1.0        0.0   \n",
            "4           678.0  30.0     4.0       0.00            2.0        1.0   \n",
            "...           ...   ...     ...        ...            ...        ...   \n",
            "2995        678.0  38.0     4.0       0.00            2.0        1.0   \n",
            "2996        753.0  54.0     6.0       0.00            1.0        1.0   \n",
            "2997        678.0  32.0     5.0       0.00            2.0        1.0   \n",
            "2998        724.0  33.0     5.0  138162.41            1.0        1.0   \n",
            "2999        684.0  41.0     5.0  129731.64            1.0        1.0   \n",
            "\n",
            "      IsActiveMember  EstimatedSalary  Geography_France  Geography_Germany  \\\n",
            "0                1.0         72945.32               0.0                1.0   \n",
            "1                1.0         38196.24               1.0                0.0   \n",
            "2                1.0        116971.05               1.0                0.0   \n",
            "3                1.0        111622.76               1.0                0.0   \n",
            "4                0.0        143681.85               0.0                0.0   \n",
            "...              ...              ...               ...                ...   \n",
            "2995             0.0        133535.29               1.0                0.0   \n",
            "2996             0.0        177065.24               1.0                0.0   \n",
            "2997             0.0        176712.59               0.0                0.0   \n",
            "2998             0.0        105720.09               0.0                0.0   \n",
            "2999             1.0         98293.14               1.0                0.0   \n",
            "\n",
            "      Geography_Spain  Gender_Female  Gender_Male  \n",
            "0                 0.0            0.0          1.0  \n",
            "1                 0.0            0.0          1.0  \n",
            "2                 0.0            1.0          0.0  \n",
            "3                 0.0            1.0          0.0  \n",
            "4                 1.0            1.0          0.0  \n",
            "...               ...            ...          ...  \n",
            "2995              0.0            0.0          1.0  \n",
            "2996              0.0            0.0          1.0  \n",
            "2997              1.0            0.0          1.0  \n",
            "2998              1.0            0.0          1.0  \n",
            "2999              0.0            0.0          1.0  \n",
            "\n",
            "[3000 rows x 13 columns], 'val_y': 6490     1.0\n",
            "3646     0.0\n",
            "5306     0.0\n",
            "652      0.0\n",
            "2627     0.0\n",
            "        ... \n",
            "10550    0.0\n",
            "8866     1.0\n",
            "3244     0.0\n",
            "12441    0.0\n",
            "3024     0.0\n",
            "Name: Exited, Length: 3000, dtype: float64, 'encoder': OneHotEncoder(handle_unknown='ignore', sparse_output=False)}\n"
          ]
        }
      ]
    },
    {
      "cell_type": "code",
      "source": [
        "processed_data.keys()"
      ],
      "metadata": {
        "colab": {
          "base_uri": "https://localhost:8080/"
        },
        "id": "9MEzmNtE016v",
        "outputId": "f9a18ad6-4b4a-40ca-882d-05bb7ac9772b"
      },
      "execution_count": 77,
      "outputs": [
        {
          "output_type": "execute_result",
          "data": {
            "text/plain": [
              "dict_keys(['train_x', 'train_y', 'val_x', 'val_y', 'encoder'])"
            ]
          },
          "metadata": {},
          "execution_count": 77
        }
      ]
    },
    {
      "cell_type": "code",
      "source": [
        "X_train = processed_data[\"train_x\"]\n",
        "train_targets = processed_data[\"train_y\"]\n",
        "X_val = processed_data[\"val_x\"]\n",
        "val_targets = processed_data[\"val_y\"]"
      ],
      "metadata": {
        "id": "7gxKMpWUzuHt"
      },
      "execution_count": 78,
      "outputs": []
    },
    {
      "cell_type": "markdown",
      "source": [
        "1. Навчіть на цих даних класифікатор kNN з параметрами за замовченням і виміряйте точність з допомогою AUROC на тренувальному та валідаційному наборах. Зробіть заключення про отриману модель: вона хороша/погана, чи є high bias/high variance?"
      ],
      "metadata": {
        "id": "_LxWkv4o-wMe"
      }
    },
    {
      "cell_type": "code",
      "source": [
        "from sklearn.neighbors import KNeighborsClassifier\n",
        "from sklearn.metrics import roc_auc_score\n",
        "\n",
        "# Навчаємо класифікатор kNN з параметрами за замовченням\n",
        "knn = KNeighborsClassifier()\n",
        "knn.fit(X_train, train_targets)\n",
        "\n",
        "# Робимо передбачення ймовірностей\n",
        "train_preds = knn.predict_proba(X_train)[:, 1]\n",
        "val_preds = knn.predict_proba(X_val)[:, 1]\n",
        "\n",
        "# Обчислюємо AUROC\n",
        "train_auroc = roc_auc_score(train_targets, train_preds)\n",
        "val_auroc = roc_auc_score(val_targets, val_preds)\n",
        "\n",
        "\n",
        "print(f\"значення train_auroc: {train_auroc}\")\n",
        "print(f\"значення val_auroc: {val_auroc}\")"
      ],
      "metadata": {
        "id": "1TH7H_Z9IAHD",
        "colab": {
          "base_uri": "https://localhost:8080/"
        },
        "outputId": "b684c842-68eb-4402-f11f-3be549ba810a"
      },
      "execution_count": 79,
      "outputs": [
        {
          "output_type": "stream",
          "name": "stdout",
          "text": [
            "значення train_auroc: 0.8237648065802492\n",
            "значення val_auroc: 0.5734031826599904\n"
          ]
        }
      ]
    },
    {
      "cell_type": "markdown",
      "source": [
        "Попередня модель мала дуже високу AUROC на тренувальній вибірці (0.8238) і значно нижчу на валідаційній (0.5734). Це свідчить про сильне перенавчання."
      ],
      "metadata": {
        "id": "rn8nxRIr8dY5"
      }
    },
    {
      "cell_type": "markdown",
      "source": [
        "2. Використовуючи `GridSearchCV` знайдіть оптимальне значення параметра `n_neighbors` для класифікатора `kNN`. Псотавте крос валідацію на 5 фолдів.\n",
        "\n",
        "  Після успішного завершення пошуку оптимального гіперпараметра\n",
        "    - виведіть найкраще значення параметра\n",
        "    - збережіть в окрему змінну `knn_best` найкращу модель, знайдену з `GridSearchCV`\n",
        "    - оцініть якість передбачень  `knn_best` на тренувальній і валідаційній вибірці з допомогою AUROC.\n",
        "    - зробіть висновок про якість моделі. Чи стала вона краще порівняно з попереднім пукнтом (2) цього завдання? Чи є вона краще за дерево прийняття рішень з попереднього ДЗ?"
      ],
      "metadata": {
        "id": "U4hm5qYs_f7x"
      }
    },
    {
      "cell_type": "code",
      "source": [
        "from sklearn.model_selection import GridSearchCV"
      ],
      "metadata": {
        "id": "blmLqVu63nkA"
      },
      "execution_count": 80,
      "outputs": []
    },
    {
      "cell_type": "code",
      "source": [
        "param_grid = {'n_neighbors': range(20, 31)}"
      ],
      "metadata": {
        "id": "a50AtDZ9IDNx"
      },
      "execution_count": 81,
      "outputs": []
    },
    {
      "cell_type": "code",
      "source": [
        "grid_search = GridSearchCV(KNeighborsClassifier(), param_grid, scoring='roc_auc', cv=5, n_jobs=-1)\n",
        "grid_search.fit(X_train, train_targets)"
      ],
      "metadata": {
        "colab": {
          "base_uri": "https://localhost:8080/",
          "height": 166
        },
        "id": "35iJZ_Ns3SKr",
        "outputId": "ac6bb3cc-1e58-4197-ea0b-4e042b2996e8"
      },
      "execution_count": 82,
      "outputs": [
        {
          "output_type": "execute_result",
          "data": {
            "text/plain": [
              "GridSearchCV(cv=5, estimator=KNeighborsClassifier(), n_jobs=-1,\n",
              "             param_grid={'n_neighbors': range(20, 31)}, scoring='roc_auc')"
            ],
            "text/html": [
              "<style>#sk-container-id-4 {\n",
              "  /* Definition of color scheme common for light and dark mode */\n",
              "  --sklearn-color-text: #000;\n",
              "  --sklearn-color-text-muted: #666;\n",
              "  --sklearn-color-line: gray;\n",
              "  /* Definition of color scheme for unfitted estimators */\n",
              "  --sklearn-color-unfitted-level-0: #fff5e6;\n",
              "  --sklearn-color-unfitted-level-1: #f6e4d2;\n",
              "  --sklearn-color-unfitted-level-2: #ffe0b3;\n",
              "  --sklearn-color-unfitted-level-3: chocolate;\n",
              "  /* Definition of color scheme for fitted estimators */\n",
              "  --sklearn-color-fitted-level-0: #f0f8ff;\n",
              "  --sklearn-color-fitted-level-1: #d4ebff;\n",
              "  --sklearn-color-fitted-level-2: #b3dbfd;\n",
              "  --sklearn-color-fitted-level-3: cornflowerblue;\n",
              "\n",
              "  /* Specific color for light theme */\n",
              "  --sklearn-color-text-on-default-background: var(--sg-text-color, var(--theme-code-foreground, var(--jp-content-font-color1, black)));\n",
              "  --sklearn-color-background: var(--sg-background-color, var(--theme-background, var(--jp-layout-color0, white)));\n",
              "  --sklearn-color-border-box: var(--sg-text-color, var(--theme-code-foreground, var(--jp-content-font-color1, black)));\n",
              "  --sklearn-color-icon: #696969;\n",
              "\n",
              "  @media (prefers-color-scheme: dark) {\n",
              "    /* Redefinition of color scheme for dark theme */\n",
              "    --sklearn-color-text-on-default-background: var(--sg-text-color, var(--theme-code-foreground, var(--jp-content-font-color1, white)));\n",
              "    --sklearn-color-background: var(--sg-background-color, var(--theme-background, var(--jp-layout-color0, #111)));\n",
              "    --sklearn-color-border-box: var(--sg-text-color, var(--theme-code-foreground, var(--jp-content-font-color1, white)));\n",
              "    --sklearn-color-icon: #878787;\n",
              "  }\n",
              "}\n",
              "\n",
              "#sk-container-id-4 {\n",
              "  color: var(--sklearn-color-text);\n",
              "}\n",
              "\n",
              "#sk-container-id-4 pre {\n",
              "  padding: 0;\n",
              "}\n",
              "\n",
              "#sk-container-id-4 input.sk-hidden--visually {\n",
              "  border: 0;\n",
              "  clip: rect(1px 1px 1px 1px);\n",
              "  clip: rect(1px, 1px, 1px, 1px);\n",
              "  height: 1px;\n",
              "  margin: -1px;\n",
              "  overflow: hidden;\n",
              "  padding: 0;\n",
              "  position: absolute;\n",
              "  width: 1px;\n",
              "}\n",
              "\n",
              "#sk-container-id-4 div.sk-dashed-wrapped {\n",
              "  border: 1px dashed var(--sklearn-color-line);\n",
              "  margin: 0 0.4em 0.5em 0.4em;\n",
              "  box-sizing: border-box;\n",
              "  padding-bottom: 0.4em;\n",
              "  background-color: var(--sklearn-color-background);\n",
              "}\n",
              "\n",
              "#sk-container-id-4 div.sk-container {\n",
              "  /* jupyter's `normalize.less` sets `[hidden] { display: none; }`\n",
              "     but bootstrap.min.css set `[hidden] { display: none !important; }`\n",
              "     so we also need the `!important` here to be able to override the\n",
              "     default hidden behavior on the sphinx rendered scikit-learn.org.\n",
              "     See: https://github.com/scikit-learn/scikit-learn/issues/21755 */\n",
              "  display: inline-block !important;\n",
              "  position: relative;\n",
              "}\n",
              "\n",
              "#sk-container-id-4 div.sk-text-repr-fallback {\n",
              "  display: none;\n",
              "}\n",
              "\n",
              "div.sk-parallel-item,\n",
              "div.sk-serial,\n",
              "div.sk-item {\n",
              "  /* draw centered vertical line to link estimators */\n",
              "  background-image: linear-gradient(var(--sklearn-color-text-on-default-background), var(--sklearn-color-text-on-default-background));\n",
              "  background-size: 2px 100%;\n",
              "  background-repeat: no-repeat;\n",
              "  background-position: center center;\n",
              "}\n",
              "\n",
              "/* Parallel-specific style estimator block */\n",
              "\n",
              "#sk-container-id-4 div.sk-parallel-item::after {\n",
              "  content: \"\";\n",
              "  width: 100%;\n",
              "  border-bottom: 2px solid var(--sklearn-color-text-on-default-background);\n",
              "  flex-grow: 1;\n",
              "}\n",
              "\n",
              "#sk-container-id-4 div.sk-parallel {\n",
              "  display: flex;\n",
              "  align-items: stretch;\n",
              "  justify-content: center;\n",
              "  background-color: var(--sklearn-color-background);\n",
              "  position: relative;\n",
              "}\n",
              "\n",
              "#sk-container-id-4 div.sk-parallel-item {\n",
              "  display: flex;\n",
              "  flex-direction: column;\n",
              "}\n",
              "\n",
              "#sk-container-id-4 div.sk-parallel-item:first-child::after {\n",
              "  align-self: flex-end;\n",
              "  width: 50%;\n",
              "}\n",
              "\n",
              "#sk-container-id-4 div.sk-parallel-item:last-child::after {\n",
              "  align-self: flex-start;\n",
              "  width: 50%;\n",
              "}\n",
              "\n",
              "#sk-container-id-4 div.sk-parallel-item:only-child::after {\n",
              "  width: 0;\n",
              "}\n",
              "\n",
              "/* Serial-specific style estimator block */\n",
              "\n",
              "#sk-container-id-4 div.sk-serial {\n",
              "  display: flex;\n",
              "  flex-direction: column;\n",
              "  align-items: center;\n",
              "  background-color: var(--sklearn-color-background);\n",
              "  padding-right: 1em;\n",
              "  padding-left: 1em;\n",
              "}\n",
              "\n",
              "\n",
              "/* Toggleable style: style used for estimator/Pipeline/ColumnTransformer box that is\n",
              "clickable and can be expanded/collapsed.\n",
              "- Pipeline and ColumnTransformer use this feature and define the default style\n",
              "- Estimators will overwrite some part of the style using the `sk-estimator` class\n",
              "*/\n",
              "\n",
              "/* Pipeline and ColumnTransformer style (default) */\n",
              "\n",
              "#sk-container-id-4 div.sk-toggleable {\n",
              "  /* Default theme specific background. It is overwritten whether we have a\n",
              "  specific estimator or a Pipeline/ColumnTransformer */\n",
              "  background-color: var(--sklearn-color-background);\n",
              "}\n",
              "\n",
              "/* Toggleable label */\n",
              "#sk-container-id-4 label.sk-toggleable__label {\n",
              "  cursor: pointer;\n",
              "  display: flex;\n",
              "  width: 100%;\n",
              "  margin-bottom: 0;\n",
              "  padding: 0.5em;\n",
              "  box-sizing: border-box;\n",
              "  text-align: center;\n",
              "  align-items: start;\n",
              "  justify-content: space-between;\n",
              "  gap: 0.5em;\n",
              "}\n",
              "\n",
              "#sk-container-id-4 label.sk-toggleable__label .caption {\n",
              "  font-size: 0.6rem;\n",
              "  font-weight: lighter;\n",
              "  color: var(--sklearn-color-text-muted);\n",
              "}\n",
              "\n",
              "#sk-container-id-4 label.sk-toggleable__label-arrow:before {\n",
              "  /* Arrow on the left of the label */\n",
              "  content: \"▸\";\n",
              "  float: left;\n",
              "  margin-right: 0.25em;\n",
              "  color: var(--sklearn-color-icon);\n",
              "}\n",
              "\n",
              "#sk-container-id-4 label.sk-toggleable__label-arrow:hover:before {\n",
              "  color: var(--sklearn-color-text);\n",
              "}\n",
              "\n",
              "/* Toggleable content - dropdown */\n",
              "\n",
              "#sk-container-id-4 div.sk-toggleable__content {\n",
              "  max-height: 0;\n",
              "  max-width: 0;\n",
              "  overflow: hidden;\n",
              "  text-align: left;\n",
              "  /* unfitted */\n",
              "  background-color: var(--sklearn-color-unfitted-level-0);\n",
              "}\n",
              "\n",
              "#sk-container-id-4 div.sk-toggleable__content.fitted {\n",
              "  /* fitted */\n",
              "  background-color: var(--sklearn-color-fitted-level-0);\n",
              "}\n",
              "\n",
              "#sk-container-id-4 div.sk-toggleable__content pre {\n",
              "  margin: 0.2em;\n",
              "  border-radius: 0.25em;\n",
              "  color: var(--sklearn-color-text);\n",
              "  /* unfitted */\n",
              "  background-color: var(--sklearn-color-unfitted-level-0);\n",
              "}\n",
              "\n",
              "#sk-container-id-4 div.sk-toggleable__content.fitted pre {\n",
              "  /* unfitted */\n",
              "  background-color: var(--sklearn-color-fitted-level-0);\n",
              "}\n",
              "\n",
              "#sk-container-id-4 input.sk-toggleable__control:checked~div.sk-toggleable__content {\n",
              "  /* Expand drop-down */\n",
              "  max-height: 200px;\n",
              "  max-width: 100%;\n",
              "  overflow: auto;\n",
              "}\n",
              "\n",
              "#sk-container-id-4 input.sk-toggleable__control:checked~label.sk-toggleable__label-arrow:before {\n",
              "  content: \"▾\";\n",
              "}\n",
              "\n",
              "/* Pipeline/ColumnTransformer-specific style */\n",
              "\n",
              "#sk-container-id-4 div.sk-label input.sk-toggleable__control:checked~label.sk-toggleable__label {\n",
              "  color: var(--sklearn-color-text);\n",
              "  background-color: var(--sklearn-color-unfitted-level-2);\n",
              "}\n",
              "\n",
              "#sk-container-id-4 div.sk-label.fitted input.sk-toggleable__control:checked~label.sk-toggleable__label {\n",
              "  background-color: var(--sklearn-color-fitted-level-2);\n",
              "}\n",
              "\n",
              "/* Estimator-specific style */\n",
              "\n",
              "/* Colorize estimator box */\n",
              "#sk-container-id-4 div.sk-estimator input.sk-toggleable__control:checked~label.sk-toggleable__label {\n",
              "  /* unfitted */\n",
              "  background-color: var(--sklearn-color-unfitted-level-2);\n",
              "}\n",
              "\n",
              "#sk-container-id-4 div.sk-estimator.fitted input.sk-toggleable__control:checked~label.sk-toggleable__label {\n",
              "  /* fitted */\n",
              "  background-color: var(--sklearn-color-fitted-level-2);\n",
              "}\n",
              "\n",
              "#sk-container-id-4 div.sk-label label.sk-toggleable__label,\n",
              "#sk-container-id-4 div.sk-label label {\n",
              "  /* The background is the default theme color */\n",
              "  color: var(--sklearn-color-text-on-default-background);\n",
              "}\n",
              "\n",
              "/* On hover, darken the color of the background */\n",
              "#sk-container-id-4 div.sk-label:hover label.sk-toggleable__label {\n",
              "  color: var(--sklearn-color-text);\n",
              "  background-color: var(--sklearn-color-unfitted-level-2);\n",
              "}\n",
              "\n",
              "/* Label box, darken color on hover, fitted */\n",
              "#sk-container-id-4 div.sk-label.fitted:hover label.sk-toggleable__label.fitted {\n",
              "  color: var(--sklearn-color-text);\n",
              "  background-color: var(--sklearn-color-fitted-level-2);\n",
              "}\n",
              "\n",
              "/* Estimator label */\n",
              "\n",
              "#sk-container-id-4 div.sk-label label {\n",
              "  font-family: monospace;\n",
              "  font-weight: bold;\n",
              "  display: inline-block;\n",
              "  line-height: 1.2em;\n",
              "}\n",
              "\n",
              "#sk-container-id-4 div.sk-label-container {\n",
              "  text-align: center;\n",
              "}\n",
              "\n",
              "/* Estimator-specific */\n",
              "#sk-container-id-4 div.sk-estimator {\n",
              "  font-family: monospace;\n",
              "  border: 1px dotted var(--sklearn-color-border-box);\n",
              "  border-radius: 0.25em;\n",
              "  box-sizing: border-box;\n",
              "  margin-bottom: 0.5em;\n",
              "  /* unfitted */\n",
              "  background-color: var(--sklearn-color-unfitted-level-0);\n",
              "}\n",
              "\n",
              "#sk-container-id-4 div.sk-estimator.fitted {\n",
              "  /* fitted */\n",
              "  background-color: var(--sklearn-color-fitted-level-0);\n",
              "}\n",
              "\n",
              "/* on hover */\n",
              "#sk-container-id-4 div.sk-estimator:hover {\n",
              "  /* unfitted */\n",
              "  background-color: var(--sklearn-color-unfitted-level-2);\n",
              "}\n",
              "\n",
              "#sk-container-id-4 div.sk-estimator.fitted:hover {\n",
              "  /* fitted */\n",
              "  background-color: var(--sklearn-color-fitted-level-2);\n",
              "}\n",
              "\n",
              "/* Specification for estimator info (e.g. \"i\" and \"?\") */\n",
              "\n",
              "/* Common style for \"i\" and \"?\" */\n",
              "\n",
              ".sk-estimator-doc-link,\n",
              "a:link.sk-estimator-doc-link,\n",
              "a:visited.sk-estimator-doc-link {\n",
              "  float: right;\n",
              "  font-size: smaller;\n",
              "  line-height: 1em;\n",
              "  font-family: monospace;\n",
              "  background-color: var(--sklearn-color-background);\n",
              "  border-radius: 1em;\n",
              "  height: 1em;\n",
              "  width: 1em;\n",
              "  text-decoration: none !important;\n",
              "  margin-left: 0.5em;\n",
              "  text-align: center;\n",
              "  /* unfitted */\n",
              "  border: var(--sklearn-color-unfitted-level-1) 1pt solid;\n",
              "  color: var(--sklearn-color-unfitted-level-1);\n",
              "}\n",
              "\n",
              ".sk-estimator-doc-link.fitted,\n",
              "a:link.sk-estimator-doc-link.fitted,\n",
              "a:visited.sk-estimator-doc-link.fitted {\n",
              "  /* fitted */\n",
              "  border: var(--sklearn-color-fitted-level-1) 1pt solid;\n",
              "  color: var(--sklearn-color-fitted-level-1);\n",
              "}\n",
              "\n",
              "/* On hover */\n",
              "div.sk-estimator:hover .sk-estimator-doc-link:hover,\n",
              ".sk-estimator-doc-link:hover,\n",
              "div.sk-label-container:hover .sk-estimator-doc-link:hover,\n",
              ".sk-estimator-doc-link:hover {\n",
              "  /* unfitted */\n",
              "  background-color: var(--sklearn-color-unfitted-level-3);\n",
              "  color: var(--sklearn-color-background);\n",
              "  text-decoration: none;\n",
              "}\n",
              "\n",
              "div.sk-estimator.fitted:hover .sk-estimator-doc-link.fitted:hover,\n",
              ".sk-estimator-doc-link.fitted:hover,\n",
              "div.sk-label-container:hover .sk-estimator-doc-link.fitted:hover,\n",
              ".sk-estimator-doc-link.fitted:hover {\n",
              "  /* fitted */\n",
              "  background-color: var(--sklearn-color-fitted-level-3);\n",
              "  color: var(--sklearn-color-background);\n",
              "  text-decoration: none;\n",
              "}\n",
              "\n",
              "/* Span, style for the box shown on hovering the info icon */\n",
              ".sk-estimator-doc-link span {\n",
              "  display: none;\n",
              "  z-index: 9999;\n",
              "  position: relative;\n",
              "  font-weight: normal;\n",
              "  right: .2ex;\n",
              "  padding: .5ex;\n",
              "  margin: .5ex;\n",
              "  width: min-content;\n",
              "  min-width: 20ex;\n",
              "  max-width: 50ex;\n",
              "  color: var(--sklearn-color-text);\n",
              "  box-shadow: 2pt 2pt 4pt #999;\n",
              "  /* unfitted */\n",
              "  background: var(--sklearn-color-unfitted-level-0);\n",
              "  border: .5pt solid var(--sklearn-color-unfitted-level-3);\n",
              "}\n",
              "\n",
              ".sk-estimator-doc-link.fitted span {\n",
              "  /* fitted */\n",
              "  background: var(--sklearn-color-fitted-level-0);\n",
              "  border: var(--sklearn-color-fitted-level-3);\n",
              "}\n",
              "\n",
              ".sk-estimator-doc-link:hover span {\n",
              "  display: block;\n",
              "}\n",
              "\n",
              "/* \"?\"-specific style due to the `<a>` HTML tag */\n",
              "\n",
              "#sk-container-id-4 a.estimator_doc_link {\n",
              "  float: right;\n",
              "  font-size: 1rem;\n",
              "  line-height: 1em;\n",
              "  font-family: monospace;\n",
              "  background-color: var(--sklearn-color-background);\n",
              "  border-radius: 1rem;\n",
              "  height: 1rem;\n",
              "  width: 1rem;\n",
              "  text-decoration: none;\n",
              "  /* unfitted */\n",
              "  color: var(--sklearn-color-unfitted-level-1);\n",
              "  border: var(--sklearn-color-unfitted-level-1) 1pt solid;\n",
              "}\n",
              "\n",
              "#sk-container-id-4 a.estimator_doc_link.fitted {\n",
              "  /* fitted */\n",
              "  border: var(--sklearn-color-fitted-level-1) 1pt solid;\n",
              "  color: var(--sklearn-color-fitted-level-1);\n",
              "}\n",
              "\n",
              "/* On hover */\n",
              "#sk-container-id-4 a.estimator_doc_link:hover {\n",
              "  /* unfitted */\n",
              "  background-color: var(--sklearn-color-unfitted-level-3);\n",
              "  color: var(--sklearn-color-background);\n",
              "  text-decoration: none;\n",
              "}\n",
              "\n",
              "#sk-container-id-4 a.estimator_doc_link.fitted:hover {\n",
              "  /* fitted */\n",
              "  background-color: var(--sklearn-color-fitted-level-3);\n",
              "}\n",
              "</style><div id=\"sk-container-id-4\" class=\"sk-top-container\"><div class=\"sk-text-repr-fallback\"><pre>GridSearchCV(cv=5, estimator=KNeighborsClassifier(), n_jobs=-1,\n",
              "             param_grid={&#x27;n_neighbors&#x27;: range(20, 31)}, scoring=&#x27;roc_auc&#x27;)</pre><b>In a Jupyter environment, please rerun this cell to show the HTML representation or trust the notebook. <br />On GitHub, the HTML representation is unable to render, please try loading this page with nbviewer.org.</b></div><div class=\"sk-container\" hidden><div class=\"sk-item sk-dashed-wrapped\"><div class=\"sk-label-container\"><div class=\"sk-label fitted sk-toggleable\"><input class=\"sk-toggleable__control sk-hidden--visually\" id=\"sk-estimator-id-10\" type=\"checkbox\" ><label for=\"sk-estimator-id-10\" class=\"sk-toggleable__label fitted sk-toggleable__label-arrow\"><div><div>GridSearchCV</div></div><div><a class=\"sk-estimator-doc-link fitted\" rel=\"noreferrer\" target=\"_blank\" href=\"https://scikit-learn.org/1.6/modules/generated/sklearn.model_selection.GridSearchCV.html\">?<span>Documentation for GridSearchCV</span></a><span class=\"sk-estimator-doc-link fitted\">i<span>Fitted</span></span></div></label><div class=\"sk-toggleable__content fitted\"><pre>GridSearchCV(cv=5, estimator=KNeighborsClassifier(), n_jobs=-1,\n",
              "             param_grid={&#x27;n_neighbors&#x27;: range(20, 31)}, scoring=&#x27;roc_auc&#x27;)</pre></div> </div></div><div class=\"sk-parallel\"><div class=\"sk-parallel-item\"><div class=\"sk-item\"><div class=\"sk-label-container\"><div class=\"sk-label fitted sk-toggleable\"><input class=\"sk-toggleable__control sk-hidden--visually\" id=\"sk-estimator-id-11\" type=\"checkbox\" ><label for=\"sk-estimator-id-11\" class=\"sk-toggleable__label fitted sk-toggleable__label-arrow\"><div><div>best_estimator_: KNeighborsClassifier</div></div></label><div class=\"sk-toggleable__content fitted\"><pre>KNeighborsClassifier(n_neighbors=30)</pre></div> </div></div><div class=\"sk-serial\"><div class=\"sk-item\"><div class=\"sk-estimator fitted sk-toggleable\"><input class=\"sk-toggleable__control sk-hidden--visually\" id=\"sk-estimator-id-12\" type=\"checkbox\" ><label for=\"sk-estimator-id-12\" class=\"sk-toggleable__label fitted sk-toggleable__label-arrow\"><div><div>KNeighborsClassifier</div></div><div><a class=\"sk-estimator-doc-link fitted\" rel=\"noreferrer\" target=\"_blank\" href=\"https://scikit-learn.org/1.6/modules/generated/sklearn.neighbors.KNeighborsClassifier.html\">?<span>Documentation for KNeighborsClassifier</span></a></div></label><div class=\"sk-toggleable__content fitted\"><pre>KNeighborsClassifier(n_neighbors=30)</pre></div> </div></div></div></div></div></div></div></div></div>"
            ]
          },
          "metadata": {},
          "execution_count": 82
        }
      ]
    },
    {
      "cell_type": "code",
      "source": [
        "best_k = grid_search.best_params_['n_neighbors']\n",
        "best_score = grid_search.best_score_"
      ],
      "metadata": {
        "id": "c4U6aw8k3uil"
      },
      "execution_count": 83,
      "outputs": []
    },
    {
      "cell_type": "code",
      "source": [
        "knn_best = grid_search.best_estimator_"
      ],
      "metadata": {
        "id": "gXFyxoQT35ye"
      },
      "execution_count": 84,
      "outputs": []
    },
    {
      "cell_type": "code",
      "source": [
        "train_preds_best = knn_best.predict_proba(X_train)[:, 1]\n",
        "val_preds_best = knn_best.predict_proba(X_val)[:, 1]"
      ],
      "metadata": {
        "id": "4yWyZ1NZ4HQK"
      },
      "execution_count": 85,
      "outputs": []
    },
    {
      "cell_type": "code",
      "source": [
        "train_auroc_best = roc_auc_score(train_targets, train_preds_best)\n",
        "val_auroc_best = roc_auc_score(val_targets, val_preds_best)"
      ],
      "metadata": {
        "id": "asMDqDyC4JeV"
      },
      "execution_count": 86,
      "outputs": []
    },
    {
      "cell_type": "code",
      "source": [
        "print(f\"Найкраще значення k: {best_k}\")\n",
        "print(f\"Найкраще середнє значення AUROC на валідаційних фолдах: {best_score:.4f}\")\n",
        "print(f\"AUROC на тренувальній вибірці: {train_auroc_best:.4f}\")\n",
        "print(f\"AUROC на валідаційній вибірці: {val_auroc_best:.4f}\")"
      ],
      "metadata": {
        "colab": {
          "base_uri": "https://localhost:8080/"
        },
        "id": "lk8iOD1S4O2a",
        "outputId": "2f6e75c7-2aff-44c9-be31-8948443007d8"
      },
      "execution_count": 87,
      "outputs": [
        {
          "output_type": "stream",
          "name": "stdout",
          "text": [
            "Найкраще значення k: 30\n",
            "Найкраще середнє значення AUROC на валідаційних фолдах: 0.5891\n",
            "AUROC на тренувальній вибірці: 0.6777\n",
            "AUROC на валідаційній вибірці: 0.6205\n"
          ]
        }
      ]
    },
    {
      "cell_type": "markdown",
      "source": [
        "Високий AUROC на тренувальних даних (0.824) вказує на те, що модель добре пристосувалась до навчального набору.\n",
        "\n",
        "Низький AUROC на валідаційних даних (0.573) свідчить про погану генералізацію, тобто модель не може добре передбачати на нових даних.\n",
        "\n",
        "Оптимізація k дозволила збільшити AUROC на тестовій вибірці з 0.5734 до 0.6144. Це означає, що модель краще узагальнює на нові дані."
      ],
      "metadata": {
        "id": "1HzqXJ908y7S"
      }
    },
    {
      "cell_type": "markdown",
      "source": [
        "AUROC на валідації зросло з 0.6144 до 0.6205. Навіть з оптимальним k=30, модель все ще має невисоку якість передбачення (AUROC ~0.62)"
      ],
      "metadata": {
        "id": "X2neu4nPDVdK"
      }
    },
    {
      "cell_type": "markdown",
      "source": [
        "3. Виконайте пошук оптимальних гіперпараметрів для `DecisionTreeClassifier` з `GridSearchCV` за сіткою параметрів\n",
        "  - `max_depth` від 1 до 20 з кроком 2\n",
        "  - `max_leaf_nodes` від 2 до 10 з кроком 1\n",
        "\n",
        "  Обовʼязково при цьому ініціюйте модель з фіксацією `random_state`.\n",
        "\n",
        "  Поставте кросвалідацію на 3 фолди, `scoring='roc_auc'`, та виміряйте, скільки часу потребує пошук оптимальних гіперпараметрів.\n",
        "\n",
        "  Після успішного завершення пошуку оптимальних гіперпараметрів\n",
        "    - виведіть найкращі значення параметра\n",
        "    - збережіть в окрему змінну `dt_best` найкращу модель, знайдену з `GridSearchCV`\n",
        "    - оцініть якість передбачень  `dt_best` на тренувальній і валідаційній вибірці з допомогою AUROC.\n",
        "    - зробіть висновок про якість моделі. Чи ця модель краща за ту, що ви знайшли вручну?"
      ],
      "metadata": {
        "id": "Vg77SVWrBBmU"
      }
    },
    {
      "cell_type": "code",
      "source": [
        "# Повторний запуск GridSearchCV\n",
        "\n",
        "# Визначаємо модель\n",
        "dt = DecisionTreeClassifier(random_state=42)\n",
        "\n",
        "# Визначаємо сітку параметрів\n",
        "param_grid = {\n",
        "    'max_depth': range(1, 21, 2),\n",
        "    'max_leaf_nodes': range(2, 11, 1)\n",
        "}\n",
        "\n",
        "# Запускаємо GridSearchCV\n",
        "grid_search = GridSearchCV(dt, param_grid, cv=3, scoring='roc_auc', n_jobs=-1, verbose=1)\n",
        "\n",
        "# Вимірюємо час пошуку\n",
        "start_time = time.time()\n",
        "grid_search.fit(X_train, train_targets)\n",
        "end_time = time.time()\n",
        "\n",
        "# Час виконання\n",
        "execution_time = end_time - start_time\n",
        "\n",
        "# Збережемо найкращу модель\n",
        "dt_best = grid_search.best_estimator_\n",
        "\n",
        "# Виведемо найкращі параметри\n",
        "best_params = grid_search.best_params_\n",
        "execution_time, best_params\n"
      ],
      "metadata": {
        "colab": {
          "base_uri": "https://localhost:8080/"
        },
        "id": "7hxtmKwuGmzz",
        "outputId": "f74f711e-d8ba-4971-c332-323182b77eb8"
      },
      "execution_count": 90,
      "outputs": [
        {
          "output_type": "stream",
          "name": "stdout",
          "text": [
            "Fitting 3 folds for each of 90 candidates, totalling 270 fits\n"
          ]
        },
        {
          "output_type": "execute_result",
          "data": {
            "text/plain": [
              "(5.791312217712402, {'max_depth': 5, 'max_leaf_nodes': 10})"
            ]
          },
          "metadata": {},
          "execution_count": 90
        }
      ]
    },
    {
      "cell_type": "code",
      "source": [
        "from sklearn.metrics import roc_auc_score\n",
        "\n",
        "# Робимо передбачення ймовірностей\n",
        "y_train_pred = dt_best.predict_proba(X_train)[:, 1]\n",
        "y_val_pred = dt_best.predict_proba(X_val)[:, 1]\n",
        "\n",
        "# Обчислюємо AUROC\n",
        "train_auroc = roc_auc_score(train_targets, y_train_pred)\n",
        "val_auroc = roc_auc_score(val_targets, y_val_pred)\n",
        "\n",
        "train_auroc, val_auroc\n"
      ],
      "metadata": {
        "colab": {
          "base_uri": "https://localhost:8080/"
        },
        "id": "9moHGKmaJxsd",
        "outputId": "8d5ca713-c548-4c78-b29e-7ca2b791f519"
      },
      "execution_count": 92,
      "outputs": [
        {
          "output_type": "execute_result",
          "data": {
            "text/plain": [
              "(0.9014754782174744, 0.9002184649152891)"
            ]
          },
          "metadata": {},
          "execution_count": 92
        }
      ]
    },
    {
      "cell_type": "code",
      "source": [
        "dt_best = grid_search.best_estimator_"
      ],
      "metadata": {
        "id": "dDd-5lkfK-6Z"
      },
      "execution_count": 93,
      "outputs": []
    },
    {
      "cell_type": "markdown",
      "source": [
        "Після пошуку оптимальних гіперпараметрів за допомогою GridSearchCV було знайдено такі найкращі параметри:\n",
        "\n",
        "max_depth = 5\n",
        "\n",
        "max_leaf_nodes = 10\n",
        "\n",
        "Значення AUROC для тренувальної та валідаційної вибірок майже однакові, що свідчить про добру узгодженість моделі без перенавчання.\n",
        "AUROC = 0.90 означає, що модель добре розрізняє клієнтів, які покинуть банк, і тих, хто залишиться."
      ],
      "metadata": {
        "id": "Ox1TKbk1LQGs"
      }
    },
    {
      "cell_type": "markdown",
      "source": [
        "4. Виконайте пошук оптимальних гіперпараметрів для `DecisionTreeClassifier` з `RandomizedSearchCV` за заданою сіткою параметрів і кількість ітерацій 40.\n",
        "\n",
        "  Поставте кросвалідацію на 3 фолди, `scoring='roc_auc'`, зафіксуйте `random_seed` процедури крос валідації та виміряйте, скільки часу потребує пошук оптимальних гіперпараметрів.\n",
        "\n",
        "  Після успішного завершення пошуку оптимальних гіперпараметрів\n",
        "    - виведіть найкращі значення параметра\n",
        "    - збережіть в окрему змінну `dt_random_search_best` найкращу модель, знайдену з `RandomizedSearchCV`\n",
        "    - оцініть якість передбачень  `dt_random_search_best` на тренувальній і валідаційній вибірці з допомогою AUROC.\n",
        "    - зробіть висновок про якість моделі. Чи ця модель краща за ту, що ви знайшли з `GridSearch`?\n",
        "    - проаналізуйте параметри `dt_random_search_best` і порівняйте з параметрами `dt_best` - яку бачите відмінність? Ця вправа потрібна аби зрозуміти, як різні налаштування `DecisionTreeClassifier` впливають на якість моделі."
      ],
      "metadata": {
        "id": "nCnkGD_sEW1i"
      }
    },
    {
      "cell_type": "code",
      "source": [
        "from sklearn.model_selection import RandomizedSearchCV\n",
        "import numpy as np"
      ],
      "metadata": {
        "id": "eo-vdtAkNHMW"
      },
      "execution_count": 94,
      "outputs": []
    },
    {
      "cell_type": "code",
      "source": [
        "params_dt = {\n",
        "    'criterion': ['gini', 'entropy'],\n",
        "    'splitter': ['best', 'random'],\n",
        "    'max_depth': np.arange(1, 20),\n",
        "    'max_leaf_nodes': np.arange(2, 20),\n",
        "    'min_samples_split': [2, 5, 10, 20],\n",
        "    'min_samples_leaf': [1, 2, 4, 8],\n",
        "    'max_features': [None, 'sqrt', 'log2']\n",
        "}"
      ],
      "metadata": {
        "id": "665uQ3NdIG0s"
      },
      "execution_count": 95,
      "outputs": []
    },
    {
      "cell_type": "code",
      "source": [
        "# Визначаємо модель\n",
        "dt = DecisionTreeClassifier(random_state=42)\n",
        "\n",
        "# Запускаємо RandomizedSearchCV\n",
        "random_search = RandomizedSearchCV(\n",
        "    dt, params_dt, n_iter=40, cv=3, scoring='roc_auc', random_state=42, n_jobs=-1, verbose=1\n",
        ")\n",
        "\n",
        "# Вимірюємо час пошуку\n",
        "start_time = time.time()\n",
        "random_search.fit(X_train, train_targets)\n",
        "end_time = time.time()\n",
        "\n",
        "# Час виконання\n",
        "execution_time_random_search = end_time - start_time\n",
        "\n",
        "# Збережемо найкращу модель\n",
        "dt_random_search_best = random_search.best_estimator_\n",
        "\n",
        "# Виведемо найкращі параметри\n",
        "best_params_random_search = random_search.best_params_\n",
        "\n",
        "# Оцінка AUROC\n",
        "y_train_pred_random = dt_random_search_best.predict_proba(X_train)[:, 1]\n",
        "y_val_pred_random = dt_random_search_best.predict_proba(X_val)[:, 1]\n",
        "\n",
        "train_auroc_random = roc_auc_score(train_targets, y_train_pred_random)\n",
        "val_auroc_random = roc_auc_score(val_targets, y_val_pred_random)\n",
        "\n",
        "execution_time_random_search, best_params_random_search, train_auroc_random, val_auroc_random"
      ],
      "metadata": {
        "colab": {
          "base_uri": "https://localhost:8080/"
        },
        "id": "yNLMLXV9NJ4e",
        "outputId": "dcb7670c-0f50-4ba1-c152-c495751408cc"
      },
      "execution_count": 96,
      "outputs": [
        {
          "output_type": "stream",
          "name": "stdout",
          "text": [
            "Fitting 3 folds for each of 40 candidates, totalling 120 fits\n"
          ]
        },
        {
          "output_type": "execute_result",
          "data": {
            "text/plain": [
              "(3.647465229034424,\n",
              " {'splitter': 'best',\n",
              "  'min_samples_split': 20,\n",
              "  'min_samples_leaf': 2,\n",
              "  'max_leaf_nodes': 14,\n",
              "  'max_features': None,\n",
              "  'max_depth': 16,\n",
              "  'criterion': 'entropy'},\n",
              " 0.9169275635848141,\n",
              " 0.9166204815145071)"
            ]
          },
          "metadata": {},
          "execution_count": 96
        }
      ]
    },
    {
      "cell_type": "markdown",
      "source": [
        "RandomizedSearchCV знайшов кращу модель завдяки тому, що шукав оптимальні значення більшої кількості гіперпараметрів.\n",
        "AUROC на валідаційній вибірці підвищився з 0.9002 до 0.9166, що є значним покращенням.\n",
        "Якщо час обмежений, RandomizedSearchCV ефективніший, оскільки знаходить хорошу модель швидше.\n",
        "\n",
        "Оцінка якості (AUROC):\n",
        "\n",
        "GridSearchCV:\n",
        "\n",
        "AUROC на тренувальній вибірці: 0.9015\n",
        "\n",
        "AUROC на валідаційній вибірці: 0.9002\n",
        "\n",
        "RandomizedSearchCV:\n",
        "AUROC на тренувальній вибірці: 0.9169\n",
        "\n",
        "AUROC на валідаційній вибірці: 0.9166\n",
        "\n",
        "Висновок: RandomizedSearchCV знайшов кращу модель, яка має вищий AUROC на тренувальній та валідаційній вибірках. Це означає, що модель краще розрізняє клієнтів, які покинуть банк, і тих, хто залишиться."
      ],
      "metadata": {
        "id": "fv0vW6LGNtJz"
      }
    },
    {
      "cell_type": "markdown",
      "source": [
        "5. Якщо у Вас вийшла метрика `AUROC` в цій серії експериментів - зробіть ще один `submission` на Kaggle і додайте код для цього і скріншот скора на публічному лідерборді нижче.\n",
        "\n",
        "  Сподіваюсь на цьому етапі ви вже відчули себе справжнім дослідником 😉"
      ],
      "metadata": {
        "id": "XArADR2CG8VK"
      }
    },
    {
      "cell_type": "code",
      "source": [
        "# Перевіряємо, чи є 'id' у test_df\n",
        "if 'id' not in test_df.columns:\n",
        "    raise ValueError(\"Колонка 'id' відсутня у тестових даних!\")\n",
        "\n",
        "# Обробка тестових даних\n",
        "processed_test_df = preprocess_new_data(test_df.drop(columns=['Surname'], errors='ignore'), encoder)\n",
        "\n",
        "# Забезпечуємо співпадіння структури processed_test_df і train_x\n",
        "missing_cols = set(train_x.columns) - set(processed_test_df.columns)\n",
        "for col in missing_cols:\n",
        "    processed_test_df[col] = 0\n",
        "processed_test_df = processed_test_df[train_x.columns]\n",
        "\n",
        "# Виконуємо передбачення на тестових даних\n",
        "test_predictions = dt_random_search_best.predict_proba(processed_test_df)[:, 1]\n",
        "\n",
        "# Створення submission.csv\n",
        "submission = pd.DataFrame({\n",
        "    'id': test_df['id'],\n",
        "    'Exited': test_predictions\n",
        "})\n",
        "\n",
        "# Збереження у файл CSV\n",
        "submission_path = \"/content/submission.csv\"\n",
        "submission.to_csv(submission_path, index=False)\n",
        "\n",
        "# Виведення перших рядків submission.csv\n",
        "submission.head()"
      ],
      "metadata": {
        "id": "vadJfLlMF_V3",
        "colab": {
          "base_uri": "https://localhost:8080/",
          "height": 206
        },
        "outputId": "b97f894e-39bc-4771-b5fd-ba2deff9a9c2"
      },
      "execution_count": 107,
      "outputs": [
        {
          "output_type": "execute_result",
          "data": {
            "text/plain": [
              "      id    Exited\n",
              "0  15000  0.237911\n",
              "1  15001  0.012115\n",
              "2  15002  0.203947\n",
              "3  15003  0.569848\n",
              "4  15004  0.082171"
            ],
            "text/html": [
              "\n",
              "  <div id=\"df-6de6d0e2-fee8-4fc2-8df0-f68917874f07\" class=\"colab-df-container\">\n",
              "    <div>\n",
              "<style scoped>\n",
              "    .dataframe tbody tr th:only-of-type {\n",
              "        vertical-align: middle;\n",
              "    }\n",
              "\n",
              "    .dataframe tbody tr th {\n",
              "        vertical-align: top;\n",
              "    }\n",
              "\n",
              "    .dataframe thead th {\n",
              "        text-align: right;\n",
              "    }\n",
              "</style>\n",
              "<table border=\"1\" class=\"dataframe\">\n",
              "  <thead>\n",
              "    <tr style=\"text-align: right;\">\n",
              "      <th></th>\n",
              "      <th>id</th>\n",
              "      <th>Exited</th>\n",
              "    </tr>\n",
              "  </thead>\n",
              "  <tbody>\n",
              "    <tr>\n",
              "      <th>0</th>\n",
              "      <td>15000</td>\n",
              "      <td>0.237911</td>\n",
              "    </tr>\n",
              "    <tr>\n",
              "      <th>1</th>\n",
              "      <td>15001</td>\n",
              "      <td>0.012115</td>\n",
              "    </tr>\n",
              "    <tr>\n",
              "      <th>2</th>\n",
              "      <td>15002</td>\n",
              "      <td>0.203947</td>\n",
              "    </tr>\n",
              "    <tr>\n",
              "      <th>3</th>\n",
              "      <td>15003</td>\n",
              "      <td>0.569848</td>\n",
              "    </tr>\n",
              "    <tr>\n",
              "      <th>4</th>\n",
              "      <td>15004</td>\n",
              "      <td>0.082171</td>\n",
              "    </tr>\n",
              "  </tbody>\n",
              "</table>\n",
              "</div>\n",
              "    <div class=\"colab-df-buttons\">\n",
              "\n",
              "  <div class=\"colab-df-container\">\n",
              "    <button class=\"colab-df-convert\" onclick=\"convertToInteractive('df-6de6d0e2-fee8-4fc2-8df0-f68917874f07')\"\n",
              "            title=\"Convert this dataframe to an interactive table.\"\n",
              "            style=\"display:none;\">\n",
              "\n",
              "  <svg xmlns=\"http://www.w3.org/2000/svg\" height=\"24px\" viewBox=\"0 -960 960 960\">\n",
              "    <path d=\"M120-120v-720h720v720H120Zm60-500h600v-160H180v160Zm220 220h160v-160H400v160Zm0 220h160v-160H400v160ZM180-400h160v-160H180v160Zm440 0h160v-160H620v160ZM180-180h160v-160H180v160Zm440 0h160v-160H620v160Z\"/>\n",
              "  </svg>\n",
              "    </button>\n",
              "\n",
              "  <style>\n",
              "    .colab-df-container {\n",
              "      display:flex;\n",
              "      gap: 12px;\n",
              "    }\n",
              "\n",
              "    .colab-df-convert {\n",
              "      background-color: #E8F0FE;\n",
              "      border: none;\n",
              "      border-radius: 50%;\n",
              "      cursor: pointer;\n",
              "      display: none;\n",
              "      fill: #1967D2;\n",
              "      height: 32px;\n",
              "      padding: 0 0 0 0;\n",
              "      width: 32px;\n",
              "    }\n",
              "\n",
              "    .colab-df-convert:hover {\n",
              "      background-color: #E2EBFA;\n",
              "      box-shadow: 0px 1px 2px rgba(60, 64, 67, 0.3), 0px 1px 3px 1px rgba(60, 64, 67, 0.15);\n",
              "      fill: #174EA6;\n",
              "    }\n",
              "\n",
              "    .colab-df-buttons div {\n",
              "      margin-bottom: 4px;\n",
              "    }\n",
              "\n",
              "    [theme=dark] .colab-df-convert {\n",
              "      background-color: #3B4455;\n",
              "      fill: #D2E3FC;\n",
              "    }\n",
              "\n",
              "    [theme=dark] .colab-df-convert:hover {\n",
              "      background-color: #434B5C;\n",
              "      box-shadow: 0px 1px 3px 1px rgba(0, 0, 0, 0.15);\n",
              "      filter: drop-shadow(0px 1px 2px rgba(0, 0, 0, 0.3));\n",
              "      fill: #FFFFFF;\n",
              "    }\n",
              "  </style>\n",
              "\n",
              "    <script>\n",
              "      const buttonEl =\n",
              "        document.querySelector('#df-6de6d0e2-fee8-4fc2-8df0-f68917874f07 button.colab-df-convert');\n",
              "      buttonEl.style.display =\n",
              "        google.colab.kernel.accessAllowed ? 'block' : 'none';\n",
              "\n",
              "      async function convertToInteractive(key) {\n",
              "        const element = document.querySelector('#df-6de6d0e2-fee8-4fc2-8df0-f68917874f07');\n",
              "        const dataTable =\n",
              "          await google.colab.kernel.invokeFunction('convertToInteractive',\n",
              "                                                    [key], {});\n",
              "        if (!dataTable) return;\n",
              "\n",
              "        const docLinkHtml = 'Like what you see? Visit the ' +\n",
              "          '<a target=\"_blank\" href=https://colab.research.google.com/notebooks/data_table.ipynb>data table notebook</a>'\n",
              "          + ' to learn more about interactive tables.';\n",
              "        element.innerHTML = '';\n",
              "        dataTable['output_type'] = 'display_data';\n",
              "        await google.colab.output.renderOutput(dataTable, element);\n",
              "        const docLink = document.createElement('div');\n",
              "        docLink.innerHTML = docLinkHtml;\n",
              "        element.appendChild(docLink);\n",
              "      }\n",
              "    </script>\n",
              "  </div>\n",
              "\n",
              "\n",
              "<div id=\"df-6d6197cc-cccb-4c52-8b8c-ce2c5802d947\">\n",
              "  <button class=\"colab-df-quickchart\" onclick=\"quickchart('df-6d6197cc-cccb-4c52-8b8c-ce2c5802d947')\"\n",
              "            title=\"Suggest charts\"\n",
              "            style=\"display:none;\">\n",
              "\n",
              "<svg xmlns=\"http://www.w3.org/2000/svg\" height=\"24px\"viewBox=\"0 0 24 24\"\n",
              "     width=\"24px\">\n",
              "    <g>\n",
              "        <path d=\"M19 3H5c-1.1 0-2 .9-2 2v14c0 1.1.9 2 2 2h14c1.1 0 2-.9 2-2V5c0-1.1-.9-2-2-2zM9 17H7v-7h2v7zm4 0h-2V7h2v10zm4 0h-2v-4h2v4z\"/>\n",
              "    </g>\n",
              "</svg>\n",
              "  </button>\n",
              "\n",
              "<style>\n",
              "  .colab-df-quickchart {\n",
              "      --bg-color: #E8F0FE;\n",
              "      --fill-color: #1967D2;\n",
              "      --hover-bg-color: #E2EBFA;\n",
              "      --hover-fill-color: #174EA6;\n",
              "      --disabled-fill-color: #AAA;\n",
              "      --disabled-bg-color: #DDD;\n",
              "  }\n",
              "\n",
              "  [theme=dark] .colab-df-quickchart {\n",
              "      --bg-color: #3B4455;\n",
              "      --fill-color: #D2E3FC;\n",
              "      --hover-bg-color: #434B5C;\n",
              "      --hover-fill-color: #FFFFFF;\n",
              "      --disabled-bg-color: #3B4455;\n",
              "      --disabled-fill-color: #666;\n",
              "  }\n",
              "\n",
              "  .colab-df-quickchart {\n",
              "    background-color: var(--bg-color);\n",
              "    border: none;\n",
              "    border-radius: 50%;\n",
              "    cursor: pointer;\n",
              "    display: none;\n",
              "    fill: var(--fill-color);\n",
              "    height: 32px;\n",
              "    padding: 0;\n",
              "    width: 32px;\n",
              "  }\n",
              "\n",
              "  .colab-df-quickchart:hover {\n",
              "    background-color: var(--hover-bg-color);\n",
              "    box-shadow: 0 1px 2px rgba(60, 64, 67, 0.3), 0 1px 3px 1px rgba(60, 64, 67, 0.15);\n",
              "    fill: var(--button-hover-fill-color);\n",
              "  }\n",
              "\n",
              "  .colab-df-quickchart-complete:disabled,\n",
              "  .colab-df-quickchart-complete:disabled:hover {\n",
              "    background-color: var(--disabled-bg-color);\n",
              "    fill: var(--disabled-fill-color);\n",
              "    box-shadow: none;\n",
              "  }\n",
              "\n",
              "  .colab-df-spinner {\n",
              "    border: 2px solid var(--fill-color);\n",
              "    border-color: transparent;\n",
              "    border-bottom-color: var(--fill-color);\n",
              "    animation:\n",
              "      spin 1s steps(1) infinite;\n",
              "  }\n",
              "\n",
              "  @keyframes spin {\n",
              "    0% {\n",
              "      border-color: transparent;\n",
              "      border-bottom-color: var(--fill-color);\n",
              "      border-left-color: var(--fill-color);\n",
              "    }\n",
              "    20% {\n",
              "      border-color: transparent;\n",
              "      border-left-color: var(--fill-color);\n",
              "      border-top-color: var(--fill-color);\n",
              "    }\n",
              "    30% {\n",
              "      border-color: transparent;\n",
              "      border-left-color: var(--fill-color);\n",
              "      border-top-color: var(--fill-color);\n",
              "      border-right-color: var(--fill-color);\n",
              "    }\n",
              "    40% {\n",
              "      border-color: transparent;\n",
              "      border-right-color: var(--fill-color);\n",
              "      border-top-color: var(--fill-color);\n",
              "    }\n",
              "    60% {\n",
              "      border-color: transparent;\n",
              "      border-right-color: var(--fill-color);\n",
              "    }\n",
              "    80% {\n",
              "      border-color: transparent;\n",
              "      border-right-color: var(--fill-color);\n",
              "      border-bottom-color: var(--fill-color);\n",
              "    }\n",
              "    90% {\n",
              "      border-color: transparent;\n",
              "      border-bottom-color: var(--fill-color);\n",
              "    }\n",
              "  }\n",
              "</style>\n",
              "\n",
              "  <script>\n",
              "    async function quickchart(key) {\n",
              "      const quickchartButtonEl =\n",
              "        document.querySelector('#' + key + ' button');\n",
              "      quickchartButtonEl.disabled = true;  // To prevent multiple clicks.\n",
              "      quickchartButtonEl.classList.add('colab-df-spinner');\n",
              "      try {\n",
              "        const charts = await google.colab.kernel.invokeFunction(\n",
              "            'suggestCharts', [key], {});\n",
              "      } catch (error) {\n",
              "        console.error('Error during call to suggestCharts:', error);\n",
              "      }\n",
              "      quickchartButtonEl.classList.remove('colab-df-spinner');\n",
              "      quickchartButtonEl.classList.add('colab-df-quickchart-complete');\n",
              "    }\n",
              "    (() => {\n",
              "      let quickchartButtonEl =\n",
              "        document.querySelector('#df-6d6197cc-cccb-4c52-8b8c-ce2c5802d947 button');\n",
              "      quickchartButtonEl.style.display =\n",
              "        google.colab.kernel.accessAllowed ? 'block' : 'none';\n",
              "    })();\n",
              "  </script>\n",
              "</div>\n",
              "\n",
              "    </div>\n",
              "  </div>\n"
            ],
            "application/vnd.google.colaboratory.intrinsic+json": {
              "type": "dataframe",
              "variable_name": "submission",
              "summary": "{\n  \"name\": \"submission\",\n  \"rows\": 10000,\n  \"fields\": [\n    {\n      \"column\": \"id\",\n      \"properties\": {\n        \"dtype\": \"number\",\n        \"std\": 2886,\n        \"min\": 15000,\n        \"max\": 24999,\n        \"num_unique_values\": 10000,\n        \"samples\": [\n          21252,\n          19684,\n          16731\n        ],\n        \"semantic_type\": \"\",\n        \"description\": \"\"\n      }\n    },\n    {\n      \"column\": \"Exited\",\n      \"properties\": {\n        \"dtype\": \"number\",\n        \"std\": 0.28410161030385045,\n        \"min\": 0.012114989733059548,\n        \"max\": 1.0,\n        \"num_unique_values\": 14,\n        \"samples\": [\n          0.3619047619047619,\n          0.8933333333333333,\n          0.2379110251450677\n        ],\n        \"semantic_type\": \"\",\n        \"description\": \"\"\n      }\n    }\n  ]\n}"
            }
          },
          "metadata": {},
          "execution_count": 107
        }
      ]
    },
    {
      "cell_type": "markdown",
      "source": [
        "![Screenshot 2025-02-23 at 4.07.16 PM.png](data:image/png;base64,iVBORw0KGgoAAAANSUhEUgAAB+YAAAE8CAYAAAD9g9jFAAAMTWlDQ1BJQ0MgUHJvZmlsZQAASImVVwdYU8kWnltSSQgQiICU0JsgIiWAlBBaAOlFEJWQBAglxoSgYkcXV3DtIoJlRVdBFDsgYsOuLIrdtSwWVFbWxXWxK29CAF32le/N982d//5z5p9zzp259w4AjA6BTJaLagGQJ82Xx4YEsCckp7BJXQAFWoACaMBJIFTIuNHREQCWwfbv5c1NgKjaa44qrX/2/9eiLRIrhAAg0RCnixTCPIgPAoA3C2XyfACIMshbTM+XqfAaiHXl0EGIq1U4U42bVThdja/028TH8iB+AgCZJhDIMwHQ7IE8u0CYCXUYMFrgLBVJpBD7Q+yblzdVBPF8iG2hDZyTodLnpH+jk/k3zfQhTYEgcwirY+kv5ECJQpYrmPl/puN/l7xc5eAcNrDSsuShsaqYYd6e5EwNV2EaxO+k6ZFREOsAgOISUb+9CrOylKEJanvUVqjgwZwBFsTjFLlx/AE+ViQIDIfYCOIMaW5kxIBNUYYkWGUD84eWS/L58RDrQ1wtVgTFDdickE+NHZz3Zoacxx3gnwvk/T6o9L8ocxK4an1MJ0vMH9DHnAqz4pMgpkIcWCBJjIRYE+JIRU5c+IBNamEWL3LQRq6MVcViCbFcLA0JUOtjZRny4NgB+515isHYsRNZEn7kAL6anxUfqs4V9kQo6PcfxoL1iKXchEEdsWJCxGAsInFgkDp2nCyWJsSpeVxflh8Qqx6L28tyowfs8QBxboiKN4c4XlEQNzi2IB8uTrU+XizLj45X+4lXZAvCotX+4HtBBOCBQMAGSljTwVSQDSRt3Q3d8E7dEwwEQA4ygRg4DjCDI5L6e6TwGgcKwe8QiYFiaFxAf68YFED+8zBWxUmGOPXVEWQM9KlUcsBTiPNAOMiF98p+JemQB4ngCWQk//BIAKsQxpALq6r/3/OD7FeGC5mIAUY5OCObMWhJDCIGEkOJwUQ73BD3xb3xCHj1h9UF5+Ceg3F8tSc8JbQTHhFuEDoId6ZIiuTDvBwPOqB+8EB+0r/ND24NNd3wANwHqkNlnIUbAkfcFc7Dxf3gzG6Q5Q34rcoKe5j23yL45gkN2FGcKShlBMWfYjt8pKa9ptuQiirX3+ZH7Wv6UL55Qz3D5+d9k30RbMOHW2LfYwewc9hJ7ALWjDUANnYca8RasaMqPLTinvSvuMHZYvv9yYE6w9fM1yeryqTCuda5y/mTui9fPCNftRl5U2Uz5ZLMrHw2F34xxGy+VOg0iu3i7OIGgOr7o369vY7p/64grNav3MJfAfA53tfXd+QrF3YcgH0e8JVw+Ctny4GfFg0Azh8WKuUFag5XXQjwzcGAu88AmAALYAvjcQHuwBv4gyAQBqJAPEgGk6H3WXCdy8F0MBssAMWgFKwAa0EF2Ay2gmqwG+wHDaAZnARnwSVwBdwAd+Hq6QQvQA94Az4iCEJC6AgTMUBMESvEAXFBOIgvEoREILFIMpKGZCJSRInMRhYipcgqpALZgtQg+5DDyEnkAtKO3EEeIl3In8gHFENpqC5qjFqjo1EOykXD0Xh0EpqJTkML0UXoMrQcrUJ3ofXoSfQSegPtQF+gvRjANDAWZoY5YhyMh0VhKVgGJsfmYiVYGVaF1WFN8Dlfwzqwbuw9TsSZOBt3hCs4FE/Ahfg0fC6+FK/Aq/F6/DR+DX+I9+BfCHSCEcGB4EXgEyYQMgnTCcWEMsJ2wiHCGbiXOglviEQii2hD9IB7MZmYTZxFXErcSNxDPEFsJz4m9pJIJAOSA8mHFEUSkPJJxaT1pF2k46SrpE7SO7IG2ZTsQg4mp5Cl5CJyGXkn+Rj5KvkZ+SNFi2JF8aJEUUSUmZTllG2UJsplSiflI1WbakP1ocZTs6kLqOXUOuoZ6j3qaw0NDXMNT40YDYnGfI1yjb0a5zUearyn6dDsaTxaKk1JW0bbQTtBu0N7TafTren+9BR6Pn0ZvYZ+iv6A/k6TqemkydcUac7TrNSs17yq+ZJBYVgxuIzJjEJGGeMA4zKjW4uiZa3F0xJozdWq1DqsdUurV5upPUY7SjtPe6n2Tu0L2s91SDrWOkE6Ip1FOlt1Tuk8ZmJMCyaPKWQuZG5jnmF26hJ1bXT5utm6pbq7ddt0e/R09Fz1EvVm6FXqHdXrYGEsaxaflctaztrPusn6MMJ4BHeEeMSSEXUjro54qz9S319frF+iv0f/hv4HA7ZBkEGOwUqDBoP7hrihvWGM4XTDTYZnDLtH6o70HikcWTJy/8hfjFAje6NYo1lGW41ajXqNTYxDjGXG641PGXebsEz8TbJN1pgcM+kyZZr6mkpM15geN/2NrcfmsnPZ5ezT7B4zI7NQM6XZFrM2s4/mNuYJ5kXme8zvW1AtOBYZFmssWix6LE0tx1vOtqy1/MWKYsWxyrJaZ3XO6q21jXWS9WLrBuvnNvo2fJtCm1qbe7Z0Wz/babZVttftiHYcuxy7jXZX7FF7N/ss+0r7yw6og7uDxGGjQ/sowijPUdJRVaNuOdIcuY4FjrWOD51YThFORU4NTi9HW45OGb1y9LnRX5zdnHOdtznfHaMzJmxM0ZimMX+62LsIXSpdro+ljw0eO29s49hXrg6uYtdNrrfdmG7j3Ra7tbh9dvdwl7vXuXd5WHqkeWzwuMXR5URzlnLOexI8AzzneTZ7vvdy98r32u/1h7ejd473Tu/n42zGicdtG/fYx9xH4LPFp8OX7Zvm+6Nvh5+Zn8Cvyu+Rv4W/yH+7/zOuHTebu4v7MsA5QB5wKOAtz4s3h3ciEAsMCSwJbAvSCUoIqgh6EGwenBlcG9wT4hYyK+REKCE0PHRl6C2+MV/Ir+H3hHmEzQk7HU4LjwuvCH8UYR8hj2gaj44PG796/L1Iq0hpZEMUiOJHrY66H20TPS36SAwxJjqmMuZp7JjY2bHn4phxU+J2xr2JD4hfHn83wTZBmdCSyEhMTaxJfJsUmLQqqWPC6AlzJlxKNkyWJDemkFISU7an9E4Mmrh2YmeqW2px6s1JNpNmTLow2XBy7uSjUxhTBFMOpBHSktJ2pn0SRAmqBL3p/PQN6T1CnnCd8IXIX7RG1CX2Ea8SP8vwyViV8TzTJ3N1ZleWX1ZZVreEJ6mQvMoOzd6c/TYnKmdHTl9uUu6ePHJeWt5hqY40R3p6qsnUGVPbZQ6yYlnHNK9pa6f1yMPl2xWIYpKiMV8X/ui3Km2V3ykfFvgWVBa8m544/cAM7RnSGa0z7WcumfmsMLjwp1n4LOGsltlmsxfMfjiHO2fLXGRu+tyWeRbzFs3rnB8yv3oBdUHOgp+LnItWFf21MGlh0yLjRfMXPf4u5LvaYs1iefGtxd6LN3+Pfy/5vm3J2CXrl3wpEZVcLHUuLSv9tFS49OIPY34o/6FvWcaytuXuyzetIK6Qrri50m9l9SrtVYWrHq8ev7p+DXtNyZq/1k5Ze6HMtWzzOuo65bqO8ojyxvWW61es/1SRVXGjMqByzwajDUs2vN0o2nh1k/+mus3Gm0s3f/hR8uPtLSFb6qusq8q2ErcWbH26LXHbuZ84P9VsN9xeuv3zDumOjurY6tM1HjU1O412Lq9Fa5W1XbtSd13ZHbi7sc6xbsse1p7SvWCvcu9v+9L23dwfvr/lAOdA3UGrgxsOMQ+V1CP1M+t7GrIaOhqTG9sPhx1uafJuOnTE6ciOZrPmyqN6R5cfox5bdKzveOHx3hOyE90nM08+bpnScvfUhFPXT8ecbjsTfub82eCzp85xzx0/73O++YLXhcMXORcbLrlfqm91az30s9vPh9rc2+ove1xuvOJ5pal9XPuxq35XT14LvHb2Ov/6pRuRN9pvJty8fSv1Vsdt0e3nd3LvvPql4JePd+ffI9wrua91v+yB0YOqX+1+3dPh3nH0YeDD1kdxj+4+Fj5+8UTx5FPnoqf0p2XPTJ/VPHd53twV3HXlt4m/db6QvfjYXfy79u8bXtq+PPiH/x+tPRN6Ol/JX/X9ufS1wesdf7n+1dIb3fvgTd6bj29L3hm8q37PeX/uQ9KHZx+nfyJ9Kv9s97npS/iXe315fX0ygVzQ/yuAAdXRJgOAP3cAQE8GgAnPjdSJ6vNhf0HUZ9p+BP4TVp8h+4s7AHXwnz6mG/7d3AJg7zYArKE+IxWAaDoA8Z4AHTt2qA6e5frPnapChGeDH4M+p+elg39T1GfSb/we3gKVqisY3v4L4jaC/iaRtusAAACKZVhJZk1NACoAAAAIAAQBGgAFAAAAAQAAAD4BGwAFAAAAAQAAAEYBKAADAAAAAQACAACHaQAEAAAAAQAAAE4AAAAAAAAAkAAAAAEAAACQAAAAAQADkoYABwAAABIAAAB4oAIABAAAAAEAAAfmoAMABAAAAAEAAAE8AAAAAEFTQ0lJAAAAU2NyZWVuc2hvdKZzO44AAAAJcEhZcwAAFiUAABYlAUlSJPAAAAHXaVRYdFhNTDpjb20uYWRvYmUueG1wAAAAAAA8eDp4bXBtZXRhIHhtbG5zOng9ImFkb2JlOm5zOm1ldGEvIiB4OnhtcHRrPSJYTVAgQ29yZSA2LjAuMCI+CiAgIDxyZGY6UkRGIHhtbG5zOnJkZj0iaHR0cDovL3d3dy53My5vcmcvMTk5OS8wMi8yMi1yZGYtc3ludGF4LW5zIyI+CiAgICAgIDxyZGY6RGVzY3JpcHRpb24gcmRmOmFib3V0PSIiCiAgICAgICAgICAgIHhtbG5zOmV4aWY9Imh0dHA6Ly9ucy5hZG9iZS5jb20vZXhpZi8xLjAvIj4KICAgICAgICAgPGV4aWY6UGl4ZWxZRGltZW5zaW9uPjMxNjwvZXhpZjpQaXhlbFlEaW1lbnNpb24+CiAgICAgICAgIDxleGlmOlBpeGVsWERpbWVuc2lvbj4yMDIyPC9leGlmOlBpeGVsWERpbWVuc2lvbj4KICAgICAgICAgPGV4aWY6VXNlckNvbW1lbnQ+U2NyZWVuc2hvdDwvZXhpZjpVc2VyQ29tbWVudD4KICAgICAgPC9yZGY6RGVzY3JpcHRpb24+CiAgIDwvcmRmOlJERj4KPC94OnhtcG1ldGE+ClPzyvUAAAAcaURPVAAAAAIAAAAAAAAAngAAACgAAACeAAAAngAAW2cxDG2vAABAAElEQVR4AezdB5wURdrH8YclLFHxTl9EzIoBUQQxIXIoZlEUAyBBRVTMOWHAyJnzmQWUIEEEI4qAGBFFSYKAgcMseCbiLumtf2E33bM9G2DDrPurzwem03T4zuzMdD1VT1U66+xz1owZ86YVVMa8OdZv0nCHbQralPUIIIAAAggggAACCCCAAAIIIIAAAggggAACCCCAAAIIIIAAAghUSIHlOTn27Xc/+WuvX++flpWVZZW23W7HNYXRIDBfGCW2QQABBBBAAAEEEEAAAQQQQAABBBBAAAEEEEAAAQQQQAABBBCo6AJffDXfE2y2aV2rUrmyEZiv6O8Irh8BBBBAAAEEEEAAAQQQQAABBBBAAAEEEEAAAQQQQAABBBBAoFgFgsD8JnXrWLWqVYzAfLHysjMEEEAAAQQQQAABBBBAAAEEEEAAAQQQQAABBBBAAAEEEEAAgYouEATm69TKtmrZ2UZgvqK/I7h+BBBAAAEEEEAAAQQQQAABBBBAAAEEEEAAAQQQQAABBBBAAIFiFQgC8zWqV7Hs7OpGYL5YedkZAggggAACCCCAAAIIIIAAAggggAACCCCAAAIIIIAAAggggEBFFwgC81WrVLIaNQjMV/T3A9ePAAIIIIAAAggggAACCCCAAAIIIIAAAggggAACCCCAAAIIIFDMAkFgPqvSKqtZo4bRY76YgdkdAggggAACCCCAAAIIIIAAAggggAACCCCAAAIIIIAAAggggEDFFggC82vWrLBaNWsagfmK/X7g6hFAAAEEEEAAAQQQQAABBBBAAAEEEEAAAQQQQAABBBBAAAEEilkgCMyvXpVjNWvVMgLzxQzM7hBAAAEEEEAAAQQQQAABBBBAAAEEEEAAAQQQQAABBBBAAAEEKrZAEJhftTLHahGYr9hvBq4eAQQQQAABBBBAAAEEEEAAAQQQQAABBBBAAAEEEEAAAQQQQKD4BcLA/Ipl9Jgvfl72iAACCCCAAAIIIIAAAggggAACCCCAAAIIIIAAAggggAACCCBQ0QWCwPxKF5inx3xFfzdw/QgggAACCCCAAAIIIIAAAggggAACCCCAAAIIIIAAAggggAACxS5AYL7YSdkhAggggAACCCCAAAIIIIAAAggggAACCCCAAAIIIIAAAggggAAC6wRigfmaNa3SttvtuGbd6vRTY94c61c23GGb9BuxBgEEEEAAAQQQQAABBBBAAAEEEEAAAQQQQAABBBBAAAEEEEAAgQouQGC+gr8BuHwEEEAAAQQQQAABBBBAAAEEEEAAAQQQQAABBBBAAAEEEEAAgZIVCAPzucusZi16zJesNntHAAEEEEAAAQQQQAABBBBAAAEEEEAAAQQQQAABBBBAAAEEEKhwAgTmK9xLzgUjgAACCCCAAAIIIIAAAggggAACCCCAAAIIIIAAAggggAACCJSmAIH50tTmWAgggAACCCCAAAIIIIAAAggggAACCCCAAAIIIIAAAggggAACFU6AwHyFe8m5YAQQQAABBBBAAAEEEEAAAQQQQAABBBBAAAEEEEAAAQQQQACB0hQgMF+a2hwLAQQQQAABBBBAAAEEEEAAAQQQQAABBBBAAAEEEEAAAQQQQKDCCQSB+RW5y6xWrZpWadvtdlxTGIUxb471mzXcYZvCbM42CCCAAAIIIIAAAggggAACCCCAAAIIIIAAAggggAACCCCAAAIIVEgBAvMV8mXnohFAAAEEEEAAAQQQQAABBBBAAAEEEEAAAQQQQAABBBBAAAEESkuAwHxpSXMcBBBAAAEEEEAAAQQQQAABBBBAAAEEEEAAAQQQQAABBBBAAIEKKUBgvkK+7Fw0AggggAACCCCAAAIIIIAAAggggAACCCCAAAIIIIAAAggggEBpCRCYLy1pjoMAAggggAACCCCAAAIIIIAAAggggAACCCCAAAIIIIAAAgggUCEFCMxXyJedi0YAAQQQQAABBBBAAAEEEEAAAQQQQAABBBBAAAEEEEAAAQQQKC0BAvOlJc1xEEAAAQQQQAABBBBAAAEEEEAAAQQQQAABBBBAAAEEEEAAAQQqpACB+Qr5snPRCCCAAAIIIIAAAggggAACCCCAAAIIIIAAAggggAACCCCAAAKlJUBgvrSkOQ4CCCCAAAIIIIAAAggggAACCCCAAAIIIIAAAggggAACCCCAQIUUIDBfIV92LhoBBBBAAAEEEECgNARWr1ljq1atstWrV9uq1WtsjXvUsjXun0q3F0/xj7tu2sgqaapSJWu0WSNrXG9326P+Hpbl5ikIIIAAAggggAACCCCAAAIIIIAAAgggUP4FCMyX/9eQK0AAAQQQQAABBBDIIAEF4lesXGUr/wrI53dqQWA+3TY+YO+C8x137+AC9U3SbcZyBBBAAAEEEEAAAQQQQAABBBBAAAEEEMhwAQLzGf4CcXoIIIAAAggggAACmS+gHvArVqy03JUrfe/4wp5xQYH56H4UpD+5cQfbc4smrmM9PemjNkwjgAACCCCAAAIIIIAAAggggAACCCCQ6QIE5jP9FeL8EEAAAQQQQAABBDJWQAH53BUrLDd3ha1NTl+0Uy1KYD665xMbnWSd9+xMgD6KwjQCCCCAAAIIIIAAAggggAACCCCAAAIZLEBgPoNfHE4NAQQQQAABBBBAIHMFFJDPUUD+r/Hi051p5cqVrXJWllWunOXGjM+ySlmVfEA96POugP6Mn2aY25Eff37YZ0P99KxfZqXbpV8e9KBv2mDPfLdjJQIIIIAAAggggAACCCCAAAIIIIAAAgiUvQCB+bJ/DTgDBBBAAAEEEEAAgXIksGr1asvJyfVjyKc77apVqliVKpXdvyoWBODTbZtuuQL2036YZgrUz1o4M91m1siluO/YpJPtsfkeabdhBQIIIIAAAggggAACCCCAAAIIIIAAAgiUrQCB+bL15+gIIIAAAggggAAC5Ugg140jvzwnJ/GMNe57tapV3T8XjC/mMeDVo37aj9Pt+VnDEo+thb1b32xNGzRJu54VCCCAAAIIIIAAAggggAACCCCAAAIIIFB2AgTmy86eIyOAAAIIIIAAAgiUI4Hlrpe80tcnlexq1Sy7WtWkVcW+bOCUQWkD9Bp7vkvTLsV+THaIAAIIIIAAAggggAACCCCAAAIIIIAAAhsmQGB+w/x4NgIIIIAAAggggEAFEFi2PMdWrFyZ50qVsj47u5obOz59wvpVq1ZZbm6urXBBff3T/GqXDj8Ym16967P8GPSVrarrca9/1VygX2PTpyvTXQ/6IdOfS0xxf8KuJ1nXZgTn09mxHAEEEEAAAQQQQAABBBBAAAEEEEAAgbIQIDBfFuocEwEEEEAAAQQQQKDcCCx1QfmVCUH56tnZPm190oUo8L5s2TL/T8H49SkK0NeoUcP/U+A+qQyaOsiGz8yb3r7RZrtZn8P6JD2FZQgggAACCCCAAAIIIIAAAggggAACCCBQBgIE5ssAnUMigAACCCCAAAIIlA+BpJ7yWVmVrEZ2ddejPW+wXL3hlyxZ4v8V5xXWqlXL9C+pF/10N/b8DeOvz3M4es7nIWEBAggggAACCCCAAAIIIIAAAggggAACZSZAYL7M6DkwAggggAACCCCAQCYLJI0pX9n1XK9Ro3pi6vrFixfbokWLSvSS6tSpY7Vr185zDJ/aftpgm/XLrNg6xpyPcTCDAAIIIIAAAggggAACCCCAAAIIIIBAmQkQmC8zeg6MAAIIIIAAAgggkKkCuStW2vKcnNjpKShf0wXlNSZ8tChV/R9//OHHj48uL6lppbjfeOON/Vj00WNozPprx/TKE5w/abeTrfOenaObMo0AAggggAACCCCAAAIIIIAAAggggAACpSxAYL6UwTkcAggggAACCCCAQGYLrHLjwy9Zuix2kkpfX9ON956VEpTXOPK///57bNvSmqlbt64ffz56vNUuON9+8HHRRX56RKeRpoYFFAQQQAABBBBAAAEEEEAAAQQQQAABBBAoGwEC82XjzlERQAABBBBAAAEEMlRg6bLlttKNFR8ttVxQPnVMeY0l/+eff0Y3K/XpjTbayI89Hz1w0pjzJ+x6onVt1jW6GdMIIIAAAggggAACCCCAAAIIIIAAAgggUIoCBOZLEZtDIYAAAggggAACCGS2QK5LS6+x5aOlena2VataJbrINjQor7Tz+hcUpcdPTZEfrCvoMSk4P2jqIBs+c1jsqaS0j3EwgwACCCCAAAIIIIAAAggggAACCCCAQKkKEJgvVW4OhgACCCCAAAIIIJCpAgqUL3Yp7KMB86pVqliN6tmxU17f9PUai/67776z2bNnu973lW2LLbbwPe6XL19uOW48+80228x22203q1atml8fO2gBM0lp7Qd8OtBGfD489syRp4xa7wYAsR0xgwACCCCAAAIIIIAAAggggAACCCCAAAJFEiAwXyQuNkYAAQQQQAABBBD4uwrk5OZaTu6K2OXVrlUzNq68guu//PJLbJuCZhTo13PmzZtnm2yyie20004+IP+Pf/zDFORftGiRrXKp8+fMmWNff/217bzzztaoUSOrWdMduwjjwm+66aZWtWrV8HSSxps/sdFJ1qVpl3AbJhBAAAEEEEAAAQQQQAABBBBAAAEEEECgdAQIzJeOM0dBAAEEEEAAAQQQyGAB31t+yVJbl1zeLNv1XM+uti7QrdNXgF3B+cIW7XfBggU2d+5ca9eunQ/C//bbb7b99tvb4sWL7dtvv7WFCxea0tFXcb3ztf2kSZNs/vz51rNnT7+ssCnuFZRXcD5aBk4ZZM/Piqe0p9d8VIhpBBBAAAEEEEAAAQQQQAABBBBAAAEESkeAwHzpOHMUBBBAAAEEEEAAgQwWyHU95Ze7HvNBUTC8justHy0KpKt3e2GLguxKUf/VV19Z8+bNffB99erVpn8ao/6HH34wBemVhl7p7OvUqeN3/f3339tPP/3ke9MfdthhPjhf2GNqH7Vr145tftygdrH5kxqdbJ2bdo4tYwYBBBBAAAEEEEAAAQQQQAABBBBAAAEESlaAwHzJ+rJ3BBBAAAEEiiTwyiuv2siRo2zLrbayLp1PsYYNdyzS89kYAQTWT0BjyytgHpTU3vJKNa+e70UpCuL369fPjjzySGvatKl/qgL1CvDPmjXL95TX9H777WfVq1f3wXmtV0A/1zUS6N+/v1122WV+7PmiHPf//u//YmPUp/aab7/LidZtr65F2SXbIoAAAggggAACCCCAAAIIIIAAAggggMAGChCY30DATH360qVL7e2337FPPvnU3v9gok+T2qLF/rbPPnvbAS1a2K677rJepz5jxgw7tl17/9yjjjrSepzR3VU077le++JJZSugAMOECW/bq6+Ntv/+978uxe4X/oR22GEH22abre2Iww+zQw5pY9VcGt90ZcDAQfbhh5PC1Y0a7WrnnXtOOL+hE5MmfWTPDhgY7qZy5cr2wP33WmFT+oZPrCATt932b/vhxx/Dq9VreMwxbcP5kppYuXKlvfXWBHv11dds3n/n+56hCjDt7MZQ3mGH7a1Zs6bWtu3RaXt8pr7OSuf87z63ltTppt1v6nmUxfvtk08/tRNP7BCe43bbbWdj33y9SGNMh09mAgEECi2g78Qly5bHtldv+ej3zZ9//ul7ucc2ymdGAfY33njDjxf/wQcf2O677+73p6D5//73Px+cV+BeafH1Obrjjjtadna21apVyx9H23z++ec+oK+gfvRc8jmsX6V96LM0KAr0Hz/4uGDWP9588M22R/0msWXMIIAAAggggAACCGS2gH7XvTHmTXvhhZE2Z84c97vyV9tuu22tcePG1v3004qlYbfqeYYOG27Tpk23efPm2dZbb2VN99zTNSbd10466cRYA9B0WsoAdf8DD9pS1/hVRfu46sor0m3uf/+OH/+WTXb1mO+++57pt/c+eze3Zns1s4MPOsgNA7Vd2ucGKzTk1Lhx423a9Bk2efJkl53qR1Nd6N5uP/u7hrCNG+8WbJr2saTqU9MekBUIlIFAcfytlMFpc8gEgblffOE/M/V5/fHHk/0WBxzQwvZuvpe1bHmANWjQIOFZeRfNnDnL3n//Az+s3qSPPnb1uTv4fahO93BXv6w6UgoCCBSfAIH54rPMmD0pJeppp/ew6dOnpz2n22/vYx1OPint+qQVqjQ+5tjjbfbs2eHqBx+4r1QCf+EBmSgWAd3sXHnVNT4wkN8OVbF/660323Htjk3c7NLLrvA9e4OV+sIf8Gz/YHaDH4c/P8KuvPLq2H6++nIOQcqYyLqZg9sc5m+agyXnntPTrrjismC2RB7ffHOsXdPrugLfS7oJv/qqK+2IIw7PE1xKfZ31vvtsxtQSOd/8dpp6Htq2tN9v99x7nz388COx0xzzxuhiqVyJ7ZQZBBCICSzPybXcyLjxVd1Y7zWqZ4fbqCf9zz//HM7nN6HKUv0WmzZtmh144IE+QP6pa3Tz2Wef2eabb25bbrmlr2jUDfLYsWN9r/lDDjnE/vGPf/jGcEpx/8033/ix7NWbXuPOH3fccabx44tS6tWrF/u+HPDpQBvx+XA7fucT/G467N7Rqmenb3xXlGOxLQIIIIAAAggggEDJCyhYfcYZZ7ng9SdpD3bxRRfaRRddkHZ9QSsUTH/ggYfSbqbOOXffdWe+gfIxruGA6ov0uzYoygSne9uk8uuvv9qpp3V3v5dnJq32y55++kkXoG+ddv2UKVPtzLN65ls3cestN1vnzp3S7qOk6lPTHpAVCJSBQHH8rZTBaXPIBIGhQ4fZ1ddcm7Bm7SLVr6qevqBOlcOGP29XuThButKmzcG+o5z2R0EAgeIRIDBfPI4Zs5eff15gnU7pEgvO7bHHHi4F6qY2deq02A/Ua6+9xvd4L+zJP/74k3b7HXfGNicwH+MoFzMF3WQlXcRpp3Wz667tlad1HIH5JK2yW1aagXkFnu697/48QeSCrv7SSy62Cy44L7ZZakC8Igfm1UK17THrxoLeZZdd7NVXXowF12J4zCCAQLEIpKaxV1BewfmgqFJRFaH5FX0uKv28xpP/8ssvrU2bNr51ujLPqLLxqaeechWY2/se8Qqyb7vttv5vW0H/P/74w2+78cYb+zHp1TPpR5cB5QvX+l3Tp59+utWvXz+/w+dZpx7z0RvnqT9Ms+03Wjc0RlZWltWuWSPP81iAAAIIIIAAAgggkHkCysbUtdtpYY9InWHzvfayepvXM2W3/Oabb8OT7nXNVXbmmT3C+cJOPPLoY3bXXffENldv82+//c5++umncLl+Y054a6xtuumm4TJNLF++3NUb3mXPPPNsbLlm0gXm9Zu3c5dTY/WYOqaOMWPGZ7F6zHvuvtPatz8+z75ffvkVu/CiS2LLtQ/9Hlbv/2gDgeuu62VndD89tq1mSrI+Nc/BWIBAGQkUx99KGZ06h00R6H3jzfbsswPCpfrM3NdlSl6+PMc+mDgxXK6J4cOes+bNm8eWBTNPPPGU/fv2O4JZn92kYcOGrgPBL7FOn6qf1H5q164dbssEAgisvwCB+fW3y8hnRgOl+sAc8Gy/2A/lvn372y233hae+8zPplnNmjXD+XQT8+fPt9YHHZJnNYH5PCQZvUCpyK6+utd6naN6O5999pmx50bfb1pBj/kYT6nPlGZgfsiQob6n/Ppc5H8eftA0FEZQCMwHEmsflVL/5VdesS222MJOaN/e6tX7v/gGzCGAQLEKrHYB9cVLlsb2Wad2LasUWaJUf0o5n1QUWFdQXpmFBg4caE2aNPGVgEo/rwC8eryPGDHCB9kVeN9qq61Mv9Hq1Knjf4MpXeYnrtdTy5YtfQM47UvBfQXzNT137lyfaUS95ouSPk7HjlaWrnEnv2jxul5LupbaLl1/VqXolSZdIcsQQAABBBBAAAEEylpAw/z17n2TP41//vOf9vjjj9hezZr5eQ3L1Ldff+vT5/bwNN99Z4LL1FS4FMZ6UmrA7pKLL7IePbqHdYZfffW1nXPuee437Zf+GF06n2K33LL2fLRg2bJl1v6Ek2NZNjXU4X8eedRvny4wf9bZ55gy8akoXfJNN/YO74EV6P/37XeGwSdd96QP34/9JlYD1wNa/isMvp/sUu3fcMN1sQaqOoe7777XH0P/zf78Mz+EVLjATUTrt4qzPjV6DKYRKEuB4vpbKctr4NhrBVRv2LFT55Djhuuvs1NP7Rp26tHn8UUXXxp+trZqdaA9079vuH0wkdo56JH/PBTLdKpszKd07hZ+vva57Rbr1Klj8HQeEUBgAwQIzG8AXqY9VeM27dZ4j/C0Ppk8yadFDRf8NaFxqJ96eu2Hcb++T1nr1v9K3SQ2r0rhbqeebu+9975frjGlgnHFCczHqDJ65uuv51mbQw7Lc44aw/rYY9taSzf+TJUqVe19Nw7u66+/kZhC7OWXRsXG5IreuGjHBObz8JbqgtIKzKd7Lyld/TFt27rUzS1t8/qbuzTwX9mjjz6emGZvxvQpYStLAvOl+jbhYAggkCKwwgXUl7lW5UFR8LtWjerBrKmic8GCBeF8dEK/kRYuXOjHYdMYbBo/XhWGb731lk9Ff/jhh/v09Epjr8D9uHHjXPrRM3ywvkaNGr6XvI6n4L0qSvSo5Uplr0aRagyg3kmaV2A+GmiPnke6aZ1PNJi/ZNlyfz3B9qmZAYLlPCKAAAIIIIAAAghkjoAC1C0PbB32Hh/y3CDbd9998pzgTTffYv37r+2trpTtSt1e2NLuuBPC3pE9e56VOB78ggUL7aSTO4S9818f/YrtvPPO/hD/+9//rPne+/lp/R5+7NGH/bj3uzba3S9LCsx/63rit/rXQX69ergPHPCM/+3sF/z1nzIFHHb4keExU1Pav/HGGOt5ztqsfKqvfG7wwOjTw+nzzr/QXnttbSr9VL+Sqk8ND84EAhkgUBx/KxlwGZyCE1CnS3W+VEnKTKrlqn/Ys2nzMKg+a+Z0X9egdUFR5z114lNJFyN6/vkX7Iorr/LbNG68myk2QEEAgQ0XIDC/4YYZs4cvXRDs0MOO8OeT34/R99//wLp0PdVvd9ZZPeyaq9d+uKa7kFGjXrRLLr3cr1br1YPcmE5Br2sC8+nUMm/5DTfcaAMGDoqdmG6MRr7wfKwlsTZQKt7OrkVc6rhlRx99lD380APhPooSmFeA4aWXXvG9AH9wqcoULNjF3cA12q2Rtf5Xq7BVX7hzN5EasNW61DG/Z8+ebc8NGRZ9mm2ySV3TuGrR8t1339uUKVPsC5deePbsObbE9Rrc0V3/jjvuYM1cr8bd3HnkV3TDqFRACjZrH/qB08D1aN5hh+1dw4Zjwxbd0X389tvvpqEDouWG66/1s6+6G8L3XWOXef/9rzuHHW0fl25o//32S9xP8HwFh8aNG2/jx79l812QRuMRN3FDVRx99JE+uJNfYD7pXC6/7BLTDejYseNsrAsWKb1b7xuuL9Di+ut728BBg4PT8o9q4PHiqBG+B2h0hXqSXnb5labPkWiJ9ppPfZ2VfkljzOt8Bj83xI3TPN1XQDRpsodz2senZtI2+RUFuF586WWb5VLD67Wr7tJSq8Jgp50a2mGHHRq2+o/uI/U8tG593296f7z11gTX0GWifffdd/bH739Y/S3q2zbbbG1HHXmk7brrLtFDh9NTp06zkRGrKlUq+2EkKtGjNTRiAoHiFshx33k5uSvC3VZzPc2jY6+rtfnvv/8ero9OqGe7/ilorh7w+pxWKlGlr99kk03cZ0919zm71H9eKy39vffea927d3ffHTv4m2IFzZVic9GiRf5zSX/r2od6yasxgCphdXylxtd0z549o4cvcLpu3bqxm+/lObmWG+n5n12tqmW7c6UggAACCCCAAAIIZK5AtB4vXc9Hnb2yPO29z/7+QnTPPG3qJ7FGmumu8Hd3v9q02bo0x/ll1xw8eIhde931fldKCa/U8CpBYF7jwN/tUs7rt7B+v+YXmL/zzrvt0cce988fNXKEyzy1rrORX/jXf7r+xx5/ws8dekgb69ata7ha49kHdV3dunaxQw/Nm+1TG2sb1YupXH75pabe/EEpqfrUYP88IpAJAsXxt5IJ18E5mD3wwENhnf1tt97i088nuUQbJKWms1c9cbO99vZP0+e2Gj0lFdVPXHHl1b5DgtY/9OADVrfuxnk2/a+r35700cc287OZvt5cQ/Gp3l+NyNJ9tufZCQsQqEACBOb/Ri+2AlFvvjnOX9F2228bprRKvcToD/p0rWCD5/z22292YKuDwtZVEz94z95+5x0C8wFQOXlUC+O9mu8bvo46bd2kaezqbbbZJvEq1BL6qKOPCVtkBxtNnTLZlIpXpTCBefUmVJaGp/v2C3aR51HjovXpc6sfcyy6sqBAqcYAO7rtsXnOMdqCWj8gnn12oN18y63RXeeZ7t79NLvs0ktdYCQ+3q56KyrDhG4Y8ytqja6Ua9GeifpRctDBh8aeNvnjD11g5bzwB1RspZt55eUXEwPjutYeZ56VmMlAr+UTTzzqboh7x8ZlO/ecnnbFFZf5QySdi1o5nnb6GTG/Z5/p53u8p55XMJ/uvfTSiyPd2MnbBZvFHlNbn2tlu2OPsfvvX5tKLvV11vVofyd36BQ7t2CnalAybOiQxB+C2uaVV161Cy68ONg8z+Pmm2/u3pO3mH54RkvqeWhdNDBfmPebnqOMAunOXetVVFmgxglKNR0t0ZaowfIvv5gde18Fy3lEAIHiEVjqesurMU1QUnuRa2z56LiU2k7fbQqmDxo0yHr16hWmwtRnpH6PKcCu31DB37gC5DNnznSf1U+4cTE1REU902eRKjA1pJAaN/3www/++1WNALQPPff777/3f/86Vv/+/X1gXw0AClv0earAf1BSswNUqVLFarqGSxQEEEAAAQQQQACBzBW497777aGH/uNP8L777rHj2h2b9mR7nHm2b9CvDdLVL6Q+WR0ejjzqGL9Y9TPDhw9J3SScVyp79WBX2cN1FFADfRU1Rh3xwkjrfEqnsONFfoF5/Z7efY+m/ne2fguPHzfG76ek/lMq+yCt/k039TYF8YNSEvWpwb55RKC8CeT3t1LerqWin280E8ro1172Q+oFJoMGPWfXXX+Dn1UK+yOPXNvZM1hflMehQ4fZ1des7YiW9DzVT19yyUU+Q2DSepYhUBEFCMxXwFf9rrvusUcefcxfeUE93pWqRIEiFY0dpTGkouOUF/R8/0T+K3OBd999zw9HED0RjRd24YXnRxflmY6OYRasfOjB+61t26P9bGEC8/fd/4A9+ODDwdPzfUz9kZBfoFTB3g4dO+UJVN98843WtUvn8DjR93C4MM1Ei/33d0GWtWnfgk3OPfd8G+1S+xemnHhie7vj9n+HN6FJwfA2bQ4Ob5KT9qkgyisvj7Jtt902XK3ekkcceXSYui1cEZnQ81IDRwUF5ps23dNlEZga2YtZQYH5pPfSRRddkCdDQWynbkZj0qsVelA2+ccmYQv1pNdZafG/+ebbYPM8jzr3QQOfjfUE1UZvv/2Ob2yQ5wkJC1LHRko6jyAwX9j3mwJrx7Zrn9igIPUUlIHiAdc4IdqYg8B8qhLzCJS8wBL3fbLKZfcISi2XSr5y5axg1v89K5NMtKgiURWY22+/vU9dr97ts2bN8intFThv3LixD96rgjI7O9sNB/SeKcCvVPQKyCtrjD7ntR8F8xW4V+MAZRlRUF+Pahim4+p5+mwZP368XXzxxT6IX9gsGuq5r1SiQVm1arUtcd8pQamclWW1UhqkBet4RAABBBBAAAEEEMgMAWU0VAY/lRdGDDfdD6cr/779DtcY9Cm/OvWeN91zihKYVzbE1get65U+7+sv0u023x7zasTabK+16fiVnfOxR//jM/rpN6/Gs1fvf2Wd26tZM59hsLC/f5NORhkB2h13fFjHUJBh0j60rCj1qen2wXIEMlmguP5WMvkaK8q5RcePV53xxx9NjNWh3nprn7AT3Wuvvuwze+o5n3z6qe9wVMMN77et68ynrKPKgJKuqCOe9hUUHUtDk8yY8VmsbjQ1U0mwPY8IVFQBAvMV7JVPDRR+NOkD22yzzRIV9KNfP/5V9KN/+LAhPoBEYD6RK6MXRl+z4EQff+wR/+UazCc9fuRS0HToeEps1dVXXWlnn32mX1ZQYP7ZZwdY7xvzjmmm1GtKLz5v3rzYvtXa+oURw8JAZbpAqQIZSsej8ZGiJZpGTcu//nqetTnksOgmPlPAIS44vrELgkyYMCG8MQs2GjxogO2//9px0aJ/A8F6/cBQb+c1Lmgy1qWVTw2Ga2iAPfds4jdP/XsL9lHQo3zlHJRoerdgWWEeCwrMJ+2joMB8UitI3UDrRnp9S9LrXJh9Pf3UE3bwwQeFm6qRQfsTTgrngwm1+F+1elWeRgharywgm29ez2+adB4KzBf2/aaKgxNOPDnPe0o7V2BMPWNTS8eOHUyVJUElA4H5VCHmESh5gUVLlvq/8+BItWvVtCwXHA+Kgu7KvhIt+lzQuO8aO15FQ1YokK4gvHqhK6D+oxu2Rb1vFJxXoF2BeAXmFczXd4cC8Vqm4LmC+RpbXs9VzyL1oldRxefPP//sx5lXr/mWLVu675g9w88Mv1E+/6nhjxoBBGW1O+/F7nqDos+eOu56KQgggAACCCCAAAKZKxAdtu7Die/nOwRetIPFZZdeYueff26BFxYNkmvjpLGIg52k3rPO/vyzMHtUsE3wmF+P+Tlz5rgOCG39puf0PNs1bN3Nbuh9U+J9s+qK+vV90g8PFey7MI/6/TzD/V6/xvXkDBr+t2x5gA14tn9hnh7bJrV+J7/61NgTmUGgHAgU599KObjcv/UpKtvnRBfTCYYl1sVeeeXlps/ZaImmuZ8wYZxvePTqq69FNwmn82vkFf1+euLxR309reohVIfygRves9upp4f7+WTypCJ/jodPZgKBv5kAgfm/2Qua3+XoB/EpnbuGwaleva62M3uckfiU1B66r49+xY/PrI2jQV56zCfyZdxCpTxT6rNoGTd2TNrU48F2v/76q0+BH8zrsXv30+z669amp8kvMJ/03Nat/2VqEKAghIoC6z3POc9PB//ddecdpp7nKukCpXfdfY899tgTwVP8owLDSg0e7X388suv2IUXXRLbLhp41o+Ejh07h2nldbN3SqcO1qHDyf45CogPG/58eGOoBir9+j4VpvJPbSmuJ93Y+3o79dS1DVpSb9yCE9GPoW7duvj0ws8/PyJP44Vo6jgFbvZs2jxPA4Brrr7KnfvJfvziCRPetrN75r3Z1nH040sl3bnoWD16dLdd3Jjni/5c5MdAzy9N8vq+l4JrT3pMep213X333u1/0Kk36R3utRgxYm32jmAfyvigzA9BUeo9tfQPinqlqqFEEHjX63V023YxS73X9J5TSToPBeYL+37TkA0a9iBaNMSBKkPUunSuG1+6Z8/z8jRIUZpAvQ4qqZUcWkYqeylQECg5gT8XL4ntvE7tWlYpsuSnn36KBe6DVQrOK+Cu4HbQuCZ41Gf34sWLbeDAgb63u7Zt0KCBazD2ta+4VIBeQXgF6bfYYgs/hv1+++3nx5VXMF+fXwrIa+iYcePG+THp1RCgYcOGpu2C4wTnku5R22lfQVnjJhalXO9G7nopCCCAAAIIIIAAApkr0Hj3PcP72ILuD8e5DgRKZ6/S44zudu211xTqwpSeXmnqVdJlxVNv2kMOPTysI9G2n37yUdrelPkF5qPZ+NS78uOPJ2t3acsuu+xizw0emHZIu+gT/9X6YOe1NHaeWq+sdbfcfGPa843uIzpdlPrU6POYRiDTBYr7byXTr/fven6qCz29+5l+uL3UDmSqO73wgvNj9eVyiKa5V3349OnT8+W5887b7aQTT4htM9/VUbRu3cYvSzdO/eDBQ2zK1Cl2QIsWvqObOrxREEDAjMB8BXkXqOJYAcqg5VPDhjv6saaCAGkqQ3T8KrWuVWApKATmA4ny86he6+q9Hi0F3cwF20ZvALXsmGPamhpkqOQXmH/uuSHW69rr/Xb6T1+8Ez941/cKDBe6CY1no3FtgqIexP92482rJAVKte6aXtcFm/tH/YDQDVrq+PCjRr0YayGojTUkQyd3jCCA/9tvv7s0wX/YlltuGS6L7dzNKEjy9dfzrH79zWMBDv1d7bNvi9jNXjTQmxQMj/oFxznm2OPypOT/Yu7nPmgzadJH1rHTutT8es5RRx3pGyEEz9ejAsIKDEdLQYF5tUgfOuS5PG7RfaROb8h7KXVfwXzS65zaGlMVAE2bNQ+e4h+jLd2j49wFGw0f9pw1bx5/TmpjDQWs9L5USTqPwr7f1Mhj3/0OiL0XNE7eq6+8GEsVNXXqNDu+/YnBKfrHbt262k033uCnCczHaJhBoFQEUgPzqYFq9Xxf36Je9ArGjxkzxveqV6Bd2TM0frw+N9TwSJ8VqmisXr26D+LXrl3bL9dx99lnH//dpGk1eNO2rVq1CodMKcx51a9fP7ZZQdcb25gZBBBAAAEEEEAAgTIX2G77hv4covev6U5qxowZfng1rT/5pBPtjjvi9QTpnpd6L6pG/qe6e9Ugk5MCP+eed2GehuYzP5sWbpO67/wC86nH03NVV9n7huutSZM9THU1ymJ4yy23hY0SVPcz4vmhvq4k9VjR+cArukzPve3Wm33P/OjygqaLWp9a0P5Yj0AmCRTn30omXVdFO5ekukYZdDj5JN/QKrVOQOua771frA5TyxTEb3/8cT7rnvapzmqqWw9KavZd1VO0OKBVsNroER9SMIFAgQIE5gsk+ntsEB1jSgFSBYu2ceOEJJVoOimN8/z66FdjgSUC80lqmb0sOg5WcKaTPvzAfdEmD2MQbKPMCY122yOY9Y/qAXzrLWvT0+cXmFdQXsH5aLnuul7RWT89aNBzsRs79UrXeF8qSYFSvyLyn97P48e9mXgt0fF0Ik/xwfUjjjjMdm/c2Bo12tX3QAwC9dHtUqeVDkgBlu+//8H9+97GvzUhT4vC490PmHvvucs/NSkwf8/dd1r79sfHdq3x3/Q3Gi3Bj5mkm9Uhzw2yfffdJ7q5H4O4yZ5re10HKwoKzCsYrKBwUcr6vpfyO0bS6/z2hPGmz59oOb17Dzf8wNvhIt20j3ljtJ9/yWVHuCglO8JVV15hVatVDbfXhNLXpTZSmfnZdN84Iek8Yk92M+neb3o/tDywdWxzZTU466wesWWaibZK1bwqCF4cNUKT9Jj3CvyHQOkKFBSo1s3mhpSgZ716wH/++ee+J/2UKVN8L3iNHZ/lxnlX73kF3pUKXxWYSj+/cOFCl8Glg/+OVDBfQw8pRX67du0IzG/IC8JzEUAAAQQQQACBciYQ7TCR35juuqz3P/jAunQ51V9htBF4YS75jjvvypOdUHU0aiifOhSh9qf7489mTE276/wC808+9bT16XN7+FxlkXv22X6x+ket/Pzz2XbSyR3D4HxqYCjcQWRCdVVqAPuFy1oXZAEIVrc79hi712Xn02/wwpSi1KcWZn9sg0AmCRTn30omXVdFOxf1XFd9reoLZsz4zA+FFzVQPb7q86MltVHGk088Zoccsrb3e7CdGiZpKBAF6FWi9bCaV11H64PahEOF6DtBneGOPbatG7N+1wIbUWkfFAQqqgCB+Qrwyj/++JN2+x13hlc6bOhzpjRRSUW9t/SDV2M1qwwa9Ky12H//2KYE5mMc5WImOsZYcMIDBz7j08gE80mPSYFtpQ5XCzqV/ALzqUHUpP2nW/b1V3N9mt7CBEqjgfyk/Z119jn25ptjk1aFy/TDoaNLX3/uuT3zjHWjYPxzQ4a4dMSD87QkDHcQmSgoMD90yGDXA3LvyDPMxo9/y87ocVZsWRCYV8p+3RxHS7ox5VJbOxYUmE86l+hxkqYT30sD3HvpgBZJmxdqWdLrnJTRIXpDrB1HfxA++eRT1uff8cYNhTq42+i1V192Pxh3KVRDkHTvt6TWqRpb6dBDD8lzGpdfcVUsLb/Gn5/88Yd+u6SGGEkWeXbKAgQQWG+B1MB8YVPZF/WAQYBeN7fqSf/EE0/4IP0fLiuLAvEbbbSRT23/5Zdf+qC8etWrQlGp7tVQTunx69WrZ6ecckqhKxJJZV/UV4ntEUAAAQQQQACBzBNQuulgjPSpUyaHw+slnWn0/lp1N9Hh35K2T11266197Om+/VIX+3nVnTxw/70u82FvH/iJ3pMnPSG/wLzSG1973bosi2PffMM1XN0+aTe+cb2y96mccEJ7u/uuwt/76xxee220XXb5leG+lRVU2UELKkWpTy1oX6xHINMFNuRvJdOvraKdn+oYNBRp9LN88KABtv/++4UU0QZf0brscIO/JhQrUkewIEX+hLfGxjp7fvTRx9ah4ympT/PzGtL26KOOMnWOU2ZACgIIrBMgML/O4m85pRZNV111TXhtBbUsVe9lpRZXiabkDnfgJgjMRzXKx/Trbiz3c1LGcr/h+uvs9NPXtqJOdxVJqeBv//dt4Rjs+QXmT+7QqcAxwtIdd87smX4c+ugNZbpttTw6bnzqdhrjVzeWet8WVHSTGc0m8d1339txx59QqIB8sO/oj5mkHvPR8cSD5+QXmH/wwYftvvsfCDb1j2qRrnNNLQe3OSzWir2gwHzSuaTuM3V+9OtvuAYMaxtmBOuuv+5a6979tGA28XHu3Lm28JdfwnU1a9Q0BblVkl5nje2e2oI9v8B8klN4sAImgh+nSeeR9NSk99vEiR/aKZ3j2Qc0vMJ+++2bZxe33Hqb9e3bP7Y86PVAYD7GwgwCpSKwyI0/qaB5UGrXqmlZbmz2oCxYsMCnnQ/mi+NRwXn1kL///vt9S3IF5TXuvHrJ//777/4QjRo1smnTpoXB+9atW7sK2W+KFJhXNhgF/YOy2l3nYne9QVHgvo67XgoCCCCAAAIIIIBA5gpEs66Nfu1lPwxSurO9/4EH7YEHHvKrC3Ovnrof/S7+4IOJNtzVJ85y2Z5+/fU323mnnWyv5s3s9NNO9Wnrd9m1sX9aujGFg33mF5iPDjNXUIBfveaPOvoYv1v1rFddRlHLxx9PNtVTqag+Zcb0Kb5DSLr9FLU+Nd1+WI5AeRMo6t9Kebu+inS+D//nEbvnnrXD0aYOixpt8FVQvKiniym84WILKkmdOFX//aBrCDBy5KhEXnVIevzxR2yvZs0S17MQgYooQGD+b/yq6wNTH5xBuevOO3ywPZhPfVQLqB0b7hIu1ninSanO33ln7XjMwYatWh3oJ++/7x7bZJNNgsU8ZpCAKvo1Fnq0aHzx4cOG+DFto8uDab0funU73Y/pFSzT47ixY1yPvu38ovwC8+dfcJG9+upr0aeagvoFlUoundiJrgW0grKFDZTqC16tq+vW3Tjt7pVqfOzYcTbxw0k2efInaYPtej8/07+v389JJ3W0yZ98Etvn2vF9D7SdGjb0vax10xv9myjuwHxSD/Wgh3f0xNSTsuFOu0YXWUkE5hcsWOjGUi/ae0kBqANa/iuWSil6M530Ohc1MB9tVBQgaJz61OB+sC76ePDBB/kU0UnnEd0umE56v811KfIOP/yoYBP/qLH8NKZfaknNJqH31Phxa3/gEphP1WIegZIXWLJ0ma1yn1NBqVWjhhvXfV1qS6WRV0q44i7aZ9++fd2wHVvblltu6T+v1Jhst912s3fffdcv+/PPP31P+fnz5/vPqW+//dbOPPPMQn226XyrVatm+swKyqpVq22J630flMruu7ZWzRrBLI8IIIAAAggggAACGSgQHSrw6aeeMN3DpivRepqBG5jdLukYX389z9occphf1aXzKW4M+JuSNvPL8gvMT5482WXsXBsoV4N2NWxPV35xjfz33mdtNk/VVapxwvqUaCBqwoRxto37HZ5UilqfmrQPliFQngUK+7dSnq+xIpz7Tz/9bPu3aOkvVfUCQbZOLejcuVtY5580ZGrU58abbrFnnnnWL0pKeR9su3TpUp+F+ZNPPrVxLjvs9OnTg1W+QdS777xF7CgUYaKiCxCY/5u+A1J7b97Y+3o79dRu+V5tamA+340TVr737gRr0KBBwhoWZYLAGWec6cdEj55LuqwI2kbDHyhtV7REx8LW8ugNn+ZbtjzABjzbX5N+zHSNnR6U1B8AwfL8HpMCpUrFtnDhL3nGrz/66KPs4YfiPcuj+1YaH6UFrllzbc9A9YZ/+ZVX7M47745u5qeVOlwBk0a77RFbd/FFF/o0/uphGJRoy3UtK+7AfFIP9Ztu6m3dunYJTsE/aviJ9iecFFtWEoF5HSA1sKxl+aWTGzJkqF3T6zptFpZeva62M3uc4eeTXueiBuaTsg6kplcKD55mIuk8Cvt+0/trz6bxIUI6nHyS3X57n9jRlI5aFQpBCiitVGqnfn3X/q0QmI9xMYNAqQgsXZ7jg9/BwWpUz7aqbsz3oCg4Hv2bDZZv6KMaVL366qumceY1trxS1Gt+55139scbPXq0tW/f3vei1/ovXAMgjXd/9dVXFzowr95A6o0flBXumMvc9QalirvOmu56KQgggAACCCCAAAKZKzDqxZfskksu8yeYXzBc9RjN9ton/O2qXuGFSR+s+sCnnuprq9estuxq2Xbaad3S/t589tkBFqSVT8omF1XMLzC/1DWO3a3xujqXIHNi9PnB9Lhx463HmWf72dRe+rqPX7pkiV/XwQ1RWL169eBpeR67djvN3nvvfb883TCf61OfmudALEAgAwWK+28lAy+xQpzSokWL7IUXRvpr3bhuXTuu3bFpr1tD6O20c6NwfXSozGh2lSuvvNx37go3TJk48qhjbPbs2X7pi6NGmOIDhSmffPqpnX32uWHnuPvuvduOO65dYZ7KNgj87QUIzP8NX+IZM2bYse3ah1cWHRM8XJgwoR/iRx7V1lVOr0pYu27RvHnz1s24KfX2VBk2dLBPw+pn+C/jBCZMeNsHVFNPTA02jndfiupBr4CzUoS9/sYb9vDDj6RuaqlfoPkF5j+YONG3vovuJClrw1NP93XjbY90x29kjV0vwSZNmtieezbxT0sKlOpHhIKbhx52ZKwHtp7wwAP32bHHtA0PqX1PdCnYpk2f4X8EtGlzsD315OPhek1cfPGl9uJL8dbWn8+aYUrDox8e0ZIa6FVw/8BWraObFHtgPinbgQItY954zY87rIPrZvfYdse7oM2XsXMpqcB89KY4esBu3bpa++OP8+8lpU9WS8n+rkXlXXfdE93MT781/k3bdttt/XTS61zUwLx6me6+R9PYcdTw5I7b/x2rUNCPwksvvdydY2Nr1GhX29W1tv/Xv1q53rGVEzM0FOX9Fm1tGpzI888PjaVquuPOu+yxx54IVvvH2269xQXkOvppAvMxGmYQKBWBHFeBmZO7IjxWNdeIq3p2tXBe3zlBevlwYTFMKJuIvmtGjBjhv9eOOOIIl4HlHZ/aXinsVYm67777mnoIadupU6f6BgQ33HCD/8wqzCnUdTfqNVwGgKAsz8m1XHdzHpTsalVd5eu6aw2W84gAAggggAACCCCQOQI//7zA9tv/gPCEPpz4vtWrt264omBF9N66oF7owXOCx2ingwdd3coxkbqVYBvdd7c+6BBfv7L11lvZW+PHxu63g+2Cx/wC89pGwXbVL6ik1jf5he4//Q6+4MKL/TjxWqYOExdddEGw2tfbBAGjdOetjdXQVmMqB+Xddya4DFUNgln/uL71qbGdMINAhgpEg6sb+reSoZdYIU7rt99+dw2w9g6v9f333g7rh8OFf01E6+Y333xzV0e+LguyerPrc19Fw4mMGvmC68y2ru7gr134OEEwlIiWRRt8qZOSOopNdfUXajSm4flSSzSd/mWXXmLnn39u6ibMI1AhBQjM/81edqWUUoAu6NnV44zudu211xTrVQ4ePMSuve56v8/8vsiL9aDsrFgErr66V9qx1oMxy4P3TuoBDz30ENOYM9He4vkF5tXQo+WBrfMEz3UDtc8+e1ttF1x+06WWT20A0LPnWXbVlVf4w0dvKoPzCQK2H330sXXoeEqw2D/qGt4cM9rq16/v57Xve+69L7bNGd1PdzduR9imLoWPfjxc4oK00aKby7cnjPdBktQe8507d7Jrrr7K1MNwugv2X3jRJXmur7h7zOvcOp3SxT50KfijRdeqXuo1alS30aNfd+MOfxtd7adLKjCvnae+9tGD69w0pnFqI55gm8svv9TOO/ecYDYxIB68zuFGbiK/Mea13RVXXmUKbEdLu2OPsWPdv83+bzObNXOW3XJrn/DzUduplefIF4b7yoQNfb+lprvT/mXRqWMHP/zD+66RSOrwDlofTeVEYF5qFARKVyC1F7ka6tRyn61B0feZxpkviaIW7H369LFDDjnEp6r/8MMPbYcddrAvv/zSV0Lu5cbQVLA+JyfHZ3JRL/tevXoVOjCvz2JdT1CWLFtuup6gpGYHCJbziAACCCCAAAIIIJBZAtF09nvv3dz693s6zAioM53p7nfbHrOuJ2Jqb3aNHd+v3zO+/uDgNgfZWWf2iP1OHDp0mF19zbX+opXxcNzYN2zjjTcOEVRXdO55F4RD+d104w1u+MOu4fqkiYIC86lDwiWl3r/V3cM/3bdfuPvUDhN9+txuTz71tF+v+pxH/vOwGxpqXQ9RrVAg68KLLg57yysd/muvvhSr3yqN+tTwIphAoAwEiutvpQxOnUOmCEQbWSgL59133REbwk6bq8HS6d3PDOutVR9+3XW9YnuKdlbTfp54/FGfbTbYKPVzUcN1atjOoCgL7aOPre0Ad+QRh9sjjzwcrPKPalh1/vkXmrLBqgwc+Iwd0KKFn+Y/BCq6AIH5v9E7QGM/tzuuffiBq0vTj+RoIDX1cqu4ytrUD+XUbVLnCcynipSfefVg7nRK19gYL4U5e2VFGOF6/m6yySaxzVODs9FU9tpw0qSPrGOnzrHn5Dejmz/1pK5Tp47fLL9AqTaI/qgM9tti//1twID+PtD6++9/WNNm8fTiwXbpHqPjgnfuvG68nXTbpy4vicD8jM8+c8Hl41MPVeB8SQbmlTrplM5d7bPPZhZ4HtENlLVAP/SiY78X9DoHzy8oMK9xoA8/4ugwRVLwvPweR77wfL4ZGqINBAp6v+k46g2vXvGFLS+/NMpnGAi2JzAfSPCIQOkJrHaVlIuXLI0dsE7tWrZu0BLzvdYVRC/uohvVJ5980veMV9pNpc1X73wdSzfSajz066+/2ty5c/13sALzF154YewzNN05afiWaIv1NW7DRYvXpvkMnlO7Vk3LqhS90mANjwgggAACCCCAAAKZJPD999/7+92gM4V6P57mMiBuvPFGNsf9Vuzff+34vzrn1LoZLYuO6a751LHq9Tu0xQGtwobsakSu4ee2aLCF6dgDBw4O77UV2FbWzKDuRvtLKgUF5vUcpcVXevyg6Nz33Xcfl55+qY0dNy6WGTApC6PqQg9uc2h43tqP6mUUnK+eXd0+n/25vf76mPDctX7woAG2//77adKX0qpPDY7HIwJlIVAcfytlcd4cM6/Au+++Z91OPT1coc9rdd7aeaedbMnSJTbT1dVGs8Pq+2LUyBF5Mq3os12d6oKievmjjjzCZRPZ0mfsCwLqWq/P/SHPDYw12IqOYa9tjjrqSDuodWs31PEW9umUKTZmzNgwBqFznDplsu/spm0pCFR0AQLzf6N3QOqHcmEvbd7XXxR2U78dgfkicWXcxup1d8utt9mgQc8V6tw0dvsdbpxsfYGmloIC89p+1KgX8/RKT92P5vXl/5+HH/Q3YMH6ggK2Si98dNt2eXpm39j7elOKfhWlRbvIpasPbl6DfSc9qsV3ly6dw4BHNOVP0vZa1zbaSAAAGydJREFUpvHNxr81IVxdEoF57Vyv13XX3xAeJ3VCaeZ+/OFHm/zJJ+Gqc8/paVdcsXYcOqVLPujgQ8N1mhg+fIg1d70x17fI/4beN+bppZ5ufxdccJ4fsyiaVlnbFvQ6B/srKDCv7dRQ4MyzesYaKAXPT3286abe1q1rl3BxQedRmPebdhZtMRruPGEiaUw7AvMJUCxCoBQEFrsxLhUkD0pqT3J9h6iysriLjtm/f3878cQTTakzlQquZs2arsfTTF/RqQZ12mazzTbzAXoF77t27Rp+T+V3PhpbPvrdnZoZQA2kaiekqstvn6xDAAEEEEAAAQQQKDsBZf1rf8JJ+Z5AYzdMoQLPqUHzl15+xaWAvyR87s0332hdXf1HtMz/5hs7/fQeeepYotuoDuGppx6PBWei66PThQnM6/fvVS67ozLQ5VeiQ8ClbvfTTz/53vzyya+o3umZ/n3z9KgvrfrU/M6NdQiUhsCG/q2UxjlyjMIJqLFVz3POjzU6SnqmMqwoA25qZ7tgW332Xnb5lfnWmyvV/dAhgxP38cijjyUOYRrsX4+ql3jU9aY/8MCW0cVMI1ChBQjM/41e/vff/8C6dD21yFdU1MD80GHDTSnRVR75z0N2pGtJRSl/AhpLZsjQ4fbcc0MST14BZqXgbt58r7RZF1JThyvtTb++T+XZn9KT9X26X2IafbXaO9q1qLvkkotiAQTt5IUXRvofB9Edfv3V3Nj5pI4BFmw78YP3bPPN6/nZ3377zaXaucu1th6f5weLjt+kyR5u3PGLbaeGDYOnh49z5syxK6/qFbbwC1boZrS3awAwfvxbdt/9DwSLXXClvakVt4pualu3bhOu08QLI4Zb06brxjXTsgkT3nbphXpoMixTPp1sdeuuSxunFfobV2r+6M2mftyoFbvG6FHK+48/nhzuQ4HwSy+52M8X9lzCJxdhQuO2DxkyNDFAr1RyzZo1swvOP8+nc0/abWFeZz0vdXx2tdYc/drLeXapNHX9XKBLjYjUiz5a5KUW+Ndcc5Vts/XW0VXF9n5TikAF+ZUmMBjrLnqgww8/zHqefVbYUz+6buTIUX6YgOgyjXMfTUUdXcc0AggUj0Dq2OtV3ZAlCs4HRcHxn3/+OZgttkftd8CAAb7H/DfuO0NB+UaNGrmGU8Ntm2228TfHW2yxhU9lrzHmNea8/kWzjqQ7mXr16sW2W7Y8xxScD0o116O+ejbjywcePCKAAAIIIIAAAuVBYP78+fbAgw+b7h2jRfe65593rs+cmTROsBqad+zUxddtKMgybOiQPHUO2p8yD959zz2mYHV0yDzdf7du3couvOB8N6Rejeih006rY8guuzb269VgQBnj0pVRL75k9913f+yY2lYZpM4552w7wt1H51dyc3N9Bjudd7TDQrCP5s2bufT9Z+bpMar1pVWfmt/5sw6B0hLYkL+V0jpHjlM4AWVBePChh+yTT6bkqX9URtkWB+zv64yrVcv/vl/7ufmWW/MMv6mzUMe38887J5aNL/XsVBetYY+/+OLL2Cp9L+233752Y+8bXC/8BrF1zCBQ0QUIzFf0dwDXX+EFFBRQ8PLnnxf4gLfS3m666T9LJBCo1tIKbPz6629WpWoV227bba127dql+hqox6NuZN3F2tZbbVWoVt46QZ37V1997XourvIpfdK1NCyNi1Fa44ULF1p1dzOsa8hvuIrSOJ/gGBq3+Jdf/udTPleunOWDSoW9YQ/2UZyPOh+93/Te1vkouBVN61ycx0q3r19++cX13v/ZcnJzbKM6G7lzqJ+nAUq657IcAQRKT0CfFxp/PVrquDTv0c9XfX8UJvtKdB8FTes7WD3mO3bs6FPFaWz57Oxs30u+bt26pgpUfU8uXrzYfy/rM1Xj0RcUmNcNsHrMB0UNhhalpOuvVaN6iXzXB8fkEQEEEEAAAQQQQKDkBBT0/v77H3za4s1cPc7//d//FfgbUWeje9TC3herk4OOsdVWWxa67mRDr1i/e7/77jtbtWq11a+/uf3jH/8o8i71237+/G8s192Hb+vqnZR1ioIAAnkF+FvJa1Jel6jeWo39s7Iq23bbbbte9/qqn/juu+9dJr/fbaONN7b6rjNbQUH9qNdSl4lw3rx5vv6iQYMGPqV9tE4lui3TCFR0AQLzFf0dwPUjgAACCCCAAAIIWGo6+2zXqjy7WtVQRpUWCxYsCOeLY0I3vv369bNWrVq57CkTfKXhFy7LzA477OBSbO7mKiPr29tvv+170qsRnVKSKu19QYF5VcxGM23k5K5wDYRyw1MmjX1IwQQCCCCAAAIIIIAAAggggAACCCCAAAKlJkBgvtSoORACCCCAAAIIIIBApgrkuuD18kjwWi271Ws+WtSDZ9GiRdFFGzS9YsUKl4Z0pJ1wwgmmMeKUEaWKS6OvXkLq3aNA/Pjx4+2AAw5waeG+8AH6ggLzek5qNhr1llev+aBUd40OqkUaHQTLeUQAAQQQQAABBBBAAAEEEEAAAQQQQACBkhMgMF9ytuwZAQQQQAABBBBAoJwIKHC9WAHsyPmm9prXKqX/VEB9Q4uO9+233/rhZFq0aGHvvPOOS9m5yqcJ/eOPP2zmzJku/WauKYVo06ZNbenSpT7FvYL46XrMV3XjxqemJk3tLV/JnXjtlDT9G3otPB8BBBBAAAEEEEAAAQQQQAABBBBAAAEEChYgMF+wEVsggAACCCCAAAIIVAABpXtXIDtaFMTOcr3ng6KgvILzG1oUhFcwftddd/W98DUmnIrS5f/zn/+06dOnW6NGjWzOnDm2uRvb7auvvjKNHd+pU6e0gXkF5RWcD8rqvxobBPN6VHp+NTigIIAAAggggAACCCCAAAIIIIAAAggggEDpChCYL11vjoYAAggggAACCCCQoQK+1/zSZbG071Vdavka1bNjZ7xs2TL7/fffY8uKOrNy5Uqfxr5ly5Z+PPjPP//c95ZfuHChaV2NGjVs3rx5vge8gu3qOa/SoUOHxMB83bp1/XOi57FseY6tcPsKitLz165Zw/RIQQABBBBAAAEEEEAAAQQQQAABBBBAAIHSFSAwX7reHA0BBBBAAAEEEEAggwVyXY/45Tm5sTOsnp1t1apWiS1bsmSJ/fnnn7FlRZlR8H3s2LHWqlUr+/HHH6169eqWk5Nj8+fP92PEKyi/00472ZQpU0xBd/378ssv7YwzzsgTmN9oo418b/ro8XNXrHTXkRNdZNWz3djykR71sZXMIIAAAggggAACCCCAAAIIIIAAAggggECJChCYL1Fedo4AAggggAACCCBQ3gSWLltuK12q+Wip5XqwV66cFV1k6xucV8989bqfPXu27b777vbNN9/4XuwKzCsQr/T2//3vf32wXkH37777zo9Fr4P37NkzFphPCsqvWrXalrj9R0uVypWtZo3q0UVMI4AAAggggAACCCCAAAIIIIAAAggggEApChCYL0VsDoUAAggggAACCCCQ+QKrVrvAtktpHy1ZWZVcYLtGbLx5rV+ftPbqLT9u3Dg76KCDrF69ejZs2DDbZ599fIB+zJgxfhx5pa9/9NFHrUuXLjZ37lz79NNPfar7c845JwzMJ6Wv17jyS11QfvXqNdHTt1ouhX3lrHjDgtgGzCCAAAIIIIAAAggggAACCCCAAAIIIIBAiQoQmC9RXnaOAAIIIIAAAgggUB4FklLBK7CtXuepY7SvcOnv//jjD9NjYcrSpUtt9OjRfrz4TTfd1Pr3729t27a1iRMn2ldffWWNGzf2aesbNGhgP/zwgx87ftKkSdawYUM7+eSTLdul1t94441NwftoUU989fZXw4JoSUrFH13PNAIIIIAAAggggAACCCCAAAIIIIAAAgiUvACB+ZI35ggIIIAAAggggAAC5VBAY81rzPloUXC+hgvOZ1WqFF3spxcvXmyLFi3Kszy6QMFzjSNfv35923rrrX3v93fffdcaNWpkc+bMsU022cQ0vvzUqVNt++23t59//tmPL6909nvssYe1bt3a6tSpE92ln1ZP+WUJQXmNKa+x5SkIIIAAAggggAACCCCAAAIIIIAAAgggULYCBObL1p+jI4AAAggggAACCGSwwLLlObbCpZ6PFqW1r5FdPc+Y89pmlRubXmPP619SURr7Dz/80PeQ1/rKbuz3BQsW+ID8b7/95h+Vtn7hwoW22WabmYL2ubm5tvfee9vBBx/se8+n7ldjyi/LWZ4nfX3VKlWsRvXs1M2ZRwABBBBAAAEEEEAAAQQQQAABBBBAAIEyECAwXwboHBIBBBBAAAEEEECg/AgsdcF5BdRTS34p4le7dPIaf17/oinu1QP+p59+8kF29YJXD3kF4TVevKaVzn7LLbc0rVO6+uXLl/ue8jXc+PZJJSnlvrar4oLyNQnKJ5GxDAEEEEAAAQQQQAABBBBAAAEEEEAAgTIRIDBfJuwcFAEEEEAAAQQQQKA8CST1nNf5q1d6tksVn5TaPrg+9aJXr3f9mzJlimnseKWpV8D+f//7n9WsWdNvqjT3CugrIK91wfJgP9FHpa7Pcan2U3vzaxt6ykelmEYAAQQQQAABBBBAAAEEEEAAAQQQQCAzBAjMZ8brwFkggAACCCCAAAIIZLhA0pjzwSlnV6tm2dWqBrMl+piTu8JyXJA/qTCmfJIKyxBAAAEEEEAAAQQQQAABBBBAAAEEECh7AQLzZf8acAYIIIAAAggggAAC5UQgXep4nX6lSpVMgfFqVav46eK8JPWm17FzXU96TSeV/FLrJ23PMgQQQAABBBBAAAEEEEAAAQQQQAABBBAoPQEC86VnzZEQQAABBBBAAAEE/gYCq1y6eaWRX+lS1KcrSidfpUplP9Z7pXQbFbBc4XeNbb9y5arElPXB06tUruzT6VfOygoW8YgAAggggAACCCCAAAIIIIAAAggggAACGSZAYD7DXhBOBwEEEEAAAQQQQKB8CKj3utLKp+vBHlxFZRc4V9C8cuUsNxZ9llXKquR71AcBewXgtY81q90Y82tW26pV7p8L/mts+vyKeugrfb566VMQQAABBBBAAAEEEEAAAQQQQAABBBBAILMFCMxn9uvD2SGAAAIIIIAAAghksMDaFPMrLFcB+lI6TwX0q/0VkFdwnoIAAggggAACCCCAAAIIIIAAAggggAACmS9AYD7zXyPOEAEEEEAAAQQQQCDDBRSgX6Ex4F3q+dWut3tJlCzX676aS5FftQTGsC+J82WfCCCAAAIIIIAAAggggAACCCCAAAIIILBOgMD8OgumEEAAAQQQQAABBBDYYAGloF/hxoXXGPQbGqRXMF5jyFd149UrJT4FAQQQQAABBBBAAAEEEEAAAQQQQAABBMqnAIH58vm6cdYIIIAAAggggAAC5UBgtetJr0C9AvSr3Bjya9yjlqWOS6+U9FnuXyWNRe/GoFdAXoF4LaMggAACCCCAAAIIIIAAAggggAACCCCAQPkXIDBf/l9DrgABBBBAAAEEEEAAAQQQQAABBBBAAAEEEEAAAQQQQAABBBBAIIMFCMxn8IvDqSGAAAIIIIAAAggggAACCCCAAAIIIIAAAggggAACCCCAAAIIlH8BAvPl/zXkChBAAAEEEEAAAQQQQAABBBBAAAEEEEAAAQQQQAABBBBAAAEEMliAwHwGvzicGgIIIIAAAggggAACCCCAAAIIIIAAAggggAACCCCAAAIIIIBA+RcgMF/+X0OuAAEEEEAAAQQQQAABBBBAAAEEEEAAAQQQQAABBBBAAAEEEEAggwUIzGfwi8OpIYAAAggggAACCCCAAAIIIIAAAggggAACCCCAAAIIIIAAAgiUfwEC8+X/NeQKEEAAAQQQQAABBBBAAAEEEEAAAQQQQAABBBBAAAEEEEAAAQQyWIDAfAa/OJwaAggggAACCCCAAAIIIIAAAggggAACCCCAAAIIIIAAAggggED5FyAwX/5fQ64AAQQQQAABBBBAAAEEEEAAAQQQQAABBBBAAAEEEEAAAQQQQCCDBQjMZ/CLw6khgAACCCCAAAIIIIAAAggggAACCCCAAAIIIIAAAggggAACCJR/AQLz5f815AoQQAABBBBAAAEEEEAAAQQQQAABBBBAAAEEEEAAAQQQQAABBDJYgMB8Br84nBoCCCCAAAIIIIAAAggggAACCCCAAAIIIIAAAggggAACCCCAQPkXIDBf/l9DrgABBBBAAAEEEEAAAQQQQAABBBBAAAEEEEAAAQQQQAABBBBAIIMFCMxn8IvDqSGAAAIIIIAAAggggAACCCCAAAIIIIAAAggggAACCCCAAAIIlH8BAvPl/zXkChBAAAEEEEAAAQQQQAABBBBAAAEEEEAAAQQQQAABBBBAAAEEMliAwHwGvzicGgIIIIAAAggggAACCCCAAAIIIIAAAggggAACCCCAAAIIIIBA+RcgMF/+X0OuAAEEEEAAAQQQQAABBBBAAAEEEEAAAQQQQAABBBBAAAEEEEAggwUIzGfwi8OpIYAAAggggAACCCCAAAIIIIAAAggggAACCCCAAAIIIIAAAgiUfwEC8+X/NeQKEEAAAQQQQAABBBBAAAEEEEAAAQQQQAABBBBAAAEEEEAAAQQyWIDAfAa/OJwaAggggAACCCCAAAIIIIAAAggggAACCCCAAAIIIIAAAggggED5FyAwX/5fQ64AAQQQQAABBBBAAAEEEEAAAQQQQAABBBBAAAEEEEAAAQQQQCCDBQjMZ/CLw6khgAACCCCAAAIIIIAAAggggAACCCCAAAIIIIAAAggggAACCJR/AQLz5f815AoQQAABBBBAAAEEEEAAAQQQQAABBBBAAAEEEEAAAQQQQAABBDJYgMB8Br84nBoCCCCAAAIIIIAAAggggAACCCCAAAIIIIAAAggggAACCCCAQPkXIDBf/l9DrgABBBBAAAEEEEAAAQQQQAABBBBAAAEEEEAAAQQQQAABBBBAIIMFCMxn8IvDqSGAAAIIIIAAAggggAACCCCAAAIIIIAAAggggAACCCCAAAIIlH8BAvPl/zXkChBAAAEEEEAAAQQQQAABBBBAAAEEEEAAAQQQQAABBBBAAAEEMliAwHwGvzicGgIIIIAAAggggAACCCCAAAIIIIAAAggggAACCCCAAAIIIIBA+RcgMF/+X0OuAAEEEEAAAQQQQAABBBBAAAEEEEAAAQQQQAABBBBAAAEEEEAggwUIzGfwi8OpIYAAAggggAACCCCAAAIIIIAAAggggAACCCCAAAIIIIAAAgiUfwEC8+X/NeQKEEAAAQQQQAABBBBAAAEEEEAAAQQQQAABBBBAAAEEEEAAAQQyWIDAfAa/OJwaAggggAACCCCAAAIIIIAAAggggAACCCCAAAIIIIAAAggggED5F1jvwPy8r78o06sPTrxMT4KDI4AAAggggAACCCCAAAIIIIAAAggggAACCCCAAAIIIIAAAgiUG4GGO2xTpuc66/PZVqtWTau07XY7rinMmRCYL4wS2yCAAAIIIIAAAggggAACCCCAAAIIIIAAAggggAACCCCAAAIIZIoAgflMeSU4DwQQQAABBBBAAAEEEEAAAQQQQAABBBBAAAEEEEAAAQQQQAABBEpAoNz1mC8BA3aJAAIIIIAAAggggAACCCCAAAIIIIAAAggggAACCCCAAAIIIIBAiQkQmC8xWnaMAAIIIIAAAggggAACCCCAAAIIIIAAAggggAACCCCAAAIIIICAGYF53gUIIIAAAggggAACCCCAAAIIIIAAAggggAACCCCAAAIIIIAAAgiUoACB+RLEZdcIIIAAAggggAACCCCAAAIIIIAAAggggAACCCCAAAIIIIAAAggQmOc9gAACCCCAAAIIIIAAAggggAACCCCAAAIIIIAAAggggAACCCCAQAkKEJgvQVx2jQACCCCAAAIIIIAAAggggAACCCCAAAIIIIAAAggggAACCCCAAIF53gMIIIAAAggggAACCCCAAAIIIIAAAggggAACCCCAAAIIIIAAAgiUoACB+RLEZdcIIIAAAggggAACCCCAAAIIIIAAAggggAACCCCAAAIIIIAAAggQmOc9gAACCCCAAAIIIIAAAggggAACCCCAAAIIIIAAAggggAACCCCAQAkKEJgvQVx2jQACCCCAAAIIIIAAAggggAACCCCAAAIIIIAAAggggAACCCCAAIF53gMIIIAAAggggAACCCCAAAIIIIAAAggggAACCCCAAAIIIIAAAgiUoACB+RLEZdcIIIAAAggggAACCCCAAAIIIIAAAggggAACCCCAAAIIIIAAAggQmOc9gAACCCCAAAIIIIAAAggggAACCCCAAAIIIIAAAggggAACCCCAQAkKEJgvQVx2jQACCCCAAAIIIIAAAggggAACCCCAAAIIIIAAAggggAACCCCAAIF53gMIIIAAAggggAACCCCAAAIIIIAAAggggAACCCCAAAIIIIAAAgiUoACB+RLEZdcIIIAAAggggAACCCCAAAIIIIAAAggggAACCCCAAAIIIIAAAggQmOc9gAACCCCAAAIIIIAAAggggAACCCCAAAIIIIAAAggggAACCCCAQAkKEJgvQVx2jQACCCCAAAIIIIAAAggggAACCCCAAAIIIIAAAggggAACCCCAAIF53gMIIIAAAggggAACCCCAAAIIIIAAAggggAACCCCAAAIIIIAAAgiUoACB+RLEZdcIIIAAAggggAACCCCAAAIIIIAAAggggAACCCCAAAIIIIAAAggQmOc9gAACCCCAAAIIIIAAAggggAACCCCAAAIIIIAAAggggAACCCCAQAkKEJgvQVx2jQACCCCAAAIIIIAAAggggAACCCCAAAIIIIAAAggggAACCCCAAIF53gMIIIAAAggggAACCCCAAAIIIIAAAggggAACCCCAAAIIIIAAAgiUoACB+RLEZdcIIIAAAggggAACCCCAAAIIIIAAAggggAACCCCAAAIIIIAAAggQmOc9gAACCCCAAAIIIIAAAggggAACCCCAAAIIIIAAAggggAACCCCAQAkKEJgvQVx2jQACCCCAAAIIIIAAAggggAACCCCAAAIIIIAAAggggAACCCCAAIF53gMIIIAAAggggAACCCCAAAIIIIAAAggggAACCCCAAAIIIIAAAgiUoACB+RLEZdcIIIAAAggggAACCCCAAAIIIIAAAggggAACCCCAAAIIIIAAAggQmOc9gAACCCCAAAIIIIAAAggggAACCCCAAAIIIIAAAggggAACCCCAQAkKBIH5/wcAAP//og0GIAAAQABJREFU7J0HYFNVF8f/Gd2lLS2jZY+WvfcUVJChCKKIyFBxK7IcuBFxAS4QJ+JAEAFBFMEPQWUP2XsVymwLhe7dNPnOuel7JKGFggWacq4m7+573y9paPO/5xxDterhNhQiRR05VIhe0kUICAEhIASEgBAQAkJACAgBISAEhIAQEAJCQAgIASEgBISAEBACQkAICAEhIASEgBBgAnv37Yefny8MIszLG0IICAEhIASEgBAQAkJACAgBISAEhIAQEAJCQAgIASEgBISAEBACQkAICAEhIASEQNETEGG+6JnKjEJACAgBISAEhIAQEAJCQAgIASEgBISAEBACQkAICAEhIASEgBAQAkJACAgBISAEdAIizOsoJCMEhIAQEAJCQAgIASEgBISAEBACQkAICAEhIASEgBAQAkJACAgBISAEhIAQEAJCoOgJiDBf9ExlRiEgBISAEBACQkAICAEhIASEgBAQAkJACAgBISAEhIAQEAJCQAgIASEgBISAEBACOgER5nUUkhECQkAICAEhIASEgBAQAkJACAgBISAEhIAQEAJCQAgIASEgBISAEBACQkAICAEhUPQERJgveqYyoxAQAkJACAgBISAEhIAQEAJCQAgIASEgBISAEBACQkAICAEhIASEgBAokEBySgpSUtOQnpaB9MwMZGVlIyc7B5bcXFit1gLHSYMQKG4EjEYjzCYTPDw94OXlCV9vH/j6+aCUvx8CSpUqbtu9rvsRYf664pfFhYAQEAJCQAgIASEgBISAEBACQkAICAEhIASEgBAQAkJACAgBISAESjqBjMxMnDuXgHMJCUhMTBbxvaS/4HJ/igCL9kFBAQgpXRohIaXh4+19Q5MRYf6Gfvnl5oWAEBACQkAICAEhIASEgBAQAkJACAgBISAEhIAQEAJCQAgIASEgBK4WgZjYMzh9Jg4JiUlOS/j5+ZJFsT/86erj4wNvb094enjCbDaBxUxJQsBdCLCHB4slF9k52cjMzEZGRgZS09LJI0Qq0ujqmEoHBaJ8ubIICy3nWH3D5EWYv2FearlRISAEhIAQEAJCQAgIASEgBISAEBACQkAICAEhIASEgBAQAkJACAiBq00gl9zRnzgZjVPRsSRW5qjljEYDyoSE0KM0SgcFwZPcfksSAiWdQDaFZ0hITMRZ8hZx9tw58hRhU7fs6eGBihVCUblSBZjIDf6NkkSYv1FeablPISAEhIAQEAJCQAgIASEgBISAEBACQkAICAEhIASEgBAQAkJACAiBq0rg+IlTOHbipLIg5oUCA0op62C2EhZL+KuKXiYv5gTYsp69R7AXiaTkFLVb9hBRtXIlVKlcsZjvvmi2J8J80XCUWa4RgW3btuPr6d+o1fgEzfg330BgYOAlV09JScFrr41FjsWi+j7y8FA0bdrkkuPcpUNsbCzGv/VOgdtlNzgNG9RHg4YNULdOXfj6+hTY190bvvnmO2zZurXQt2EwGDD54w9L9ImsI0ei8MGHHykmNWvWwOhRIwvNRzoKASEgBISAEBACQkAICAEhIASEgBAQAkJACAgBISAEhMClCXD8+MNHj+muu0OCS6NSxTAElw669GDpIQRuMALxCYk4eSoG5+IT1J1zaIea1aqqOPQlGYXbCfN/ro7FycXx6BnujYCKZmRV9IOhagAJjSaKvXF1Ym7kJkUhN+EgzGXqwegbBhjNJfk9UazvLTMzE92698Tx4yfUPocMGYxxb7x+yT2/RaL19G++Vf2qVKmMpf9bQvFavC85zl067N+/Hz169ir0dj+dOgU9e/YodP9r1TE6OhqnT59Ry9WvX49c+Xhe9tJPDxuOJUv+uKxx+/fthpeX12WNuVhndlO0c+cu1SWYfvmqWrXqxbpf9baNG//FfQMGqnUaNWqEXxfOv+prygJCQAgIASEgBISAEBACQkAICAEhIASEgBAQAkJACAiBG4XAocgonIyOUbfLceOrVa2sXNbfKPcv9ykErpQAu7g/euyEikfPc1SqEIaI8OpXOl2xH+d+wvz4TWi6LxPm2kE46OeH32K9EG80oWZNI+rW9UDLml4oE+wBo08Rxeaw2ZC5dyZyT60GvINhDmsGj/KtYfQLBUxFJ+QV+3dKMdrguvXrMXDgEH1HLDKy2FhQ2rNnL+7o1Vtvnjnze7Rv104vl4SMqzDvRz8bjiktLc2xqPITJ76HfvfcfUH99axwPECx9H+LUatWrcvejqsw78rCdUI+oLF+3Wp4UDyTokoJCQlo1ryVmu7223ti6ieTi2rqK5pn8+bN6HfvADWWPUUsmD/viuaRQUJACAgBISAEhIAQEAJCQAgIASEgBISAEBACQkAICAEhcJ5Aamoa9h88rIuKNapVQdUqlc53kJwQEAKFInDs+EkcOXpc9eXDLXVq1YS/v7PWVaiJinkntxPm077eh4x5J7HD3wvv+5ZFoncZ+Gb7wJpqQnmcxrDOWWhWx4+s282wlaMXrJwXvDwu3+pWe91y0+OQvvlDGNNjYYOJBHmy0DeXhkf4XTCXbax1u+bX+KQsRMeloXI5X4pPUnIsvwsL8rnnx2D+/AWqewNy0b7wl/n5uiJny+W+d99L1ss7Vd+77uqDDz+YVNhl3KafozDftWsXfPXl5057Zw4nT53Cl19Ow+zZP+ltu3Zuow82f718vTNFLcwv+m0h+P1xrVNxE+bZtf899/RXGFo0b455886/B641G1lPCAgBISAEhIAQEAJCQAgIASEgBISAEBACQkAICAEhUBIIxJ09h737D4HjZrOQWCuiBgJKFZ/v20sCY7mHG4tAckoqDh46og66GI1G1KsTgbJlQkoUBLcT5nP2xOOf0evwptkLyUHB8PH2hafNF33MObirDhDaJBC2bAM2/puMlWe8kRKci4aNbagbYUaD8GD4+16eiJ1xcAFyDy0EhaGGxWakqwEWmOFVbzAM/lVhy0qEzZIJSxZZJFstJN4DNqMHcuAND2/6APYKhLdfEHz8AtQcRfHuycrOxdxlsVi2OQ1VygIdG3ujed3SCClNhwYMV8edf1HsuyjnOHfuHDp1vpVitdgtwceNG4shgwddsMScOXPx4kuvqHq2nF654i+KT1Gyfoj55i4lzDuCGfbMCCxevERVzfj+W3Ts2MGx+brmRZi/Ovi3b9+Bu/reoyZv06Y1Zv848+osJLMKASEgBISAEBACQkAICAEhIASEgBAQAkJACAgBISAEbgACp2JilYDItxpavhzq1g6/Ae5ablEIXBsC+w5EIjYv7DEfeKkYRl7MS0hyO2E+MzUbb7y6GguPZVJM6ECykvbGg2QQf2+oET5hXoiDF3456o21p3yRmeVJor0NBs80GHyzEVg+FZ1qZKI7idihzSvC6H9pS/pTq6ci5cAfCPDzgrenGUaTGek5Vnj7+sBszIHNlgUYcuntwA+W5SmROG61mWCgh83qAYspEDke5ZHlWwMeweHwL1sDQSHl7X2v4Dk6LgNvf3MMR2JoDYMNAT7ZCA8DenQog/ZNS86b81Jo5s77GWPGvKR327B+LcrTP4BachXvJ0x4F/f2s4uTWh++sjX5ypWrsHLVaopdfxwcx75K5cpo3LgxevfuhYJcoZ88eQrTvp6uprrl5s7o1Okmx2n1PLveX7p0mSo/MGQwatQ4Hxtj5qwfcehQJHzp/TTmhedx7NgxrFixEn//swLx8fEYO/Y1sIXzpdLlCPM898MPP6qmHDHiGYwcMbzA6Xfs2KlE/KO0r5SUFAoZUUO5l+99Zy8EBgYWOI4b2Gp87dp12LN3L3bv3gMfHx/Uq1cXDerXx6233qIOuWgTTJkyFefofmfM+EGrArtcb9iwoSoPvP++Qru1d3Rlf6UW83xAIMdiAce55/fM8eMnMHfuPOw/cABZWVnqNWnWrClY5HZ0gb9r9278/PMCnD171inO/RB63TlVCAvD44/b2TObP5ctV/VPP/UkzWNW70N+faKiotCP1uXDJlOnfoY4mo/Tk088jtDQgj87NmzYiD/+t1T1bdO6FXr06K7yu3btwp29+6p8u7ZtMWvWDJWXJyEgBISAEBACQkAICAEhIASEgBAQAkJACAgBISAEhIAQuDwCJ0/F4NDhKDWIY8lXp4ckISAEipZAFMWd59jznCJqVkelimFFu8B1ms3thHlLrg1TZu3CVz9HwcPsh4EGMx4M9oJnKQ8cs5nxcWogDmT7wsdqhFcWhYHPJAt3ixn+ZEjeoUoquoanoiJZWecmZOJcNS+ktQ1BlYiyCCTX+B5me4xp0vKVFXxuaizid8zD2b1LkGPNJRHeA55GT5Qub0XpUDKh9yQLehNd2UjdSFctqQmoQHu1kV5vy6GxWTaQYT1p+CTsWwOR4lkLtpCmqFCrLTz9guHpWbj41larDb+tiMHMP5MQdy6DXKTkwpNiY3uas/H43ZXQ5+YK2i5K/JXdw/Tvfz82b9mi7pXF4o8//lC/bxbtWbznxOL2nDk/gl1fOKaEhET0v2+AEscd67U8i/LffTc9X3Hc0T34qJEjMHz4MG2Y03XatK/xzrsTVN133053EvAfeHAoVtGBAF5n9o8/6OKpNsH06dPAov+l0uUI844HGvgwwBNPPHbB9HxYYcTI0bplvWsH3u+b5KWAQwOwFwnXtG3bdjz62BPgwxH5Jb4njnGveS9o264jYmNj8+uq6qZ99QW6dLm1wHbHhqIQ5qvXiFBTcnz4brd1xfARoxyX0PM9e/bAlMkf6WEUFv76G0aNelZvd83UqVMHfyxZpKq/+OIrTJhoD6vw46wfyLPDy+oAgDaGBfwXx7yAV197nYT02ar6pRfH4LHHHtG6XHDV3k/c8Nmnn+jC/J49e3FHr96q/003dcT3331zwVipEAJCQAgIASEgBISAEBACQkAICAEhIASEgBAQAkJACAiBixNwtJQPr1ENlSvdOJrMxclIqxAoegInTkYj8shRNXFJsZx3O2Ge6a/YEoPH316DnlneGOVVikRNT2wncfCjXB/EevvB10RCvcGbhHAjLIlAU98s9G2SjVYNyeI90BPp6QasW5WNuXuysN8Wizo1klCvVghubVsDtSva4JG8F7kn1yD39GaYPZNh8KZ5PAxISLUgJcmCCtV9UIpi17MYbzCT0MuiPAm+dn3SQAI+Kfu5VhLlreT/nq+s9NPG+ZJhhSXJSgK9BdbUXJzJDEVmYDOE1OoM//J14X+J+COp6Tl47v3tOBjjCUuOhSa1wos0/RoVjHhvREOUDri0FwBmWFLSwUOH0K1bT/125s6ZjZYtW4Atvfvcdbdev3TpEorvYhdbtcqMjAwMGfKQLuxzPQvO3t7eToIy1/26cIGyFtfG8rUohXmej0VqRyGb1/38s6mFcjVfWGGeBfcHH3oYa9as5SWV5TRbULsmR5fyWltERPgFBxg++vB99OljF3y1fizK9727n1ZUV7YsP01uR9gSXEuOltuPPf4kYmJilGW91s5XLT782NdfRYsWLRybCswXpTDv+pqwsH7ixAk9hAJv4r77+uPdd95S+1m9eg0mTnqf7iXW6bXU7iM8PBzMjJOjMO+6Dr/2Q4c+iNGjRsKRJ78Gfy79Q413fWK+bdq2V9U8fsvmjeRVhD6nKDm+P/hQBB/4kCQEhIAQEAJCQAgIASEgBISAEBACQkAICAEhIASEgBAQAoUnwDHld+89oAaIKF94btJTCPwXAo7ifIN6td0+5rxbCvNHT6fg1VdXYeRxE6qRAHWIRPOxJMbHmEzwIzfyHh6+sHr4wZhtRkdTOh5paUNouCcJ5AZEnrJi+T4PrDpiRgq1g+oyPKyweiWiRdmFeKL1XlTxOAKTL4nnPiYYfcldvBcJ8Hz1pofZRJbyNLdnEFnLBwPmYPJcX4pM4f3oQQo5J2Umn05u7FNo/gSqT4Y16xzSDyYjZa8/UqPKIqTJYfhXS4c1KRdWEuvPxnsjPbAl/Gp0QVhtsqInt/n5pcysXPy4+ACWro7GybPkpt+DYtfbyFq+b2UM6lUtvyElvu7Djz7GJ598qu6TBdCFv8wnsXSgLrgPG/YUnh3tbPHMAjVbQS9ZYhc5GzVqhBeefxatWrWE2WzGAXJZPuOHWZg9+yc1b2hoqBLny5Urq/MsamGeJ2ar/6eefhLhNWteYN2vL5xPxlF47dq1C7768vMLep05E6esr5fluU/ne57z0yx1EMGx84wfZpIL/XGqiu/7448+ALttZ5ftcXFxmPXjbEye/IlqZwH4n7+XoWzZ81zGvTmevAzMUO3sSeCRR4aSq35fVT569CjYqptdw3NyjXHveCBg6f8WF9p9vZos76kohXltXhbe2TsAC9383vn8iy/xwQcfac3Ys3unCkegVbAb/2bNW6kiW91P/WSy1qRfHYV5rmTR/d1331au/jVBnev5oM+tXbrphxqWLF6EunXrcJNT+vbb7/HmePsBgYeHPkSfkS/r7QcPHkS37rerMocR+Hral3qbZISAEBACQkAICAEhIASEgBAQAkJACAgBISAEhIAQEAJC4OIEUlPTsGX7LvJibIW4r784K2kVAkVNQHNrz16xmzdpCH9/0mTdNLmlMJ+RZUHUxztQ9s9kxPrY8Eopb0RR/Gqv7ByYKK57jtkTASTUP+xnQbdKVvhU9EaC1YTfdntg+X5PpOUYEVTKSu7fTciw+aJswCHcVvV7tKuxBQFBZPlOgrwS4dko3sdMmrs/CfSVSaCvRY+aJMRXooYAesm96UFCPdiVN185sWk8J76SxTylxI07kfDnGmQcPovcdBNyc0zwIVG+4sDD8PDORm4i+bvPoREZuUhINCHNqxlyq/VCveYd1Pj8nuIT07DrUDz+WncS8STujxveAiFBvJ8bL7Hle/cet+ti74AB9zkJ6n//9aeKb+5Ihi2bhzzwkF61etUKVKpUUS9zhgVYR4HfVewsamGeRfkPPpiku0V32swlCo7CPIvlHJ/dMUVGHnZyFd+5cyd88P5EBAfT4RKHlJycjMZNmus1BYnjw54Zobu5Z1f47BJfSy1attGtxQ9HHrjggAFbgH/51TS0a9tGuaevUOG8q5+iFub5oEZQUJC2tXyvIygEgas1vubKngeMI5f9HOvdNbGVv3bIYcH8eU7ML1eYr169On5ZMA+BgYGuy6jytK+n45133lN5V97agB49eynLeC7/vuhX1K9fT2sCv/5db+uuyt263YYvPrcfZNE7SEYICAEhIASEgBAQAkJACAgBISAEhIAQEAJCQAgIASEgBAoksHnrTqSkpiK0fDnUrR1eYD9pEAJC4OoQ2HcgErHkObiUvz9aNGt0dRa5BrO6pTDPXDL/OI7E9/disjkXv5X2hZlc15ttVmST1XqwpwkjvK3oFGyGqZQJB0hAnxHjj52nPWHKscGHPMB7kHDvR23Nwn5D9xrfo1poOkyBHiS8kyjvYyQhngR5/zJU14pE+kZkHU+irYGtfsl1Pbuq133Ta0I87yqfZPDCiVnLcPab5fAOIdHNxK7tOfC8N0r39Ea5PonIjTtK4nwGbNk0Fz0siTlISfPHmaAuqNT6fpQtXz6fie1VqelZyCIr+hBicCMnV6FdY+Ea012rf+nlV/HTT3NU8e23xuP+++/TmpyuJ06cxE2dblZ17G5844a1unBe1MI8xxlvS2L1lSRHYf5S49kKnr0DdO/e7YIDC4sW/a7HU2cvA+xtIL/E1vet27RTTSzyf/vN13q3Tp1v0Q9JFMRf7+ySKWph3mX6fIufTp0CjhXvmByF+a1bNqF06QvFfcd48m+++QYGDxqoT3G5wjx7FhhOBwQKSo5u6l3fhzzG0SLeMY69Nt+RI1FkdX+bKvK98j1LEgJCQAgIASEgBISAEBACQkAICAEhIASEgBAQAkJACAiBSxM4FBmFk9Exbi8IXvpOpYcQKN4EtAMylSqEISK8evHebAG7c1thPmfXWfz6xr+YZMlGOrmuNxk8kWMwoYzJiNEUZr2jP7mV9zBiKwn1kzNLIy7HGz5k2W7MMcCS4o0yxnPoGT4NPeqtQGBZtoonUd6b2mmcKSiMYtG3J2t5sjo2kkUxuSaxW7+zCM/W8dqDRHo9z3WOKU+8N5IF/Kk4RL42E15nSfz38SJhnlznZ5M471MKlV7vBv866bDE/YXcswdhTc6ENZ3E+0wrspKtOJkdDu8mD6NW47YUw951Dcf1JD9y5Gj8+tsiHUSvXndgyuTz7sb1Bso4WhezK/Zq1ao5Njvlb7n1Nt2N+Ib1a1GeTsRxKmphfs/uHbrLd6cNFKLgKMznZzGfnJyCnTt3Os3UoUN75dLc0W06W2WzdTYntoLv2LFgrw139Oqt+rFQvHnTBpXnJ8dDD1xmV+797+2n3OHz3i6WilqY570FBLB3i4LTuDdev+A+NWG+SpXKWLni73wHb96yBf362Q90sKjO4rqWLleYd3Xpr83jeH3k0cfx11/2vcyaNYM8DrTVm99//0N8+pk9fIHrIQHudOzYMXS+uYvqf7GfC31CyQgBISAEhIAQEAJCQAgIASEgBISAEBACQkAICAEhIASEAHmHTcDOPfsUieZNGyGglL9QEQJC4DoRSE5JxZZtdq2rUf26CAkpfZ12cuXLuq0wb03KwshxK/F3ZBrMRg9km8iVvcmA10go78TiN4nyy3JNmEau6lPYOt5MwrvBB1mZpVA67QAeqzUenRqehkcZTxg5dryvEaZgspAPJkHevzUJ8hQ33sr+5UlAV+I7ifBKGGcxXhPktSu/AI6iOedZzCdxnrI2cqN/Ys4/SJq+At4+vsiykEV8diZQ3h91XuiF0k1rU98sEuT3kPX8P7CcOQJbqgU2FuizrYiJ80ZW/WGo1bI7xZ7Pi2NPIyQ5E3C04uaWjRvWwTEmvGPvBg2bIC0tTVVFHtqvW8E79tHyjjHLHV2EF7Uwf2D/Hnp96VTJFSRHYb6gGPPs8n/9ho1kmT1Sv/d7+92DCRPe1Vd0PdygN1wis2vnNorpYf+F5OzZs+h1511OrvO14RzXvmeP7rjzzjsQFhamVevXohbmF/22EOzO/nKTJsy3bNkCc+fMznf49u07cFffe1TbfxXmC+Mt4c8/l+HxJ+weDPigw3vvvaPW5pALrdu018MH5Gfh7+j5oU+f3vjow/fzvSepFAJCQAgIASEgBISAEBACQkAICAEhIASEgBAQAkJACAiB8wT+3bKdvk9PR41qVVC1SqXzDZITAkLguhA4dvwkjhw9Dj8/X7Rq7hzW+bps6DIXdVthnu9z7NQtWLAkCjaDEbke3uhv88TTXiS0e5iwzGrAZHJvn2EykShPFvEmbwrjXg5h2VvwYKUJ6NIiFcbSnjB4ktv6ALKSD4mAqcwdVCaxMDebZidRXgnwrkI8lWk9uxDPArzrQ7OqzxPmWZwnq/n06HjsfexL5MSnwlA3DIGdayO0Ux0EVQmCITeHvOMbaI8+pOKnwXLuL1iiN8JKceRtaSTOW2yIjqY5qvRH+E0DSQC9uNUxbeqGTZqgygCijhwqkIPWz9XaO78BY994EzNm/KCa5s2drccjdzdhXru3AwcOoHuPO7QiHA8mOFpl6x0KkXH0JMDdU1JS8NnnX2DevPm6YOw6zTtvj8eAAc4hBESYd6V0vpydnY1mzVvphyr27tmpQhFsoMMWA+4fpDoWZA0fHR2N9h06qT53390X70+acH5iyQkBISAEhIAQEAJCQAgIASEgBISAEBACQkAICAEhIASEwAUEjp84hcNRx8SF/QVkpEIIXF8Cmkv7mtWrokrlitd3M5e5ulsL80vWnsK4DzciIcOCLlmeeMkrAD7eZvxFYvhEEuNzyJLem4R5g8kTuaayqGP8H4aHf4569b1gDCJR3stAFvIhMId2JSt5sqql2PE2axYhZLHdnHclwVwJ8ZoY7yrUOwrzjvRZmOfEVvOcN+Dkyp3IzbWgbLMI+AazuG6hQwBZtCyL+WyZb6O1TCTke8GaEQ1LzFLkxkbCmkLW81lWJMdZEO3TEZW7PEvu1MtSf0muBDTBnesvJsy3bddRt+jesX3LRd2dDxw4BOvWr1dLLV+2FDVr1lD5wgrz7GKcXY1zco25/sCDQ7Fq1WrVdrUt5tUieU+PPf4kli1brkqOVuWObujHjRuLNm3Ie0QhUnjNmjAa+WfDObE19+7de7Bly1bFUHPFrvWa89OPaNWqpVaECPM6inwzb7/9Lr6e/o1q++yzqejRvRtefuU1zJ79k6oryCV+eno65i/4RfWpUb062rdvl+/8UikEhIAQEAJCQAgIASEgBISAEBACQkAICAEhIASEgBAQAqTY0Hfb6zZuhsWSi4bkMruMG7rMltdRCJRUAmcpxMQuCjFhNpvQrnWLi3rFLm4M3FqYPxqTikffWIvMw4n42BSAqt5+2EtWpa97GnCW3Nl72VjkNiPXWA71vf7EqIhpqFPfmyzkSZT3Idf1ZSrBHNaTXNlTzHBbNgnkdgHdbinPgrsmwvNVE+CNLkI913PSrvaSEuRVlkV3mtdIoj8J/PZeJMIrK3kS5lXidfnBfenBQr3Bi3T7DHJrvwqWk1vJep4E/Cwb0uItOOHRDpW7vSDivGLn/FRYYZ4tjNnSmNOC+fPQtGnB7i4c3d7v3LEVpUpRmANKe/bshRZnfdDA+zF+/DhV7/r01FPD8Mf/lqrq4iLMT5kyFR99PFnt6dOpU9CzZw+Vd6x/7dVXMHTog6q+qJ7YpfrLr7yKNWvWqikdXbJzhQjzFye9b99+9Ly9l+rELunZ8r1xk+bKip69P2zcsNat/gG6+N1KqxAQAkJACAgBISAEhIAQEAJCQAgIASEgBISAEBACQuD6EDh67ASi6BESXBqNGtS9PpuQVYWAECiQwM7d+3AuPgHVq1ZGNXq4S3JrYZ716+ET1iFi4QncXyoEWaSfv2zMxr/+XvA2kPt6A8WeRwhqe/yD5+tOR4P6PsptvcHbCHOFOjCVvQUGDx96rch1vR4/nqRzx/wF8eQ1sZ4ldvvDoPpz3jGRC3rW2TWxXVnD2wV4u4W8oxifJ8qrATyIynxIgGLTc3z63IQtsESthjWJxPlMK1LO5eCUTyfUv+d1cmXt67joDZ8vrDA/7evpeOed9xSvgmKyc+PceT9jzJiXVD+2Hp/940yV5yeO2V6vfiNVrlOnDpYs/o3eOs7vA4vFgiZNW+jux4uDMM/vv/sHDtYPJqz4ZzmqVq2q7mPbtu3oe3c/lef46ny/JvI64Zr4tOB3389A48aN0KRxYzqVxB4mgKysLOzeQxbym7eieYtmaN6smetQbNq0Gff2H6DqXZk6CvN/LFkE5nq56elhw7FkyR9qmKM3gMuZR3sfFUWMebZqZ+t21/TFF19hwsRJqrowMea18b3u7KO8EPj5+eGrrz4He3TgNGLEMxg5YrjWTa5CQAgIASEgBISAEBACQkAICAEhIASEgBAQAkJACAgBIXCFBNau34TsnBw0blgPwaWDrnAWGSYEhMDVIhCfkIgdu/bC08MD7due98x8tdYrqnndWphnCEvn7EalyXsRYvDE/zys+KAsWZrnesJMLuGzjWVQBkcwru7baN6ILOUDPWD0NcFUrjpZyncDTOSm3kjW60YWUx2t4rUyVetu7B3bHcV53oUmxmpXpchTPV+1B4vv/ODEV66nq7LSd+yTlyfx1JZL7aqrF3LPbYLlxCYS6TNJnLch6ZwFpysOQeMejypXDTyrJEATVJnFxVzZO8bc5r4TJryLe/vdw1k9HT16FDff0lUvT578Ee7sdT42Ozf06NkL+/fvV33ee/dt9O9/r96fxesRI0dj8eIlet31FubT0tIw5ZOpJOh+rfbEVtabN23Q92e1Win+/O04dChS1TGT995754IDB59/8SUmTnxf9enQoT1+mPGdyq9YsRIPDX1E5UNDQ7Hszz/g7++vytrTjBk/YOwbb6qiq5j88eQpmDz5E9U2aeIE3HNPX21Yoa/FQZh3PLTBjDf9u/4ChlcqzM+c9SNee22s4hEREa6/Vo4HLFxhJSUl4Ysvv1KC/pDBg8CHUSQJASEgBISAEBACQkAICAEhIASEgBAQAkJACAgBISAEhMCFBGJiz2D/wUgEBpRCsyYNL+wgNUJACBQLAlu370JScgrq1ApHWCh5R3eD5PbCfPKuM0gatQonE1PwVqgRUV7B8LJSfHlTELxyk/FUpUm4t20GjGW87O7ry1WBuXwnFXceJgvp7iSyk0CfvzDP9a5t1F8X6zUhXnultf6spnNikZ0TX+kAgKNFvC7Y5wnxSoHXxtFVCfPURuIurAYqepI4v43E+S1kOU9u90mcPxFL99lkJBrfdKdaRZ4KL8wzK0cRmcvt2rYlob07fH18sJpcrS9c+CtXq/Tw0Ifw6qsva0X9+u57E3SRmytvv72nist++vRpNT/HV3dM10KYZyGYrbQdU2ZWJk6ePIVdu3br1vvc/uyzozDs6accu6p+fe66G+fOnVP1bDV+6y23oFGjhvQBl4zffv1Nd83PHRxDAbgK+xwigJk0qF8fhyIjsWrVaj22PY91tWhftOh3DB8xipvAwv5DDz6A0uQqiOPQV61SRdVf6slRmGcBuny5S38Yjx49CqUdTj1qBzyu1GKe99ip8y04fvyE2i67ne90U0flfaBX3uGOKxXmE+gUWLPmzqe/XD0PuDL67PMvMGnSB3r11i2bnO5Xb5CMEBACQkAICAEhIASEgBAQAkJACAgBISAEhIAQEAJC4AYnsH3nHiQkJpHYV5PEvvI3OA25fSFQfAnExJ6mQzSHUTooEE0a1S++G3XYmdsL8zaLDaeGLcWMHccwo5wHzNZAmDz9YaPw7Y+EfYhBrZPhFeYNdl9vKk8x5ct3JCGe3dzn0JVj0LPOToK6LrYzHU1g10R4rqO8Xs/tjmVu5zrH5CjKs+CuCfB81cpczXmtrPWhsibMW8lynqyYWdeHlcT5+F2wHN8OazKJ8xRz/vgpDxhufgv1mrWjDpI0QZVJXMxiXiPl6Kpeq3O9srA8+eMP83Xpzq7bH3v8SSU4u47jMovLA+7rr8dzvxbCfH77yK/urfFvkht0u0t513b2AnBPv/ucRHzXPlwePWoknnnmaaemtWvXYdDgB5zq8iu8OOYFPPbYI06W5Gxpzhb7mqCtjXvpxTGqr1a+2NVRmL9YP8c2V2tz7X30X4T5n39egOdfGOO4jMofPLAXHuRa5UqFeZ5k2DMjnDwxfPTh+2Dxv6D08iuvYfbsn/TmpUuXoFZEhF6WjBAQAkJACAgBISAEhIAQEAJCQAgIASEgBISAEBACQkAIUAjbzExs+HcrjKQbdWzXmq6sBUkSAsWHQHp6OubMmYc/ly1D+/btMPD+AWSIV7r4bPAa7oSNRVev2wgraaltWjWDj7f3NVz9ypZye2Gebzvyi60Y9ssOHCKh3dfoC4tHaXTwnIM32m1DYA0/u6V8SBDMoR1g8KSY7Oy+Xrmxpw9U+nA1sMW8EuY1QV4T2fkDV/vQ5TrOa30p6yTUa2O4Xkua6J5XLkiEd7KsJ3Ge+9HDpsR4utIbii3nbWQ5DwvFnD+7GZaTR0ict6iY83uSwxF+3wcoW6aMtvANe23QsIkSkzn+9u5d2wvF4Tey0p469VPdJbg2iOd45JGhePKJx+Hl5aVVX3BNT8/ApPffx8qVqxEVFaW333VXHzw7eiS2bt2mW4HP/OF79UGpdWK372y5z0kTbLW2y7kePHQI3br1vOgQvp/KlSujA31Q9+59Jxo0uPjpoV27d+OTTz51snDXFmjUqBHeHDdWxZjX6hyvp06dwqvkbl27N8c2HvvimOfRtm0bx2o9f+LESYx/622ndbt1uw1ffP6p3udiGVfR+mJ9tbZVK/8hNpW0oh4S4WKW6Lt27cKdve2u9keNHIHhw4fp4zljo8M1c+bMxVtvv+t0wGHJ4kWoW7cOpk37Gu+8O0GNmfPTj8orgNMEFym4envYs3snfH19Chyxb99+DB7yoPKCwAI+C/mShIAQEAJCQAgIASEgBISAEBACQkAICAEhIASEgBAQAkLAmcDJUzE4dDgK5cqWQf26tZwb3ajE37HHkjXxlSaDwYBJE9+DD3kYllQ0BM6ePauH+dVmfP21V1G+/KW9/mr9+eoYapjLgwcNxJtvvsHZGzLt2XcQZ+LOIqJmdVSqGFbsGZQIYX7f1mj0H7sSGdlkXW4MQKh5D96u/yOaNQuA0d8EY5APzBVbkkBPwrUxh4R4FuSNdkt5tpZncZ4+ZJQ4z1fd+p3zZFWvC/D8enJdnkDPRac2VZH3RGK6q+CuW81zF25n5d2lH7u7Z1Ger3kx5pXFPJ36UDHnc42w5Vhgif4XuTFnYEuzIi3Jil1+vXHrkBdgsJ2jGekeDRzXm6zpDWa6avdAWUn5EmDep05FIyYmRrFnd/As1Hp6eubbv6BKdjOemZmBMnRIgq2iS0JKJJc9LLQnJSchJDgY1atXLzQXi8WirN/PnDmD4JBg1KxRI1/PA/lxys7ORlxcHJ1JsaJChTCYzfxeds/E/+Cm0Sm2gFKliuTk2rJly5WnBqbBXg/Y+8GlUi4d7kmmWCuOLvsvNUbahYAQEAJCQAgIASEgBISAEBACQkAICAEhIASEgBAQAjcSgR279yI+PhH16kRQmNSybnvrjqFWr/Qmtm/bjMDAwCsd7jbjIiMPIyUlRd8v6zuOhnx6w0UyhZnj6NGjuPmWrk6z/Ln0D0REhDvVXarQ9+5+2LbtvGHq5RiqXmpud2w/fSYOe/cfQnBwEBo3qFfsb6FECPPnkjLw8MursDsynTTtJDxV+SsMbWuFRyi5sPcxwVypNkwB1UhPJyHcTCI8ux5xFeaVQE/1ynKeXjcl0FNZ6eYsxnNyvHJeK1M/1ZH7OCYezElN4nDNq1PDqc1AD9WVLeXpf44rz1bzuXTQgOvZlT27tGeh3sICvQm29ETkHNsEa0IW5XNx6ix9OHZ/AdUj9tN0Z2hIIAmZATS4IsweHel2yFOAJCEgBEoEgQH3D8KGDRvVvSyYPw9NmzYpEfclNyEEhIAQEAJCQAgIASEgBISAEBACQkAICAEhIASEgBC4ngRWrtlA+ooV7du0JAM19zW+E2G+8O+ie/sPwKZNm/UB/e/th/fee0cvFyZTmDmKSpifMeMHJ8v7h4c+hFdffbkw2yyRfbKzc7B2wyYVdqJTh/w9NRenGy8RwnwOidXjP9+GbxeeQSv/uXi37U6EhfvB6GOEMTgA5rCmJMibyFKe0NNDs5gHWc6r+PJGamPBXjPIVWo4qeYs0vMgG1mps3E7u5RXiRV1FuMpKXGdn7hNFfLy5y/2Nm7Pe5Dor9znG6lss9BDs5zn8Qalydss1GZh9/V0JUHeHmee8yTQUz1sHrCc2Yfc6JOwpuQi81wujpWqjFr3Voa/bxZyc2zwJPfrmRmB8PJ+hoT5YJpbkhAQAu5OYOHCXzFq9HPqNjgswMJffqafb+2zx93vTvYvBISAEBACQkAICAEhIASEgBAQAkJACAgBISAEhIAQuD4Ekslqesu2XfDz80Wr5u5tDCXCfOHfQ4UR1S81W2HmKCphPicnB0uX/okVK1ehdetWuL1nz4uGur3U3ktC+79btlNI4XQ0b9pQeS4uzvdUIoR5Brx49Wm8MH4+PmoyDW0a+cJYykwPT5jCIkigD7Fby3NceXZjz4K8EupZXM9BLrkeTz6XgrjoBCSeTaMXL0udiPLy8kBweXKNX60MgiuUh8HLj8R5Xs0uoHPufOI6Es4LTGogDWXL90yknD6LmKNxOBtNrs/Ts9WUPj6eCAz2RdmwQASVDYLZj2J3GOhEFon0SoxnUZ6t5lmozyUBn06B5EbvQW5cCqzxObCV94VXz/qgcwbUJ5fiovshMyuEro+JMF/g6yINQqD4E9ixY6cS4/kXwt279+gbvtzY9PpAyQgBISAEhIAQEAJCQAgIASEgBISAEBACQkAICAEhIASEgBOBUzGxOHjoCEIp5nfd2pfnXtxpomJQSE5OJpmIjUKd02uvv4HFi5folVWqVCbjr/l6+XzGcMOERS2MqH6eS/65wsxRVMJ8/ju4sWv3HYhE7OkzqBVRAxXDQos1jBIjzEcePomfPxiGoXWi4RPqpVzYm8qGwBRcg4R4m91CXQnyJMab6WHNQfKZeETujcH+nTE4eiQRcbFpyMjIgYXdxZPVvJEs5r19zCgX6o+Wnaqi/e2NEBRWjsRyMq3XNXjNUjU/YV7vRG8CzluRlZSITX/twdqlh3DyRDLSU7JJZ7cqi1cTudf3ovXKlPFBpWqBqNOgPGo1qIiQCmVg8PSiMwS0L+XKXhPnTbAmnyZx/hiscVkw0hifWxvSsQG28LfARDG5s7Mo1rnXE1RXqli/EWVzQkAIFExg8uRP8PHkKU4dRo0cgeHDhznVSUEICAEhIASEgBAQAkJACAgBISAEhIAQEAJCQAgIASEgBK6MwKHIKJyMjkF4jWqoXKnClU1SzEe9+OLLmDN3nr7L6tWr4++//tTLWmbzli1YtGixVlTXJx5/FGFhYU5177zzHrKyyfg0Lz0wZDBq1KiuFZXWxn2yycpbS7UiIjBw4ACtqK5sBb58+V9Yv34DTp06hczMLETUiiChNQKdOnVExYoVnfrnV0hKSsKvvy3C3j17ceLESXh7e6F27dqoRfPcdltXsip3Dvk8ZcpUnIuPB7uGd01D6D443da1C9q3b+farJcvZ46ChHnmtXjJH1i7Zi2iKA59eHg4WrVqibZt2qA8HRJxTexVd9v2HXp1zZo1MGTwIL2sZU6ePEWx6LfhUGQk9u8/gLTUNIRTPPvw8Jpo1rQp6tcv/vHYtXu51PXEyWhEHjmKShXCEBF+/v13qXHXo71ECPPsef7s5rmI/e1tVK7uR/HkyVo+gKzly1eD0Zus3NmCPE+UZ5f1Wcmp2LY2Eqv+isLhyHhkpJGITdb0Xp5G8nhPVvX8StCTlSzUc8haPS3doq639IrA4OduRmBoWdhy+KSR6sm9KXFeE+Id83l1tL4lIw2/fb0G86Zvh4VEdn9fE8UoMaq1eQa+Dyu5rs/KtiKH1vb0MqFSpQC061gF7brUgl+ZILKEJ0t5EuftVvM0gOaxxBxG7ukk5FYohZymETSnHzxpL14+NlqnMrmyf4pm1/z080qShIAQcCcCM36YiUW//a62XL9BffologvatW3rTrcgexUCQkAICAEhIASEgBAQAkJACAgBISAEhIAQEAJCQAgUawI7du9FfHwiGtavizIhpYv1Xq90c4UV5rds3Yp77unvtMyHH0zCXXf10euOHTuGzjd30cuc4VjnD1PMcy3l12fYsKfw7OhRWhccOhSJAfcPwrlz5/Q618wrr7yEhx58gPQ0FvwuTL//vhjPDB95YUNeTWhoKN5+ezxuubmz3qdtu46IjY3Vy/llXnjhOTz5xOP5Nam6y5kjP2H+14XzMX78O+CDEPmlRb8tRAPSBBzTc8+Pwfz5C/Qq1gpmzZqhl9lTwowZM/Hm+Lf0uvwyQ4c+SK/D6BLhBv/suQTs2rMPwcFBaNygeB84KBHCfG5mCg58/zT84ncjuIovDH4mGEMCYSpdyW4tzxby7LreaEXc8Tgs//0A/l4WhXQS5P39zPD1McHb1wt+gV7w9fOiPIn6nmSNTkp5ZmoOkuIzEHMyHSGVAjF8wm2oXKsMbFmuLkBYjHdMmkifV0d7SE/NxNRXlmLXmlOoWNkHpUN84RvgDTKUJ5ciVmSn51CfLKQlZSIjPYviw+cimdY30dg27SuiR6/aqFqXTmmxe3s6GMDu7dmlvTU5HrkxMcgmQT/RZsBhYzhqtOkEH88k+PnXQVBQN8eNSV4ICAEhIASEgBAQAkJACAgBISAEhIAQEAJCQAgIASEgBISAEBACQsCBgBanumXzxqQdkdFnCUyFFeZZ3G3cpDmFfk7TKQwYcB/eIXFbSz//vADPvzBGK6prV7Iw/+rLz/U6tu4eNfo5vcyZn3+eg+bNmqk6to7v3efui4ry2uBeve7AlMkfaUX9upJirT/40MN6+WIZ3j/fB6fLEdULmvNy5shPmI8gC3Y+mFBQ8qP34W+//uLkheBSwjy/JvzaFCa5ivqFGVMc+6TS+3TTlh3gcMCtmjcpjlvU91QihPnkIxtx7LunUL6cGT4hnjD4e8BUphyM/uS+3Uhu7M1kLU6HaKKPnMHs77bj340x8COX8aEVAxBWLQiVI8qjQnhZlKkcglJBPvD2I2HegwaQtp6dYUVyfDqJ82kICPFB9TqlYLJayLrdVYh3LTsL8waKLQ/ax4modJw5mQr/Ul4UR96PDgF40IEBFuZttFYOUhMzEHcqHmeizuLEoTO053g6FJCI+IRs1KodjEEPNUKdJpXpBaRBObSPHIo7n2WhOPOnYD2XDluyBZuSKqH1yO/pDehDLvLp/lnIlyQEhIAQEAJCQAgIASEgBISAEBACQkAICAEhIASEgBAQAkJACAgBIZAvgbXrNymX6+3btCTPxCVTVymsMM+ARj/7PH75ZaHOiuPRr1zxt17OTwBmIXnH9i26Zfurr71O1tyz9TGO7fHkRv6efvchKipKb+dM9erVUblyJaxatdqpngvTp09zsnrftm07+t7d74J+LZo3J8fTueTKffsFbevXrUFoaHk8/PCjiI6JJTfv+y/oU6dOHVXH1v/33NP3gnat4nLmyE+Y1+a52PWxxx7BSy+ePwBxMWH+yJEo3NrlNqfpmHmXW29BYFAQVqxYgePHTzi1/zjrB7Rt28apzt0K2dk5WLthEzw9PNC+bctivf0SIcwfnvc6PKMWwy/ECx6lyI19oA+MpctSXHaykicX8vAwqutnk9bizz+OoFm7yuh0Zz3UblYRwRWC4O9PfQwUv52t0OkHVXmkJ53dYKAnI7m2Z2GfrmRCDxvFyrDR1e7FXhPjWYTX8vm83uyjXiWKW+9FH+Ymmo8s5G0WEtZJkFc+7LVhZD5vIOt+Ft6zKORGAsW9P7I7Bqt/34cNfx+hUzGBeOWtm+kAgR+smdRBWc7bYKXY9blxibCShX18vAWnW7yItl3v0WaVqxAQAkJACAgBISAEhIAQEAJCQAgIASEgBISAEBACQkAICAEhIASEQAEEVq7ZQOGGrejUoQ15OibdqASmyxHml1Dc86eHDXeisOnf9ShTpoyqa9GyTb6W7v/743cV25073XLrbU7C+91398X7kyao8Rx7ftrX01Vee5pFLtm1MK4ZGRkYOGiIk7geEhJCxrfr9NenR89eTsI6u6z/ZcHPSnjnOdmV/u139Hay/GehfdJE+x64z739B2DTps2cVan/vf3w3nvvaMVCXQszR0HCPLvKHzx4IAIDA8nSfT7GvvGm05p8yGDevJ/0uosJ84sW/Y7hI86HCeBBM77/Fh07dlDj2RPCffcN1F3nN2rUCPcP6I/+/e/V53fHDP/c8s8v/9zyz29xTm4vzGcmxOH4jIcRgBh4BXrC7G+GKTiA3NmXIoGbxHKyfGdx3uDtgU07z4KM0tG4bWUEl/WGwZJjF9qVOE5x21lcV5+1JMazEM9au3pQma+c2LydC1qFqteEdy5oec7mDdKEeRb2QetwmbvxVRXzyiz4a228Pov0nmbyXO+JVLKE37M1BglnUtGxZXl4kicAtpS3UYx5WCifmQlL3DlkJ2bBI8uG9eZO6P7kRFpEkhAQAkJACAgBISAEhIAQEAJCQAgIASEgBISAEBACQkAICAEhIASEwMUI/LNqnWq++aZ2F+vm1m2XI8wnJiahabMWTvc77asv0KXLrcrqulPnW5zatILmLp5jxrN475g+nToFPXv2IC/SuWjdpr2TsP/cc6Px9FNPOnZHDIVxbtf+Jqe6NatXoGLFisoF/G3deji1zZs7Gy1aOO/ZVaxm8X79uvPW+IUR1Z0WyadQmDnyE+bzc8/f684+2L17j9MqBw/shQdZg3O6mDCfX+iA8ePHYcB9/XUvBgkJiUhOTkKlSpX0OqfF3LTgLj+/bi/Mx+z8B1lLX4W3Tw68yIW9R5AnjOSOweBFLu3JUh5sMc/CPOWNpf1gpHjytnSyemdzdNbNTZoIz0J43oMuylqe27lOdWQlnbPcyP9zPZftF/2aV9T1+bxhLMmzxb1TUkI8a/F5bdzM4r0m0LPxfl6eBXqjrxesdIjASm71bZkWEuTJ6p4PFZA4b8smd/b0w5RJbvfNWVbsSi6H2g99jfLkjkOSEBACQkAICAEhIASEgBAQAkJACAgBISAEhIAQEAJCQAgIASEgBIRAwQTcRdgr+A4u3XI5wjzP5io4P/HEYxjzwvNwFYDZzb3mIr1Pn9746MP38fc/K5S7eMddbd+2WVmGR0dHo32HTo5NuJXcrefnUv2tt5yt12f+8D3at2+H38g6fISLdTjvzcMlDAHva8aMH5zW2rN7J3x9fVSd6z1eS4v5D96fiL5973La21dffY133ztv0c+NmzdtAHsL4HQxYX7Pnr24o1dv1c/xiQ8jdO9+Gxo2aIB69eoiIiKiRInyfK/u8vPr9sL8gWWfwn/H9zD5GeDpZ4ZnkDeMAWQxzzHi81zYw0zCvGYBrwnxdFVu6pVwT68YCe56HxbbuZ2rNWFeE+CVAk9iuLKYp0qOHc95FtcdExe1MZzPr53qlPCuxHf7HDZyt6AEfLK2t5Hwbs+zQG+3jGcLe042coXvJMyTS3tLchqyz6bCmm7BmRQz0ju9jVbtb7YPkGchIASEgBAQAkJACAgBISAEhIAQEAJCQAgIASEgBISAEBACQkAICIF8CYgr+wuxsKt5djmvJc2tumPs+OrVq+O227rgyy+nqW4sILOQ/PHkKZg8+RNtKNq0aY3ZP85U5e3bd+CuvlcWjnncuLEYMngQpk37Gu+86yxg64tdIrNk8SLUrWuPI389hfk5P/2IVq2cY6L//fc/ePiRx5zuoLDCPA967PEnsWzZcqfxrgWOO38fua9/6qknEBwc7NrsdmVxZX+NXrJcEquP/vwCvI6tgKmUiYR5DxLmfWDy97UL8yTIK4t4Ft+VMM/iO6nkeWWlrXO9JtaT63u7OE91SpCnG1Hj+IaojapV0q9aJq8+v4ujIJ+n3SsLeU2sV6I8DaSyJtIrK3glxHM1NXAfsoy3kQW93dU911GWxXkVq57KLMynZiIrPpWuOchMNSAyfCi63vN4fruSOiEgBISAEBACQkAICAEhIASEgBAQAkJACAgBISAEhIAQEAJCQAgIgTwCa9dvQnZODtq3aQlPF6vrkgLpci3mDx46hG7dejrd/v59u8Gx3aOiolT94EED0aFDezz+xFN6v9WrVuCll1/BmjVr9brXXn0FQ4c+qMrr12/A/QMH622Xkxk1cgSGDx+GKVOm4qOPJ1/OUL3vj7N+0K3zr6cwz7Hj+bCDY/qvwnxqairYy8CcufMcp803zwL94t9/RdWqVfNtd5fK7OwcrN2wCZ7k7r99W+eDDsXtHtzaYt6WmYij3z0CY0oUPAJIlKf48p6BvjD7eAGeFFuelXQW1rUHZXUxnuoMeVbzHFdeCfLKwt7en+PSq86aRTxV2wfzJPaXURfqL/KqKhFetdMg0s/VE4v1nGdxnUV3LrBLei4r9/QsuHM7uainrL1Nc3Fv767Eehqr5mdxntzZ52ZkIzOBrOZTyFV/mhX7A29F18ev7LQQrSJJCAgBISAEhIAQEAJCQAgIASEgBISAEBACQkAICAEhIASEgBAQAjcEgX+3bEdaWjpaNm8MfxIsS2K6XGGeGbRt1xGxsbE6julff+Vk0c1x49kavnmL1nqfKZM/wnAXN/PLly1FzZo1VJ+DBw+iW/fb9f6cGaHPo0YAAEAASURBVDDgPjRu1NCpLr9CA3LHXr9+PcyaNRtsue+YOL690Uj63iXSLbfcjLJly6peJU2Y12791KlTWL78L6zfsBGbN2/BuXPntCan6003dcT3333jVOduhdS0NGzasgN+fr5o1bxJsd6+Wwvz2ecOkTD/NDwRD89SJMpTjHnPAG+YOL48W8sra3cSxFmEZzGdn7Qr6+66MJ8n0rPLe65jy3nO51nca0K8Gq90dH5ySTy3Zh3vmHfspq3PdSzIk+iurN5ZYCdhHRYW3+nKMeOVMM998gR5qlZj8ta3x6WnOl6T485bcpGblYPspAxkpeQA6bmINNZHs0c+QQC59pckBISAEBACQkAICAEhIASEgBAQAkJACAgBISAEhIAQEAJCQAgIASGQP4Edu/ciPj4RDevXRZmQ0vl3cvPaKxHmx7/1Nr755jv9zrt27eLkKl1zs97rzj7YvXuP6sfx4v/66299DMegX7nifDkxMQlNm7XQ2zkzaeIE3HNPX6e6ixXysyxf8c/yy7b+LqnCfFJSEjzIgtzX11dhPHnyFBb9/jsmTnz/AqyRh/a7dcz5s+cSsGvPPnLLH4TGDepdcH/FqcKthfnUI2twfM7L8PFMI2GeLeb54UXCvAcJ7GQxz8I8JyXQ05VFbV2YJ/GdD81wG7uy5wdZzMOTBXmqY+GeLlYSvpXeTnmD2QQT92FrehbWnRJ1UElbxKGdm3gysmy3kkU8P3gvNIvao2YVzy7sbVnUpoR56pDXT3Nxr/ZvX8R+L3l7YDHfSq7sc7MtZC1P7uyTc2DIyEVUdigqDZiK6tWraaPkKgSEgBAQAkJACAgBISAEhIAQEAJCQAgIASEgBISAEBACQkAICAEh4ELgUGQUTkbHILxGNVSuVMGltWQUr0SYX716DYY88FC+ABo1aoRfF85XbRxPnuPK55cefeRhvPzyi05N/frdh81btuh1derUwU+zZyIwMFCvY3G53733oWLFiqhXty7q1KkNtvDmPuyyvWGjpnpfzrCwP+G9d52s5rds3YrRo58DW9rXq1cXdWmdTp1u0oVoV2H+lps7Y/r0aU7zXqpQmDmOHj2Km2/p6jRVUbuy/3r6N1i/bj127NylLOT5gMTX0750WnPkyNH49bdFTnX79u6Ct7e3U507FU6cjEbkkaOoVCEMEeHVi/XW3VqYP7dtAWJ+nwhfPwu82I09CfMevh4wU+wPA7uqUBbqJIjz1VHVprKqYlGeHsoy3pOuNCQ704LkxCycPZeBhMRsJCVlITOLzNdpgB+J/2XL+yK8fjACQ/1IzKcBmpV8QS8zjbPl5iIhOhVH9iXi7Ol0pKdZ1PkAHx8zSgd6IijIk05xeKNUgBft3WS3ls9mq3kS5/Ms4pU4r2n9vHmu5zI/WJi3Uox5FubTspUwDxLmT6QFwq/XJDRp1qyg3Um9EBACQkAICAEhIASEgBAQAkJACAgBISAEhIAQEAJCQAgIASEgBG54AqdiYnHw0BGEli+HurXDSySPKxHmMzMzUbde/i7mnx09CsOG2WPLb9u2HX3v7pcvt1mzZqBd27ZObT//vADPvzDGqY6F/oceHIKa4TVx5vQZvP/BR9i/f79Tn383rtPd0PN4nscx9b6zF+6kR9lyZbF3z16Mp3jraeTqXEu8xi8L5uniPbvcX7Tod61ZXfmeypYpg+YU/53d5l8qFWaOayHMT536GT748COn7T489CH06NmdvECEgF+jUXRIwTG5ejNwbHOX/L4DkYil90utiBqoGBZarLft1sL82Y0zEf3Hx/AjT+1KmPczw8PHEya2bCeLebv6zqI8JSVq8xOVuYofbLLOwjxZwVuyLDh8OAm79yfg8LEUnI3PRAYJ8jnKvTxZstN/HJfCw8OAunWDcWf/GqjeoIx9DZ5LzZ83r2OerN4PbovDop+PIPJQErJZcM8T8420tidZ6PuSQF8+xBsR1QNQv04QqlWj00BkwW/LoYnYKp6M6PnKw1iTt2+er5y4nuLLk/ifS1bzOek5yEzNgY1c2Z9O94ehy5to1e4me1d5FgJCQAgIASEgBISAEBACQkAICAEhIASEgBAQAkJACAgBISAEhIAQuIBAckoKtmzb5RZxqi/YfCErrkSY56kfe/xJJ/f12nJsLc9CNyfWqRo3ae4kgmv9DuzfQ3qYp1ZUVysZnT7w4FCsWbPWqf5ihZdfGoNHH31E78Jx0zlWfUHx0/WODplfFvyMJk0a6zVffPEVJkycpJcdM6NGjsDw4cMcq/LNF2aOayHM5xciIN8NO1ROmPAu7u13j0ON+2X/3bKd3nfpaN60IQJKlSrWN+DWwnzMis8R+9eX8A8ywZus5b1JmDf7eJAoT+7ojeTKXvmqJ/4slKsHP+UlVrhZmKd05nQalq2Owcbd55BN6rePlwk+3iYS4Y3wpAcb1nNikT4zMxcxsemoUy8Yz7zcFMEV/WGj+vySgUT82MhETH5nO44dTUL5cr5qXjO5yucRVhLbc0ioZ7E+gw4GZNLVjyzmb25RHp3bhqJUoJd93yzOa0vk7UUp9Jynh42s5VmcZ4v5nAwLMlItyE234Gy6L3JvegXtbu6e3/akTggIASEgBK4zgfj4eOwkt0KtW7eCj4/Pdd4N/XtC/waya6dS/v6oXbv2dd+PbEAICAEhcKUEitvn6+XcR1ZWFjZs2EiHgeuiHJ3ul2Qn4M6vqbyGQuBqE0hPT8c65a5yJ+LOxKF8aHn06N6N3HzWudpLy/xuSkD+rXHTF66Ebpv/DuXfffhv46ioKAQEBKBN2zZgN8KShIAQEALXg8DKNRtIu7GifZuWJCR7XI8tXNU1r1SYnzvvZ4wZ85LT3vz8/LBj+xbdJTw3sjX2woW/OvW7/faemPrJZKc6rcB/6z3zzEisW79eqyrw2v/efnjzzTcuEPg5rv2jjz2B2NjYAsdqDePGjcWQwYO0orqm0IEMdjGfn7ifnyt4p8F5hcLMcS2Eed7OX3/9jRHkrt7RS0B+e+a6cW+8jkGDBureAwrqV5zrs7NzsHbDJnUPnTq0Kc5bVXtzW2Gercejl3+MMyu/hV+QWVnMe/tRjHlvs7KYZ1HeoCnvbHHO2jYP0gRuquK48gnksn7W4qPYEZWIMsFedJLCE75kxe5hpvEkeisdnJ/UeHJ1Txbwp6LTYCOL/DHvtUGliEBlnW7vqJjan6i/gQ4KHNx2Fh+8uhG+3kaElfOhedmNvpqVpmRrdxbpbcgm6/h0Ev0Tk8l9PsWI79i4DO7uUoXc9HuQ8M7r88bzNsSXvIMF9tshV/ZsNZ9jQRYJ8pnkKp+F+XPp3shp/yI6dO3lsDH3zrKbDY6RwYm9IoynD2HHeCMF3R1/KL722lg6XGFRXR55eCiaNm1SUHepFwJCwM0JLF/+F37J+wVw5IjhiIgofq6njh07hs43d1GkQ8iN0Lq1qy74pfJavwwvv/IaZs/+SS371vg3MXDggGu9BVmvGBHgQxrffPOd2hG7EGvRosUV7Y5//1r65zIsWPALDhw4QH/kxKN69WoqrtfQhx4skp9P/iJvztx52LFjp/oyj11wNW3SBG3atEY/OvGrPCldYvcbN/6LH2bOsv++SH27drkVffr0LnAU/3Hz99//UCy0reBYa8nJyWjVsgWaNW9GXyLejBo1qhc4Vms4eOiQGsv73rRps6pu374dWrZojg4d2qv4aVrfgq78R+cqWn/Tpk10wnyd6tahQzv1enWimGuhocXbfVd+9/VfP8Ov9ucrx2Lj3ylr16pVqFPz+d1jQXVsXXDLrV1x/PgJ1eWPJYtEWCMSV/s1Lej1kHoh4A4ETpw4iYcfeRSHDkU6bZe/sBxMX7BJEgKuBOTfGlciUr6eBDIyMsiF8YtYvHiJ0zZ69uyBT6fmH6PYqaMUhIAQEAJXgcCO3XsRH5+IenUiyNiy5B2Wdvz+j/Hx96Z/Lv3jkiT5+4e27To69eN47pMmTnCqW/jrbxg16lmnuo8+fP+i37Hw7yc//TQXM2f9eIHbep6ItZznn3sWbengVkEpISER3373HX788acLBHY+QMDfs7xE1vZVq1TJdwr+O5yt5pcscWZRWD486aXmOHb8ODp3vtVp/QXz512gVa1YsRIPDT3vFYAHbN2yCaVLB6mxfECCD0po6Sb6/uf77+y6mVaXkJCACRMmYTmJ9K4HDvi7osaNG2H06JHk+j1CG+K219N0OHnv/kMUMjwIjRtcOuzA9b5RtxfmT2vCPIng3r4UZ57cwpvNZiXKkwROgjYJ35rFuXbNE7kNXkZs3hGHr36NRJnSXiTMe8JMYr2BRXUykzeSS3wzC/RUR9o5LOQqPovc2yel5qLZLZXRZ1AtmC0Uf57ndUn8JTSPyzSYMG/6PuzbEIPSAbQ/ssY30ZyceF+WbHJBT2K/OjRAddlkfR8dl0mu9a0Y3r82apJ7ezLj596sxittXl1pCnYIwKI+P9uF+VxkZuQgK0+Yj0v3QW6HkiXMcyyTbt176l9WDhkyWJ3oIQgXTW9RDJHp33yr+vCX9Uv/twTe3t4XHSONxYvAwYMHlSsSDw8PEnPqF6/NlcDdREdH4zTFZOHEMXRc3QwV91t2dB3046wfLvpL2/W6FxYR+YSqlvL7JUxru1bXBg2b6Ccp8/uF7lrtQ9YpHgQc/5C61B9QBe2YxeqHH36MxOstBXUBH54ZMeKZAtsv1fDx5CmYPPmTArvxH2/vT5pYoFDOf/x9+unn+Ohj55PbDw99CK++ev5n1HEBPs3Nrtb4RHZBafr0aSTQdy6oGXPmzMWLL71SYDv/0fjDjO8u+OPMccCu3bsxYMAg/efWsY3zPMfsH39Aw4YNXZuKdfm/foZf7c/X6jXsf7S2pIMYc+fMLlKWR45E4dYut+lzvjjmBTz++KN6+UbNXO3X9EblKvd9ZQT43w226uQUHFwaVatWvbKJimjULbfepg6luU7Hhz7DwsJcq6UsBCD/1siboDgRGPfmeHz33YwLtjRl8kfo1euOC+qlQggIASFwLQicPBWDQ4ejUK5sGdSvW+taLClrOBCIi4vDGRJaM7My6TUohwoVwgplcKFNwb+vnz59Wn23zd61K1SogDIUK76wyUIH8aOjY5CRkU5GoUEoX76c3VC2sBNQv6KY4zKWu2RX/n6OD7yztlilcuVCGbtectJi1GHPvoM4E3cWETWro1LF4v83kNsK8/yaR//zGaKX2V3Ze5Erex8W5r3YYp7dz5tI7CZRnXVrFs5JP1fiN5eVME/vQRLJj5zOwHeLImG15KBsiA8C6RFaORDl6BFU3g8+5E7eRC7pbSTUsyv77EwLvMiKvWpVP3hkZ8FKruPthvkkmjsmXoP+N/p6IMvkgePH0sii3Urill3sRy5ZuJPr+rTETCSSK/0zx5MQeyKZLPjTcTouA4FBvnikdzjK0YEDG41TKU+Y16zl2ce+zcg3RBbz5FrFQocEeH+ZZC2fSzHmWZhH51dLnCt7dmkycOAQnbZjDBO90iGzZ89e3NHrvMXbzJnfo327dg49JOsOBG7r1kNZgbDIsHvXdnfYslvv0fEwy9L/LUYtsgp0p/RfRZ1rca98arHrbT3UiUUWDufN/emyfsm8Gnt05PbF55+iW7fz4tDVWE/mLN4E/qswzy5SBw95ULcE57tt0by5cq+7a9cu/ZAd17vGB+O6wqTPPv8CkyZ94NSVxVK2HnR0X8b/dqz4Z/kFf4jFxp4mF2vPKteZTpNQoSBhPiYmBgMHPeAkgvCavMauXbudTiF/8P5E9O17l+vUGPvGm5gx4we9nse2btWSQiZlXeC6bd7c2fl6K2AL+3v7O3u14NPfVvod09X925yffkQrmt9dkuNn0ZUcrrran69XU5jn14hPxfPpePamwoe2+FDpjZ6u9mt6o/OV+788Avx+bNa8lRp0MZeclzfrlfU+efIUOt7UWQ3mf0smf/wh2PNKYmKiW3pMuTIKMupKCMi/NVdCTcZcDQJsean93s6udHv16kVf21rhT+HV3M1A4GrwkTmFgBC4PgQyyDhww79byS22AR3btXZrF9/Xh6CsKgSuHQHWRlev26hCh7dp1YzCiRd/g1y3FubPbJyJY4s+hJ8/7DHmfU1KmDeTpbtyZU/W8gZ6kG5tt5rPZbGcHqxz85U+WA0BXjiVacPphCyUDfNDmfI+9Msfi/vUh0RvZS1PceYN/CBR3cDx4Unot6Vn2wVzTY9n0dw15YnzapyPh93anQ8IkNW9jazkQYK7clNPdbmk76ekWBAXk4YEEubDQrxR3kTrpGbbDxbkifIq4D1b9XOZLeZpj2QvrwvzWeQOn4V5Kz3iMkvB47Y30ap9J9eduX35uefHYP78Beo+2Hp64S/z8xW0+HRU37vvJYuGnarvXXf1wYcfTHL7+78Rb0CE+Wv7qoswf21482cUfwlRsWLFa7NgIVZht0/872ipUqUK0Vu6lGQC/1WYn/HDTIwdO04hYoHxyy8/Q/NmzVSZ3/vffPsd3nnnPR3h6lUrUKlS4X8WFi36HcNHjNLHjxo5Ao88MhS+vr6q7vDhI3jyqad1176DBt6P8ePt++EOB8kTC/+OoMXbYkGjL/2ewO7sORUkzD/2+JNYtmy56sOHV8a9MVadnuYK9uzz7nsTddGd73vjhrVOv6Owy/z7Bpx3Lfz6a6/igQcG63/osztPjgOmrZGf9wrm16FjZ/1LTP79ZuKEd5XXKN4HH4pgt2a//raIi+pAxLx59jAVqqKYP/1XYZ5v72p+vl5tYZ73zwdAypYtq7+mXHejp6v5mt7obOX+L49AcRLm2c3m08OGqxvgEEQcikiSECgsAfm3prCkpN/VIsBe+tq0ba+m54OIK1f8fbWWknmFgBAQApdNYPvOPUhITEKdWjURFlr+ssfLACEgBK4NgRgyutl/8DBKBwWiSSP38LTs1sL82W2/IOqXd+Hrk0Mx5j3gTW7svb3ZVbyJ9Gu2lqeHlQRsFtLZap4s3pX1PF3Yep7d1YMEd2OgNwwknBtIjLfR6QpW7pUgz/HgWYwni3mwS3vqC3ZrT0kJ4/ascv+gKtUTTa4FnGdhnhNNyfI5/6/2oonyLMyT1Tzvy8aHBtg3PavtlLel5cCanGlvo73r6/GeWZjnfVBXG7kE4IfVmksW81ZyZW+3mLdl5CI6MwhBd72PJk3tX4LzVkpK4pgYnSgWh/Zl+rhxYzFk8KALbs/RTSx/4b5yxV/K+uiCjlJR7AmIMH9tXyIR5q8tb1lNCBRHAv9FmGeBmoVjLYbVT7NnoXVru3Wh4706uq68XEGhd5+79YN3TzzxGMa88Lzj1CrPrs/63dtft87/3x+/o3bt2qpt6dI/8cSTT6s8W/JPmfIRjkRFYRBZw3PKT5hnS/ybOt2s2tlKfuYP319gycOiOP+bpcUId3VpP/6tt/HNN9+pOUaPGolnnrHvQVXkPbHLsyZNW+i/5+zdsxM+PuQJKS+tX78B9w8crEoFedzgE8O9+/TV3e3v2L4FAQEUIskNUlEI81fzNq+FMH819y9zCwEh8N8IFCdh3vGQGsf25BifkoSAEBAC7kKAD4e0a3+T2u7dd/el8FPOMYrd5T5kn0JACJRMAjGxZ0jsi0RgQCk0a+Je4eFK5isidyUE8iewdfsuJCWn0CGacDpEUy7/TsWs1q2F+ZTIVTgw8yV4m9Pswjy5svfy5hjz7MqeHvQfC/NKH9dEeRa9WQTnRMK2gfoqoZtFd02I96RxFH8efHUV5tnK3tE6XhPn7TO6PNM6bLHPSS1Ja9OXpLYcKrAYr4R5MpenGPI2snS3UQx7Xahn9/W8Vxbx6X+l9dO6bLGvDgewMM9++lmU5/9oXgs9srMsyCHLe2taLo7nhqHWo9OKlSWmYlFET3Pn/ayswbTpNqxfq1uscZ2reD+BLMnu7XeP1l2/svXNypWrsHLVavoS/biyduM4G40bN0bv3r2Ua1q9s0OG3QZO+3q6quEYsp062f+YcOiisuxOdunSZSr/wJDBTjFuZ876UVny+fr6KEGB43yw69K//1kBjl87duxrysrNdU7X8tq16/BnnvXeExSHtHTp0mStNxMbN25E1NFjCA+vifsH3IfOnTvpQ3nM8r/+wo4dO8mqzIo2bVrhpo4dletDvVMBGXb9u+CXX3DwwEFE0x9SwcHBFN6hCm7v2QONGjUqYNT56qNHj2Ljv5uwh2LzHoqMVLEP65BQwqJN48bnx3Pskw8+/FgNdHT5O4Q4cuKfxTEvPOckVqiGfJ4cX69ed/RU8XbXrluvXvutW7ciIiLiAm8K/N5YvvwvrFmzFsdPnFCz1iaX7g0aNlD3ajKZ8lnJucqVVRmynqxWrRq6d7+tUKw41vv8+b8oTmxZXalSJdSivXbt2gU1a9ZwXiyv5Ph+eOrJJ8h1cwjYmmbV6tUUS+a4eq1atmyJNq1bX+Aed8qUqThH7z1H3iz6aPGJB95/32W7tS/s663djONrdaU/W66iDr+3+Gdk+/bt2LVzN3la8VM/i31634k6depoSztdHTlerZ8rPgCRQwJcjerVyGJ2iNP6WmELvT937tgFjiXNX1zw687CIrO5mKV9Tk4OVtN7dy+F89i9Zw/FRcoAv385LEHPnt11q2JtHb463vPQhx4oMGaq6/u6sJ8B2v3Wr19PfR6zcDl37jzsP3BAWfiyONqsWVP6PGoNDw/yNHOF6Uru3XEp1/u73J9b1/GXy4c9wfS7527wa7969RqsXbPu/+xdCYBOVRt+ZzWWFpStkMKvolULJVIpW1FJUbZka0N7aZd2ZSnZS9aUdrK2yJZ9VwhRyM4YjJk5//ucmXOd786933zLkOE9fHPvPfesz1nvec77Hkrl8hw5Yli2MQl9+Pffj6f1PH7s27dP1w+U8W23NgzpvKiFCxdp/+uYkN7Lk9jzz6+kx4rata+naIh51KV772upYfWS+DZ4b9++na64spp+xAY6kMeh9K27edf6pZdVNcHweLLYs07DwciRo+m5bs9rtzbZboj5hx7qpM+5R7wzZnK6gxDzb731DvX7qL8OC9p67DFLW2b9Qf4/6j9AP9104w1kxi1Y9OrVh+bNn6/fvdb91Wz9sH7BfyABib4bxq3OfvToMfTMs930u8e6diHkwcv0fO996tPnA/1q8KABhHLNDbNo0WL68quvdVDXVK9GderclC3Y37ldjxw1RtuXLn02tb2/TTY3ILfeZzxgzj6rFD3wQFt97+7DoYbfaxxD3162TBntx/3H9DfB+lf4WcZzke/Hj+ejCdbruRfGWcybGje6zfdsZjcxn9t9mZkfQm1it+ee9WwT4Y6tbnyCPa9atUrPXdGvbOLNKIX5DO1y5c6hBg3qU5XKlT292uNHuHMPzwA9LP3K1J433MJaLKpVu5q+YY0a06ZOoyV8vMRZXLcwb2re7B4HS5yv/OVXX/G8YLE+e/ByHn9wnATOsvXqg0yZmDk7+tsJP0zUm4P++GM1FStWjC644Hzdd0PTgZdxhxHKvD8lJYW+Yc0XSCc2BiXmS6TSXEdr1LhWt2d3WtFOMMeGqVf3Fs8NUSZtmGP2HzBIPxYrdiY92KmjeaWvkc6DTT4TeRx/7rlntGaPT/jojnlz51Py/v1UufIF1KF9e2cei3i+/PJrTvcc/V1SvHhxLosr9XE6FSqUD0iT+yHSNJq6FO58BHOxzz8fRxi7TP+MNJk+vhSf596ev8XCNeGWs0kH4rHn7Hg2aTmFVUA//nhXWAU14dQZfIv0+yhzbPOrM5F8V9v9R7D5J8bz31nbDfrGZ595OmCuaOqdaaOhtC8vYOy0oE3gOyrcbwi7Tzpa3519+35I27gewnTs0J6PLfCX4rPXI67mcbMu9w0wBrNgYw3cucdJ1PPy3DahZQjntfoZ086CjcN2P4T1FHzfuE2083p3ePZztGOpG5tQ5hB2/G7/oWB7LOqXncZQ78PJi73OgzU4rIEZY/owPD/Cm1ehfUqMICAICAL/JQIzZs3V6zEXV7mAihQ+/b9MisQtCAgCHgjsZM2vi5euIHx/XlMt7xzhmKeJ+YPbfqel/TtSvoydmpjPz+ex52OJeajgjYtlWh6kuPkFI+ZByIOgBxHPBH1MQlzmfSLba2Ke38HekOLMknPILsMkOWzxArdZxrplG34C2Q7S3SHms6TmWXLeIeZxz0SpdhNAzHPwWRsJsKlAxwVV9iqdNyCkMxmfQCmbS9DKAmVoS+ECdJAK0I03d6AyZxXM9GcSdYJcsRmhadNmzuI2SIj3+Uw9Y6DCFeQ9DMieMWNGOmpijRuobG569z2Omltjb64gCT7+eLAnOQ7C5M47m2qnUJ/7yCMPGW8B14EDB1GP1zN3/X48dHAAgd+yVRv6hTcEIJ5RIz+lW28LlHBwS9kFBGw92AvYA/r3o959+joScpYz6tP7fSaEb6Y3WM3u4CFD7VfO/SuvvET33XtExa7zIutmxIhR1O35F9zWznM9Jud793rPc1ETjmwtBo4n6waLuV26PKpVt/79999a4tJ6ne12wfy5vBEh54mRXV7QsABVwvaCGoiwb7/5ygkfC253cf0CWeVlQOZ27/6yo5bZy01OWIGsAlannXaal3ctUQnJSj+DxaIHH+yYbWOCXR8+/3wMvfba6wTyzcvg7FoQ78bY57sZO/s6cMBHdCOTTKGacMrbhGmXVaRty8YA7ehz7guwgO5lIKULVdTuxW07jKPVrtzkjp2+1NRUVrv9ml40s+3te9QfkAhuA5WADzGpZ8g/9/ty5crp/gAL0rax8+x3rnNO9TpYH2Dyi/NYb2Yiz1ZDbqcjWBi2O6/7SPNuwsopfzm125z8B8ubwQduQDgaNfAmbYsWznP6C5ARUHcOUt7LYFx5hfs6qDgP2FCY5RgbNXAsjN0P2uGgXVxy8SX0xJNPaev3er5DjZioDNXYhPB7771L2ATjZ9o+0J6mMoEG8923X5O7Xnr5A3FYt15D/QpjfDA17atXr9ES7HCMzWNff/WF9recN63gDF6cxWtMMGIe2paqXHSplmJHG5o2dZLxdlSutkaACeO/DdhEtGbNWk3UIWLUFRDfXsYuh6FDBulNF17uwrUDdg0aZtYHP/zfe78XayHo6wS9auUyypcvn/OMG1vS09aYYPdF/T/6UG9y8BvHMM6ZIxLswE17gmaDz8aMsl/pe7ShJ558mgnBI2O/2xEIticefyzb+GCHjTlTbvdlZn6I9Py+ank2rQyRjK3uvHk9Q8PEK6929+1X4MevD7PLLNy5h1davOxs3O0ytecNTz/1pCbuvMrVHGcxbtyX9NjjT3pFoTc1vcvHXrnnBKZM0LdOGP8d4dlvjui3GdgOI5R5PzZeNb+3haM5w51g9EOf8ffNGWec4bz67rvv6eFHOutnbMhFu/cz2GSEzUYwIEJwrq8x0cyDTT4RFsoJ51jvZ0LebX75+UfWdpePOnd+jEAcehn3PNV2E00aTV0Kdz5ib1iz02Lu8X2A/jocE0k555QOxI+6umyp9/zfTp/dD+dUZ/r3H0hvvPmW9u6uM9F8V9v9h9/8E5GaM9Fxj7whj8aYege7UNqX8ee+2mlB/cO3fLjfEHafdLS+O59//kXnG+GZp5+idu0yN7a584Pn+1q00hvNcf/hB30cYt5gBnuvsSaUcfL5bs9RmzatEEQ2Y9qZ3zgMD9h01Pj2TOEJrAM88cRjAeFEO68PCMz1EM1YGgo2fnMIJCMU/37YHov65YIq6GMkeQllnQeRTp70g94sGTQB8lIQEAQEgaOMwPoNG2kd/4ryZuWLKp9/lGOT4AUBQSBcBJYsW8lChruoXNnSdA7/8orJ08S8OrCLFn7QkmL2rqekUxIpiSXmoc4+nkn0hDgm0pm91qrswY4zz5354wejYh5q4UFwM9kNtfYx+ZiQ1wR8FknvSMzzM6u516rsWUKXA2ZjrrjPNNoat+xGR4E/+gc7/iEd/KywSSCAmE9nqXkQ85nkvL6HVD9IeVxhcNHp5YCQZvy0xDyr3Y/JoG0HKtCG+TVoxsYzaFnx0yg9P29OKHUK1WDCstlZMXTqTaUoLgmeTizzx+rVLE1Rz8kUFn/w4YcFjkaN73DsJ04cr6WMHQu+ASnRokXrAOIKH/JJSUmO6l24h93XX41zpDpMGPYHUaTkof0xjJ3ARuWvibffh321RIyJ0+9qLyDgXC5IbsGAgFiyZInjrVy5ctSqVQuH7EGckOoBwWEbvw0BOO8WZ+vaxo7P2GORGgS/22AzAHbOGwNsUV5LWZrJzjukO0A6w65V6/u1c+zANgYkujFQj4xwcjJ2ebmxxnO5c85xiB3UDSyE2iQA3ECCF5Iitpk6ZVKAFgTzzgsrSP1AxbEpH7jFAh4WVd3nef/AKpY7ZqlYNmHCrbusmt7VhDdaHMEUbu36UKJECSfNuIcqZHshGdiNGzfWaR8o380slW3jjTAN5i++0I2qVj0ipYp3fibc8jbh2GUVaduyMXDXUbQDGwPEC/KyJy/E28YvjNxsV8EWrGyyEulC+VWsWEFv5rHT6ZakxeI3jvqw2xTqTiEua5uoR9nP+PVnh+hFmHaevRZGveq1G1+E49cHmPy62yDSt5G1UtgL93ff3ZRe79EdwYVsosk7IvHKXzjt1st/JPigbGwszPPSJQupEEvAwaAvdW+wQlpBQtvGi1DHxjaMP9AGYht327DT7hWO7dd937x5C4doCUaswN/rb7xJA7KkNnu89irdwxpecjLhEPOQmqt1/Y1OkOv+XO3cu2+CEfO26mKcLf9Rvw8oJeUATZs2jXCePUiikqVKapIYEt5eGyLc8fk928Q3yn/ub7OybcLy82vssZGgUeM7nXnAzBm/+EqAGz+hXhE2NB2YfsbeNGLCaHhro4CxZNTI4VobhnmPKzZ+QPoUxp572H2Rfpn1x28c+4LJeXNEgXFv+hs/QqBHjzcczUfGD/r3tWvXBrQ/aFsC0WobE7Zth3uvvszLv9uf+9meH7rJkkjHVncc7mcsrGNebBOkqHtVWEvQeta+ZM9/vPpnu8zCnXu40+L3bHB3l6k9b7D7LcxdllnzR4SLDYYPtOvgROEe0/ECZAoIftvYZWLPx4CR+9sB/t566w0tPe8XhnscRDj2vB/9Vv0GtwXURfjBMSH2+ID0g4QsUKCAjgpzWLRN42bO7JkszX+mnQznvvYNdZz50Ddfj3O0I0U7D7axMnUBaS/Ci5n2GIXNONB+YjaYYQxC3HZdQ2LdWtFgF20aTV1yl4NXG7brO7TYvPX2OzxX3uL0f0iPmSeXL1+eMF6GaiItZ5MOxOOu4yYt0NbzycdDckxKbtWZaL6r7f7Da/5pMhEKMQ+37nJ1ty8TntfVTou7f3DPk+Df6xvC7pPcacFzbnx32oQ25n+TJmZq2HHnCVqcqlW/VlsDh/nz5jib5Oy26h5r4MFrnLT7WBMXNv9Do4rbmHbm7rNtd3Y+3MQ8+rFIv2nsOLzuox1LvbAJdQ6B9Hj5DxXbY1G/vDDzs4skL/Y6DzQWmTELcZg+DPfYnBlMKwPciBEEBAFB4GgjgO+kmXPm8RHC6VTlwvPpjKKFj3aUEr4gIAiEiMD2Hbto6fKVWlC7+lVVs22wDzGY/8SZIebpnHLlVSg/Xog7fkxGhvp9RFc166kL1dLXL1Vrel+pNg2srrZ8fK3a8el1avfwWmrP8OvV3k9rqz2f8O9j/g3h3+DrM39DYX+D2jv8RrV31E1q3xc3q33f1FPJExqo/VMaqv0/36ZSZt2uDsxrog4svEsdXNpUHVzGv+V3Z/5W8P0Kvtc/2OPH7vBb1oTd83XJXerAIvw4jMV3qRTcL+Afh4mwEcf+qbeq5PENOO66nIZbOC11OM036rTtQRqRXqQbP+RhGP8+5Xwhf59eq34c+ZTq+MYSVbPZZFXt4bmqfotJqmel91XPij3V3Q1GqgHtf1TbB69U6fsPHT9ll4spebfne07dZektxeeyKpZkd+zeebdnttjgptODDztuWFJdMUGhWEKVTxvIUCtXrlSsItZ5f3W1axXv1g4Ihwku5z2rpQ14Zz8MGDDQcccquuxXqkXL1s47tL9HH+2iWD2f4kE/wF1OD/369Q8I54UXX9Y4wN+2bdsUSzYEvEdcLCXpBMtErHr8iScdN/DvNgsWLHTewz8vWije6aydsSoyxYtq6vKqVzluPuz3kTsIdX3tm5z3kyZNdtKI8mDNAc47hM8fawH+b6pzi35/YeWLA+xDfbDLC+EjnPETflAsLRkQBLBn9cFOWnhjgK4PqBcwTL4oXtB13qOuIf22CYYV3CEtqFNIB36sZtj2rhYvXuy8w3uW+lJ79uzRbvbvT9FYG7+4ou7axl0fUL95M4DjhFWuBpQF2pDbsKS2kwZWR+x+HdJzpOVtl1WkbcuNAXBCeScnJ+u084KqQh21cfzxx58C8uUO42i0KxN/k7vuDoj733//ddKGuoI+yRheQFV22ljKxLzSV5bqcfze37adQljG8BEZAX2fu3+0w505c5bxpq/B6nWofYDJr7mOGjVaMcmgw0c76tP3AyftcIP6Ho6JJu/B8oc05NRug/mPFB/UUVbxmQ0CVgns4IT6MXv2HD1+wSHKmyWVnffo6+w6ADdjPhvrvAfOI0eOcvpclnhTrG0m4D3coB8Kx9jtnxeFg3q18+PuD/08oi6beoQrqwH2c6rGjv0iwK2pc14efp0xw3GLftA2vBnAeffmm29nG/fs9KDfdY9jdlh+98AKWNtheY2nfv5te1Y174SD9JhxzHYTzT36RJPOiRMnBQTFmxScd8aNe6zBeIv6ad7bZWj3RXif0zjGUr8B8ePBhOvuX/Hu448/cd4jDSwx6oyz6IvcZcBaduDNMSZsc82pL2O1547fUG7s+SFv6AvwYretcOdSAQG5HjCvM/nBfG7qtB8DXNhtA+7s8oLDcMvMXR8CIvN5MOlzl6k9b4AbjIvoy2CQTnd5wk2P199w5m8onyFDPnbyD4zdxi4T+Me8dO7cuU4YGKcxjzdpRL1y933uMPzm/eg7rqt5vRMWS/crJl91G2aVzgrjs/2t06ZNWycdSLfdNtG/epklS5c64SMvxuTGPNidT/RFxjAxr5BegxOuqG+YmxqzYsVKhW864wbfGLbJjTSasM01pzbsno/YYxC+GyIx0ZaziZOPOnCw+uKLccY6rGsodYY3Ujvx2HUGfWa039V2/+Gef9oZwXeZKTMzpzfv3fXOr30Z935XOy0mrnC/Idx9EvqDo/HdaY8HaDdeZvDgoQ5m7nmNjZl7rAk2TmJuaocLnDAXdRuDn7vPtt3xRngnfe6xPJp5vR2H172NXbhjaTBsQplDBPMfCrbHqn554ea2izYvCA95NnUFa1JiBAFBQBA4HhHY8NcmNe3nGWru/MXHY/IkTYLASYsA2iTaJtpoXjPLef7OxweqvEnMM9qbpw9S0x+rrBZ1v0T9/t4VasNHV6vNQ69V2zUxX5OJ+VpMcoOcv4EJbf6B2P4Y18xnEOB7R96k9o6po/Z9ycT4t/VV8g9MzE9jwvyXxpnE/Nw7M4n5JUy8L2Uifpn1MyT9ynvUXnY3d1AN9d2rl6oZva5Wq0bUUlu/v0Ul/8IE/293ZBL885mQZ3f759yhUmYyMc9xaGKeNwPs+7ae2jeOifnPblZ7R3CaQM7rNHNaeQOB3lyADQbYaKCJ+Rrqz2E3qSf6zVbN601UD9T9Wt3+2BhVu+OPqlHTKarzDaPVrc0mqnrtv1dDn5mn1vwWSHTmtcrql14suNmLV25C3b1wiHDcJPDGjdkbLz6q7EUv94es/UEUKXlofwxj8QBxRmLsBYS772mebfEdi/GG2MZHD6u2zRYNyD7zQXRL3QbZ3mOR07x3Y2Ecu3HFwrwx6GiMfyzIeZkRI0bpDQJYQHUvtpj0Y2EjEmOXF9JhE512eHYegIM7HXALks2uc25CNxSsQPAbPNx42/6BhZcZPnyk4x+Ll7ax6wPwcm8+gFt7QRb10G1QxiZ9kRDz0ZS3XVaRti0bA+QDxJyXsfuLe+9rGeDEDuNotSuDsXvBCgur5t2AgYMC0oUHtGlWYalQTlOmTA14b2+yYSmUgHd4QH3A5hJWMa1Yo0bAezvP7oVRu15G0gcgIpMnXP3IAnvjC8jucEw0eQ8lf6G229zAB23cy2CTjo2jX/u0Nxhhc5Zt7MVIvzbW94MPA+Lx64vscO179D0mnTmNbajDxi1rArCDCXpvxgX4xWYELwNyzt40BrcgVPyMTT66y9EeH9BmTZr9rujbDTnoFx/sMR5hg4WNmQkT43VO+HmFvWHDXwHhYeE7t42Nx3Pdng8IHkSayYMpJ/dYBaLRuEG7t43dF8FNTuNYs2b32d71vQnb3b+625B7U4EJyN7QwUfCGOuAsBFHKH0ZCNxwjD0/tMmSaMbWnOJHPXz77Xf1xj2Mw17G3ujp7p/tMot07uEVp23nV6b2vAFuvDZCsIp+p75hfu+1UcUm/Xbu3GVHnW0zrU0kG4eYS5v6jnS4N9XY5Rps3o9NcyavaDfYOOw2IP3tPgPEkjEY223/xt6+ok4bN598Msx5ZbfrSOfBdj6x4c5tsGnYxI2re4Mp3Nub3dzjQm6k0Y4/lDbsru+5QcxHW84G19wg5jFfNJi4+2oTTyh1BmFE8l1t9x/u+aeJH1e7jbq/0ex6F6x92eF53dtpQX4i+YZw90lH67tz0OAhTrm553omb2jHpmwx7trGxswea0IdJzFmmLDR97mNeeceh213wYj5aOb1dhzu+2jG0lCx8ZtDhOo/GLbHqn65cXM/50ZeEKYQ825k5VkQEASOVwTmzFuoCUBWbX+8JlHSJQicVAigLYKUR9vMiybPE/P71s9Rvz51mZr7QhW1/K3L1J8fXqX+HnyN2vpJDbVz+HVqD5Pje0ZAury2JudB0GsyHoQ8yG+Q8kyEQ1JdS8t/z0TcRJaW/5HJ9Om3MzHPpPxclnaHlPuipiz1zuT8Eibm8Vt6TyZRD7J++T1qD7sZ1f0q1bZGcdX0glPV/ZcVVt1uKak+7vA/Nfvdq9TWr25W+6c30mHun3mH2j+Df9OZmOdNAIgzmeNGGvZ9zuQ8bxTQaUMaQdBjY4FOOyT8mZiHJoAR16p5PZurll0Xqg8vHKv61HtHDelSTT3f6h7V6IEPVb17x6vbm41X17abrJq+MFv1/v7EJObR8OwFGvMBiKtbQt000qefec75iAQZ7GcgZWzCw8K+vThufxD5ERsIN1SJ+WCLEH7pM/b2AgLi8zL2h+2sWbO9nGgJI5NfO6+bNm1ycAB54LXZwQRoYzt69BhjHfDBhTjClSQ0C51YhIzE2OUVbHEA5ILBwC0hZ8cLjQPGHZ+36LwKBysQ+iD6bAMtBCZckMHBjE2u2eVl1wf3YqYdHsoScQFT9wI1CCmTDj/izw7LfW9/YCOccMrbLqtI25aNQTAcWW1ewMK2TaLZYRyNdgXMDMbuOmkvsnppZXDjbT/bddgteWK787q382z3SeHUa78+APGZ/OLqJj1Memwp32GfDjfWIV0jzXs4+fNqt+H4DxUft3SeAcCuG8Gky6HlxeCNhWxj1qxZ69ijD7H7DuMGV9jbfUy4xLyJG/1MTsYmkZ588umcnDvv7UVPxAcSDG3aGCyE23kwabLdGLfmGoyYd8eH8DA2gVQCEYg5w+gxnwX0KZD0hoRrMGMvSps04vrUU894akwIFhbeoW3Z+XaT5jn5D/W9vaEPcyTbIO3IA8rflqayxwJ7fgQtDbax+6JQxjHEBSla2xgs3f2r3ccEk3RFuWGsB4noNiZsXEPpy2zi0x2W17MfWRLN2OoVT7h2nw4f4fQf7vlzuGXmNffIKT0Gd3eZ2vMGu7+zw7M3vPnNLWyi1L2Zwi4TbGzzM3Z7dhOcdhj2GGuHhfmYmZ8hv9Ck5Wfsugwi0jZm3oww0O/bBv27vWHJ3khrj6ORzIMRj51Pv01Bdvxe3xUYA015uzfe5EYaTdi4htKG3fORaIn53Cpn4G3PCyKVmEc49rjhVWfsjSB2X27Pa9z9AsI1Jth3td1/+LUNhBMqMR8sDJMev6udlki/Iew+yd1f2fFGW5dtDVvutQrEg284U9fdG8Hx3m6rNjFv9y3BxklsGgpWb0zcwTCw+0z3d4uNj/sd0h+piWYsDRUbvzlEqP6DYXus6ldO+OZGXhCHXR5YsxIjCAgCgsDxisD27Ts1CQgicM/e8DSiHa95knQJAnkVAbRBtEX80DbzosnzxHx6ym417836ataTF6glrM5+dZ8r1V9Z6uwhNb9rOEvNj2QSeyQT8yOY1Na/LCl5qIwfw6Q8E+GOtPwEJsgn38rEPBPoIOZnMzE/j0n5hUzKL7rbIecPLOZ7TdJnEvX6fnkztXtVC/X7nGZqwoh6qs+zV6pOt5RWjSucoppXKaTeuqOMmt7jCrXz+/qZkvKQlv+ZfxxX8mQm5znufd8yOf+lIedZch5pxOYBqNsfnpl+bDTYM5I3HIyqoeY+3Fq1u3OOanfPXPVB17ZqeoeKamrz89TA7p3V4MenqJ5VR6raD/+iarb9RnUd/FderKMhpxkLUubjD9eHH+ns69feOb5u3Tpfd3hhf2zaKintDyK/BT74txee3RsF7I/hYEQBwglm7AUEL6kT+LU/bNevX+8ZHCSGDYa2dM7UqdMc+y5dH/f0ayxtKTlI9BqDBShbyhyLO1hsByGTE2mBMMwCI/xFYuzywg50P2PXDSzKLmPJAq/f15baSPsDMhysvNJgS46ifnjFbezshVvs/DfGrg9YrPMzdnm7F0WjJeajKW+7rCJtWzYGb7LK6WDGxsFeQLbDOBrtCmky7c29YGVLcsANynrgoMF6IwewDWbsRRL4hSQ46qtbnblXGHae7UXNcOq1Xx+A+Ex+0Rf4mbnz5jnuvLR7+PmDfaR5Dyd/XvGH4z8UfEDm+hlbYg3lZfoDr6vB2yZNIR1s7HMiwdHfG7fhEvP2Ar5fXoy9TYZDnW44xpbgNWlFnbfHbmOPa05jiJ0Wt8Q8tFfYYWHTjLvvRNqhTtbOv59Etskn2jsWviE1bvfrJq7hPtoTjH/7ivTY2n5Ql0CgHy1jqy+GimoY9FGGdINWEtRNkxf7GB2Qbcbenl8hDLsvCnUcc0tPmrDd/StUmJt37g0BiDsUY/yH2peFSyjY80ObLIlmbA0lX7YbxIVjX9AnYwxBWzPlivwPZvXItomkzLzajx2m+97g7i5Te97gpyLfJi/9JGCxucfE4d7EapeJW1OSnU6Q3iYMXO0x2w5jv7WJyPYP7RDGv913227MPdqNceuui9gMYt69/35v40Vf7Q3NaMO2iXYejLDsfPqVsfkm8MsjcDPpd5d3bqTRhO3GzcYi2HwkWmI+t8oZ6bXrdjTEvC19HWmdWRfhd7Xdf9jzT7s8cB8qMe/XvtzheT3baYn0G8Luk47mdyfS375DJ6etzJg5MyBL9mYj9+YSOLTbqj3WhDNO2scgYI5rG9PO3G3YdhOMmI90Xm+H73UfzVgaDjZecYfj3w/bY1m/vPJg7HIjLwhLiHmDqFwFAUEgLyDwx+o/NREoKu3zQmlJGk9kBIwKe7TJvGryPDEP4DeOf0PN6ny+WvLKxWpVz6rqz35Xq00sNf/vsBpq+wgm5keBxGZyfjST86OZ4B4NKXkmvMcyIf8Fq68HEf4Nq7DX0vJMyk9txIQ5k/K/srr52SwtP5eJ+flMzDvkPEj5e/gHoh735sck/YpmKnV9K3V4W3uVtr2T2rq6rfqu/43qwdolVOP/FVCtLztdjXusitrF5HzyT435x+rsf2RyfgqT8xP5rHktNV8/M02ctr1jmZyH9PwoTvcoJuZHsbQ85wV52jnqWjWzeVPV6taZ6qZX16lXnn9OTWlbQX3epIL6bfpUNWroWvVKra/VLQ9PV9e0Hqs6dfWWks6rldedbls6EB+B7jPhbff2grmftKBxby86Y3HZGPuDKFLy0O9j2MQR6tVeQPBbzIiGmIfku/mwxhmkwYx9Bq9bNS0kb0w47isWWrBQ6qV+FPHlJjEfrLzsuuFOo9+zTaKFg5UXjrZ/v/i87O1F4lDqA+K2F7fcC6fREvMIP9Lyzo22ZWMwbtyXSI6vwQYRg6mtFt4O42i0KyTIxOu1YGVv6jHucEUdxXmzKHOv/gtSozhb3vZj7rEAjfzinFAv45dnu15G0weYdHjl16THXqALl5iPNO/h5M+k076G4z9YHxkKPu5NaMZPTlfTt45gLTHGLTZ7BDM2SRUuMW9IF8TlpYbcjtc+0z7cMkc4dn9l8mauaC9o14bwxlgSzAQj5m3sEL5botAO1ybF0F7DMcDLnSe/PsgOF5vc7LaPPAebC9l+I71HvTBYG3XQf/yx2rHDIj36KTO2Yi4CA9LE+LPHUJMOv77IvDdXexwLlZi325BbPbUJN6erSXuofVluEfNIV6Rja055wnvMBUDy4cghU2Ymr+5rMGI+WH21y8w998gpjSYNbtxDmTfY5GW0xDyOighmbOLY1sQTyrwf/YrJJ9znZOxyst1CCt6Eg74A46MxthYte/6I93Z4xn9OV3cbDiWfZoyIhJjPjTSaPLnrksEI12DzkWiJ+dwqZ6TTrtvREPO29LW7ztgb9YLVGa95KdJojN93dW70+aHUO5OOYFc7LZF+Q4TSJyENuVGX7U3d0FZjDNq8vZnKSzOEH2bhjJO2JhVoyLFNuO3MPVYiD/a8xoSHa07fNHY6vO4jHUvDwcYr3nD8+2F7LOuXVx6MXW7kBWEJMW8QlasgIAjkFQQMIbhi1eq8kmRJpyBwQiGAtgdJ+by+QcYQ8zGY3FIIZt2fq0NwdWydbFu7kD4Z/BklxSfTDYVmUGKBBEpIiqOExDiKj4vlXwzFxsRQTEwsEf9i9H0MUSw/Z/1iYvmZ3VE8vzdX2OlndkcMDz/qH7LHYTjGuoUzUvwHVwRfIJFi+Dd//FoaOXIZ7Uk5TEkJ8fRoq8p0TsWipDLgMDNYlc736Rn8U2yPK//4PcseZT7rcPmer7y0Qhmph2nF/Djqm9KD/uW8nrt9M9VKnEy7zuAEVX+EflqcTHt376WypU6h+D1b6KqZe+n+X5vr+E7UP+XOreBkLVhdNe6KFi1K8+bOdvx43bz40is0bNin+tXYz0ZR1apV9f38BQuIpdL0fZfOj9Ijjzzk5Z0GDhxEPV5/U7/7eOhgqlnzOsddy1ZtiKVW9PPvq5ZTYmKi8y6cGybK6M233tZeRo74lKpVuzqb927Pv0BMKmj7n36cQmXLls3m5r4WrYglg7X9H7+voISEBH0/ZMjH9Gr31/T9m2++Tnc1uTObX2PBJABdXe0a/Vi9WjWOc5h5pa8srU+9+3xAvJgfYG8eUCb9+39Il192mbHS1zo31yWWxqOCBQvSsqWLAt6F8hBqeZm6EUqYxk2ZMqXp55+m6cdwsDL+7evgIUOJiVPbKqT7D/r2pnr16mq3odQHOGzdpi2xFgftZ8XyJZQ/f359jz9IA9ICM/GH76lixYr6Ptw/kZR3qGUVrG3ZGAzo349uuulG36SzSlri86n1+3BxjKZdIUJT3664oip9NiazfdoJnTFjJn3Uf4DTLu13uIe/Pr17UfHixQJe8UIWjR79GX0ybJhuNwEvsx6aN7+HXnzheaedw9rGze5LwqnXwfqAnPKLNCxatJhY4hm3ul9F/xqOiSTv4eTPKy3h+I8Wn7YPtCeW0PdKRlC72bNm6Hpip/WNN3pQ07ua+PobPmIkseYT/f69nu9Qo0a3+bp1v7it0R3EGlG09YTx31KlSpXcTpzn93v1Jt4wpZ+f7/YctWnTynlAXYvBAABAAElEQVQXyg3mRUwE0tixn9OKlSuJF5/pf9xnXV71MmrdqiUVKFCAKp1fWQdV+/paNHjwQN9gWdqM7r23pX5/f5vW1K3bs47bb7/9jh55tIt+rlChPE2aOMF5575ZuXIV1avfUFtXvfxyTttot5Mcn/t+8CG9++572h36d/RPfoalv+jJp54hJmW0E4yV33/3tedY7xdGJPZM/tEVV1bTXtHPor/FXAN9I8z8eXOoSJEi1LlzV2KpazLj5fTpvxITAtrNE088Rp06dtD35o9fX2Tem6s9jmFugHwb49ff2G1o6pRJdO655YyXkK9+YdsB2H0Z8od8hmpymh9GMrbmFDcTjYR4eROqp1OUXYECBYk3F+n37rYaSZm55x6eEVuWfriHMm+w2+/bb73Jc/jbrZAzb/t91J+YGNIPo0YOp6uvvspxY5fJgvm/UeHChZ137pu7mt5Dc+fO09am78WDHYbfvH/psmV0662Ntd/GjRtRz3cz5/fawuNP7RvqEEsp6zdrVq+iuLg4xxVr4iDWUqGfP/98jJ5b82YIYjJQ22HOPWf2jAA/BmMnkBBuTLs2TkPJZ81atYlVm5Pftxj69XPPy5x7uudIuZFGE4Y7bJMHXO02jO88ez6ya9cuuuzyK7Xz+vXrUd8+mfNI23+w+9wsZ7tuv/vOW3T77Zn1J1j8fu/ate9IkydP0a9NneGNVFS5yiXaLlid8StLOy6/7+pI+g93nx9KvbPT4ndvpyXSb4hQ+iTEb+qhX1q87N3tjTdD0CWXViWUE4zpV9EHoS+CadiwAfXulTmf0BZZf/wwC2ecRB+Dvgbm8ce70oOdOmaFfiR/obYzr7Eyknm9k4AcbiIZS8PBxiv6cPz7YXss65dXHoxdbuQFYW3evJmqX5O5RoaxGWO0GEFAEBAEjmcEkpP30/xFSwnf4OeULU3l+CdGEBAEjg0C6zZsJD5bnindWLr8kipUqNCRNaBjk4Lci2UFrxsWLFiAyN59Guz+eNtesXLDQfXqkL9VnS5r1e2Pz1cTX7tBrXnvcrW231Vq45DqavOnLDU/qqbaNZql5j9jqfmxLDX/xY0skV5H7fsK58qzxDyrj08ez9LqE1lSfgpUy7MU+88sLT/9Tj4P/i6VModVlf7GEvNz7868zmMJeb4/gKv5QaLe+bH9fPxYqp7t9rNK/MmvVlVP3FxcPXhtEfVYnZJq7Sc3qX0/3Kb2cpzJkzneaZDSv43j5nRApT1L8O/7GtL8fN78OJaY/5wl5jntu8dcr3ZyXraNrKn++qia+u2Fi1X7h3uoWg8vU81qjVTdLumvWjVlKfkuP6m6D/ygmraZpPoNmaOef3qCGnNlcEnn461sI0mPXXeD+TeSc3C/Z8+eYE6VrWp1DUuxGBPqTmVeWHckVoKpsrfVx5k4Qr3aO/uZnPD0Fo3EvK1GDqpMg5nffpvr5Be7qP0MpOWgHhzS65C0scsO0gOQRLHNsZKYt+sG1OzjbM+cfrYa+XCwsvNn7m3/UE2YU9zmPfA0JpT6ALfBpNZsac1Izpg3aTHXcMo7N9qWjUH//gNNMjyvOPbC1D9bBaQdxtFoV0iMiTeYxBbcQep1/IQftBStXUfhH30UVDL6mbVr/1SQSIbacrdkjvuMcr882/Uymj4glPwGk1Dzy6Offah5Dyd/XnGF4z9YHxkKPvZZrpBQNn1ATlde2NRJtyWcoYIymHnl1e5OHQ1XYh4qzE1+oOo/mLEl8fyOjQjmP6d3qAcmLd26vRDUeTCJeRxvYsIJdu4sIsC55MYtpGcjMVAjbsLwkyo14dp9Nto51OkfK2OrzofUvpGItKVoIXVo8vL3338rqAc2zytXZk+rX1/kzpM9joUqMW+3oanTfnQHGdKzSXuwvtvuy9xSgDlF4ifF6PYXztjq9ut+hpYjky9coV1l0qTJ+ggVcxwC5rHGzcksMZ+TpgV7rD148KADdSjlumnTJgdj9xn1TkBZN/h2MOWBON0Gks3mPROi+rV9nIqXim17jhHJPBiRhJLPaCTmcyONBpdQ27Bbm0u0EvO5Wc65JTGPsmNSPludsY/vgmp0t7HLI9Lv6lD7fPu73N3nh1Lv3Gn3erbTEuk3RKjfMjZ2kbY35ME+1gffCzA4Us7Ucxxf4WX8MAtnnOzT9wMnHmiQso2JP1g7s+dWOY2Voc7r7TSEch/OWBoONl5xh+PfD9tjXb+88gG73MgLwhGJeaAgRhAQBPIaAv9u2+6cb/3Xxr/zWvIlvYJAnkQAbc2cK482mNeNkZjPc8T8gUMZ6osfd6q2Pdar6zuuVNXaLFY1O/6hnnppmJr79lVqdW9WaT+gmtr48TVq64jr1I7RTM5/xuT850zOj2OV8F8xMf41ny/PxHzyd6xWHmfLT2JyfCqT8j/dyWfAMyn/axOVMpOJefxmMTmP3+wson4OSPrMnybpQdSbH8j6BUzKz2uq9k1tqH7tcbl6oW5x9fiNZ6o3mpyt5ve9Vu0ZX0/t/Ybjn1RPJf/SUO3hc+bXfnaXWjWiidqBNE2ok/n7njcRfFubCXpsLKihdo/mH6uw3zn8GrW+zxVq0YtV1NgHL1Bt2j6nbnlksmrQfppq2GGqatZ6gnql+kA1qP1I1Wvgz6oF2w1tPjSv19cc028+/nANZrCgbtyGs7i2d+9eJ9hly46cmRpsob9jxweduPIqMT979hwnD1gED2ZYUs5xm9O5fHY4+MC01e25SaBjRcxj4cDUjSVLl9pJDOk+HKy8yFScaWrih+q+SIy9oORHKCNcm9Bwq5O1SZ7cIObd+QhW3rnRtmwMoLI1mLHPojZnJMO9HYYfjtFseEEcpqyDLVjBnW2gJtQmghEGS53ZTnzv0YfZZ5RjQdA2fnkOp14H6wNCya9NZrkXwu20hnsfLO/h5M+r3YbjP1p8sJnJ4OgmxkLBBJtPjH8syAYz9gK4u08O5g/v7DoabIwEsWSTWEblfk7hox2wVJuCun3gYDYeePmz1cr7LU4bf8GI+f37UxzsgGGwDXW2almoBTcG9RCqXvEDRsFMampqQHx+KoLtDYBIF/rXY2nsYzcwpzLlydpInGTYZ2GDRDIb8tAHebUpv77ICTDrxh7H3CSNqefu/hXpMu9yIl280oaojX932Hb67L4sJ7LB9od7P7LE7c79HGxsdbu1n1G3TJ5wZSlC+7VzDxXwxp27/4mkzNxzDycinxsTtxt35Nu88zuuyCYvo1Vl7+cfybY35bjJ8lDKFUS+yQuufu0ecWFDlnFrb4TBOxj4NXNrXNFP2psRQXK5DbA1YUYyD0Z4oeQzGmI+N9Jo8uiuSzYedht2z0eiJeZzs5ztuh2NKnvkHeOO6cNNnTGbrYCZV53Jje9qjImmTFgDgF0Mzj3qr0kb3Lr7/FDqnRNYkBu7L4v0GyKUPglJyI26jHDsvgAb491t368f8cMsnHGSpeWdsnMfc2DKFO3dz2CTqXEXzlgZbF7vF1eo9sHG0nCw8ZpDhOPfD9tjXb/8cMuNvCBsIeb9EBZ7QUAQON4R2PTPZockFHL+eC8tSV9eR8Am5dH2TgSTZ4n5f3elqnu7rVI12q9R17VfoWq0XaRq3L9AXf/wevXS093U8rcvU398eJVaP6i6+udTPmOTpeZ3MDG/i4n5PeNYav5rJry/Yan5b2/mc92ZHP8BxDxLrE9jifmfmrCUOxPw+M3g30wm5DVBn0XOOyQ9iHom5/EDUY+fvr9L/Tuhvprdt5bq2fISdcfFpdXtl1ZWXRs0VJ8+00lNeecx9fWLD6txL3VVn3d/Ro1+7WnV5/G3Vaemv6hWDWapD1/vo5YNeVTtfLWN2tWDf91bqj8/6KB+GveUmvLV02rq2KfUxGFd1NDXW6ohd92gxlxzhXr/4tqqQ/m2quZVb6mLb+2nrqr2urr+kudVoxaDVP3Hf1I3dfpBTRj964lQZ4PmwXzU4RrMDBg4yPkAdJ+Dbvsb89lYx51bOg6LiSY+SMN5fXhBcsxeQMirxDwWj+x8LF682IbJuQdpYZOcIKuMwZm5+FhnleF60dLY21d7V7hbktcQ8zmVrR2efR/qBywW6U25vtvzPTuIgHtI/BlpVbvsQ8UKi0vIExZkQC6ZBRNIpZn4gTnOe/QzIMog7ecmsuwFJT9CGWHahIZ7cdwm5r2kGf3SZOyjKe/caFs2BsARH/xexpb+MwuQxp0dhh+OR4uYR/36lhcmQbj5EY42aYpzEmHgFhspRo4cpfyIVBtf1DX0U8b45TnUeh2sD0Acpm5HuhBu0ul1jSbvoebPr92G6j838AHxaeNo+g43JrAfNHiImjtvXkAZu8nlpUuXub3qZ7R7Ew+ufvXJ0zNb2kQs/OPZy9jny7vHWS/3tp0hdxE+iAkvg/7REFNYGPZrT8ZvMGIebuyzTv0wQRw2kfH++71N8KwNZlcArmjrfsbeROHeRGP8oK3b5fTrrzPMq2N2tc+UxyYMkx6QWraB9C/e4Qxc4wZaGbyMX1/kdmuPY26SxsTh7m9YPbUTP3D1k/DcvHmznvtAew2rkw2I2i9s25FN6oVDNiAMP7IkmrHVTpv7Hpp/TJ4wtvgZm9Q9mYl5Pm4loF+18UJZGyyhDcQ2fuVqu8E9NvOYMPj4Efdr59nWNgKCxMtAKt6EZW8ig6YLLxPtPBhhhpLPaIj53EijwcTdP9iY2G04GDGPTdiRmNwq59wk5pGP1994M6w6kxvf1ZhnmzLBBlIv456XuPv8UOqdV7huO3v8ifQb4lh9d9ppt+dE9kZvfHv7GT/MQh0n8c1hyg1XSJ7bBu3LvHdrwzPubCEGe6yMZl5vwva7RjOWhoqN3xwiVP/BsP0v6pcXlrmRF4QrxLwXumInCAgCeQWBjZv+ccj5P9f/lVeSLekUBPIUAmhbRlIebe5EMXmWmEcBfD5lk6rRZp6q2eF3VavDclXjgaXq0qY/qcfatVMLe1yilr9fVa3+6Gq1gaXm/x5eQ/3LUvM7xtZSu8cxOf8VS6F/cyNLy7Nk+vhbWI09S81PbsjEPJPzPzE5zxLzmpz/lcn3GfzT1yyiHmS9Q9jzOxD3Wpr+brV/ZhO1fFgd9WjjmurqCxqoc0o1UZdd8KS6u8Ek9UjL9erR1htUh2brVId7N6iO921U7ZptUvc0XK8a3bhYPdhym2rTaLt64MU96qNRO9W8l5arP7rOU4ufWaKGjdih+vxwUA0Zs0t9+F2KevuHQ+rhAZvVvc2nqXf/10v1L/+y6lG+m6pz4weqarNP1dVNPlHVm49SNTtNUDc8NFG16zZWbdtxRNr7RKnA7nyYDz9cgxkshNtuQcC7zbp16wLcQI2f24CQN+G4VbeBFLF3OcNdXiXmkW+bqMViGsgdt7FJSrixCSNbba3XAhY+vu0Pc5AjtrFV5fpJctnu3fehfsBu3HhEhSjKzEsqCvmyF9MgsWmbULCyF33ci6MvvPiyU69Qx/Z4HLdgq/3DopG9EGKH7UcoI702oeEm5rGIY+q2FwZ2fr3uoy3vaNuWjQHygYUhuz4izVggMoQd3GAh0jZ2GH442nXer17ee19LB0tIItnGYOxeGLYX17ABxG2woARCyfg3i5O2BBfeeZGutkYCd90LludQ6rWNh7sPQB5Met35tfMXbCHcdue+jzbvoeTPxseNXSj+cwMf9JX2RiUcUWBvDjK4oF8yeKMO2gbSVOYdNlO52z+e7Tjg1o+EtsN139vq7FHmdj8Ft3ZdRBxuaXbUc6jbB2HvJkbhH+OuyQfaMtzbBu3CXnSG5HxOJidi3pZKQ9xeRLhdF+DG3TfY/Rv6YT6nPVuyQEDYbRxhug0wMfnH9YcfJrqd5PgMzCABid+OHTtydO/nwJBsJj0Yl9x9rj2uGHde+CEOu6359b9wZ49jph+EPYyJw93foL3Y9dtNnsIvNizZmzDszRXBwsY7Y+y+zCYbzPtgV7ve2poZoh1b/eJEWaHMgBmuRnW97R59gMEU15OZmEf+3UQtsLLnZnCDzZO28StX2w3uJ06cFIC1l+Yim4xFXO5+xoSJto33+Nl9j9/cLjfmwaHk0/QZ6Lu9DNqpSbe7DedGGv3CttNit2F3edubHJEHr3HYDsvrPrfK2a4L0UrMI52rVq1ysLf7Sr86kxvf1bt27XbiRNm4NwVDE4W9+Rtu3H1+KPXOqxzcdvb4g3hQ/9zjWU7fEMfyu9Okf/SYzxwM7bbu1zfAnx9moYyT2JRq1w/M+dzG1tIF7QNuHG1peWBtj5XRzuvdabGfoxlLQ8Em2BwiFP85Yftf1C8bP3OfG3lBWELMG0TlKggIAnkVAVtyfsWq1Xk1G5JuQeC4RABtypDyJ4qkvAHaEPMxmAiHcnT9uj9Xh+LsmLkZ9s1f1GvMvxSf7xQqEL+PGud/i65KWE4xheIpvkAc5csfT0n54yghMY7i42MpgX+xcTEUFxujr7F8jYmLI7YgionNvI+J0fd4Juee3fG/TJMFlXmEJe453IOpadTt7a3Uf0JhOrNIPipZtByVPas6nVLoLHaQQbzGQPCdGZYijpEOHUqjffu30emnlKL0wwmUcV4sFaqUSDHpGRTD71IT4qnIP3voukVrqUTKfvo3fyH65fLzaFvJ0+jQ/hRSu/ZS0oGDdKBgAsWmp1OFFf9QuW07OazDNKdQAhWqew51bn0dnVe2GMd8Ypty51ZwMphTXWWSnFq3aeu4r16tGtWtdwsVyJ+fpv86g7766mvn3f1tWlO3bs86z+aGiTwaMGCQeaT69evR1VdfRVu3biWEz6SD8w43Hw8dTDVrXufYtWzVhpiI0M+/r1pOiYmJzrtwbljimt58623tZeSIT6latauzee/2/As0YsQobf/Tj1OobNmy2dzc16IV8SK5tv/j9xWUkJDguGFCkZBelrbRdkWLFqUGDerTlVdUpT//XEffj59AvJCj3xUsWJC+/+7rgDhYWpKqVb/WCa9evbp0fa1adNZZpWjBwoU0adIU4rP1HP+LFs7jNhvvuLfTX/Xyy+nOO2+nw2lpdFeTO0PCbf6CBeynqQ6vS+dH6ZFHHnLCdt+460bDhg2oGpdr+fLlic+EpAEDBwfkdeaMX+jUU091gvHDqjqXC3e+9MW4L4nPcHTcjxgxjFD/jOFFeGKywcG6XLlyVPeWm+kKxhpm9pw5xNJCxjk9/dST1L79A85zKPUBjlH/kVeYFcuXUH6u+8awtDY98mgX/ViiRAlq3aolFS5SmK688goqW6aMceZ7jba8o21bNgYmkRUqlKeGDRrQeeedS7/NnUffffc9MRGlX6PO/jr9Zzr99NOMc7LDOFrtyvRZKNvPxmS2TyRgwg8TqVOnI3W0ZcsWum+J5TEJdfmbb76jLVu26LTedNONNKB/PyfdL738KjEBqZ9Rdk2bNqErqlYlXuDS7RttlQlS/f6F57tR69YtHb/B8uxXr0PtAxCJX36dBPANS18QSyNqK7RTtNdQTTR598tfqO3Wz39u4wMsNm36mxo1vsOpv6g/N9SuTRddVIX27N1L33z9ja5DBrdxX4ylSy+9xDwSkxrEpIjzjHpy220N6aIqVYjPJqdvv/uO+HgE5z1u3uv5DjVqdFuAXU4PvFhPN99S36lviKcV1+XTTjuVmOCmjz/OrKcI59prr6FPh30cEOQHH/ajd97p6djNmzubMPYYw2pMqfo11znhox0/0PZ+KsXjCuIePnykg1GlSpW4jY2kU045xXj3vLKUOt17b2ab8Bv7+axmGjbsU8c/0n7VVVdSCs/JpkydSnwkhvPu7bfe1OOVY8E306f/SrwY7lgh3XfccTv9r2JF2s/zvOU8d+DNgM574PbVl19Q8eJH5nEYi+9pdq/jxozJjoXHTcUKFahZs7sD3vAiOPX7qL+2wziC8SQS4+6zGzduRD3fzZyXmPDscdjY+c19gvVFxi+u9ji2bOkiApbGBOtvUD9ua3SkDZnxoUqVyrR9+w4aPGRowDg//ZefqHDh003QYfdlnTp2oCeeeMzxn9ON3/ww2rE1WLydO3d16h3w6PzoI1S8RHFuS/8QS18Sb4QJ8P58t+eoTZtWjl0kZeaeeziB+dz4laldt/zmePa8xqtdIkq0BbQJmFEjh+txVz/wH7tMjB3a/s0316GkfEn0088/E5/fbl559ml2GH513wTAWpuob98PzSNhLnpdjRr83XiIJk2e7Hw/wEH/jz6kOnVucty6b5o0uZuYyAmwXrpkIRUqVCjAzjxEOw8OJZ81a9XW4wz6LvTtboP58rnnVdTW7jkSLKNNo19dstOR03zE5AF+MD7WvK4GxfG6AsoqVJMb5WzX7XffeYtuv71xqNH7umt4a6Ns37HuPtb27C6PSL6r69Zr6PS7CLvt/W0I30CYL6BtmTm7idednlDqnfEb7Gr3ZcadGSNC/YYIpU8yYbuxC/e704SDOdHFl1xuHvXVq+3YDoJh5jdOAgPW3kRf8VzTlAm+zYcNGxrwLYl4pk37kXiTmxMl5qJYL0lPS6dZs2c736HGgXusjGZeb8L0ukY7lvphE+ocws9/qNj+F/XLC0fYRZsXhLF582Y9n8c91ngwRosRBAQBQSCvIbCNvyGZQGTeJ4M5oEJUscK5dOop3nPtvJY3Sa8g8F8gsHdfMv2x+k/al5xMsbGxdEGlCnTmGUfWA/+LNOV2nCtWruI1rAIUk1eJ+YOH0unVj1bS0tV76eHmlegKNY5WfdmXMhLSKJ5J+UQm5fMV4Gs+JucTmJhPYIIexDwT9HF81cR8DBPlcUzC46fJeKbLHVIeL4191n0ms872XBwKf/gWF/5l5Iun4eN309PvbOXF1UQ6q1gVKlK4HL+P458i5uUpLYO98Y/3BPAvltIzUikjPY1OzX8hxXNAe4unkSrGcbLJ4DTFsKeaM1fQxenbKI3jA5k/5TT+SL2sLMUyMRkTz4Gyu7SMOLpk/h903YFNpJLiKaFMUSpeqzJd0vI6KlHsyGKiDvgE/WMWWZC9nIh5uGEVusQqVXHra/Dx2Ov9nnqhxe0Ii2Pt2ncMWByz3WAx/Z67mxJLiWnrvEzMIwMsuU0sNRBAOtj5NfcgEC6++CLz6FxZgpNYpabz7HWDRfV+H/alGjWOkPhwB6Kjzs11s3lxE07ZHGRZhPMBCy+ffz6OnnjyKb/gtD3S2rdPL6pVq2Y2d6Fi9XqP7nQ31xG3weJK07ubByxQud3gufb1tahfvw8CNifYC0p+hDL82oSGe3GcpeXolrr1s5Fzzzz9FLVrd2RDC8LxM9GUd7Rty8bglVdeohdeeMkvmdp+9KgRmlizHdlh+OFobxiJZMOL6bPcC2csFU1tH2ifbcHKTh/uQTZ+1K+vaxPMFq47zbKVndsv+ra33nydChQo4LzKKc+h1mu/PsAvv04C+CanhXDbrfsemxUizTvCCjV/fu02VP/R4GPyjI1QdzLZYjZZGHv3tWuXzvTwww+6remHiZOItZRkszcW6N86d36EWNpJW0VCzMMjSxzS7Xc0McF6XitXvpDQxtyk+bPPPU+jRo12/EwY/62u844F32z46y/eXNKW1q1bZ1sH3GPBeNCg/rwh4MjGmwAH1kMoxDzK+amnn6WJjGEw81r3V7MR4cb9vHnzqEPHh5xFbWPvvqJvAOlWuHDhgFfYsICNC+EYjFVDhwwK8II5jNko5p6jBDjM4YGP0yDWbOC46t3rvWzkFPo1kAamzqIPwhjqZXLqi4wfexxzkzQ59TfLl68gVq9vgvK8oh2M5M1zF10UOKfJKWwEZvdlbrLBMzLLMhhZEs3YakWR7XYlfxRig6YhWrI5YAtsBDP15WQm5p988nGHwPfCqRyTiejTSvDGBtsEK1fbHe5BTD/x5NPEEtDuVwHPL7/8IrW478gmnYCXWQ/uOW3Tu5rQG2/08HLq2Ln9OC+sG795cCj5NKR2pMQ8khFNGsNtw14bBf3id29utiDLdpsb5Xw0iPmRI0cTa/lx0htKnYn2u5qlZukO3kRtNp46kWfdXMcbHwqffrqzgcjd54dS79xhej3b4w82+pjveC+3sPP6hjjW350mbfh2Rb00Jqe5W06YhTJOor/74vPPAjavmfhx7d27b1AMu7/6CuF7CsY9VkY7r9eB+vyJdiwNBRu/OQSSFIp/P2z/q/rlA2VUeUGYQsz7ISv2goAgkNcQSE7eT6v+WKuJRKT93HPKsGDT2XktG5JeQeA/R2DDX5uI1dfrdGCjS6WK5/Gm8iNCGP95AnMpAXmemAcO+w+k0Y7dh6hMyYKkDm6npUMfpz2rf9MS85qch+Q8E9WJiVnEPJPykJ6Pi2e5dSbHQdDH8A1Iek3O8y4M/YJJc9hrYh4ROfdsZ57Bxjv37CQ+jtIKJNL0pck0ftp2WjZvHyXvZVI+PomSmDwvUpDTwlLIBzMSiDl1Sk2LYbI9lQ6lJ1Hy4fM5JEXnl91AJYvvZ8I+jjI4zji2Lbt1N512OJXSNZvP0nKnF6KtXDHjIIHPTH/Ji66lq1iit/jhAlSQpYzzFS1IRcsUo4KnF6BYTtPJYipXuUQv+OIjCB/roZhvWDK4b98PspHNCKNt2zbUsUN7ypcvn29QKSkH6O133qGff54eQAxAWuyxrp31jnIjeTz800/ommuqO2HZC8rhLOI4AWTdDBw4iHq8nrmzeMzokVqq2e3GlvCD5NfZZ0OLQ6Cx07P6j5UBEuvG5dat/9L7vXpnk5zCe0gOgci5/LLLjPNs17ksqYyFHluiEI6AN7QNvPTiC55pgxss/GPnvJHMh10oC5JwZy+QP9a1Cz30UCdYBzWsJlhLT7k1H8ATCAUsStsSjO7AcsLqkYcfcqTg3X7xzGobqe8H/QIkM407bPp4iheGvSRYQ6kPCAfE79Sp03SQq1Yuy1bPIVX7avfXnEV4OIRk2Ee8ESBUE015R9O2bAwmThxPhw4epIcefjQbWX3DDbXpSZZirMiSqm5jh3G02pVZGEbdh3SebbBYCwnF13q84RBZ5j0WslEHn37qiWzSKXAD7N7t2ZP4bFrjxbmW4wW0Vi3vo/t4IV+Pcc4bolDynFO9DtYHBMuvScbSpUuJVfnrRz/JR+PW6xpp3k1YOeUvp3abk/9o8THpxHXpsmXUp88HAW3UvAeR+AoTNl6bpIwbkOYgeGfOmmWs9BVEea/339MLZawGX9v1YqL11jCkAO0AN2zYQL14YZZVYdvWut9/6MFO1KLFfbxBJH/AOzzYROFttzak93mTnJfZvXsPvfPuu1oS3Zb0x8aVWrWuI5SZrRHEKwxjZ0ui5yRBDmmx9957P1u/Auw7dmxPt3B/Gcz8++826t2nD82fvzBgXIMfSBtWv6aa1gDgpU0HRAEWu8Mx6O8GDcyUjjf+DDmG5+XLFgds1DFuQrmyelq65NKqTl/l1m5gwrClst97711qdNut5lXANZS+CB7scWz5siUB9SiU/mbx4iXEKqo9N1hi01yHDu08tcSEErbdl3mRegEZdj3Y8zGv+WE0Y6srqoBHLI4/ypLzCN82mKNhQ1LJUiUJ0tcwL7/0gm67xl0kZeY19zDheV39cA9ljoc5HR8xpYP1I6ugBQvaH2CgxQYbY4xxE1jQXPPSy684dd5xx1pBoG3A1sBj3uVUrsadubI6ZK29p/+AgdniwVj+0IMdQ5KOZpXfVOWiS02wNPazUVSVNenkZCKdB4eSz9o31NHfTZjPzpo5PVtSbIl59IfQLuVlIk2jX12y47DbsNd8BGkcM+Yz6s4b2MyGI/gf//23dP75leyggt5HW86h1O2gCfB4iQ1o6NONGTt2NGGTW04m2u9qVrvOY31v+nXGTGeTEPqfNm1a6W/y13q87miAc/f5odS7nNKP9zYxjw02WAQM9xsilD7JnZZI67Idjj2HgX1O43oomAUbJ6G57tFHH6ZSpUrZych2j++R777/Xm/WNC/Rv2KT01nsF9qPYLzGymjn9SY+r2u0Y2kwbILNIUxagvkPhu1/Vb9Mur2ukeYFYeHb6epq1+hgQ9kE5BW/2AkCgoAgcDwhsHrNOmKV2zpJIBXPKVuazigauNH+eEqvpEUQOF4Q2L5jF63fsNHZ3HI2rz9UKF/ueElerqfjhCDm3aikbPyNFnzUmVTqHkooyIR8EkvLs+S8lpp3kfOa586SnId6+xhtwWS7IeHxbAh6RMT3Wbro8ZDpTtvjnm9YeJ1F2imucBKxXkOW2t5N349dQUsXboXoAxVj0v6a8wrrTQSpaUpvKjjMxPrelHTaksweOYByhTOoMKczHY8Ik3+HeRNBBj9D4h6LALGH+ccPiSxBv6NwRarz5AAm4UscSQ97ExM6AsAUqjqxIIl7kF6lS58dIIUcSmh8Ph4dPHiAzjjjjAA18KH4zWtusAC1ceNGQp5BeEAl/ZlnnhlyNvCRDQlHLBaeddZZ2r+bJPQLDH527tylywfEeKj+/MLLyR679Tdv3qLVh2JR+mxOL1RVhmpsrLC4c/bZZ2eTfgwWFqTXN7IK/V2cZ2wSgZo7t2RpMP/RvoOKbmwSSOfjNUpx/uN580+4JpryRly51bbQxv/kelcgfwHdxtFW84LZtWuXTjfSem65ciHXH6jR2rp1q1YzmJCQSBVYlbUXARoJBna9jqQPiCTOcPxEm3c7f5G0W9v/0cYHxDRUSe7Zu4eKFilC5biOeJG5fvhBpeemTRt5ihNL5c87LyTJcr+wgtlDEwbGWqhrP5PbXrFixbRKqmB+IGW9d+8+X0kst1+0FcSBMTwUCXm3/0ieMSbhmBP0kSVLlqAiXAbhGj5PlAn+vxiPOC6/c8IaY8KNy7hHeVQ6v7J+DEZ8Gfcn8nX79u263vC50Vx+hbn+lMm1vvJo4hbt2OqXNsw7Vq36nVIOpOg5D+Yt4cx7/MLNy/ZuYh59LMaZNWvW0D+88IY5cNmyZXzVw0eTdxC32CyJegpTsmRJPW+GSr9jYaKdB58MaUTZ7Of+41Q+LsWt4STU/P/X5WynE5ozql5xtbYqU6Y0/fTj1JC/t3Lruxqb19DGihU7M8e5gp32aO/dxHy1apk44Bvi99//0HMLzDGO1jfE8drezDiJOVzh0zFOnh12f4exZceOnXqctTV2hVJm0c7rg8UR7VhqsIl0DmH8R4NtsPzZ7452/TqWebHzJfeCgCAgCBxvCOxggnHt+g28eTNFJ60of2OefVZJ1qp8cmg0Pt7KQ9JzfCOwk7mlTX9vph3Me8BAvft555Rlfu7E3tByQhLzKMDN0wfRqnHvMylPlMCq7OOhyj5frCbpE6HOntXaa6l5Jt61Onu+xkOCHv94jUNLz2tyHoS768duNAGPiPQ7XNjOMoo/ImNA+LPk+p4DGfTlsKU0f+EWSjmUQaVPy0/31y1LZ5bMz2dkp9PhVCbmtx+k5F2H+LytDDrMYcVwerFJIO0wP/P7w3xN4zDTmZBPS2cpeV78zcck/faMgnTdE73ovEuvt2KXW0FAEBAEBAFBQBAQBAQBQcAfgdWrjxwR8+yzT2vpfH/X8kYQOLkR8CLmT25EJPcnMgLQxgNtIjBPP/UkQYPMyWL8iPmTJf+ST0FAEBAEBAFBQBDIPQT+2vg3beANtmnM/8CcduopVLJEMSp+jDce5l6OJCRBIHcQ0JsueSPu5i3/spDRPh1oPGv9LsubP8uUzq7lOXdiPb5COQGJeYisM2+efojWj3+HNk4dyVLzcRTHRHdcFjGfkMjS81mS87FMnsezinkQ8RA6yLwyMa65+EySXpPumRaZRDyIeR0JX42gQpZV5gv+y+FBQp74LPkY3gSwctF2GjNpPSWnpGkV9g83KU/lyhbEaxavZ5X2h9LpwP40TcIjTbHsByT9wQPplLwnlX+H6SC/P8hq+9OZpI9jcn5nWhJd0robXV63WWZcCMu1QQBWYgQBQUAQEAQEAUFAEBAEBAEbgSlTptID7Tpoq+++/ZouvPAC+7XcCwKCgIWAEPMWGHJ7QiOwZs1auqnOLU4ef5szMyytaI7HPHojxHweLThJtiAgCAgCgoAgcJwiAC2AGzf9Q3//s4VSWRMWDPinM1hbL1TcFz79dOapEo7T1EuyBIHcQyA19TDt2r2boLJ+O2voyoBqcDaJfOz3WaVKUOmzS51UmvpOWGKeGWpK37+FVo15hfYs/4liWZV9LBPyCUksKc8kPdTaQ2I+gQnwOJw3DzKcSW1D0ENaHf8ytVUzyY7//D6T9wYLH6N5d636HjUIVjCZr7REPc5+T9t3mNb/uY9+XrKd1m7dT7G8CeDKy0vQLVcVY3I9jdXTswcm9zOrIV+5QkIiPp3V3EPFfdrhdDrIau5Bzu/fm0opew+TYqn7nUzUl761E9W8rwunPzGTmBdSPrMM5K8gIAgIAoKAICAICAKCQFAEzHnaOL93yeIFPAc2u02DepOXgsBJiYAQ8ydlsZ80mcaxVbfUbcDq2YsSzt025rGuXeihhzqZx5PiKsT8SVHMkklBQBAQBAQBQeA/QQDSwVtZSngXH0doG6juxnn0hfiKoxCTkhKZrExk7or5LPlOt6GS++McAUjCQ0NE6uFUPu45lXCUUTIf6bCPj4A0RzuYLBQ+/TStPQJaJE5GcwIT8yjOGDq8ex0t7P8oHf53DcXzefOQRIf0fAIk5vkXz2rtQc5DSh3kfByk58GVg5jXRD2HkkV445L5A/vOBmy6vsWLTG48g9XOJ+85RFu2HuCO9gCt2ZBMK/9OJsWbAi6qfCZddnEx+l+ZghR/4JBWY69YWh6C9Vq4nv9kMCmfxoQ8zinV6uuzVNmnsqT8IZaYP5ScRrt3plJspdp0S5d3KKnAaTopzOhnJggB8fmkWQnLfCd/BQFBQBAQBAQBQUAQEAQEAQsBqCkeOXI01a9fj15+6QXrjdwKAoKAGwEh5t2IyPOJhMDMWbOoefMWAVm64Yba1Kf3+3pxOODFCf4gxPwJXsCSPUFAEBAEBAFB4DhA4MDBg4Rz6Hfs2kW7d+9lyWGtU/k4SJkkQRA4eghgk8npp59KRQsX1ufH50/iM8hPYnMCEvMoTSN/jvsYOvD3Alry6YuUtm0txRdglfZMksczKY9rHJPyIOhByOOMeUjPg5SP08R8JkGfSdJnhmXI+cwn/M00kJzPYDJ98dJdNG3Wv7Rx20E+Jz6ed50XoEqVilCV/xWm80rl11Ly6cl8ljy7VbwRgP9qUj6dJeVBysM+jaXlQc7jfHmorU9jNfdpLCWvUtNpJ5PyqnxNuq71i1SwyFmUlryF0vdupIyUbZSRdoCF79Mo8eyaFFeohEmaXAUBQUAQEAQEAUFAEBAEBAFBQBAQBCJEAGduL1+xQmtY69OnF387YiO0GEHgxEBgzpzfqHfvvizNsp8qVixPV115Fd1+e6OTUkJr0qTJNO7Lr3TBdu3amSpWqHBiFLLkQhAQBAQBQUAQEASOWwT27tvHEsX7KWX/AUo5eIAOHUrl444Ps1bldCHtj9tSk4R5IQDyPZ6/lRP4eIZ8+RKpQFJ+KlAwP2uEKEinnnKKl5eT1u4kIOZRtjGUwuT80uEvacn5uCSotM8k5WMhOQ8pev5BtT1+mphn0hxkO+75v5aaN9Ly+poZLP5qoXmt0p73A6zYdIDWbUulIkXz01nFClDJ0xMpKZ4dHTpMh5NTtSoHxQEqLWHPZDy/wnkKmqjnB03IQ2IehDxL3+OazsS84vtde9IotuL1VL3Fc1Tg9LMQNSUv+YQObZ5L+ZPykTp8iM+z5/SedzclnVUdidZu5I8gIAgIAoKAICAICAKCgCAgCAgCgoAgIAgIAoKAICAICAKCgCAgCAgCgoAgIAgIAoLAf4fACUrMG0CzJOeh3j0mlg7v2UC/f/kObV0whVXAx1IiM+ZxkJbPIuZjNTGfKTWvz5w3xLwm5zNJerDwIOpx1bQ3k9/6Ciu+T2Ap+Rgm/Yml3zOYUAepnsaS7lpVPRziPHlOjuI/6fzTpDxLyJtrOkh5/Awpz8Q8zpT/d388Fa/ZnC6u347TfSoHwCw+5yll2XA6sOprjpsDjY2npFNPo9jSdSjfebdSTFyCAUKugoAgIAgIAoKAICAICAKCgCAgCAgCgoAgIAgIAoKAICAICAKCgCAgCAgCgoAgIAgIAv8RAicUMa8OptLBDf9QvjIlKDa/OaMgi5zX6u1jKX0/q5n/+WNaM3EYJSVkUCKfO2+Ieaix16rsWercVmmP8+e19DzIeCbfj6i2BzkPS/3fOXI+BoR7OhTq458xRm09SPhMYh6q6436enOvz5fXUvKZ0vIZB9NpW2p+Kn/7Y1Sh2m2sgr8Ae+bAmZRHrIc3TKPkeR9SvDpEnGjO9ykUW/h8Srq8M8XE5zeRy1UQEAQEAUFAEBAEBAFBQBAQBAQBQUAQEAQEAUFAEBAEBAFBQBAQBAQBQUAQEAQEAUHgP0LghCHmM5iU3/njbEqdtYTyValEhRtcxyR1IsOaRY1DTB0S6yyyrtIP0tZ5n9Mf3w7gM9q38TkHWeR8lvQ8iHhIz0NqXkvOO8T8EfX2Rkv8kasO/EgxcnSamEf0uM+SjkcyIB2vn5lfz4B0fBZBj3tNzLO0PKTk96awxP0ZlejCxg/SWRderzcFaEl5vRMA8cVQ2q5VtG3SyyyZv4cOZ8RRKv8KlrqQStV+hmITCx1Jj9wJAoKAICAICAKCgCAgCAgCgoAgIAgIAoKAICAICAKCgCAgCAgCgoAgIAgIAoKAICAI/CcInBDEfNq+/fTvtz/S3h/nkEreT/lOP41Oq30dnV73aoorBKlxsONZBsw4DEucH9yymFZPGEjbl8+kxNhDFJ8P584zGZ8Qx8T8EVI+Ni5WC6hrSfks9faakOc/mo7H1eblOQ4nRr4BCe8Q8iDlWWIe5LyWkjfEPK4sKR/Dv2Qm5FNiTqGiVzSkyje3pAKFS3MgzOJrwxE5kcWwnxTasvh7Sj10gPKdWpySTitBBYuUpnwFC1vusrzKRRAQBAQBQUAQEAQEAUFAEBAEBAFBQBAQBAQBQUAQEAQEAUFAEBAEBAFBQBAQBAQBQeCYI5DnifnD23fRphHfUMrcpXRg715K4HPVExMTqUDRIpSv6kVU/N56FJOIs9YdqhxMeSbQTM6rw/v4zPlvaMOvX9H+jb/z2fCplMQS9IkFmKRnqfkYlpaPBzEPqXnmxB219jhoPvO/JsAdrjyrCHUUIOTxDHIeRHwWKa/vWUpenyUPaXkm5WP4LPqMw4p2H4ql2HJXUMUb7qHSF93InjkSQ8pr9fVZEegLvxMjCAgCgoAgIAgIAoKAICAICAKCgCAgCAgCgoAgIAgIAoKAICAICAKCgCAgCAgCgoAgcFwjkOeJ+d2LV9LCZ9+iAkxux+VL4vPfYymeCewDlE4l72pAZ995C8UmxFuFkEXKgznHLzZOv1MH99I/80bSX7NG0771W5igz6AkJufzFUqg+CyCPlNinr04UvNZzDwuLmYeUvLamPPktZQ8q6iH+noOGyR9epqiWCbk05mQ33oojn5LvYo2FLyeXn+iJpU++2z2jjSyR70DwJDw5poZvPwVBAQBQUAQEAQEAUFAEBAEBAFBQBAQBAQBQUAQEAQEAUFAEBAEBAFBQBAQBAQBQUAQOL4RyPPEfNrBQ7Rx8q+0dsBwOjU9hhISEmnPwQNUvEldKt+8MSXkz+dTAlnEOaTaD+0glfYHxSQtpIO7l9K2FX/T1kU7afeGfZSekkr5kmIpgc+fxy8GpDxL0GuBeSM1z6Q8ePmsEDPjAyEPGxcxD/X1IOJTmZBP5euW9NNoRcaltDSjNm2JuZJOLRhDQx/LT+VKF8si5Tk4TfoLIe9TkGItCAgCgoAgIAgIAoKAICAICAKCgCAgCAgCgoAgIAgIAoKAICAICAKCgCAgCAgCgsBxjUCeJ+aBrsrIoL9/mk2r+4+g2J17qHCD2nR+u2ZMyiflDH7GIUrd8wUlnLKAVOouJsEVxbCEvFJxtGtDAiVvKEc71qyineuWU9qBfRSr0iiRz6GPh2p7Poc+FqQ5/2dB/QDDSeIwMon5dJaOT+Oz41PTYymNw40tVJSKVbiIEktVpG4TL6A1O8/jaA9p/4WS0mnAE2fSRRWK8rNN9QsxHwCwPAgCgoAgIAgIAoKAICAICAKCgCAgCAgCgoAgIAgIAoKAICAICAKCgCAgCAgCgoAgkEcQOCGIeYP15tkL6N+lq6jSXQ0p32mnGOvgVybPD+6eRftTPqEiZ6ZpVfMg1Pfui2O+/WI6/YxWTI8nUOrO1bTn799pz6Y1tHvjakrZvpkOH0hmlfeH2Q//oKMeRDyMJuvjWbqeVejH56P4QqdRviKlqHDZ/1GR0v+jU0tVoPxFyrHXg/Tl1JW0+d8UKpQf5H4snVYoH91QrQKdcuppHBDCE0IekIoRBAQBQUAQEAQEAUFAEBAEBAFBQBAQBAQBQUAQEAQEAUFAEBAEBAFBQBAQBAQBQSCvInBCEfORFoJKT6PkXd9TXMJXlJ6aTvv2lqCkpFpMyteg2HzZCX6VlkzpB3bR4f07KHX/bjqUcoDSDiUzQZ+mSfmYmHiKTSpISQULUWKhwpSv4Bn8fDrFxNkS/EYaXoj3SMtN/AkCgoAgIAgIAoKAICAICAKCgCAgCAgCgoAgIAgIAoKAICAICAKCgCAgCAgCgoAgkBcQEGI+q5Qy1EHa+vdoFnYvREUL16CEAsWz3jCBDkl4/MxZ7/oaZvFqafqscIzXAP33QtAbWOQqCAgCgoAgIAgIAoKAICAICAKCgCAgCAgCgoAgIAgIAoKAICAICAKCgCAgCAgCgsCJhIAQ81ZppqUdYHXyifyLs2xxy4S6bYzKetsulHtPQl8I+VCgEzeCgCAQHgIHDx6k2bPn0IUXXkBnnnlmeJ7FtSAgCAgCgoAgIAgIAoKAICAICAKCgCAgCAgCgoAgIAgIAoKAICAICAKCQK4iIMR8RHC6iPqQwxASPmSownC4deu/NHjwEFq4cBGtXLWKTjnlFKpU6X900403UpMmd1BCQkIYoWV3umvXLvr8i3E0aeJkWrd+PYHwrFKlMlWpXJnuuqsJlS9/XnZPLhvFmzlGjhxNM2fNct506NBOh+FY8M306b/S6DGf2Va+99dUr07Nmt3t+/7AgQM0ctRo+umnn2nlylU63RdccD5dddWV1KZ1KypcuLCvX/MiJSWFfv75F5o/fwHNmDmLNm7cSNWrV6Mrr7yCEP/551cyTo/6FeU8hrGZv2ABredy2LFjJ5Urd44u6ypVqtCdd9xOBQoUOOrpyAsRpKenU+0bbqK//tqokzvxh++pYsWKuZb0DRs20Ftvv6vDa9CgPtW95eaIwp40aTJ9/c232i/CQFhiBAFBQBAQBAQBQUAQEAQEAUFAEBAEBAFBQBAQBAQBQUAQEAQEAUFAEDgRERBi/kQs1ZMoT199/Q116fKYb47LlClNw4Z9TGXLlPF1E+zFpk1/U5O77qYtW7b4OuvW7Vlq1bIFxcW5NS1ketmzZw899fSzNHHipIAwBvTvRzfddGOAXa9efej9Xr0D7Pwe7mpyJ7355uuer1fxBoV772vF5PUOz/ewHDx4INW+vpbve2xIaNW6LS1ZssTXzRtv9KCmvDnhaJq0tDR64423aPCQoUGjKVq0KD3xeFe68847fMsiaADH0cu9e/fS2rV/6hSVLVuGihQpElbqVq9eQ3Vuruv4ee65Z6jt/W2c52hvsDnizjub6mC6dH6UHnnkoYiC7NPnA+r53vvab8cO7enJJx+PKBzxJAgIAoKAICAICAKCgCAgCAgCgoAgIAgIAoKAICAICAKCgCAgCAgCgsDxjoAQ88d7CUn6fBGYNu1Hur9tO+c9iNmqVS+n/fv306+/znDsS5QoQd98PS5sdd4g4xvf3iSAlEccFSqU1yrCnQj45qGHOtFjXbvYVvoeBOZDDz0aEIZx5EXMP/HkU/T55+O0k4IFC1JSUpJxnu16xx2N6Zmnn8pmDynp2+9oEkDK16pVU2sOmMlS78DHmM/GjKIrrqhqHp0rpNPvaXYvrVu3zrG76KKLGMMzaNGixQFh5zbp60TIN/v27aNODz4cUJ54j3IoWbIEp299QH7wrk2bVvR8t+dwm2fN5MlTqF37jjr93V99hZo3vyfsvLRs1YZ++WW6xuqrL7+gs88+K+ww/DzkFjH/wYf96J13eupo/NqQXxrEXhAQBAQBQUAQEAQEAUFAEBAEBAFBQBAQBAQBQUAQEAQEAUFAEBAEBIG8hIAQ83mptCStDgJQ017juusdgvje5s3o2Wefpvz582s3UHXesdPDBMlxGBCbIDhDNVAFflOdug4xDXJ/6JCBrDY9U3V7SsoBrVb9lVe7O0H+8vOPVLr02c6zW5ofhP4555xDIF1hvIh5kOE4FxxmxfIlTn60RYh/OnV6iCb8MFG7rnr55dS793tMYpfUz5DEfuGFlxz14eXKlaPJkyZkkzDv+tgT9OWXX2k/yPOnw4bSGWec4aRgyJCP6dXurznPy5ctPipq5B9/4in64ovMjQqIrEWL++j+Nq0JmhCMWb58Bb3zbk+tst/YvfB8N2rduqV5zHPX3CDmkel//vmHihcvnq18owUkt4j5jz4aQG++9bZOTudHH6FHH3042qSJf0FAEBAEBAFBQBAQBAQBQUAQEAQEAUFAEBAEBAFBQBAQBAQBQUAQEASOSwSEmD8ui0USlRMCwz4dTi+++LJ2du2119DHQwdnIx8hOV6zVm0nqOm//BSy1DDOZW/dpq32C+nsL774zFMd/sCBg6jH629qd/Xr16O+fXo58YG4BoENg40Bzz37DPUfMJCgrh7Gi5ivVr2Glq6HtPyypYu0u3D+4Cz5evUbai9I9w8Tvgsg1PEiNTWV7rjzLlq2bLl217vXe9SwYQN9jz/YdHBh5Yuc5/nz5niqUn/ttddp0OAh2t3QIYMIUvm5aewyQLjudNpxKaX0hoPhI0Y61vPmztbS4o5FHrrJLWL+aGU5t4h5u/107dKZHn74waOVZAlXEBAEBAFBQBAQBAQBQUAQEAQEAUFAEBAEBAFBQBAQBAQBQUAQEAQEgf8UASHm/1P4JfJIEYCq9oULM4nrzz8fQ5dfdplnUD16vEEDBw3W78KRorb94fxsnKPtZTIyMuiiiy9z1KkvmP8bFS5cWDs1xPwHfXtTvXp1tR3Oj/cj5nGWeoWK52t3UBv/9VdfeEUZ1A7ndePcbpinnnyCOnQ4ourf9jh16jRq+0B7bYVz7rFJwJg1a9aytoBb9OPVV19Fo0YON68CrjNmzORz7DOl0tu1a+upVj/AQ5gPTZrcTfPmz9e+QlFzDi0HjRrf4Ww4ePnlF6nFffc6sW7a9LdTFxo2qEdVqlShGaza/+eff6EFfORAhQoVqOe7mdLbxhPCnDJlqlal/9fGjdr6fxUrUuUqlak+l2lcXJxx6nnFhgGEP+e337Ta/R3bd1Cx4sXowgsvoEa33UqlSpUK8Pftt99xnhdoLQH2kQPQFABzTfVqVKfOTQF+/B6weQXn1MfGxlC35571TSs2aHw/frxO386dO6kUa1coz9odbm/cKFv6TFxexDzsZs6YRYuXLKFDhw7ROWXL0g031KbrrqvBaYg1XgOug4cMpe7de2i7xx/vSg926hjwXh4EAUFAEBAEBAFBQBAQBAQBQUAQEAQEAUFAEBAEBAFBQBAQBAQBQUAQOFEQEGL+RCnJkygfICwrV7lE5xgq5mfNnO6b+6XLltGttzbW790EtK8nfvHgQ4/Q+PETtJPhn35C11xT3df5I492IRCqMLbkONTJX3DB+QGS9sGIeagdv+baTKlzEPkg9MM19oaFX6f/RGed5X2uOAjn8hUy1fJDOn/xovkOcbtnGTxEwgAAIKhJREFUzx5Wtz9VR13u3HN8Nz3YxDw2AGAjQG6ZzZs3U/VrrtPBIX2Qfk9KSsox+EmTJlP7Dp20O6jxHzt2tOPHJpNB2s+Z85tTxnBUufKF9O03mer78bx9+3a6q2kz5zgD2NkGKv67d3/ZF5/Fi5fQC6zVYQkT1X6mW7dntWp+8/6ZZ7vR6NFjzGO2a9v729Bzzz2Tzd7LonnzFjRz1iz96vdVyykxMTHAGerAE08+7RxZEPAy6+H5bs9Rmzatsr2yscSmFYRtVNK7HV966SU0cMBHntoLPvlkGL308qvaS7CNJO4w5VkQEAQEAUFAEBAEBAFBQBAQBAQBQUAQEAQEAUFAEBAEBAFBQBAQBASBvIaAEPN5rcQkvTR37jwmTO/RSEB9OshwPwOS+ZJLq+rX4aiHt89pHzFiGFWvVs0vCrLPQfcjMo3nYMS8TXZCAv2eu5vSzJmzae2fayk+Pp6lrC+kyvw799xyJriA6+HDh6ni/y5w7NasXuWQ7Y6ldVO3XkNatWqVtpk0cQJLjJe33uZ8+/bb79KH/T7SDoOpmc85pOwuQE6DpIa5797m9MorL+n7UP78v737DpOiyvo4foYBBkYf46roKoKy+Bp2QZEgwTWxSg4SJC9JRMkZ1EVAyTCEIcMiCA6ZIQyIAuuqIKyAhEGSMLACosAiBuJAv3VuWzXVPd093S7Ds/R87wN01a1b1V2fbv761T1XA2dtMTExPjO13b5a5v/kyZPO5XS/cKFCTpB/9uxZadS4qVOVQQfqmDx58pilBpwTrY01qz/M9J0cP35cnn6molNJQccXLHiPmYG+Y0eqT39Cwggze17HqOfKlR84s/61T5s+NKCtdq1a0ry5t0qB6QjxT1bBvLsqhH0Z/Yy6BIS7jR0zSqpWreLuErel/zmFCxfO9DCD9i1ftkTi4/P7XMe9JEWfPr2kdauWPsfZQQABBBBAAAEEEEAAAQQQQAABBBBAAAEEEEAAAQSiRYBgPlq+yRx0Hx+s+lDatvWuRR1OaFv4vj84OlmF1fZALa+tZba1hVr7WsvPV3jyaSes7dSxg3Ts2N6+TKbXUMH88uUp0r5DJ3OOPkTgLmXuvlDLFs2la9fOkj+/b8ipM7xLlvI+QKBh6T8/Xus+LdO2++GDuXPel1KlSmYaE6zj4MGDJni2j/9r43q57bbb7N3/+nXEyARJTBxvrqOzrZ977tn/+pruMFkvpsbDhg2xHrooIzfeeKNzfV2eQKsgpKSsMH368EfPHt3kgQceMGH/gQNpMnjIUKuqwGpzXGfmz5kz2+chiGZ/bSGffPKpOa7LEowYPlSKFLnfeY+JEyc7M8z9Z/broCuxxnyoYN49U10dBg96x5Scv+GGG0SrFaxcuUp0KQa7zUmaLaVLl7J3fYJ5u1N/k3Xr1JE7rFL9P//8s3z66WdmRr79O277ShvpYTm62+zZSfLGm38zXVk91OI+j20EEEAAAQQQQAABBBBAAAEEEEAAAQQQQAABBBBA4FoTIJi/1r4xPq/MnTdfevXqYyR69ewhbdq0Dqninhm+ZfMX1hrwN4UcrwfdwajOlF66ZFHA9bYnTJwkQ4cOd66nobmWJw/WQgXzU6ZMlYGDhgQ71adfy6gnL14gcXFxTr8Gxs8+9xezr+t6z3j3786xQBvuGdORhN/nzp2Tho2aOLPJs2Omc8+evWXe/AXmY6u9rgf/3zb/YH7limWijv5NA+WmzZqbbj2+wCqHr+G1u/30009StVoNZ3a5ewkDHafryusDJFu3bpOk92fJTTdlBP/2dapVr+nMjN+3d5epimAfc//+3h7QXxo18laIsI+H8xosmP/xxx+lWPESziUmTRwfcN364cNHyrjxE8w4raagVRXs5m9Zp05tGTY08293qbXEQ0frIQe77fpqh8+SBO7KCP3e+ps0bdrEHsorAggggAACCCCAAAIIIIAAAggggAACCCCAAAIIIBBVAgTzUfV15oybmTJ1mmiorC1h5HCpWbNGyBtv1bqNrFnjnT2us8h1NnlWzX8mvJbinjghUYoWLWpO1eOJ48bL6NFjfS712qttpVu3Lj597p1QwbzOHtZZ+mlpaaasfPt2r0mJEo/JLbfcIqk7d1rB6Eei9243/5n8uqZ5zVovmsMvWWXwBw182x4a8FXfSysDaBs5YpjUqlUz4Dh3p/9scg1stUS5//rl7nN+y3bLlq1l7T8+NqcG+870AYGxY8eJx+MJ+BZayr5Ll07OTHZ3mFyy5OMyb25SwPN0Brd+F9pCVRLQkvOvvuatjtC7V0/R5Qciaa+16+Cscb9q1Qop+oeMyg7ZGcwnL1kqnTt3NR+1SpXKkjh2dMCPrUsjPP9CFacs/eqPVsn9999nxrottWNn6jarTH18wOs0b9FKPv74n+bYtGlT5Jmnn3LG6cMX+hCGNl2uQCtg0BBAAAEEEEAAAQQQQAABBBBAAAEEEEAAAQQQQACBaBQgmI/GbzXK72nW7PflzTf7mrvs16+vNG3SOOQd1637kmzavNmM2bhhvdx+e3gl1w8dOiQv1qkfcC1y+3r+bzxgQD9p3Kihf7ezHyqYtwdp0KyhcqDmP6veXUJ+z5498kKlqua0Si88L+PHJwa6hNPn/izjx42VSpVecI4F2xg0eIhMnjzVHNZZ5CnLl8i9994bbPhv7u/UqYssWbrMnB9sZvupU6fksRIZ5dUDvdnO1O3OuubuMDnUAxTuCgvz5yVZSwYEDpz3HzjgzAYPNmPc/ky67v3hw4fl8JEjcuTIUVNtQGeL223p0sXyx0cesXd9KjZc6Rnz7u9w6NDBVvl578Mczpu7Nvq+1V9mznzP9IxLHCOVK1cy225LLdW/JHmh6yzfTXdViT69e0rr1hkPMCxYsMgqd9/TnDDwnQHSoMFLviezhwACCCCAAAIIIIAAAggggAACCCCAAAIIIIAAAghEiQDBfJR8kTnpNpZZ5bF1DXBtOktZZyuHao+XLOOE61/t3J5pbfZQ52p5+Hr1Gzjn+4/V2b8VKz4nvfu8YQ5NnjTB7PuPs/fdYXhWY+1z/F8bNGwsGzZsNN0zZ0yXChXKm21dG7xsuSfNtpZg10A7VOvStbssXpxshsx6b4aUK1c21HCZNGmKWVvdHqQzznXmeXY0d5n9WbOsz1Y282f74YfT8uhjod8/WDDfuVNH6dChXcCP/sgfi4u9LnrAAQE6A4XTx48fl2XLUmR5SopT9j/Aqabragbz7oceFi2cL48+WjzYxxL3QzBv9X1TmjVrasa6g/l6devIkCGDgl5j9eo10vrlV8zx1q1aii59YLfk5CXSuYt33fnBgwdK/Xp17UO8IoAAAggggAACCCCAAAIIIIAAAggggAACCCCAAAJRJUAwH1VfZ864GV2/+6/NW5qbzWpmuJY7f/ChjPXJ0w7sixjp5MmTZr3zf1il1TWov+WWm+WhBx80JfSfeurPMmZMoiSM8pYDT168UIoV+1PQ97gSwbyu+63rf2tzr++uYbKGytp0Nnvqjq1mO9g/7koC/sGw/znukuN6LNi65P7n/dZ993IFXbt0lnbtXg14KS237m5nzpyR4o9mhPX7v94juXLlMkPcYXKoYL7wfRkl5d3XDrWtyyNoyX277dixQxo0bBI04H/kkYfl22+POQ98+PtnZyl799IOa1Z/KPfdV9j+2JleV6xYKVpyX5su0aCVBrS5LVu2aC5vvNHH9Af6Rx8i0YdJtGmpei1Zbzf3GvS6Rr1WHqAhgAACCCCAAAIIIIAAAggggAACCCCAAAIIIIAAAtEoQDAfjd9qlN/T0aNHpVz5P5u7zGpm+MGDB+XpZyqasTozWGcIX+mmM3515q+2z9d/JgUK3BH0La5EML98eYq079DJvEerli3k9de9a3RrxxNlK8ixY8fMsa1fbpIbb7zRbAf6x11JQEN8DfMDtVWrPpRX2r7mHLoaAaoG29VreENaXcf+w1UrnfcPtbFp0yapW6+BGeIflrvD5FDBvNtw6ZJFEpcvX6i3NMfi4uLk3oIFzXZ6erp5OMCedX/rrbdK8+bNzMx0HVOgQAGz7v2wYSNk/ISJ5pyrGcxrdQe7jL7/mu/+N5o4bryMGJFgugcPekfq169ntt2W+nDK9L97lzfwP1/3k5LmSJ/X3zSHOnXsYJX/b+8M0wdd1q1fb/afKFNGihS53znGBgIIIIAAAggggAACCCCAAAIIIIAAAggggAACCCAQTQIE89H0beage3GHp+vXfSJ33nlnwLuf+d4s6du3nzkWal1x/5N1DfkvvthkusuVfUK0VHmgpjPyy1d4ysx8Dif4DxXMa7h/+vRpibFmeDdq2MCEt4Hec8jQYTJx4mRzyD1jXjvcoevYMaOkatUqgS4hu3btlspVqpljgcqw2yd9/vkGadioib0r7nLmTmc2bHg8HlOW337IINS9uN8+MdEKkkd6g2T/agruMDlUMK9LF9jfvX9g7n6vYNvbt2+XGjW967brzPik92fJ9ddfn2l4t+49ZeHCRabf/32yc8b82LHjZGTCKPO+ugyELgcRrLVr31FSUlaYwxq+awivzW2pDx5s+mKD6Q/0T7/+A+Tdd2eaQ4MGvi0vvVQ/0DD6EEAAAQQQQAABBBBAAAEEEEAAAQQQQAABBBBAAIGoFiCYj+qvN3pv7q1+A2TGDG/YF2ydeQ3Nn3+hsvz7398YiDlJs6V06VJhoXz88T+leQtvYFm4cGFrxvYKyZ07d6Zzp0+fIf0HvG36R49OkOrVqmYa4+4IFcxryXAtHa4t2Jrvek+Vq1SXtLQ0M869xrx2rPxglbz6qnftdA3cFy2cFzDgd68v36VzJ2nfPmNGvLmw9Y971rr2hQqz7XOu5Kt7TXudzb98WbIUKlQo6Fu4vzMd5D8b3B0mh7qXyZOnyqDBQ8z7qIv6BGpauWH1mrVSpkxp+UORIhITE2OGLVq0WLp262G23eXf3de4fPmy/KnYY06p+1DBfL9+faVpE28pePc1stpu1KiprP/8czNsz+6dkjdvXrO9bdt2qVnL++CAzt5f9UGK3HDDDZkut3fvXuv/T8aDHTtTt0l8fLwZ57bUjmlTJ8szzzyd6Rrfffe9PPvcX5z7/Mfaj0J+h5kuQAcCCCCAAAIIIIAAAggggAACCCCAAAIIIIAAAgggECUCBPNR8kXmtNv45pvD8uSfM4LAyZMmSMWKzzkMly5dkl69+8iCBd4ZyYFms+/dt0/Gj5sgFy5csMLstqKzm+2m55cuU85ZA1zX0Na1tN1trbXmfMuWrU2XBsebN20ULWkeqoUK5t0l6rV8+7SpU+See+52Lqfrqbe1Qvc1VhisTWcqb9ywzid4189d8S+VnOBeH1ro2aO7s866njd33nzp1StjTfAtm/8lN998sx5ympYYr16jlhOo+pfMdwaG2AjlG+I055Der5az3717t+lT41EJI0wAbK8brwf0ntWkzSsZ69DrEgca5MfGxjrXc4fJoYL5w4ePSIUnn3LOC1S6X9/z5ZdfEf0NaOvRo5u0faWN2dbPW6mytxqB/ib1t+luGsr/re9bMnt2ktPtH8xreffGjZuZ4y++WFuGD/M+KOCcEMZGsGBeqxHoAyv79n1trlKrVk0ZOWKYzxXPnz8v1arXdMY0aPCSDHxngDPGbamd+t2sXfOR3H77bc4YvU99uOWTTz41ffr/a9nSZOe4bnz99X5Tzl//D2pFiwcf/D+f4+wggAACCCCAAAIIIIAAAggggAACCCCAAAIIIIAAAtEiQDAfLd9kDryPgQMHy5Sp05w714CxxGOPSXr6RZkzd74T6OqAuXPel1KlSjpjdcMdXAZaq17LxWvZeLtpyFq+fDmz+9ln60TLjdstUHhrH3O/hgrmf/75ZynzRHknDNewU0PZB4oWlf0H9svq1Wuc2f96zUUL55t1y93X120d19oKje32eIkSVsha1czoXrduveia8Xbr3r2rvNo2Y6z2f//9casUe21nrXrta9q0iTMjXPf9W24rANeHF9wtK1/32GDbOmu79ov1HBMdpxUMKlQoL7dYDxPsSE2VDRs2+hxXt5SUpc6a7/a13WFyqGBex/vPvq9mVUJ4wpoZX8SaGX/48GGZPGWa8/vS99PlFOxZ5xpIlypd1nmoQ0vq16tX14TXe/fukw8/+sgJq+3P5h/Mawl/Xa7Bbm3atBb9jd5lLdng/zu2x/i/uv3dM+Z13JEjR0y5/ZMnT5rT9EGQalWryv333ydbtnwpyUuWOp9ffz8zZ06X/PnzO2/htrQ79UGRatWqSMnHHzeB+/KUFCfY1zHz5yXJ49Yxd2vS9K+i/5e0hVpSwX0O2wgggAACCCCAAAIIIIAAAggggAACCCCAAAIIIIDAtShAMH8tfmt8ZiOgs5Y7durirIEdjCXBmmVds0b1TIfd69RruLpt62afGdY6s3jc+AkyYoR3zfJMF/i1Y4xVwl6D23BaqGBez9fAVGcZ27OZg10zWChvj5/53izp27efvRvwtVGjBjKgf79Mgfunn34mTZv5VgcIeAG/zrQD+3x6svL1GRxiR2ewt2iZtYleQgPmxLGjpaj1MIN/c4fJWQXzeq5WW+jeo6f/ZXz29Xej72evvW4f1GC7c+eu9m7AVz1HHwDQ5h/Ma597DXrd16bn6Frv4bRQwbyev3PnV1K1Wo2Ql9KHIBYumGdVVLjJZ5zbslPHDtaDMPN8HuTwGWztvP56b9GqC/7N/zeyfdsWn+oO/uPZRwABBBBAAAEEEEAAAQQQQAABBBBAAAEEEEAAAQSuVQGC+Wv1m+NzGwEN5xcvXiIjRiZkCgZ1dnvXLp2lePFiAbUWL04WXWtdW6h1vFeu/EDeT5rjzOzV8RrI6vWbNG4k5cqV1a6w2pgxiZIwarQZ678Gun2Bn376SUaPHivr1n/uzMq2j+ms/Y4d2svDDz9kdwV91Znk+lDBps2bfcZo2Nqta2d5wZrJ7S4Jbw/SWfWNm3jLqNt94bz6B/Ph+oZzbS11vsL6HqZPnyHbt2/PdIqWSddZ6XWsCgPumd3ugVu3bpNateuYLv1dtGuXUfrePc69vWLFSpkwcZKkpu50d5vtKlUqy5tvvC533HF7pmPasXHjv6RHz14+VQ60X2e+Dx06yPyehg4drl1W2f0lmb7TM2fOyOgxY0XXvHe3A/v3ZnqYwn3c3s4qmNdxut78yIRRmWbw67F6detIx47t5a677tJdn+a2fOftAfL88xXN/yW7bL09WO+1e7cuAdef1zHu30j//m+Z/0/2ubwigAACCCCAAAIIIIAAAggggAACCCCAAAIIIIAAAtEkQDAfTd9mDr+XEydOyHfffW/Nes8lBQsWlPj4+CxFzpw5a43xhDVWHwJISztowuxChe4NGGpn+YYRDtDy9gcPHpK8efOYgPT666+P8Aoieo1vvjlszitQ4I5M68lHfMEITojEN9zLnjt3zjyE8eOPP1ohfLwJxu0y8uFeI9JxWlr+22+Pia69fuddd8rdv/+9T3WFUNc7deqUqYCgJe71oYhgQX6wa+jv7vjx43LhwkX53e9uDeu3qtdq0LCxKfOv2/6l7LXP3fT/zpEjR+WXM7/IzTfdLPfcc7f8lt/a6dOnrYdJ9pj/GwUKFJC77/59lg8RZMdvxH1vbCOAAAIIIIAAAggggAACCCCAAAIIIIAAAggggAAC/wsCBPP/C98CnwEBBBC4ggIa5hcrXkJ++eUXU91hx/YvswzIr+DbcykEEEAAAQQQQAABBBBAAAEEEEAAAQQQQAABBBBAAAE/AYJ5PxB2EUAAgWtZ4OzZs5KUNFcGvP2OuQ1dcuG9me9ey7fEZ0cAAQQQQAABBBBAAAEEEEAAAQQQQAABBBBAAAEErnkBgvlr/ivkBhBAAAGvQGrqTqlWvaYPR5/ePaV161Y+fewggAACCCCAAAIIIIAAAggggAACCCCAAAIIIIAAAghcXQGC+avrzbshgAAC2SbwxRebpF79Bs7169SpLUMGDzJrvjudbCCAAAIIIIAAAggggAACCCCAAAIIIIAAAggggAACCFx1AYL5q07OGyKAAALZI7B//wFJGDVaHn74ISlW7E9SulQpiY2NzZ4346oIIIAAAggggAACCCCAAAIIIIAAAggggAACCCCAAAJhCxDMh03FQAQQQAABBBBAAAEEEEAAAQQQQAABBBBAAAEEEEAAAQQQQAABBCIXIJiP3IwzEEAAAQQQQAABBBBAAAEEEEAAAQQQQAABBBBAAAEEEEAAAQQQCFuAYD5sKgYigAACCCCAAAIIIIAAAggggAACCCCAAAIIIIAAAggggAACCCAQuQDBfORmnIEAAggggAACCCCAAAIIIIAAAggggAACCCCAAAIIIIAAAggggEDYAgTzYVMxEAEEEEAAAQQQQAABBBBAAAEEEEAAAQQQQAABBBBAAAEEEEAAgcgFCOYjN+MMBBBAAAEEEEAAAQQQQAABBBBAAAEEEEAAAQQQQAABBBBAAAEEwhYgmA+bioEIIIAAAggggAACCCCAAAIIIIAAAggggAACCCCAAAIIIIAAAghELkAwH7kZZyCAAAIIIIAAAggggAACCCCAAAIIIIAAAggggAACCCCAAAIIIBC2AMF82FQMRAABBBBAAAEEEEAAAQQQQAABBBBAAAEEEEAAAQQQQAABBBBAIHIBgvnIzTgDAQQQQAABBBBAAAEEEEAAAQQQQAABBBBAAAEEEEAAAQQQQACBsAUI5sOmYiACCCCAAAIIIIAAAggggAACCCCAAAIIIIAAAggggAACCCCAAAKRCxDMR27GGQgggAACCCCAAAIIIIAAAggggAACCCCAAAIIIIAAAggggAACCIQtQDAfNhUDEUAAAQQQQAABBBBAAAEEEEAAAQQQQAABBBBAAAEEEEAAAQQQiFyAYD5yM85AAAEEEEAAAQQQQAABBBBAAAEEEEAAAQQQQAABBBBAAAEEEEAgbAGC+bCpGIgAAggggAACCCCAAAIIIIAAAggggAACCCCAAAIIIIAAAggggEDkAgTzkZtxBgIIIIAAAggggAACCCCAAAIIIIAAAggggAACCCCAAAIIIIAAAmELEMyHTcVABBBAAAEEEEAAAQQQQAABBBBAAAEEEEAAAQQQQAABBBBAAAEEIhcgmI/cjDMQQAABBBBAAAEEEEAAAQQQQAABBBBAAAEEEEAAAQQQQAABBBAIW4BgPmwqBiKAAAIIIIAAAggggAACCCCAAAIIIIAAAggggAACCCCAAAIIIBC5AMF85GacgQACCCCAAAIIIIAAAggggAACCCCAAAIIIIAAAggggAACCCCAQNgCBPNhUzEQAQQQQAABBBBAAAEEEEAAAQQQQAABBBBAAAEEEEAAAQQQQACByAUI5iM34wwEEEAAAQQQQAABBBBAAAEEEEAAAQQQQAABBBBAAAEEEEAAAQTCFiCYD5uKgQgggAACCCCAAAIIIIAAAggggAACCCCAAAIIIIAAAggggAACCEQusGvXbom/Ll5iChUu4gnn9LQD+8IZxhgEEEAAAQQQQAABBBBAAAEEEEAAAQQQQAABBBBAAAEEEEAAAQQQsAQI5vkZIIAAAggggAACCCCAAAIIIIAAAggggAACCCCAAAIIIIAAAgggkI0CBPPZiMulEUAAAQQQQAABBBBAAAEEEEAAAQQQQAABBBBAAAEEEEAAAQQQIJjnN4AAAggggAACCCCAAAIIIIAAAggggAACCCCAAAIIIIAAAggggEA2ChDMZyMul0YAAQQQQAABBBBAAAEEEEAAAQQQQAABBBBAAAEEEEAAAQQQQGDX7t1yXXy8xBQqXMQTDkfagX3hDGMMAggggAACCCCAAAIIIIAAAggggAACCCCAAAIIIIAAAggggAACOV7A4/HI7j17CeZz/C8BAAQQQAABBBBAAAEEEEAAAQQQQAABBBBAAAEEEEAAAQQQQACBbBE4d+6cHDx0SOKvu06YMZ8txFwUAQQQQAABBBBAAAEEEEAAAQQQQAABBBBAAAEEEEAAAQQQQCAnC3x//IT859R/mDGfk38E3DsCCCCAAAIIIIAAAggggAACCCCAAAIIIIAAAggggAACCCCAQPYJ7N27T2JiYiR/fH5hxnz2OXNlBBBAAAEEEEAAAQQQQAABBBBAAAEEEEAAAQQQQAABBBBAAIEcKHDs2Hdy/MRxU8Y+Pr8VzLds9bJnzZq1WVKkHdiX5RgGIIAAAggggAACCCCAAAIIIIAAAggggAACCCCAAAIIIIAAAgggkJMFTp06JQfS0iQ+/jrRUD4ufz6JSV6yzLN+/XpJTl4iFy5cCOpDMB+UhgMIIIAAAggggAACCCCAAAIIIIAAAggggAACCCCAAAIIIIAAAgjI0aPfyuEjRySfFcbHx8dLvrh8EheXV2K2bt/uOX/uvHz11VeSmrpTtmz50hp8VM6fP+/DRjDvw8EOAggggAACCCCAAAIIIIAAAggggAACCCCAAAIIIIAAAggggEAOF/B4PHLmzBk59cMPcuLESTMZPi5fnOTPl8+E8nmt7by5c0vMnr17PRrCn7dmy1+8eFHS0y+J5/JluWz99TiI1pb3j9PDBgIIIIAAAggggAACCCCAAAIIIIAAAggggAACCCCAAAIIIIAAAjlFIEZvNOMfs5krVy6Jsf7mzh0refLkkbi8ea0Z8lYYr3+t7bxWX+7YWIk5eOjfnosXL1jJ/UW5mH5RLlnBvIby3mD+12jevHhcQX1OoeU+EUAAAQQQQAABBBBAAAEEEEAAAQQQQAABBBBAAAEEEEAAAQQQ+DWT1zjehPP6EiMazOvfWA3mc+exwvg8VkCfV/JYrzpTPtb6a8L7o8eOedLT0yX9YrpcuqR/vcG857JHzJz5X7N5L3TGTsYWXwECCCCAAAIIIIAAAggggAACCCCAAAIIIIAAAggggAACCCCAAALRJ/BrBv/rjbn2rE1rrrw1W94bzsdas+JjY3NL7jzWXyuM11ny+tcE9zpj/sSJE570SzpD3hvIX7K2tZS9zo834bsV0BPCR98PiDtCAAEEEEAAAQQQQAABBBBAAAEEEEAAAQQQQAABBBBAAAEEEIhcwMTzViCvr/qvlrKPjfXOnM+VSwN5e9t61XA+Jkb+H4EWbDbsfrZtAAAAAElFTkSuQmCC)"
      ],
      "metadata": {
        "id": "H94d2SCMWXDe"
      }
    },
    {
      "cell_type": "code",
      "source": [],
      "metadata": {
        "id": "u0mQZ5ztWbTs"
      },
      "execution_count": null,
      "outputs": []
    }
  ]
}