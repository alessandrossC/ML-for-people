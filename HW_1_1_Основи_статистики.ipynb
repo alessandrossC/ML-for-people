{
  "nbformat": 4,
  "nbformat_minor": 0,
  "metadata": {
    "colab": {
      "provenance": [],
      "include_colab_link": true
    },
    "kernelspec": {
      "name": "python3",
      "display_name": "Python 3"
    },
    "language_info": {
      "name": "python"
    }
  },
  "cells": [
    {
      "cell_type": "markdown",
      "metadata": {
        "id": "view-in-github",
        "colab_type": "text"
      },
      "source": [
        "<a href=\"https://colab.research.google.com/github/alessandrossC/ML-for-people/blob/main/HW_1_1_%D0%9E%D1%81%D0%BD%D0%BE%D0%B2%D0%B8_%D1%81%D1%82%D0%B0%D1%82%D0%B8%D1%81%D1%82%D0%B8%D0%BA%D0%B8.ipynb\" target=\"_parent\"><img src=\"https://colab.research.google.com/assets/colab-badge.svg\" alt=\"Open In Colab\"/></a>"
      ]
    },
    {
      "cell_type": "markdown",
      "source": [
        "В цьому домашньому завданні відпрацюємо з вами знання, отримані в модулі зі статистики.\n",
        "\n",
        "**Завдання 1.** Ми обговорили з Вами на лекції, що велика літера Сігма грецького алфавіту позначає в математиці суму. Знайдіть з використанням Python $\\Sigma x$, $\\Sigma x^2$, та $\\Sigma (x-1)^2$ для наступного набору даних:\n",
        "`1 3 4`\n",
        "Виведіть результат кожного обчислення на екран."
      ],
      "metadata": {
        "id": "SDhaTqxcWhnP"
      }
    },
    {
      "cell_type": "code",
      "source": [
        "data = [1, 3, 4]\n",
        "sum_x = sum(data)\n",
        "sum_x2 = sum(x**2 for x in data)\n",
        "sum_x3= sum((x-1)**2 for x in data)\n",
        "print (\"Σx =\", sum_x)\n",
        "print (\"Σx^2 =\", sum_x2)\n",
        "print (\"Σ(x-1)^2 =\", sum_x3)"
      ],
      "metadata": {
        "id": "B1mgx_IBT0e8",
        "colab": {
          "base_uri": "https://localhost:8080/"
        },
        "outputId": "331d61a7-e616-4e66-ff4c-24227a0ac585"
      },
      "execution_count": 45,
      "outputs": [
        {
          "output_type": "stream",
          "name": "stdout",
          "text": [
            "Σx = 8\n",
            "Σx^2 = 26\n",
            "Σ(x-1)^2 = 13\n"
          ]
        }
      ]
    },
    {
      "cell_type": "markdown",
      "source": [
        "**Завдання 2.** Ми зібрали дані про суму покупок в гривнях 20ма випадково обраними клієнтами в нашому магазині (всього клієнтів у нас більше) за минулий місяць. Вони представлені в змінній `sum_purchases`. Знайдіть **вибіркове середнє** для цих даних кожним з зазначених методів:   \n",
        "\n",
        "  2.1. без використання жодних бібліотек, користуючись тільки Python.  \n",
        "  2.2. використовуючи відповідний метод бібліотеки `numpy`.\n",
        "\n",
        "  Виведіть результат обчислень в кожному з випадків на екран та порівняйте результати. Вони співпадають?"
      ],
      "metadata": {
        "id": "fa78aW5lhiia"
      }
    },
    {
      "cell_type": "code",
      "execution_count": 46,
      "metadata": {
        "id": "_9kMt3rq6V5m"
      },
      "outputs": [],
      "source": [
        "sum_purchases = [ 316,  493,  367,  153,  224,  121,  322,  450,  196,  397,  281,\n",
        "  239,  484,  124,  223,  448,  432,  255, 4310, 3524]"
      ]
    },
    {
      "cell_type": "code",
      "source": [
        "mean_sum_purchases1 = sum(sum_purchases) / len(sum_purchases)\n",
        "print(\"Вибіркове середнє1:\", mean_sum_purchases1 )\n",
        "\n",
        "import numpy as np\n",
        "mean_sum_purchases2 = np.mean(sum_purchases)\n",
        "print(\"Вибіркове середнє2:\", mean_sum_purchases2)"
      ],
      "metadata": {
        "id": "wPmL919HT1c0",
        "colab": {
          "base_uri": "https://localhost:8080/"
        },
        "outputId": "98982ed6-0772-4c4b-d740-3990d1248011"
      },
      "execution_count": 47,
      "outputs": [
        {
          "output_type": "stream",
          "name": "stdout",
          "text": [
            "Вибіркове середнє1: 667.95\n",
            "Вибіркове середнє2: 667.95\n"
          ]
        }
      ]
    },
    {
      "cell_type": "markdown",
      "source": [
        "**Завдання 3.** Для того ж набору даних в змінній `sum_purchases` обчисліть **медіану** кожним з зазначених методів:  \n",
        "\n",
        "  3.1. без використання жодних бібліотек, користуючись тільки Python.  \n",
        "  3.2. використовуючи відповідний метод бібліотеки numpy.  \n",
        "\n",
        "Виведіть результат обчислень в кожному з випадків на екран. Порівняйте результати зі значенням вибіркового середнього. Напишіть коментар, для яких задач ви б використовували вибіркове середнє, а для яких - медіану?"
      ],
      "metadata": {
        "id": "FMdoxZd0kZdW"
      }
    },
    {
      "cell_type": "code",
      "source": [
        "def mediana(sum_purchases):\n",
        "  sorted_data = sorted(sum_purchases)\n",
        "  n = len(sorted_data)\n",
        "  mid = n//2\n",
        "  if n % 2 == 0:\n",
        "    return (sorted_data[mid - 1] + sorted_data[mid]) / 2\n",
        "  else:\n",
        "    return sorted_data[mid]\n",
        "\n",
        "mediana1 = mediana(sum_purchases)\n",
        "\n",
        "mediana2 = np.median(sum_purchases)\n",
        "\n",
        "print (\"Медіана без бібліотек:\", mediana1)\n",
        "print (\"Медіана з бібліотекою:\", mediana2)\n",
        "print (\"Середнє значення більше медіани, що свідчить про вплив великих значень (викидів) - 4310, 3524\")\n",
        "print (\"Вибіркове середнє підходить для аналізу продажів, середнього чеку. Медіана - аналізу чеку та аналізу розподілу продажів\")"
      ],
      "metadata": {
        "id": "x58BumvuT2nl",
        "colab": {
          "base_uri": "https://localhost:8080/"
        },
        "outputId": "a9a1efc2-96fe-4053-e8e8-47b86e956ea4"
      },
      "execution_count": 48,
      "outputs": [
        {
          "output_type": "stream",
          "name": "stdout",
          "text": [
            "Медіана без бібліотек: 319.0\n",
            "Медіана з бібліотекою: 319.0\n",
            "Середнє значення більше медіани, що свідчить про вплив великих значень (викидів) - 4310, 3524\n",
            "Вибіркове середнє підходить для аналізу продажів, середнього чеку. Медіана - аналізу чеку та аналізу розподілу продажів\n"
          ]
        }
      ]
    },
    {
      "cell_type": "markdown",
      "source": [
        "**Завдання 4**. Обчислість стандартне відхилення наведеної вибірки в змінній `sum_purchases` кожним з зазначених методів:  \n",
        "\n",
        "  4.1. без використання жодних бібліотек, користуючись тільки Python.  \n",
        "  4.2. використовуючи відповідний метод бібліотеки numpy.  \n",
        "\n",
        "Виведіть результат обчислень в кожному з випадків на екран."
      ],
      "metadata": {
        "id": "o1Z7az2yNDQV"
      }
    },
    {
      "cell_type": "code",
      "source": [
        "def std_manual(sum_purchases):\n",
        "    mean = sum(sum_purchases) / len(sum_purchases)\n",
        "    variance = sum((x - mean) ** 2 for x in sum_purchases) / len(sum_purchases)\n",
        "    return variance ** 0.5\n",
        "\n",
        "\n",
        "std1 = std_manual(sum_purchases)\n",
        "\n",
        "import numpy as np\n",
        "std2 = np.std(sum_purchases)\n",
        "\n",
        "print(\"Стандартне відхилення (без бібліотек):\", std1)\n",
        "print(\"Стандартне відхилення (з numpy):\", std2)"
      ],
      "metadata": {
        "id": "X4ixtmL2T642",
        "colab": {
          "base_uri": "https://localhost:8080/"
        },
        "outputId": "fe8da28d-88bc-4408-a66a-9966ad0d3081"
      },
      "execution_count": 49,
      "outputs": [
        {
          "output_type": "stream",
          "name": "stdout",
          "text": [
            "Стандартне відхилення (без бібліотек): 1096.0692713054227\n",
            "Стандартне відхилення (з numpy): 1096.0692713054227\n"
          ]
        }
      ]
    },
    {
      "cell_type": "markdown",
      "source": [
        "**Завдання 5**. Ми провели дослідження віку студентів-першокурсників. Виявилось, що\n",
        "- 10 студентів мають вік 16 років\n",
        "- 25 студентів - 17 років\n",
        "- 20 студентів - 18 років\n",
        "- 2 студенти - 20 років\n",
        "\n",
        "Обчислість середнє значення для цієї вибірки будь-яким способом - на чистому Python або з numpy - та виведіть результат на екран."
      ],
      "metadata": {
        "id": "M1ntKTjXLVlH"
      }
    },
    {
      "cell_type": "code",
      "source": [
        "ages = [16, 17, 18, 20]\n",
        "frequencies = [10, 25, 20, 2]\n",
        "\n",
        "total_stud = sum(frequencies)\n",
        "weight_sum = sum(age * freq for age, freq in zip(ages, frequencies))\n",
        "mean_age = weight_sum / total_stud\n",
        "print(\"Середній вік:\", mean_age)"
      ],
      "metadata": {
        "id": "RdIU4M-7T8R4",
        "colab": {
          "base_uri": "https://localhost:8080/"
        },
        "outputId": "c92bc2a5-f2bf-4869-94b7-42dc96e3c13e"
      },
      "execution_count": 50,
      "outputs": [
        {
          "output_type": "stream",
          "name": "stdout",
          "text": [
            "Середній вік: 17.280701754385966\n"
          ]
        }
      ]
    },
    {
      "cell_type": "markdown",
      "source": [
        "**Завдання 6**. Крім даних про суму покупок, ми зібрали ще дані про кількість відвідувань кожного з кожного покупця, які знаходяться в змінній `visits`. Обчисліть коефіцієнт кореляції Пірсона для суми покупок і кількості відвідувань кожним з зазначених методів:  \n",
        "\n",
        "  6.1. без використання жодних бібліотек, користуючись тільки Python.  \n",
        "  6.2. використовуючи відповідний метод бібліотеки numpy.  \n",
        "  \n",
        "Виведіть результат на екран. Проаналізуйте результат.\n",
        "\n",
        "Виведіть додатково графік розсіювання викликавши код нижче і зробіть заключення, чи варто щось змінити при підрахунку кореляції, аби коефіцієнт Пірсона показував коректну оцінку лінійної залежності?"
      ],
      "metadata": {
        "id": "Xx8MFkkVM53z"
      }
    },
    {
      "cell_type": "code",
      "source": [
        "visits = [ 6,  2, 10,  3,  9,  9,  2,  3,  6,  6, 10,  2,  5, 10,  3,  5,  4,\n",
        "        7,  4,  2]"
      ],
      "metadata": {
        "id": "4OIGBT7UOWhO"
      },
      "execution_count": 51,
      "outputs": []
    },
    {
      "cell_type": "code",
      "source": [
        "def pearson_correlation(x, y):\n",
        "    n = len(x)\n",
        "    mean_x = sum(x) / n\n",
        "    mean_y = sum(y) / n\n",
        "    numer = sum((xi - mean_x) * (yi - mean_y) for xi, yi in zip(x, y))\n",
        "    denominat_x = sum((xi - mean_x) ** 2 for xi in x)\n",
        "    denominat_y = sum((yi - mean_y) ** 2 for yi in y)\n",
        "    denominat = (denominat_x * denominat_y) ** 0.5\n",
        "    return numer / denominat\n",
        "\n",
        "pearson1 = pearson_correlation(sum_purchases, visits)\n",
        "print(\"Коефіцієнт кореляції Пірсона (без бібліотек):\", pearson1)\n",
        "\n",
        "pearson2 = np.corrcoef(sum_purchases, visits)[0, 1]\n",
        "print(\"Коефіцієнт кореляції Пірсона:\", pearson2)"
      ],
      "metadata": {
        "id": "YLNF7VbeT97Q",
        "colab": {
          "base_uri": "https://localhost:8080/"
        },
        "outputId": "d04a919e-1dcb-44b9-d5b6-a41d4b9c0b06"
      },
      "execution_count": 54,
      "outputs": [
        {
          "output_type": "stream",
          "name": "stdout",
          "text": [
            "Коефіцієнт кореляції Пірсона (без бібліотек): -0.3026584468766646\n",
            "Коефіцієнт кореляції Пірсона: -0.3026584468766646\n"
          ]
        }
      ]
    },
    {
      "cell_type": "code",
      "source": [
        "import matplotlib.pyplot as plt\n",
        "\n",
        "plt.scatter(sum_purchases, visits)\n",
        "plt.title('Scatter Plot of Purchases vs. Visits')\n",
        "plt.xlabel('Sum of Purchases')\n",
        "plt.ylabel('Number of Visits');"
      ],
      "metadata": {
        "colab": {
          "base_uri": "https://localhost:8080/",
          "height": 472
        },
        "id": "gaeoGA-5Prr1",
        "outputId": "b73f17a2-088d-4adb-b8b4-80765b95765a"
      },
      "execution_count": 55,
      "outputs": [
        {
          "output_type": "display_data",
          "data": {
            "text/plain": [
              "<Figure size 640x480 with 1 Axes>"
            ],
            "image/png": "[encoded data removed]"
          },
          "metadata": {}
        }
      ]
    },
    {
      "cell_type": "markdown",
      "source": [
        "**Завдання 7**. В попередньому завданні ми помітили, що викиди нам заважають отримати \"правдиве\" значення кореляції. Давайте вилучимо записи, які відповідають значенням з викидами в сумі покупок і обчисліть коеф. кореляції. Для цього поставте `threshold`, який дорінює середньому значенню + 2 стандартних вдіхилля суми покупок і всі значення, які більше за нього, будемо вважати викидами (є і інші правила для визначення викидів - з ним и познайомимось пізніше).\n",
        "\n",
        "Вилучіть значення з обох масивів і обчисліть коеф. кореляції Пірсона з допомогою `numpy` для кількості візитів і суми покупок без записів-викидів. Виведіть результат на екран, побудуйте діаграму розсіювання і проаналізуйте результат: що можемо сказати про залежність в даних?"
      ],
      "metadata": {
        "id": "4pEg0KzSQ6KA"
      }
    },
    {
      "cell_type": "code",
      "source": [
        "threshold = mean_sum_purchases2 + 2 * std2\n",
        "print (\"середнє значення + 2 стандартних вдіхилля суми покупок:\", threshold)\n",
        "\n",
        "filter_data = [(sp, v) for sp, v in zip(sum_purchases, visits) if sp <= threshold]\n",
        "filter_sum_purchases, filter_visits = zip(*filter_data)\n",
        "print(\"Кількість викидів:\", len(sum_purchases) - len(filter_sum_purchases))\n",
        "filter_pearson = np.corrcoef(filter_sum_purchases, filter_visits)[0, 1]\n",
        "print(\"Коефіцієнт кореляції Пірсона без викидів:\", filter_pearson)\n",
        "\n",
        "plt.scatter(filter_sum_purchases, filter_visits, alpha=0.7)\n",
        "plt.title('Scatter Plot of Purchases vs. Visits (Filtered)')\n",
        "plt.xlabel('Sum of Purchases')\n",
        "plt.ylabel('Number of Visits')\n",
        "plt.grid(True)\n",
        "plt.show()"
      ],
      "metadata": {
        "id": "Yj3Yfaf7UBbc",
        "colab": {
          "base_uri": "https://localhost:8080/",
          "height": 523
        },
        "outputId": "ddadb4cc-c56f-45de-de62-93826053d3cc"
      },
      "execution_count": 64,
      "outputs": [
        {
          "output_type": "stream",
          "name": "stdout",
          "text": [
            "середнє значення + 2 стандартних вдіхилля суми покупок: 2860.0885426108453\n",
            "Кількість викидів: 2\n",
            "Коефіцієнт кореляції Пірсона без викидів: -0.3685212078127798\n"
          ]
        },
        {
          "output_type": "display_data",
          "data": {
            "text/plain": [
              "<Figure size 640x480 with 1 Axes>"
            ],
            "image/png": "[encoded data removed]"
          },
          "metadata": {}
        }
      ]
    },
    {
      "cell_type": "code",
      "source": [
        "print(\"Після видалення викидів коефіцієнт кореляції Пірсона становить -0,369. Це свідчить про помірну зворотну залежність між сумою покупок і кількістю відвідувань: у міру збільшення кількості відвідувань сума покупок зменшується. Видалення викидів дозволило краще відобразити взаємозв'язок у даних\")\n"
      ],
      "metadata": {
        "colab": {
          "base_uri": "https://localhost:8080/"
        },
        "id": "5PRh7evpB_wz",
        "outputId": "fdd1af67-1547-404f-ab60-033dfd739038"
      },
      "execution_count": 65,
      "outputs": [
        {
          "output_type": "stream",
          "name": "stdout",
          "text": [
            "Після видалення викидів коефіцієнт кореляції Пірсона становить -0,369. Це свідчить про помірну зворотну залежність між сумою покупок і кількістю відвідувань: у міру збільшення кількості відвідувань сума покупок зменшується. Видалення викидів дозволило краще відобразити взаємозв'язок у даних\n"
          ]
        }
      ]
    },
    {
      "cell_type": "code",
      "source": [],
      "metadata": {
        "id": "xpfeVDGWE0fT"
      },
      "execution_count": null,
      "outputs": []
    }
  ]
}