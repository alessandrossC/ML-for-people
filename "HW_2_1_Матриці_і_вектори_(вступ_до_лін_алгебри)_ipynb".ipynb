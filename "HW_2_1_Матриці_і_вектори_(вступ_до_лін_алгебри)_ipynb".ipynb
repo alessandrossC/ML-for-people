{
  "nbformat": 4,
  "nbformat_minor": 0,
  "metadata": {
    "colab": {
      "provenance": [],
      "include_colab_link": true
    },
    "kernelspec": {
      "name": "python3",
      "display_name": "Python 3"
    },
    "language_info": {
      "name": "python"
    }
  },
  "cells": [
    {
      "cell_type": "markdown",
      "metadata": {
        "id": "view-in-github",
        "colab_type": "text"
      },
      "source": [
        "<a href=\"https://colab.research.google.com/github/alessandrossC/ML-for-people/blob/main/%22HW_2_1_%D0%9C%D0%B0%D1%82%D1%80%D0%B8%D1%86%D1%96_%D1%96_%D0%B2%D0%B5%D0%BA%D1%82%D0%BE%D1%80%D0%B8_(%D0%B2%D1%81%D1%82%D1%83%D0%BF_%D0%B4%D0%BE_%D0%BB%D1%96%D0%BD_%D0%B0%D0%BB%D0%B3%D0%B5%D0%B1%D1%80%D0%B8)_ipynb%22.ipynb\" target=\"_parent\"><img src=\"https://colab.research.google.com/assets/colab-badge.svg\" alt=\"Open In Colab\"/></a>"
      ]
    },
    {
      "cell_type": "markdown",
      "source": [
        "### Завдання 1: Створення матриць та векторів\n",
        "1. Створіть `numpy` вектор `vector` розмірністю 10 з випадковими дійсними значеннями в діапазоні від 0 до 1. Можна скористатись двома альтернативними варіантами:\n",
        "  1. Генерація випадкових чисел з модулем [`random.uniform`](https://docs.python.org/3/library/random.html).\n",
        "  2. Створення вектора з допомогою метода `numpy` [np.random.rand](https://numpy.org/doc/stable/reference/random/generated/numpy.random.rand.html)\n",
        "\n",
        "2. Створіть матрицю `matrix` типу `numpy.array` розмірності 3x3 з наступними значеннями\n",
        "\n",
        "  $$\n",
        "  matrix = \\begin{bmatrix}\n",
        "  11 & 14 & 17 \\\\\n",
        "  20 & 23 & 26 \\\\\n",
        "  29 & 32 & 35\n",
        "  \\end{bmatrix}\n",
        "  $$\n",
        "\n",
        "  будь-яким відомими Вам способом.\n",
        "\n",
        "Виведіть на екран вектор і матрицю, а також їх розміри.\n"
      ],
      "metadata": {
        "id": "efug1V4CM0lT"
      }
    },
    {
      "cell_type": "code",
      "source": [
        "import numpy as np\n",
        "import random\n",
        "vector1 = np.array([random.uniform(0, 1) for _ in range(10)])\n",
        "print(vector1)\n",
        "\n",
        "vector2 = np.random.rand(10)\n",
        "print (vector2)"
      ],
      "metadata": {
        "id": "jxA_lG2_VIMe",
        "colab": {
          "base_uri": "https://localhost:8080/"
        },
        "outputId": "78c356d0-6ead-4aa0-938c-be338ae4c5a4"
      },
      "execution_count": 1,
      "outputs": [
        {
          "output_type": "stream",
          "name": "stdout",
          "text": [
            "[0.21133074 0.02276067 0.90457497 0.5352499  0.99592319 0.12254779\n",
            " 0.40668807 0.52310308 0.53141948 0.2988872 ]\n",
            "[0.31018625 0.70887258 0.20812849 0.13747005 0.00158192 0.43865336\n",
            " 0.87164478 0.78233519 0.91492241 0.74017435]\n"
          ]
        }
      ]
    },
    {
      "cell_type": "code",
      "source": [
        "matrix = np.array([\n",
        "    [11, 20, 29],\n",
        "    [14, 23, 32],\n",
        "    [17, 26, 35]\n",
        "])\n",
        "print(\"\\nMatrix:\")\n",
        "print(matrix)\n",
        "print(\"Розмір векрора1:\", vector1.shape)\n",
        "print(\"Розмір векрора2:\", vector2.shape)\n",
        "print(\"Розмір матриці:\", matrix.shape)"
      ],
      "metadata": {
        "colab": {
          "base_uri": "https://localhost:8080/"
        },
        "id": "PtsmPFecAz_f",
        "outputId": "f64a5330-2c82-4834-96c6-9cc01b75e29a"
      },
      "execution_count": 2,
      "outputs": [
        {
          "output_type": "stream",
          "name": "stdout",
          "text": [
            "\n",
            "Matrix:\n",
            "[[11 20 29]\n",
            " [14 23 32]\n",
            " [17 26 35]]\n",
            "Розмір векрора1: (10,)\n",
            "Розмір векрора2: (10,)\n",
            "Розмір матриці: (3, 3)\n"
          ]
        }
      ]
    },
    {
      "cell_type": "markdown",
      "source": [
        "\n",
        "### Завдання 2: Операції над векторами та матрицями\n",
        "Виконайте кожну з зазначених операцій над зазначеними оʼєктами і виведіть результат на екран:\n",
        "1. Додайте до кожного значення вектора `vector` число 10 і округліть кожне значення до 2 знаків після коми без використання циклів.\n",
        "2. Помножте кожен елемент матриці з першого завдання на 2 без використання циклів.\n",
        "3. Створіть новий вектор, який містить квадрат кожного `vector` без циклів.\n"
      ],
      "metadata": {
        "id": "TSJ1P4OuOVe2"
      }
    },
    {
      "cell_type": "code",
      "source": [
        "vector1_add_10 = np.round(vector1 + 10, 2)\n",
        "print(\"\\nVector1 після додавання 10 та округлення:\", vector1_add_10)\n",
        "matrix_2 = matrix * 2\n",
        "print(\"\\n Матриця після множення на 2:\")\n",
        "print(matrix_2)\n",
        "vector2 = np.square(vector1)\n",
        "print(\"\\n Новий вектор, який містит квадрат кожного vector1 \", vector2)"
      ],
      "metadata": {
        "id": "nAAojtyUVJXN",
        "colab": {
          "base_uri": "https://localhost:8080/"
        },
        "outputId": "e18f1b75-b489-497c-9c82-a31269a7ba7e"
      },
      "execution_count": 3,
      "outputs": [
        {
          "output_type": "stream",
          "name": "stdout",
          "text": [
            "\n",
            "Vector1 після додавання 10 та округлення: [10.21 10.02 10.9  10.54 11.   10.12 10.41 10.52 10.53 10.3 ]\n",
            "\n",
            " Матриця після множення на 2:\n",
            "[[22 40 58]\n",
            " [28 46 64]\n",
            " [34 52 70]]\n",
            "\n",
            " Новий вектор, який містит квадрат кожного vector1  [4.46606817e-02 5.18048049e-04 8.18255870e-01 2.86492452e-01\n",
            " 9.91862994e-01 1.50179610e-02 1.65395187e-01 2.73636836e-01\n",
            " 2.82406660e-01 8.93335584e-02]\n"
          ]
        }
      ]
    },
    {
      "cell_type": "markdown",
      "source": [
        "\n",
        "### Завдання 3: Множення матриць\n",
        "1. Задані дві матриці `A` і `B`розмірностями 3x2 та 2х3. Виконайте їхнє множення, щоб отримати матрицю 2x2. Виведіть результуючу матрицю `result_matrix` на екран.\n",
        "\n",
        "2. Заданий вектор `C` розмірністю 2х1. Подумайте спочатку, яку розмірність Ви отрмаєте, коли домножите `result_matrix` на вектор `C` і який результат буде. А потім виконайте множення і виведіть результат на екран.\n",
        "\n",
        "3. Задана матриця `D` розмірністю 2х2. Подумайте спочатку, яку розмірність Ви отрмаєте, коли домножите `result_matrix` на матрицю `D` і який результат буде. А потім виконайте множення і виведіть результат на екран."
      ],
      "metadata": {
        "id": "u6RvWVfhPy-k"
      }
    },
    {
      "cell_type": "code",
      "source": [
        "A = np.array(\n",
        "    [[0.18, 0.53],\n",
        "     [0.75, 0.47],\n",
        "     [0.35, 0.21]])\n",
        "\n",
        "B = np.array(\n",
        "    [[0.17, 0.58, 0.75],\n",
        "     [0.38, 0.11, 0.15]])\n",
        "\n",
        "C = np.array([[0], [1]])\n",
        "\n",
        "D = np.array([[0,1], [1,0]])\n",
        "\n",
        "display(A, B, C, D)"
      ],
      "metadata": {
        "id": "RwXfPzlbSJ44",
        "colab": {
          "base_uri": "https://localhost:8080/",
          "height": 178
        },
        "outputId": "6968d832-118c-4911-bc47-a5ff9f4dd3ca"
      },
      "execution_count": 4,
      "outputs": [
        {
          "output_type": "display_data",
          "data": {
            "text/plain": [
              "array([[0.18, 0.53],\n",
              "       [0.75, 0.47],\n",
              "       [0.35, 0.21]])"
            ]
          },
          "metadata": {}
        },
        {
          "output_type": "display_data",
          "data": {
            "text/plain": [
              "array([[0.17, 0.58, 0.75],\n",
              "       [0.38, 0.11, 0.15]])"
            ]
          },
          "metadata": {}
        },
        {
          "output_type": "display_data",
          "data": {
            "text/plain": [
              "array([[0],\n",
              "       [1]])"
            ]
          },
          "metadata": {}
        },
        {
          "output_type": "display_data",
          "data": {
            "text/plain": [
              "array([[0, 1],\n",
              "       [1, 0]])"
            ]
          },
          "metadata": {}
        }
      ]
    },
    {
      "cell_type": "code",
      "source": [
        "# Завданн1\n",
        "A1 = A.T\n",
        "B1 = B.T\n",
        "result_matrix = np.dot(A1, B1)\n",
        "print(\"Результат множення матриць А та B:\")\n",
        "print(result_matrix)"
      ],
      "metadata": {
        "id": "z7-boTbhVKkj",
        "colab": {
          "base_uri": "https://localhost:8080/"
        },
        "outputId": "c990b54f-c89f-47b3-d5e6-321b95ee99ff"
      },
      "execution_count": 5,
      "outputs": [
        {
          "output_type": "stream",
          "name": "stdout",
          "text": [
            "Результат множення матриць А та B:\n",
            "[[0.7281 0.2034]\n",
            " [0.5202 0.2846]]\n"
          ]
        }
      ]
    },
    {
      "cell_type": "code",
      "source": [
        "# Завдання2\n",
        "final_result = np.dot(result_matrix, C)\n",
        "\n",
        "final_result"
      ],
      "metadata": {
        "colab": {
          "base_uri": "https://localhost:8080/"
        },
        "id": "Xu2Ci1ynL_oX",
        "outputId": "ca43b560-0ecb-4448-8942-d9b75b445b92"
      },
      "execution_count": 6,
      "outputs": [
        {
          "output_type": "execute_result",
          "data": {
            "text/plain": [
              "array([[0.2034],\n",
              "       [0.2846]])"
            ]
          },
          "metadata": {},
          "execution_count": 6
        }
      ]
    },
    {
      "cell_type": "code",
      "source": [
        "# Завдання3\n",
        "result_matrix_D = np.dot(result_matrix, D)\n",
        "result_matrix_D"
      ],
      "metadata": {
        "colab": {
          "base_uri": "https://localhost:8080/"
        },
        "id": "z1ZS4OqYM4Vg",
        "outputId": "a51dfccc-244b-4f77-8d2a-e7e4a13a1148"
      },
      "execution_count": 7,
      "outputs": [
        {
          "output_type": "execute_result",
          "data": {
            "text/plain": [
              "array([[0.2034, 0.7281],\n",
              "       [0.2846, 0.5202]])"
            ]
          },
          "metadata": {},
          "execution_count": 7
        }
      ]
    },
    {
      "cell_type": "markdown",
      "source": [
        "\n",
        "### Завдання 4: Транспонування матриць\n",
        "1. Транспонуйте `result_matrix`.\n",
        "2. Зробіть транспонування вектора `vector` і виведіть форму нової структури. Чи бачите ви зміну?\n",
        "3. Використайте операцію `numpy.expand_dims` над вектором `vector` з аргументом axis=1. Запишіть отриманий результат в змінну `column_vector` і виведіть на екран. Порівняйте з `vector`.\n",
        "4. Зробіть транспонування `column_vector`, виведіть результат на екран разом з розмірностями отриманої структури.\n",
        "\n",
        "\n"
      ],
      "metadata": {
        "id": "wohp0_cxSGpl"
      }
    },
    {
      "cell_type": "code",
      "source": [
        "result_matrix_transposed = result_matrix.T\n",
        "vector_transposed = vector1.T\n",
        "print(\"Трранспонована матриця:\")\n",
        "print(result_matrix_transposed)\n",
        "print(\"Розмір матриці після транспонування:\", result_matrix_transposed.shape)\n",
        "print(\"\\nТрранспонований вектор:\")\n",
        "print(vector_transposed)\n",
        "print(\"Розмір вектору після транспонування:\", vector_transposed.shape)"
      ],
      "metadata": {
        "id": "4hFcq1baVLii",
        "colab": {
          "base_uri": "https://localhost:8080/"
        },
        "outputId": "35fb1a8a-e4e0-4b86-d844-c58b3cb374fc"
      },
      "execution_count": 8,
      "outputs": [
        {
          "output_type": "stream",
          "name": "stdout",
          "text": [
            "Трранспонована матриця:\n",
            "[[0.7281 0.5202]\n",
            " [0.2034 0.2846]]\n",
            "Розмір матриці після транспонування: (2, 2)\n",
            "\n",
            "Трранспонований вектор:\n",
            "[0.21133074 0.02276067 0.90457497 0.5352499  0.99592319 0.12254779\n",
            " 0.40668807 0.52310308 0.53141948 0.2988872 ]\n",
            "Розмір вектору після транспонування: (10,)\n"
          ]
        }
      ]
    },
    {
      "cell_type": "markdown",
      "source": [
        "Транспонування одномірного вектора не змінює його форму. Результат залишається таким самим"
      ],
      "metadata": {
        "id": "0XQb12NOLBDP"
      }
    },
    {
      "cell_type": "code",
      "source": [
        "# Додавання осі для створення column_vector\n",
        "column_vector = np.expand_dims(vector1, axis=1)\n",
        "\n",
        "print(\"column_vector:\")\n",
        "print(column_vector)\n",
        "print(\"Розмір column_vector:\", column_vector.shape)\n",
        "\n",
        "# Транспонування column_vector\n",
        "transposed_column_vector = column_vector.T\n",
        "print(\"transposed_column_vector\")\n",
        "print(transposed_column_vector)\n",
        "print(\"Розмір транспонованого column_vector:\", transposed_column_vector.shape)"
      ],
      "metadata": {
        "colab": {
          "base_uri": "https://localhost:8080/"
        },
        "id": "PiLHQ8jaLEHT",
        "outputId": "42585ee7-0b55-4d95-cab7-7c02c97c1b27"
      },
      "execution_count": 10,
      "outputs": [
        {
          "output_type": "stream",
          "name": "stdout",
          "text": [
            "column_vector:\n",
            "[[0.21133074]\n",
            " [0.02276067]\n",
            " [0.90457497]\n",
            " [0.5352499 ]\n",
            " [0.99592319]\n",
            " [0.12254779]\n",
            " [0.40668807]\n",
            " [0.52310308]\n",
            " [0.53141948]\n",
            " [0.2988872 ]]\n",
            "Розмір column_vector: (10, 1)\n",
            "transposed_column_vector\n",
            "[[0.21133074 0.02276067 0.90457497 0.5352499  0.99592319 0.12254779\n",
            "  0.40668807 0.52310308 0.53141948 0.2988872 ]]\n",
            "Розмір транспонованого column_vector: (1, 10)\n"
          ]
        }
      ]
    },
    {
      "cell_type": "markdown",
      "source": [
        "Початковий вектор vector є одномірним, тому його форма (10,).\n",
        "Використання np.expand_dims додало новий вимір, перетворивши його на вектор-стовпець (10,1).\n",
        "Транспонування column_vector перетворило його у вектор-рядок (1,10).\n",
        "Тепер форма вектора змінюється в залежності від кількості осей."
      ],
      "metadata": {
        "id": "BAjyWc7PMYTV"
      }
    }
  ]
}