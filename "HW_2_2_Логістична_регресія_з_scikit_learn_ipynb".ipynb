{
  "nbformat": 4,
  "nbformat_minor": 0,
  "metadata": {
    "colab": {
      "provenance": [],
      "include_colab_link": true
    },
    "kernelspec": {
      "name": "python3",
      "display_name": "Python 3"
    },
    "language_info": {
      "name": "python"
    }
  },
  "cells": [
    {
      "cell_type": "markdown",
      "metadata": {
        "id": "view-in-github",
        "colab_type": "text"
      },
      "source": [
        "<a href=\"https://colab.research.google.com/github/alessandrossC/ML-for-people/blob/main/%22HW_2_2_%D0%9B%D0%BE%D0%B3%D1%96%D1%81%D1%82%D0%B8%D1%87%D0%BD%D0%B0_%D1%80%D0%B5%D0%B3%D1%80%D0%B5%D1%81%D1%96%D1%8F_%D0%B7_scikit_learn_ipynb%22.ipynb\" target=\"_parent\"><img src=\"https://colab.research.google.com/assets/colab-badge.svg\" alt=\"Open In Colab\"/></a>"
      ]
    },
    {
      "cell_type": "markdown",
      "source": [
        "В цьому домашньому завданні ми побудуємо рішення задачі логістичної регресії і створимо ваш перший submission на змагання на Kaggle. Усі кроки були розглянуті в лекції та містяться в ноутбуці `Логістична регресія з ScikitLearn. Повна ML задача.ipynb`, але тепер ми їх адаптуємо до іншої задачі - все як в реальному житті, коли ви знайшли код у відкритих джерелах і адаптуєте на проєкті 😉\n",
        "\n",
        "**Погнали! 🚀🚀🚀**\n",
        "\n",
        "-----------\n",
        "\n",
        "\n",
        "\n",
        "0. Завантажте дані `train.csv`, `test.csv`, `sample_submission.csv` зі змагання на Kaggle [\"Bank Customer Churn Prediction (DLU Course)\"](https://www.kaggle.com/competitions/bank-customer-churn-prediction-dlu-course-c-2). Для завантаження потрібно долучитись до змагання (натиснути кнопку \"Join\").\n",
        "\n",
        "1. Зчитайте дані `train.csv` в pandas dataframe та розбийте їх на train і validation піднабори.\n",
        "\n",
        "  * Є такий параметр в методі train_test_split як stratified. Можливо він буде Вам корисним при розбитті даних в цій задачі. Пропоную Вам почитати про нього в документації і спробувати скористатись."
      ],
      "metadata": {
        "id": "gJ2A6t3mdEed"
      }
    },
    {
      "cell_type": "code",
      "source": [
        "!pip install opendatasets"
      ],
      "metadata": {
        "collapsed": true,
        "colab": {
          "base_uri": "https://localhost:8080/"
        },
        "id": "U_30YEgZjbb4",
        "outputId": "5e8bc1ad-22fb-461f-b5d3-45c839b4a880"
      },
      "execution_count": 2,
      "outputs": [
        {
          "output_type": "stream",
          "name": "stdout",
          "text": [
            "Collecting opendatasets\n",
            "  Downloading opendatasets-0.1.22-py3-none-any.whl.metadata (9.2 kB)\n",
            "Requirement already satisfied: tqdm in /usr/local/lib/python3.11/dist-packages (from opendatasets) (4.67.1)\n",
            "Requirement already satisfied: kaggle in /usr/local/lib/python3.11/dist-packages (from opendatasets) (1.6.17)\n",
            "Requirement already satisfied: click in /usr/local/lib/python3.11/dist-packages (from opendatasets) (8.1.8)\n",
            "Requirement already satisfied: six>=1.10 in /usr/local/lib/python3.11/dist-packages (from kaggle->opendatasets) (1.17.0)\n",
            "Requirement already satisfied: certifi>=2023.7.22 in /usr/local/lib/python3.11/dist-packages (from kaggle->opendatasets) (2024.12.14)\n",
            "Requirement already satisfied: python-dateutil in /usr/local/lib/python3.11/dist-packages (from kaggle->opendatasets) (2.8.2)\n",
            "Requirement already satisfied: requests in /usr/local/lib/python3.11/dist-packages (from kaggle->opendatasets) (2.32.3)\n",
            "Requirement already satisfied: python-slugify in /usr/local/lib/python3.11/dist-packages (from kaggle->opendatasets) (8.0.4)\n",
            "Requirement already satisfied: urllib3 in /usr/local/lib/python3.11/dist-packages (from kaggle->opendatasets) (2.3.0)\n",
            "Requirement already satisfied: bleach in /usr/local/lib/python3.11/dist-packages (from kaggle->opendatasets) (6.2.0)\n",
            "Requirement already satisfied: webencodings in /usr/local/lib/python3.11/dist-packages (from bleach->kaggle->opendatasets) (0.5.1)\n",
            "Requirement already satisfied: text-unidecode>=1.3 in /usr/local/lib/python3.11/dist-packages (from python-slugify->kaggle->opendatasets) (1.3)\n",
            "Requirement already satisfied: charset-normalizer<4,>=2 in /usr/local/lib/python3.11/dist-packages (from requests->kaggle->opendatasets) (3.4.1)\n",
            "Requirement already satisfied: idna<4,>=2.5 in /usr/local/lib/python3.11/dist-packages (from requests->kaggle->opendatasets) (3.10)\n",
            "Downloading opendatasets-0.1.22-py3-none-any.whl (15 kB)\n",
            "Installing collected packages: opendatasets\n",
            "Successfully installed opendatasets-0.1.22\n"
          ]
        }
      ]
    },
    {
      "cell_type": "code",
      "source": [
        "import pandas as pd\n",
        "import numpy as np\n",
        "from sklearn.impute import SimpleImputer\n",
        "from sklearn.preprocessing import MinMaxScaler, OneHotEncoder\n",
        "from sklearn.compose import ColumnTransformer\n",
        "from sklearn.pipeline import Pipeline\n",
        "from sklearn.model_selection import train_test_split\n",
        "from sklearn.linear_model import LogisticRegression\n",
        "from sklearn.metrics import f1_score, confusion_matrix\n",
        "from sklearn.metrics import roc_auc_score\n",
        "from sklearn.metrics import accuracy_score\n",
        "import matplotlib.pyplot as plt\n",
        "import seaborn as sns\n",
        "import joblib\n",
        "import os\n",
        "import opendatasets as od"
      ],
      "metadata": {
        "id": "2J2bS-kL2cHV"
      },
      "execution_count": 29,
      "outputs": []
    },
    {
      "cell_type": "code",
      "source": [
        "# Download the dataset\n",
        "od.download('https://www.kaggle.com/competitions/bank-customer-churn-prediction-dlu-course-c-2/data?select=sample_submission.csv')\n",
        "od.download('https://www.kaggle.com/competitions/bank-customer-churn-prediction-dlu-course-c-2/data?select=test.csv')\n",
        "od.download('https://www.kaggle.com/competitions/bank-customer-churn-prediction-dlu-course-c-2/data?select=train.csv')"
      ],
      "metadata": {
        "colab": {
          "base_uri": "https://localhost:8080/"
        },
        "id": "YvK7DTGajv10",
        "outputId": "271570c7-5700-42d1-9cac-0121a7d3a4d4"
      },
      "execution_count": 4,
      "outputs": [
        {
          "output_type": "stream",
          "name": "stdout",
          "text": [
            "Please provide your Kaggle credentials to download this dataset. Learn more: http://bit.ly/kaggle-creds\n",
            "Your Kaggle username: oleksandrchekoi\n",
            "Your Kaggle Key: ··········\n",
            "Downloading bank-customer-churn-prediction-dlu-course-c-2.zip to ./bank-customer-churn-prediction-dlu-course-c-2\n"
          ]
        },
        {
          "output_type": "stream",
          "name": "stderr",
          "text": [
            "100%|██████████| 637k/637k [00:00<00:00, 83.7MB/s]"
          ]
        },
        {
          "output_type": "stream",
          "name": "stdout",
          "text": [
            "\n",
            "Extracting archive ./bank-customer-churn-prediction-dlu-course-c-2/bank-customer-churn-prediction-dlu-course-c-2.zip to ./bank-customer-churn-prediction-dlu-course-c-2\n",
            "Skipping, found downloaded files in \"./bank-customer-churn-prediction-dlu-course-c-2\" (use force=True to force download)\n",
            "Skipping, found downloaded files in \"./bank-customer-churn-prediction-dlu-course-c-2\" (use force=True to force download)\n"
          ]
        },
        {
          "output_type": "stream",
          "name": "stderr",
          "text": [
            "\n"
          ]
        }
      ]
    },
    {
      "cell_type": "code",
      "source": [
        "df = pd.read_csv('/content/bank-customer-churn-prediction-dlu-course-c-2/train.csv')\n",
        "print(df.head())"
      ],
      "metadata": {
        "colab": {
          "base_uri": "https://localhost:8080/"
        },
        "id": "bU9RMHwulxbN",
        "outputId": "496cb538-03cb-447e-95ca-e33bc3fb327c"
      },
      "execution_count": 5,
      "outputs": [
        {
          "output_type": "stream",
          "name": "stdout",
          "text": [
            "   id  CustomerId   Surname  CreditScore Geography  Gender   Age  Tenure  \\\n",
            "0   0  15779985.0   Nwankwo        678.0    France    Male  29.0     4.0   \n",
            "1   1  15650086.0     Ch'in        687.0    France  Female  34.0     1.0   \n",
            "2   2  15733602.0  Thompson        682.0    France  Female  52.0     6.0   \n",
            "3   3  15645794.0   Macleod        753.0   Germany    Male  44.0     6.0   \n",
            "4   4  15633840.0      Hsia        544.0   Germany  Female  55.0     0.0   \n",
            "\n",
            "     Balance  NumOfProducts  HasCrCard  IsActiveMember  EstimatedSalary  \\\n",
            "0       0.00            3.0        1.0             0.0        180626.36   \n",
            "1       0.00            2.0        0.0             1.0         63736.17   \n",
            "2       0.00            3.0        0.0             0.0        179655.87   \n",
            "3   83347.25            2.0        1.0             0.0        161407.48   \n",
            "4  107747.57            1.0        1.0             0.0        176580.86   \n",
            "\n",
            "   Exited  \n",
            "0     0.0  \n",
            "1     0.0  \n",
            "2     1.0  \n",
            "3     0.0  \n",
            "4     1.0  \n"
          ]
        }
      ]
    },
    {
      "cell_type": "code",
      "source": [
        "input_cols = [col for col in df.columns if col != 'Exited']  # Усі колонки, крім цільової\n",
        "target_col = 'Exited'  # Назва цільової змінної\n",
        "\n",
        "# Розбиття даних на train і validation з використанням stratify\n",
        "train_df, val_df = train_test_split(\n",
        "    df,\n",
        "    test_size=0.2,  # 20% для валідації\n",
        "    stratify=df[target_col],  # Стратіфікація за цільовою змінною\n",
        "    random_state=42\n",
        ")"
      ],
      "metadata": {
        "id": "IlPafwZFmciR"
      },
      "execution_count": 6,
      "outputs": []
    },
    {
      "cell_type": "markdown",
      "source": [
        "2. Визначіть назви колонок, які сформують вхідні незалежні дані, в змінній `input_cols` та назву колонки , яка є цільовою, в змінній `target_col`. Використовуючи `input_cols` та `target_col` створіть набори даних `train_inputs`, `train_targets`, `val_inputs`, `val_targets` - де `inputs` - вхідні дані (датафрейм), `targets` - дані цільової колонки відповідного піднабору."
      ],
      "metadata": {
        "id": "YmhrsCrThfKp"
      }
    },
    {
      "cell_type": "code",
      "source": [
        "# Формування наборів даних з .copy()\n",
        "train_inputs = train_df[input_cols].copy()\n",
        "train_targets = train_df[target_col].copy()\n",
        "\n",
        "val_inputs = val_df[input_cols].copy()\n",
        "val_targets = val_df[target_col].copy()\n",
        "\n",
        "# Перевірка результату\n",
        "train_inputs.head(), train_targets.head(), val_inputs.head(), val_targets.head()"
      ],
      "metadata": {
        "id": "BB1PSRP92d2y",
        "colab": {
          "base_uri": "https://localhost:8080/"
        },
        "outputId": "d5e2d141-ea7d-416b-83ac-3907de3a18c1"
      },
      "execution_count": 7,
      "outputs": [
        {
          "output_type": "execute_result",
          "data": {
            "text/plain": [
              "(          id  CustomerId    Surname  CreditScore Geography  Gender   Age  \\\n",
              " 7180    7180  15652218.0       Mays        682.0    France    Male  30.0   \n",
              " 10393  10393  15592937.0     Ch'eng        684.0    France  Female  39.0   \n",
              " 80        80  15774586.0      Ch'in        705.0   Germany    Male  35.0   \n",
              " 3365    3365  15780572.0         K?        669.0     Spain    Male  58.0   \n",
              " 12236  12236  15642099.0  Trevisani        707.0    France    Male  21.0   \n",
              " \n",
              "        Tenure    Balance  NumOfProducts  HasCrCard  IsActiveMember  \\\n",
              " 7180      1.0  131394.56            1.0        1.0             1.0   \n",
              " 10393     2.0  178058.06            1.0        1.0             0.0   \n",
              " 80        6.0  116320.68            2.0        1.0             0.0   \n",
              " 3365      0.0       0.00            2.0        0.0             1.0   \n",
              " 12236     3.0       0.00            2.0        1.0             1.0   \n",
              " \n",
              "        EstimatedSalary  \n",
              " 7180         143952.24  \n",
              " 10393        145518.31  \n",
              " 80           174431.01  \n",
              " 3365          51565.98  \n",
              " 12236        148564.76  ,\n",
              " 7180     0.0\n",
              " 10393    0.0\n",
              " 80       0.0\n",
              " 3365     0.0\n",
              " 12236    0.0\n",
              " Name: Exited, dtype: float64,\n",
              "         id  CustomerId   Surname  CreditScore Geography  Gender   Age  Tenure  \\\n",
              " 6490  6490  15794345.0   Pirozzi        714.0   Germany    Male  46.0     1.0   \n",
              " 3646  3646  15617348.0   Ritchie        593.0    France    Male  41.0     5.0   \n",
              " 5306  5306  15787907.0     Hs?eh        731.0    France  Female  38.0     2.0   \n",
              " 652    652  15803378.0      Onio        673.0    France  Female  43.0     4.0   \n",
              " 2627  2627  15772423.0  Genovesi        678.0     Spain  Female  30.0     4.0   \n",
              " \n",
              "         Balance  NumOfProducts  HasCrCard  IsActiveMember  EstimatedSalary  \n",
              " 6490  115764.32            4.0        1.0             1.0         72945.32  \n",
              " 3646       0.00            2.0        1.0             1.0         38196.24  \n",
              " 5306       0.00            2.0        0.0             1.0        116971.05  \n",
              " 652   155739.76            1.0        0.0             1.0        111622.76  \n",
              " 2627       0.00            2.0        1.0             0.0        143681.85  ,\n",
              " 6490    1.0\n",
              " 3646    0.0\n",
              " 5306    0.0\n",
              " 652     0.0\n",
              " 2627    0.0\n",
              " Name: Exited, dtype: float64)"
            ]
          },
          "metadata": {},
          "execution_count": 7
        }
      ]
    },
    {
      "cell_type": "markdown",
      "source": [
        "3. Визначіть з допомогою `pandas.DataFrame.select_dtypes` назви колонок, які є числовими і категоріальними. Запишіть результати в `numeric_cols` та `categorical_cols` відповідно."
      ],
      "metadata": {
        "id": "BqhiVXa-iY5P"
      }
    },
    {
      "cell_type": "code",
      "source": [
        "numeric_cols = train_inputs.select_dtypes(include=np.number).columns.tolist()\n",
        "categorical_cols = train_inputs.select_dtypes('object').columns.tolist()\n",
        "\n",
        "# Виведення результатів\n",
        "numeric_cols, categorical_cols"
      ],
      "metadata": {
        "id": "pz6Et14-2eRH",
        "colab": {
          "base_uri": "https://localhost:8080/"
        },
        "outputId": "02b9a8eb-9f17-4da0-ffb1-81822af5374c"
      },
      "execution_count": 8,
      "outputs": [
        {
          "output_type": "execute_result",
          "data": {
            "text/plain": [
              "(['id',\n",
              "  'CustomerId',\n",
              "  'CreditScore',\n",
              "  'Age',\n",
              "  'Tenure',\n",
              "  'Balance',\n",
              "  'NumOfProducts',\n",
              "  'HasCrCard',\n",
              "  'IsActiveMember',\n",
              "  'EstimatedSalary'],\n",
              " ['Surname', 'Geography', 'Gender'])"
            ]
          },
          "metadata": {},
          "execution_count": 8
        }
      ]
    },
    {
      "cell_type": "markdown",
      "source": [
        "4. Зробіть підготовку даних в категоріальних і числових колонках для входу в модель виходячи з освоєного на даний момент на курсі. Варіанти пеердобробки, з якими ми вже знайомі:\n",
        "  - масштабування числових ознак,\n",
        "  - заповнення пропущених значень, якщо вони є,\n",
        "  - кодування категоріальних ознак, вилучення ознак, якщо ми вважаємо, що ці дані нерелевантні для моделі аби ми не бачимо способу як їх так закодувати, аби подати на вхід моделі.\n",
        "\n",
        "  Тут є багато варіантів, як Ви побудуєте передобробку, важливо аби\n",
        "  1) передобробка мала сенс (немає сенсу заповнювати дані константою, яку ми не зрозуміло звідки взяли)   \n",
        "  2) має бути виконана принаймні одна дія передобробки\n",
        "  3) обробка маэ бути виконана коректно і для тренувальних, і для вал. даних\n",
        "  4) чим вищий у Вас врешті вийде ROС AUC скор, тим більше шансів перемогти у змаганні :)\n",
        "\n",
        "  Опишіть рішення проведення кожного з кроків передобробки. Для чого ви його робите? По завершенню виведіть по 5 значен з `train_inputs`, `val_inputs` використовуючи `display()`."
      ],
      "metadata": {
        "id": "gz3W57xXlIO2"
      }
    },
    {
      "cell_type": "code",
      "source": [
        "# Перевірка наявності пропущених значень у тренувальному наборі\n",
        "missing_values = df.isnull().sum()\n",
        "missing_percentage = (missing_values / len(df)) * 100\n",
        "\n",
        "# Формування таблиці з колонками, які мають пропущені значення\n",
        "missing_data = pd.DataFrame({\n",
        "    'Column': missing_values.index,\n",
        "    'Missing Values': missing_values.values,\n",
        "    'Missing Percentage': missing_percentage.values\n",
        "})\n",
        "\n",
        "# Відфільтруємо лише колонки з пропущеними значеннями\n",
        "missing_data = missing_data[missing_data[\"Missing Values\"] > 0]\n",
        "print(\"Missing Values:\")\n",
        "print(missing_values)"
      ],
      "metadata": {
        "colab": {
          "base_uri": "https://localhost:8080/"
        },
        "id": "vXjR559Z2HCC",
        "outputId": "f56327da-188c-464f-ba4b-230888e4e5dd"
      },
      "execution_count": 9,
      "outputs": [
        {
          "output_type": "stream",
          "name": "stdout",
          "text": [
            "Missing Values:\n",
            "id                 0\n",
            "CustomerId         0\n",
            "Surname            0\n",
            "CreditScore        0\n",
            "Geography          0\n",
            "Gender             0\n",
            "Age                0\n",
            "Tenure             0\n",
            "Balance            0\n",
            "NumOfProducts      0\n",
            "HasCrCard          0\n",
            "IsActiveMember     0\n",
            "EstimatedSalary    0\n",
            "Exited             0\n",
            "dtype: int64\n"
          ]
        }
      ]
    },
    {
      "cell_type": "code",
      "source": [
        "# Масштабування числових ознак\n",
        "scaler = MinMaxScaler()\n",
        "\n",
        "# One-Hot Encoding для категоріальних змінних\n",
        "encoder = OneHotEncoder(handle_unknown='ignore', sparse_output=False)\n",
        "\n",
        "# Об'єднання всіх трансформацій\n",
        "preprocessor = ColumnTransformer([\n",
        "    (\"num_scale\", scaler, numeric_cols),\n",
        "    (\"cat_encode\", encoder, categorical_cols)\n",
        "])  # Видаляємо `remainder='passthrough'` для уникнення дублікатів\n",
        "\n",
        "# Навчаємо трансформації на train\n",
        "train_inputs = train_df[input_cols]\n",
        "val_inputs = val_df[input_cols]\n",
        "preprocessor.fit(train_inputs)\n",
        "\n",
        "# Застосовуємо до даних\n",
        "train_inputs_processed = preprocessor.transform(train_inputs)\n",
        "val_inputs_processed = preprocessor.transform(val_inputs)\n",
        "\n",
        "# Отримання оновлених назв колонок після OneHotEncoding\n",
        "encoded_cat_cols = preprocessor.named_transformers_[\"cat_encode\"].get_feature_names_out(categorical_cols)\n",
        "all_columns = numeric_cols + list(encoded_cat_cols)\n",
        "\n",
        "# Переконаємося, що кількість колонок збігається з розміром даних\n",
        "if len(all_columns) != train_inputs_processed.shape[1]:\n",
        "    all_columns = [f\"feature_{i}\" for i in range(train_inputs_processed.shape[1])]\n",
        "\n",
        "# Перетворення в DataFrame\n",
        "train_inputs = pd.DataFrame(train_inputs_processed, columns=all_columns)\n",
        "val_inputs = pd.DataFrame(val_inputs_processed, columns=all_columns)\n",
        "\n",
        "# Отримання цільових значень\n",
        "train_targets = train_df[target_col]\n",
        "val_targets = val_df[target_col]\n",
        "\n",
        "\n",
        "from IPython.display import display\n",
        "\n",
        "# Виведення перших 5 рядків з оброблених тренувальних і валідаційних даних\n",
        "print(\"Train Inputs Processed (First 5 Rows):\")\n",
        "display(train_inputs.head())\n",
        "\n",
        "print(\"Validation Inputs Processed (First 5 Rows):\")\n",
        "display(val_inputs.head())\n"
      ],
      "metadata": {
        "colab": {
          "base_uri": "https://localhost:8080/",
          "height": 510
        },
        "id": "LOTI3AX_7eak",
        "outputId": "45779b67-f0a4-4b0a-e4f0-297397024985"
      },
      "execution_count": 17,
      "outputs": [
        {
          "output_type": "stream",
          "name": "stdout",
          "text": [
            "Train Inputs Processed (First 5 Rows):\n"
          ]
        },
        {
          "output_type": "display_data",
          "data": {
            "text/plain": [
              "         id  CustomerId  CreditScore       Age  Tenure   Balance  \\\n",
              "0  0.478699    0.988516     0.599045  0.214286     0.1  0.626382   \n",
              "1  0.692913    0.984351     0.603819  0.375000     0.2  0.848836   \n",
              "2  0.005334    0.997112     0.653938  0.303571     0.6  0.554522   \n",
              "3  0.224348    0.997533     0.568019  0.714286     0.0  0.000000   \n",
              "4  0.815788    0.987805     0.658711  0.053571     0.3  0.000000   \n",
              "\n",
              "   NumOfProducts  HasCrCard  IsActiveMember  EstimatedSalary  ...  \\\n",
              "0       0.000000        1.0             1.0         0.719772  ...   \n",
              "1       0.000000        1.0             0.0         0.727603  ...   \n",
              "2       0.333333        1.0             0.0         0.872180  ...   \n",
              "3       0.333333        0.0             1.0         0.257797  ...   \n",
              "4       0.333333        1.0             1.0         0.742837  ...   \n",
              "\n",
              "   Surname_Zito  Surname_Zox  Surname_Zuev  Surname_Zuyev  Surname_Zuyeva  \\\n",
              "0           0.0          0.0           0.0            0.0             0.0   \n",
              "1           0.0          0.0           0.0            0.0             0.0   \n",
              "2           0.0          0.0           0.0            0.0             0.0   \n",
              "3           0.0          0.0           0.0            0.0             0.0   \n",
              "4           0.0          0.0           0.0            0.0             0.0   \n",
              "\n",
              "   Geography_France  Geography_Germany  Geography_Spain  Gender_Female  \\\n",
              "0               1.0                0.0              0.0            0.0   \n",
              "1               1.0                0.0              0.0            1.0   \n",
              "2               0.0                1.0              0.0            0.0   \n",
              "3               0.0                0.0              1.0            0.0   \n",
              "4               1.0                0.0              0.0            0.0   \n",
              "\n",
              "   Gender_Male  \n",
              "0          1.0  \n",
              "1          0.0  \n",
              "2          1.0  \n",
              "3          1.0  \n",
              "4          1.0  \n",
              "\n",
              "[5 rows x 747 columns]"
            ],
            "text/html": [
              "\n",
              "  <div id=\"df-ae74dc19-355b-46e2-818d-f575c4a778ba\" class=\"colab-df-container\">\n",
              "    <div>\n",
              "<style scoped>\n",
              "    .dataframe tbody tr th:only-of-type {\n",
              "        vertical-align: middle;\n",
              "    }\n",
              "\n",
              "    .dataframe tbody tr th {\n",
              "        vertical-align: top;\n",
              "    }\n",
              "\n",
              "    .dataframe thead th {\n",
              "        text-align: right;\n",
              "    }\n",
              "</style>\n",
              "<table border=\"1\" class=\"dataframe\">\n",
              "  <thead>\n",
              "    <tr style=\"text-align: right;\">\n",
              "      <th></th>\n",
              "      <th>id</th>\n",
              "      <th>CustomerId</th>\n",
              "      <th>CreditScore</th>\n",
              "      <th>Age</th>\n",
              "      <th>Tenure</th>\n",
              "      <th>Balance</th>\n",
              "      <th>NumOfProducts</th>\n",
              "      <th>HasCrCard</th>\n",
              "      <th>IsActiveMember</th>\n",
              "      <th>EstimatedSalary</th>\n",
              "      <th>...</th>\n",
              "      <th>Surname_Zito</th>\n",
              "      <th>Surname_Zox</th>\n",
              "      <th>Surname_Zuev</th>\n",
              "      <th>Surname_Zuyev</th>\n",
              "      <th>Surname_Zuyeva</th>\n",
              "      <th>Geography_France</th>\n",
              "      <th>Geography_Germany</th>\n",
              "      <th>Geography_Spain</th>\n",
              "      <th>Gender_Female</th>\n",
              "      <th>Gender_Male</th>\n",
              "    </tr>\n",
              "  </thead>\n",
              "  <tbody>\n",
              "    <tr>\n",
              "      <th>0</th>\n",
              "      <td>0.478699</td>\n",
              "      <td>0.988516</td>\n",
              "      <td>0.599045</td>\n",
              "      <td>0.214286</td>\n",
              "      <td>0.1</td>\n",
              "      <td>0.626382</td>\n",
              "      <td>0.000000</td>\n",
              "      <td>1.0</td>\n",
              "      <td>1.0</td>\n",
              "      <td>0.719772</td>\n",
              "      <td>...</td>\n",
              "      <td>0.0</td>\n",
              "      <td>0.0</td>\n",
              "      <td>0.0</td>\n",
              "      <td>0.0</td>\n",
              "      <td>0.0</td>\n",
              "      <td>1.0</td>\n",
              "      <td>0.0</td>\n",
              "      <td>0.0</td>\n",
              "      <td>0.0</td>\n",
              "      <td>1.0</td>\n",
              "    </tr>\n",
              "    <tr>\n",
              "      <th>1</th>\n",
              "      <td>0.692913</td>\n",
              "      <td>0.984351</td>\n",
              "      <td>0.603819</td>\n",
              "      <td>0.375000</td>\n",
              "      <td>0.2</td>\n",
              "      <td>0.848836</td>\n",
              "      <td>0.000000</td>\n",
              "      <td>1.0</td>\n",
              "      <td>0.0</td>\n",
              "      <td>0.727603</td>\n",
              "      <td>...</td>\n",
              "      <td>0.0</td>\n",
              "      <td>0.0</td>\n",
              "      <td>0.0</td>\n",
              "      <td>0.0</td>\n",
              "      <td>0.0</td>\n",
              "      <td>1.0</td>\n",
              "      <td>0.0</td>\n",
              "      <td>0.0</td>\n",
              "      <td>1.0</td>\n",
              "      <td>0.0</td>\n",
              "    </tr>\n",
              "    <tr>\n",
              "      <th>2</th>\n",
              "      <td>0.005334</td>\n",
              "      <td>0.997112</td>\n",
              "      <td>0.653938</td>\n",
              "      <td>0.303571</td>\n",
              "      <td>0.6</td>\n",
              "      <td>0.554522</td>\n",
              "      <td>0.333333</td>\n",
              "      <td>1.0</td>\n",
              "      <td>0.0</td>\n",
              "      <td>0.872180</td>\n",
              "      <td>...</td>\n",
              "      <td>0.0</td>\n",
              "      <td>0.0</td>\n",
              "      <td>0.0</td>\n",
              "      <td>0.0</td>\n",
              "      <td>0.0</td>\n",
              "      <td>0.0</td>\n",
              "      <td>1.0</td>\n",
              "      <td>0.0</td>\n",
              "      <td>0.0</td>\n",
              "      <td>1.0</td>\n",
              "    </tr>\n",
              "    <tr>\n",
              "      <th>3</th>\n",
              "      <td>0.224348</td>\n",
              "      <td>0.997533</td>\n",
              "      <td>0.568019</td>\n",
              "      <td>0.714286</td>\n",
              "      <td>0.0</td>\n",
              "      <td>0.000000</td>\n",
              "      <td>0.333333</td>\n",
              "      <td>0.0</td>\n",
              "      <td>1.0</td>\n",
              "      <td>0.257797</td>\n",
              "      <td>...</td>\n",
              "      <td>0.0</td>\n",
              "      <td>0.0</td>\n",
              "      <td>0.0</td>\n",
              "      <td>0.0</td>\n",
              "      <td>0.0</td>\n",
              "      <td>0.0</td>\n",
              "      <td>0.0</td>\n",
              "      <td>1.0</td>\n",
              "      <td>0.0</td>\n",
              "      <td>1.0</td>\n",
              "    </tr>\n",
              "    <tr>\n",
              "      <th>4</th>\n",
              "      <td>0.815788</td>\n",
              "      <td>0.987805</td>\n",
              "      <td>0.658711</td>\n",
              "      <td>0.053571</td>\n",
              "      <td>0.3</td>\n",
              "      <td>0.000000</td>\n",
              "      <td>0.333333</td>\n",
              "      <td>1.0</td>\n",
              "      <td>1.0</td>\n",
              "      <td>0.742837</td>\n",
              "      <td>...</td>\n",
              "      <td>0.0</td>\n",
              "      <td>0.0</td>\n",
              "      <td>0.0</td>\n",
              "      <td>0.0</td>\n",
              "      <td>0.0</td>\n",
              "      <td>1.0</td>\n",
              "      <td>0.0</td>\n",
              "      <td>0.0</td>\n",
              "      <td>0.0</td>\n",
              "      <td>1.0</td>\n",
              "    </tr>\n",
              "  </tbody>\n",
              "</table>\n",
              "<p>5 rows × 747 columns</p>\n",
              "</div>\n",
              "    <div class=\"colab-df-buttons\">\n",
              "\n",
              "  <div class=\"colab-df-container\">\n",
              "    <button class=\"colab-df-convert\" onclick=\"convertToInteractive('df-ae74dc19-355b-46e2-818d-f575c4a778ba')\"\n",
              "            title=\"Convert this dataframe to an interactive table.\"\n",
              "            style=\"display:none;\">\n",
              "\n",
              "  <svg xmlns=\"http://www.w3.org/2000/svg\" height=\"24px\" viewBox=\"0 -960 960 960\">\n",
              "    <path d=\"M120-120v-720h720v720H120Zm60-500h600v-160H180v160Zm220 220h160v-160H400v160Zm0 220h160v-160H400v160ZM180-400h160v-160H180v160Zm440 0h160v-160H620v160ZM180-180h160v-160H180v160Zm440 0h160v-160H620v160Z\"/>\n",
              "  </svg>\n",
              "    </button>\n",
              "\n",
              "  <style>\n",
              "    .colab-df-container {\n",
              "      display:flex;\n",
              "      gap: 12px;\n",
              "    }\n",
              "\n",
              "    .colab-df-convert {\n",
              "      background-color: #E8F0FE;\n",
              "      border: none;\n",
              "      border-radius: 50%;\n",
              "      cursor: pointer;\n",
              "      display: none;\n",
              "      fill: #1967D2;\n",
              "      height: 32px;\n",
              "      padding: 0 0 0 0;\n",
              "      width: 32px;\n",
              "    }\n",
              "\n",
              "    .colab-df-convert:hover {\n",
              "      background-color: #E2EBFA;\n",
              "      box-shadow: 0px 1px 2px rgba(60, 64, 67, 0.3), 0px 1px 3px 1px rgba(60, 64, 67, 0.15);\n",
              "      fill: #174EA6;\n",
              "    }\n",
              "\n",
              "    .colab-df-buttons div {\n",
              "      margin-bottom: 4px;\n",
              "    }\n",
              "\n",
              "    [theme=dark] .colab-df-convert {\n",
              "      background-color: #3B4455;\n",
              "      fill: #D2E3FC;\n",
              "    }\n",
              "\n",
              "    [theme=dark] .colab-df-convert:hover {\n",
              "      background-color: #434B5C;\n",
              "      box-shadow: 0px 1px 3px 1px rgba(0, 0, 0, 0.15);\n",
              "      filter: drop-shadow(0px 1px 2px rgba(0, 0, 0, 0.3));\n",
              "      fill: #FFFFFF;\n",
              "    }\n",
              "  </style>\n",
              "\n",
              "    <script>\n",
              "      const buttonEl =\n",
              "        document.querySelector('#df-ae74dc19-355b-46e2-818d-f575c4a778ba button.colab-df-convert');\n",
              "      buttonEl.style.display =\n",
              "        google.colab.kernel.accessAllowed ? 'block' : 'none';\n",
              "\n",
              "      async function convertToInteractive(key) {\n",
              "        const element = document.querySelector('#df-ae74dc19-355b-46e2-818d-f575c4a778ba');\n",
              "        const dataTable =\n",
              "          await google.colab.kernel.invokeFunction('convertToInteractive',\n",
              "                                                    [key], {});\n",
              "        if (!dataTable) return;\n",
              "\n",
              "        const docLinkHtml = 'Like what you see? Visit the ' +\n",
              "          '<a target=\"_blank\" href=https://colab.research.google.com/notebooks/data_table.ipynb>data table notebook</a>'\n",
              "          + ' to learn more about interactive tables.';\n",
              "        element.innerHTML = '';\n",
              "        dataTable['output_type'] = 'display_data';\n",
              "        await google.colab.output.renderOutput(dataTable, element);\n",
              "        const docLink = document.createElement('div');\n",
              "        docLink.innerHTML = docLinkHtml;\n",
              "        element.appendChild(docLink);\n",
              "      }\n",
              "    </script>\n",
              "  </div>\n",
              "\n",
              "\n",
              "<div id=\"df-3e9315a2-6a6b-4db3-b6e3-996963330b81\">\n",
              "  <button class=\"colab-df-quickchart\" onclick=\"quickchart('df-3e9315a2-6a6b-4db3-b6e3-996963330b81')\"\n",
              "            title=\"Suggest charts\"\n",
              "            style=\"display:none;\">\n",
              "\n",
              "<svg xmlns=\"http://www.w3.org/2000/svg\" height=\"24px\"viewBox=\"0 0 24 24\"\n",
              "     width=\"24px\">\n",
              "    <g>\n",
              "        <path d=\"M19 3H5c-1.1 0-2 .9-2 2v14c0 1.1.9 2 2 2h14c1.1 0 2-.9 2-2V5c0-1.1-.9-2-2-2zM9 17H7v-7h2v7zm4 0h-2V7h2v10zm4 0h-2v-4h2v4z\"/>\n",
              "    </g>\n",
              "</svg>\n",
              "  </button>\n",
              "\n",
              "<style>\n",
              "  .colab-df-quickchart {\n",
              "      --bg-color: #E8F0FE;\n",
              "      --fill-color: #1967D2;\n",
              "      --hover-bg-color: #E2EBFA;\n",
              "      --hover-fill-color: #174EA6;\n",
              "      --disabled-fill-color: #AAA;\n",
              "      --disabled-bg-color: #DDD;\n",
              "  }\n",
              "\n",
              "  [theme=dark] .colab-df-quickchart {\n",
              "      --bg-color: #3B4455;\n",
              "      --fill-color: #D2E3FC;\n",
              "      --hover-bg-color: #434B5C;\n",
              "      --hover-fill-color: #FFFFFF;\n",
              "      --disabled-bg-color: #3B4455;\n",
              "      --disabled-fill-color: #666;\n",
              "  }\n",
              "\n",
              "  .colab-df-quickchart {\n",
              "    background-color: var(--bg-color);\n",
              "    border: none;\n",
              "    border-radius: 50%;\n",
              "    cursor: pointer;\n",
              "    display: none;\n",
              "    fill: var(--fill-color);\n",
              "    height: 32px;\n",
              "    padding: 0;\n",
              "    width: 32px;\n",
              "  }\n",
              "\n",
              "  .colab-df-quickchart:hover {\n",
              "    background-color: var(--hover-bg-color);\n",
              "    box-shadow: 0 1px 2px rgba(60, 64, 67, 0.3), 0 1px 3px 1px rgba(60, 64, 67, 0.15);\n",
              "    fill: var(--button-hover-fill-color);\n",
              "  }\n",
              "\n",
              "  .colab-df-quickchart-complete:disabled,\n",
              "  .colab-df-quickchart-complete:disabled:hover {\n",
              "    background-color: var(--disabled-bg-color);\n",
              "    fill: var(--disabled-fill-color);\n",
              "    box-shadow: none;\n",
              "  }\n",
              "\n",
              "  .colab-df-spinner {\n",
              "    border: 2px solid var(--fill-color);\n",
              "    border-color: transparent;\n",
              "    border-bottom-color: var(--fill-color);\n",
              "    animation:\n",
              "      spin 1s steps(1) infinite;\n",
              "  }\n",
              "\n",
              "  @keyframes spin {\n",
              "    0% {\n",
              "      border-color: transparent;\n",
              "      border-bottom-color: var(--fill-color);\n",
              "      border-left-color: var(--fill-color);\n",
              "    }\n",
              "    20% {\n",
              "      border-color: transparent;\n",
              "      border-left-color: var(--fill-color);\n",
              "      border-top-color: var(--fill-color);\n",
              "    }\n",
              "    30% {\n",
              "      border-color: transparent;\n",
              "      border-left-color: var(--fill-color);\n",
              "      border-top-color: var(--fill-color);\n",
              "      border-right-color: var(--fill-color);\n",
              "    }\n",
              "    40% {\n",
              "      border-color: transparent;\n",
              "      border-right-color: var(--fill-color);\n",
              "      border-top-color: var(--fill-color);\n",
              "    }\n",
              "    60% {\n",
              "      border-color: transparent;\n",
              "      border-right-color: var(--fill-color);\n",
              "    }\n",
              "    80% {\n",
              "      border-color: transparent;\n",
              "      border-right-color: var(--fill-color);\n",
              "      border-bottom-color: var(--fill-color);\n",
              "    }\n",
              "    90% {\n",
              "      border-color: transparent;\n",
              "      border-bottom-color: var(--fill-color);\n",
              "    }\n",
              "  }\n",
              "</style>\n",
              "\n",
              "  <script>\n",
              "    async function quickchart(key) {\n",
              "      const quickchartButtonEl =\n",
              "        document.querySelector('#' + key + ' button');\n",
              "      quickchartButtonEl.disabled = true;  // To prevent multiple clicks.\n",
              "      quickchartButtonEl.classList.add('colab-df-spinner');\n",
              "      try {\n",
              "        const charts = await google.colab.kernel.invokeFunction(\n",
              "            'suggestCharts', [key], {});\n",
              "      } catch (error) {\n",
              "        console.error('Error during call to suggestCharts:', error);\n",
              "      }\n",
              "      quickchartButtonEl.classList.remove('colab-df-spinner');\n",
              "      quickchartButtonEl.classList.add('colab-df-quickchart-complete');\n",
              "    }\n",
              "    (() => {\n",
              "      let quickchartButtonEl =\n",
              "        document.querySelector('#df-3e9315a2-6a6b-4db3-b6e3-996963330b81 button');\n",
              "      quickchartButtonEl.style.display =\n",
              "        google.colab.kernel.accessAllowed ? 'block' : 'none';\n",
              "    })();\n",
              "  </script>\n",
              "</div>\n",
              "\n",
              "    </div>\n",
              "  </div>\n"
            ],
            "application/vnd.google.colaboratory.intrinsic+json": {
              "type": "dataframe"
            }
          },
          "metadata": {}
        },
        {
          "output_type": "stream",
          "name": "stdout",
          "text": [
            "Validation Inputs Processed (First 5 Rows):\n"
          ]
        },
        {
          "output_type": "display_data",
          "data": {
            "text/plain": [
              "         id  CustomerId  CreditScore       Age  Tenure   Balance  \\\n",
              "0  0.432696    0.998500     0.675418  0.500000     0.1  0.551870   \n",
              "1  0.243083    0.986066     0.386635  0.410714     0.5  0.000000   \n",
              "2  0.353757    0.998048     0.715990  0.357143     0.2  0.000000   \n",
              "3  0.043470    0.999135     0.577566  0.446429     0.4  0.742441   \n",
              "4  0.175145    0.996960     0.589499  0.214286     0.4  0.000000   \n",
              "\n",
              "   NumOfProducts  HasCrCard  IsActiveMember  EstimatedSalary  ...  \\\n",
              "0       1.000000        1.0             1.0         0.364704  ...   \n",
              "1       0.333333        1.0             1.0         0.190942  ...   \n",
              "2       0.333333        0.0             1.0         0.584853  ...   \n",
              "3       0.000000        0.0             1.0         0.558109  ...   \n",
              "4       0.333333        1.0             0.0         0.718420  ...   \n",
              "\n",
              "   Surname_Zito  Surname_Zox  Surname_Zuev  Surname_Zuyev  Surname_Zuyeva  \\\n",
              "0           0.0          0.0           0.0            0.0             0.0   \n",
              "1           0.0          0.0           0.0            0.0             0.0   \n",
              "2           0.0          0.0           0.0            0.0             0.0   \n",
              "3           0.0          0.0           0.0            0.0             0.0   \n",
              "4           0.0          0.0           0.0            0.0             0.0   \n",
              "\n",
              "   Geography_France  Geography_Germany  Geography_Spain  Gender_Female  \\\n",
              "0               0.0                1.0              0.0            0.0   \n",
              "1               1.0                0.0              0.0            0.0   \n",
              "2               1.0                0.0              0.0            1.0   \n",
              "3               1.0                0.0              0.0            1.0   \n",
              "4               0.0                0.0              1.0            1.0   \n",
              "\n",
              "   Gender_Male  \n",
              "0          1.0  \n",
              "1          1.0  \n",
              "2          0.0  \n",
              "3          0.0  \n",
              "4          0.0  \n",
              "\n",
              "[5 rows x 747 columns]"
            ],
            "text/html": [
              "\n",
              "  <div id=\"df-2eada1cd-328b-45d0-98b5-ae245ec5e03a\" class=\"colab-df-container\">\n",
              "    <div>\n",
              "<style scoped>\n",
              "    .dataframe tbody tr th:only-of-type {\n",
              "        vertical-align: middle;\n",
              "    }\n",
              "\n",
              "    .dataframe tbody tr th {\n",
              "        vertical-align: top;\n",
              "    }\n",
              "\n",
              "    .dataframe thead th {\n",
              "        text-align: right;\n",
              "    }\n",
              "</style>\n",
              "<table border=\"1\" class=\"dataframe\">\n",
              "  <thead>\n",
              "    <tr style=\"text-align: right;\">\n",
              "      <th></th>\n",
              "      <th>id</th>\n",
              "      <th>CustomerId</th>\n",
              "      <th>CreditScore</th>\n",
              "      <th>Age</th>\n",
              "      <th>Tenure</th>\n",
              "      <th>Balance</th>\n",
              "      <th>NumOfProducts</th>\n",
              "      <th>HasCrCard</th>\n",
              "      <th>IsActiveMember</th>\n",
              "      <th>EstimatedSalary</th>\n",
              "      <th>...</th>\n",
              "      <th>Surname_Zito</th>\n",
              "      <th>Surname_Zox</th>\n",
              "      <th>Surname_Zuev</th>\n",
              "      <th>Surname_Zuyev</th>\n",
              "      <th>Surname_Zuyeva</th>\n",
              "      <th>Geography_France</th>\n",
              "      <th>Geography_Germany</th>\n",
              "      <th>Geography_Spain</th>\n",
              "      <th>Gender_Female</th>\n",
              "      <th>Gender_Male</th>\n",
              "    </tr>\n",
              "  </thead>\n",
              "  <tbody>\n",
              "    <tr>\n",
              "      <th>0</th>\n",
              "      <td>0.432696</td>\n",
              "      <td>0.998500</td>\n",
              "      <td>0.675418</td>\n",
              "      <td>0.500000</td>\n",
              "      <td>0.1</td>\n",
              "      <td>0.551870</td>\n",
              "      <td>1.000000</td>\n",
              "      <td>1.0</td>\n",
              "      <td>1.0</td>\n",
              "      <td>0.364704</td>\n",
              "      <td>...</td>\n",
              "      <td>0.0</td>\n",
              "      <td>0.0</td>\n",
              "      <td>0.0</td>\n",
              "      <td>0.0</td>\n",
              "      <td>0.0</td>\n",
              "      <td>0.0</td>\n",
              "      <td>1.0</td>\n",
              "      <td>0.0</td>\n",
              "      <td>0.0</td>\n",
              "      <td>1.0</td>\n",
              "    </tr>\n",
              "    <tr>\n",
              "      <th>1</th>\n",
              "      <td>0.243083</td>\n",
              "      <td>0.986066</td>\n",
              "      <td>0.386635</td>\n",
              "      <td>0.410714</td>\n",
              "      <td>0.5</td>\n",
              "      <td>0.000000</td>\n",
              "      <td>0.333333</td>\n",
              "      <td>1.0</td>\n",
              "      <td>1.0</td>\n",
              "      <td>0.190942</td>\n",
              "      <td>...</td>\n",
              "      <td>0.0</td>\n",
              "      <td>0.0</td>\n",
              "      <td>0.0</td>\n",
              "      <td>0.0</td>\n",
              "      <td>0.0</td>\n",
              "      <td>1.0</td>\n",
              "      <td>0.0</td>\n",
              "      <td>0.0</td>\n",
              "      <td>0.0</td>\n",
              "      <td>1.0</td>\n",
              "    </tr>\n",
              "    <tr>\n",
              "      <th>2</th>\n",
              "      <td>0.353757</td>\n",
              "      <td>0.998048</td>\n",
              "      <td>0.715990</td>\n",
              "      <td>0.357143</td>\n",
              "      <td>0.2</td>\n",
              "      <td>0.000000</td>\n",
              "      <td>0.333333</td>\n",
              "      <td>0.0</td>\n",
              "      <td>1.0</td>\n",
              "      <td>0.584853</td>\n",
              "      <td>...</td>\n",
              "      <td>0.0</td>\n",
              "      <td>0.0</td>\n",
              "      <td>0.0</td>\n",
              "      <td>0.0</td>\n",
              "      <td>0.0</td>\n",
              "      <td>1.0</td>\n",
              "      <td>0.0</td>\n",
              "      <td>0.0</td>\n",
              "      <td>1.0</td>\n",
              "      <td>0.0</td>\n",
              "    </tr>\n",
              "    <tr>\n",
              "      <th>3</th>\n",
              "      <td>0.043470</td>\n",
              "      <td>0.999135</td>\n",
              "      <td>0.577566</td>\n",
              "      <td>0.446429</td>\n",
              "      <td>0.4</td>\n",
              "      <td>0.742441</td>\n",
              "      <td>0.000000</td>\n",
              "      <td>0.0</td>\n",
              "      <td>1.0</td>\n",
              "      <td>0.558109</td>\n",
              "      <td>...</td>\n",
              "      <td>0.0</td>\n",
              "      <td>0.0</td>\n",
              "      <td>0.0</td>\n",
              "      <td>0.0</td>\n",
              "      <td>0.0</td>\n",
              "      <td>1.0</td>\n",
              "      <td>0.0</td>\n",
              "      <td>0.0</td>\n",
              "      <td>1.0</td>\n",
              "      <td>0.0</td>\n",
              "    </tr>\n",
              "    <tr>\n",
              "      <th>4</th>\n",
              "      <td>0.175145</td>\n",
              "      <td>0.996960</td>\n",
              "      <td>0.589499</td>\n",
              "      <td>0.214286</td>\n",
              "      <td>0.4</td>\n",
              "      <td>0.000000</td>\n",
              "      <td>0.333333</td>\n",
              "      <td>1.0</td>\n",
              "      <td>0.0</td>\n",
              "      <td>0.718420</td>\n",
              "      <td>...</td>\n",
              "      <td>0.0</td>\n",
              "      <td>0.0</td>\n",
              "      <td>0.0</td>\n",
              "      <td>0.0</td>\n",
              "      <td>0.0</td>\n",
              "      <td>0.0</td>\n",
              "      <td>0.0</td>\n",
              "      <td>1.0</td>\n",
              "      <td>1.0</td>\n",
              "      <td>0.0</td>\n",
              "    </tr>\n",
              "  </tbody>\n",
              "</table>\n",
              "<p>5 rows × 747 columns</p>\n",
              "</div>\n",
              "    <div class=\"colab-df-buttons\">\n",
              "\n",
              "  <div class=\"colab-df-container\">\n",
              "    <button class=\"colab-df-convert\" onclick=\"convertToInteractive('df-2eada1cd-328b-45d0-98b5-ae245ec5e03a')\"\n",
              "            title=\"Convert this dataframe to an interactive table.\"\n",
              "            style=\"display:none;\">\n",
              "\n",
              "  <svg xmlns=\"http://www.w3.org/2000/svg\" height=\"24px\" viewBox=\"0 -960 960 960\">\n",
              "    <path d=\"M120-120v-720h720v720H120Zm60-500h600v-160H180v160Zm220 220h160v-160H400v160Zm0 220h160v-160H400v160ZM180-400h160v-160H180v160Zm440 0h160v-160H620v160ZM180-180h160v-160H180v160Zm440 0h160v-160H620v160Z\"/>\n",
              "  </svg>\n",
              "    </button>\n",
              "\n",
              "  <style>\n",
              "    .colab-df-container {\n",
              "      display:flex;\n",
              "      gap: 12px;\n",
              "    }\n",
              "\n",
              "    .colab-df-convert {\n",
              "      background-color: #E8F0FE;\n",
              "      border: none;\n",
              "      border-radius: 50%;\n",
              "      cursor: pointer;\n",
              "      display: none;\n",
              "      fill: #1967D2;\n",
              "      height: 32px;\n",
              "      padding: 0 0 0 0;\n",
              "      width: 32px;\n",
              "    }\n",
              "\n",
              "    .colab-df-convert:hover {\n",
              "      background-color: #E2EBFA;\n",
              "      box-shadow: 0px 1px 2px rgba(60, 64, 67, 0.3), 0px 1px 3px 1px rgba(60, 64, 67, 0.15);\n",
              "      fill: #174EA6;\n",
              "    }\n",
              "\n",
              "    .colab-df-buttons div {\n",
              "      margin-bottom: 4px;\n",
              "    }\n",
              "\n",
              "    [theme=dark] .colab-df-convert {\n",
              "      background-color: #3B4455;\n",
              "      fill: #D2E3FC;\n",
              "    }\n",
              "\n",
              "    [theme=dark] .colab-df-convert:hover {\n",
              "      background-color: #434B5C;\n",
              "      box-shadow: 0px 1px 3px 1px rgba(0, 0, 0, 0.15);\n",
              "      filter: drop-shadow(0px 1px 2px rgba(0, 0, 0, 0.3));\n",
              "      fill: #FFFFFF;\n",
              "    }\n",
              "  </style>\n",
              "\n",
              "    <script>\n",
              "      const buttonEl =\n",
              "        document.querySelector('#df-2eada1cd-328b-45d0-98b5-ae245ec5e03a button.colab-df-convert');\n",
              "      buttonEl.style.display =\n",
              "        google.colab.kernel.accessAllowed ? 'block' : 'none';\n",
              "\n",
              "      async function convertToInteractive(key) {\n",
              "        const element = document.querySelector('#df-2eada1cd-328b-45d0-98b5-ae245ec5e03a');\n",
              "        const dataTable =\n",
              "          await google.colab.kernel.invokeFunction('convertToInteractive',\n",
              "                                                    [key], {});\n",
              "        if (!dataTable) return;\n",
              "\n",
              "        const docLinkHtml = 'Like what you see? Visit the ' +\n",
              "          '<a target=\"_blank\" href=https://colab.research.google.com/notebooks/data_table.ipynb>data table notebook</a>'\n",
              "          + ' to learn more about interactive tables.';\n",
              "        element.innerHTML = '';\n",
              "        dataTable['output_type'] = 'display_data';\n",
              "        await google.colab.output.renderOutput(dataTable, element);\n",
              "        const docLink = document.createElement('div');\n",
              "        docLink.innerHTML = docLinkHtml;\n",
              "        element.appendChild(docLink);\n",
              "      }\n",
              "    </script>\n",
              "  </div>\n",
              "\n",
              "\n",
              "<div id=\"df-1973c230-a229-4ae2-9116-97767d94718c\">\n",
              "  <button class=\"colab-df-quickchart\" onclick=\"quickchart('df-1973c230-a229-4ae2-9116-97767d94718c')\"\n",
              "            title=\"Suggest charts\"\n",
              "            style=\"display:none;\">\n",
              "\n",
              "<svg xmlns=\"http://www.w3.org/2000/svg\" height=\"24px\"viewBox=\"0 0 24 24\"\n",
              "     width=\"24px\">\n",
              "    <g>\n",
              "        <path d=\"M19 3H5c-1.1 0-2 .9-2 2v14c0 1.1.9 2 2 2h14c1.1 0 2-.9 2-2V5c0-1.1-.9-2-2-2zM9 17H7v-7h2v7zm4 0h-2V7h2v10zm4 0h-2v-4h2v4z\"/>\n",
              "    </g>\n",
              "</svg>\n",
              "  </button>\n",
              "\n",
              "<style>\n",
              "  .colab-df-quickchart {\n",
              "      --bg-color: #E8F0FE;\n",
              "      --fill-color: #1967D2;\n",
              "      --hover-bg-color: #E2EBFA;\n",
              "      --hover-fill-color: #174EA6;\n",
              "      --disabled-fill-color: #AAA;\n",
              "      --disabled-bg-color: #DDD;\n",
              "  }\n",
              "\n",
              "  [theme=dark] .colab-df-quickchart {\n",
              "      --bg-color: #3B4455;\n",
              "      --fill-color: #D2E3FC;\n",
              "      --hover-bg-color: #434B5C;\n",
              "      --hover-fill-color: #FFFFFF;\n",
              "      --disabled-bg-color: #3B4455;\n",
              "      --disabled-fill-color: #666;\n",
              "  }\n",
              "\n",
              "  .colab-df-quickchart {\n",
              "    background-color: var(--bg-color);\n",
              "    border: none;\n",
              "    border-radius: 50%;\n",
              "    cursor: pointer;\n",
              "    display: none;\n",
              "    fill: var(--fill-color);\n",
              "    height: 32px;\n",
              "    padding: 0;\n",
              "    width: 32px;\n",
              "  }\n",
              "\n",
              "  .colab-df-quickchart:hover {\n",
              "    background-color: var(--hover-bg-color);\n",
              "    box-shadow: 0 1px 2px rgba(60, 64, 67, 0.3), 0 1px 3px 1px rgba(60, 64, 67, 0.15);\n",
              "    fill: var(--button-hover-fill-color);\n",
              "  }\n",
              "\n",
              "  .colab-df-quickchart-complete:disabled,\n",
              "  .colab-df-quickchart-complete:disabled:hover {\n",
              "    background-color: var(--disabled-bg-color);\n",
              "    fill: var(--disabled-fill-color);\n",
              "    box-shadow: none;\n",
              "  }\n",
              "\n",
              "  .colab-df-spinner {\n",
              "    border: 2px solid var(--fill-color);\n",
              "    border-color: transparent;\n",
              "    border-bottom-color: var(--fill-color);\n",
              "    animation:\n",
              "      spin 1s steps(1) infinite;\n",
              "  }\n",
              "\n",
              "  @keyframes spin {\n",
              "    0% {\n",
              "      border-color: transparent;\n",
              "      border-bottom-color: var(--fill-color);\n",
              "      border-left-color: var(--fill-color);\n",
              "    }\n",
              "    20% {\n",
              "      border-color: transparent;\n",
              "      border-left-color: var(--fill-color);\n",
              "      border-top-color: var(--fill-color);\n",
              "    }\n",
              "    30% {\n",
              "      border-color: transparent;\n",
              "      border-left-color: var(--fill-color);\n",
              "      border-top-color: var(--fill-color);\n",
              "      border-right-color: var(--fill-color);\n",
              "    }\n",
              "    40% {\n",
              "      border-color: transparent;\n",
              "      border-right-color: var(--fill-color);\n",
              "      border-top-color: var(--fill-color);\n",
              "    }\n",
              "    60% {\n",
              "      border-color: transparent;\n",
              "      border-right-color: var(--fill-color);\n",
              "    }\n",
              "    80% {\n",
              "      border-color: transparent;\n",
              "      border-right-color: var(--fill-color);\n",
              "      border-bottom-color: var(--fill-color);\n",
              "    }\n",
              "    90% {\n",
              "      border-color: transparent;\n",
              "      border-bottom-color: var(--fill-color);\n",
              "    }\n",
              "  }\n",
              "</style>\n",
              "\n",
              "  <script>\n",
              "    async function quickchart(key) {\n",
              "      const quickchartButtonEl =\n",
              "        document.querySelector('#' + key + ' button');\n",
              "      quickchartButtonEl.disabled = true;  // To prevent multiple clicks.\n",
              "      quickchartButtonEl.classList.add('colab-df-spinner');\n",
              "      try {\n",
              "        const charts = await google.colab.kernel.invokeFunction(\n",
              "            'suggestCharts', [key], {});\n",
              "      } catch (error) {\n",
              "        console.error('Error during call to suggestCharts:', error);\n",
              "      }\n",
              "      quickchartButtonEl.classList.remove('colab-df-spinner');\n",
              "      quickchartButtonEl.classList.add('colab-df-quickchart-complete');\n",
              "    }\n",
              "    (() => {\n",
              "      let quickchartButtonEl =\n",
              "        document.querySelector('#df-1973c230-a229-4ae2-9116-97767d94718c button');\n",
              "      quickchartButtonEl.style.display =\n",
              "        google.colab.kernel.accessAllowed ? 'block' : 'none';\n",
              "    })();\n",
              "  </script>\n",
              "</div>\n",
              "\n",
              "    </div>\n",
              "  </div>\n"
            ],
            "application/vnd.google.colaboratory.intrinsic+json": {
              "type": "dataframe"
            }
          },
          "metadata": {}
        }
      ]
    },
    {
      "cell_type": "markdown",
      "source": [
        "Масштабування числових ознак до діапазону [0, 1].Масштабування знижує вплив ознак із великими числовими значеннями та полегшує роботу моделей, особливо тих, які чутливі до масштабів (наприклад, логістична регресія)."
      ],
      "metadata": {
        "id": "lgxl8Fp57XnJ"
      }
    },
    {
      "cell_type": "markdown",
      "source": [
        "Заповнення пропущених значень у категоріальних колонках найпоширенішим значенням. Найпоширеніше значення — це найбільш ймовірний варіант для заповнення пропусків у категоріях\n"
      ],
      "metadata": {
        "id": "3l-q-xut7mRZ"
      }
    },
    {
      "cell_type": "markdown",
      "source": [
        "5. Збережіть дані, що містяться в змінних `train_inputs`, `train_targets`, `val_inputs`, `val_targets` на диск в форматі `parquet`. В кінці виведіть список файлів в папці, в яку Ви зберегли файли і перевірте, чи файли збереглись. Вивести список файлів можна з `os.listdir(your_dir)` або `!ls your_dir`"
      ],
      "metadata": {
        "id": "Gk-NVTdyoAtu"
      }
    },
    {
      "cell_type": "code",
      "source": [
        "output_dir = \"/mnt/data/processed_data\"\n",
        "os.makedirs(output_dir, exist_ok=True)"
      ],
      "metadata": {
        "id": "m7HM7G5rB6Sw"
      },
      "execution_count": 21,
      "outputs": []
    },
    {
      "cell_type": "code",
      "source": [
        "# Збереження оброблених даних у форматі Parquet\n",
        "train_inputs_path = os.path.join(output_dir, \"train_inputs.parquet\")\n",
        "val_inputs_path = os.path.join(output_dir, \"val_inputs.parquet\")\n",
        "train_targets_path = os.path.join(output_dir, \"train_targets.parquet\")\n",
        "val_targets_path = os.path.join(output_dir, \"val_targets.parquet\")\n"
      ],
      "metadata": {
        "id": "DteIwTkN2hve"
      },
      "execution_count": 24,
      "outputs": []
    },
    {
      "cell_type": "code",
      "source": [
        "train_inputs.to_parquet(train_inputs_path)\n",
        "val_inputs.to_parquet(val_inputs_path)\n",
        "pd.DataFrame(train_targets).to_parquet(train_targets_path)\n",
        "pd.DataFrame(val_targets).to_parquet(val_targets_path)\n",
        "\n",
        "# Виведення списку збережених файлів\n",
        "saved_files = os.listdir(output_dir)\n",
        "saved_files"
      ],
      "metadata": {
        "colab": {
          "base_uri": "https://localhost:8080/"
        },
        "id": "f435j6GNBizX",
        "outputId": "b477e022-21aa-4859-de9b-8e4cfe97b0d0"
      },
      "execution_count": 25,
      "outputs": [
        {
          "output_type": "execute_result",
          "data": {
            "text/plain": [
              "['train_targets.parquet',\n",
              " 'val_inputs.parquet',\n",
              " 'train_inputs.parquet',\n",
              " 'val_targets.parquet']"
            ]
          },
          "metadata": {},
          "execution_count": 25
        }
      ]
    },
    {
      "cell_type": "markdown",
      "source": [
        "6. З підготовлених вхіжних даних створіть `X_train`, `X_val` набори, які містять лише колонки, які підуть на вхід моделі. Навчіть модель бінарної класифікації з допомогою `LogisticRegression` в `scikit-learn`."
      ],
      "metadata": {
        "id": "D5_3RjSdowGF"
      }
    },
    {
      "cell_type": "code",
      "source": [
        "# Формування X_train та X_val (всі вхідні дані, крім цільової змінної)\n",
        "X_train = train_inputs.copy()\n",
        "X_val = val_inputs.copy()\n",
        "\n",
        "# Формування y_train та y_val (цільова змінна)\n",
        "y_train = train_targets.copy()\n",
        "y_val = val_targets.copy()\n",
        "\n",
        "# Ініціалізація та навчання моделі LogisticRegression\n",
        "model = LogisticRegression(random_state=42, max_iter=1000)\n",
        "model.fit(X_train, y_train)\n",
        "\n",
        "# Прогнозування на валідаційних даних\n",
        "y_pred = model.predict(X_val)\n",
        "y_pred_proba = model.predict_proba(X_val)[:, 1]\n",
        "\n",
        "# Оцінка якості моделі\n",
        "accuracy = accuracy_score(y_val, y_pred)\n",
        "roc_auc = roc_auc_score(y_val, y_pred_proba)\n",
        "\n",
        "# Виведення результатів\n",
        "accuracy, roc_auc\n",
        "\n"
      ],
      "metadata": {
        "id": "VZUkPF-e2irB",
        "colab": {
          "base_uri": "https://localhost:8080/"
        },
        "outputId": "5c31b1ce-3d60-4431-e048-1b39ca9b3a68"
      },
      "execution_count": 31,
      "outputs": [
        {
          "output_type": "execute_result",
          "data": {
            "text/plain": [
              "(0.8706666666666667, 0.8845798751629055)"
            ]
          },
          "metadata": {},
          "execution_count": 31
        }
      ]
    },
    {
      "cell_type": "markdown",
      "source": [
        "7. Виведіть Confusion matrix, ROC Curve, метрику AUROC та метрику F1 Score для порога класифікації 0.5 для побудованої моделі на тренувальних та валідаційних даних. Що можете сказати про якіст моделі? Вона хороша, погана, задовільна?"
      ],
      "metadata": {
        "id": "37s-m8G2pL4J"
      }
    },
    {
      "cell_type": "code",
      "source": [
        "import matplotlib.pyplot as plt\n",
        "from sklearn.metrics import confusion_matrix, roc_curve, f1_score\n",
        "\n",
        "# Обчислення Confusion Matrix для тренувального та валідаційного набору\n",
        "cm_train = confusion_matrix(y_train, model.predict(X_train))\n",
        "cm_val = confusion_matrix(y_val, y_pred)\n",
        "\n",
        "# Обчислення метрики F1 Score\n",
        "f1_train = f1_score(y_train, model.predict(X_train))\n",
        "f1_val = f1_score(y_val, y_pred)\n",
        "\n",
        "# Побудова ROC-кривої\n",
        "fpr_train, tpr_train, _ = roc_curve(y_train, model.predict_proba(X_train)[:, 1])\n",
        "fpr_val, tpr_val, _ = roc_curve(y_val, y_pred_proba)\n",
        "\n",
        "# Візуалізація Confusion Matrix\n",
        "fig, axes = plt.subplots(1, 2, figsize=(12, 5))\n",
        "\n",
        "# Confusion Matrix для Train\n",
        "sns.heatmap(cm_train, annot=True, fmt='d', cmap='Blues', xticklabels=['No Exit', 'Exit'], yticklabels=['No Exit', 'Exit'], ax=axes[0])\n",
        "axes[0].set_title('Confusion Matrix (Train)')\n",
        "axes[0].set_xlabel('Predicted')\n",
        "axes[0].set_ylabel('Actual')\n",
        "\n",
        "# Confusion Matrix для Validation\n",
        "sns.heatmap(cm_val, annot=True, fmt='d', cmap='Blues', xticklabels=['No Exit', 'Exit'], yticklabels=['No Exit', 'Exit'], ax=axes[1])\n",
        "axes[1].set_title('Confusion Matrix (Validation)')\n",
        "axes[1].set_xlabel('Predicted')\n",
        "axes[1].set_ylabel('Actual')\n",
        "\n",
        "plt.show()\n",
        "\n",
        "# Візуалізація ROC-кривої\n",
        "plt.figure(figsize=(8, 6))\n",
        "plt.plot(fpr_train, tpr_train, label=f'Train (AUROC = {roc_auc_score(y_train, model.predict_proba(X_train)[:, 1]):.3f})')\n",
        "plt.plot(fpr_val, tpr_val, label=f'Validation (AUROC = {roc_auc:.3f})')\n",
        "plt.plot([0, 1], [0, 1], linestyle='--', color='gray')\n",
        "plt.xlabel('False Positive Rate')\n",
        "plt.ylabel('True Positive Rate')\n",
        "plt.title('ROC Curve')\n",
        "plt.legend()\n",
        "plt.show()\n",
        "\n",
        "# Виведення метрик\n",
        "{\n",
        "    \"Train F1 Score\": f1_train,\n",
        "    \"Validation F1 Score\": f1_val,\n",
        "    \"Train AUROC\": roc_auc_score(y_train, model.predict_proba(X_train)[:, 1]),\n",
        "    \"Validation AUROC\": roc_auc\n",
        "}\n"
      ],
      "metadata": {
        "id": "I02ENkyJ2jhn",
        "colab": {
          "base_uri": "https://localhost:8080/",
          "height": 1000
        },
        "outputId": "48584893-c423-49e7-ed6b-c33232afa410"
      },
      "execution_count": 32,
      "outputs": [
        {
          "output_type": "display_data",
          "data": {
            "text/plain": [
              "<Figure size 1200x500 with 4 Axes>"
            ],
            "image/png": "[encoded data removed]"
          },
          "metadata": {}
        },
        {
          "output_type": "display_data",
          "data": {
            "text/plain": [
              "<Figure size 800x600 with 1 Axes>"
            ],
            "image/png": "[encoded data removed]"
          },
          "metadata": {}
        },
        {
          "output_type": "execute_result",
          "data": {
            "text/plain": [
              "{'Train F1 Score': 0.6690510252742012,\n",
              " 'Validation F1 Score': 0.6420664206642066,\n",
              " 'Train AUROC': 0.9020635084665216,\n",
              " 'Validation AUROC': 0.8845798751629055}"
            ]
          },
          "metadata": {},
          "execution_count": 32
        }
      ]
    },
    {
      "cell_type": "markdown",
      "source": [
        "AUROC = 88.5% - гарна якість передбачення.F1 Score = 64% Баланс між точністю та повнотою."
      ],
      "metadata": {
        "id": "RIbffymPEday"
      }
    },
    {
      "cell_type": "markdown",
      "source": [
        "8. Створіть передбачення моделі, яка передбачає завжди мажоритарний клас (той, якого більше в тренувальних даних). Порахуйте Accuracy на тренувальних та валідаційних даних для цієї моделі і тої, що ми натренували в п.6. Зробіть заключення про якість нашої моделі: якість хороша, погана, задовільна?"
      ],
      "metadata": {
        "id": "3aLarTs4rWIJ"
      }
    },
    {
      "cell_type": "code",
      "source": [
        "# Визначення мажоритарного класу (класу, який зустрічається частіше за все у train_targets)\n",
        "majority_class = y_train.value_counts().idxmax()\n",
        "\n",
        "# Створення прогнозу \"завжди мажоритарний клас\" для тренувального та валідаційного наборів\n",
        "y_train_majority_pred = np.full_like(y_train, majority_class)\n",
        "y_val_majority_pred = np.full_like(y_val, majority_class)\n",
        "\n",
        "# Обчислення Accuracy для простої моделі (мажоритарний клас)\n",
        "accuracy_train_majority = accuracy_score(y_train, y_train_majority_pred)\n",
        "accuracy_val_majority = accuracy_score(y_val, y_val_majority_pred)\n",
        "\n",
        "# Обчислення Accuracy для натренованої Logistic Regression моделі\n",
        "accuracy_train_model = accuracy_score(y_train, model.predict(X_train))\n",
        "accuracy_val_model = accuracy_score(y_val, y_pred)\n",
        "\n",
        "# Виведення результатів\n",
        "{\n",
        "    \"Majority Class\": majority_class,\n",
        "    \"Train Accuracy (Majority)\": accuracy_train_majority,\n",
        "    \"Validation Accuracy (Majority)\": accuracy_val_majority,\n",
        "    \"Train Accuracy (Model)\": accuracy_train_model,\n",
        "    \"Validation Accuracy (Model)\": accuracy_val_model,\n",
        "}\n"
      ],
      "metadata": {
        "id": "0szMoWzd2k_Y",
        "colab": {
          "base_uri": "https://localhost:8080/"
        },
        "outputId": "c18d1c75-712b-4540-dadb-c2791b8e87b0"
      },
      "execution_count": 33,
      "outputs": [
        {
          "output_type": "execute_result",
          "data": {
            "text/plain": [
              "{'Majority Class': 0.0,\n",
              " 'Train Accuracy (Majority)': 0.7965,\n",
              " 'Validation Accuracy (Majority)': 0.7966666666666666,\n",
              " 'Train Accuracy (Model)': 0.8843333333333333,\n",
              " 'Validation Accuracy (Model)': 0.8706666666666667}"
            ]
          },
          "metadata": {},
          "execution_count": 33
        }
      ]
    },
    {
      "cell_type": "markdown",
      "source": [
        "Модель є хорошою, оскільки вона перевищує базову стратегію (мажоритарний клас) та має високу AUROC приблизно 88%\n"
      ],
      "metadata": {
        "id": "reOo_brOFkn1"
      }
    },
    {
      "cell_type": "markdown",
      "source": [
        "9. Збережіть модель і інші обʼєкти, які ви хотіли б зберегти, з використанням бібліотеки joblib в файл `log_reg.joblib`. Потім завантажте модель з файлу в змінну `model_2` (цим ми тренуємось завантажувати модель з файлу на майбутнє)."
      ],
      "metadata": {
        "id": "l_3QF-hAuFgA"
      }
    },
    {
      "cell_type": "code",
      "source": [
        "import joblib\n",
        "\n",
        "# Шлях для збереження моделі\n",
        "model_path = \"/mnt/data/log_reg.joblib\"\n",
        "\n",
        "# Збереження моделі\n",
        "joblib.dump(model, model_path)\n",
        "\n",
        "# Завантаження моделі з файлу\n",
        "model_2 = joblib.load(model_path)\n",
        "\n",
        "# Перевірка, чи завантажена модель ідентична оригінальній (порівняння коефіцієнтів)\n",
        "np.allclose(model.coef_, model_2.coef_)\n"
      ],
      "metadata": {
        "id": "FpeQ2qLm2oBU",
        "colab": {
          "base_uri": "https://localhost:8080/"
        },
        "outputId": "759dfdf3-0b1e-4e47-9d11-820e739ba948"
      },
      "execution_count": 34,
      "outputs": [
        {
          "output_type": "execute_result",
          "data": {
            "text/plain": [
              "True"
            ]
          },
          "metadata": {},
          "execution_count": 34
        }
      ]
    },
    {
      "cell_type": "markdown",
      "source": [
        "10. Ознайомтесь з роботою наведеної функції `predict_raw_df`. Ця функція робить підготовку даних (масштабування числових колонок і кодування категоріальних) і виводить ймовірності належності до класу 1 для кожного рядка в наданому наборі.\n",
        "\n",
        "Доповніть або внесіть зміни у функцію з врахуванням вашого препроцесингу даних."
      ],
      "metadata": {
        "id": "E_b1hrHUvQpb"
      }
    },
    {
      "cell_type": "code",
      "source": [
        "import warnings\n",
        "\n",
        "# Ігнорування попереджень\n",
        "warnings.filterwarnings(\"ignore\")\n",
        "\n",
        "def predict_raw_df(preprocessor, model, numeric_cols, categorical_cols, input_df: pd.DataFrame):\n",
        "    # Копія вхідних даних, щоб уникнути змін у оригінальному DataFrame\n",
        "    input_df = input_df.copy()\n",
        "\n",
        "    # Переконуємося, що потрібні колонки є у вхідних даних\n",
        "    missing_cols = [col for col in numeric_cols + categorical_cols if col not in input_df.columns]\n",
        "    if missing_cols:\n",
        "        raise ValueError(f\"Відсутні колонки у вхідних даних: {missing_cols}\")\n",
        "\n",
        "    # Застосування навченої трансформації до вхідних даних\n",
        "    X_input = preprocessor.transform(input_df[numeric_cols + categorical_cols])\n",
        "\n",
        "    # Отримання ймовірностей класу 1\n",
        "    prob = model.predict_proba(X_input)[:, 1]\n",
        "\n",
        "    return prob"
      ],
      "metadata": {
        "id": "n8bLQDa3viLC"
      },
      "execution_count": 36,
      "outputs": []
    },
    {
      "cell_type": "code",
      "source": [
        "predict_raw_df(preprocessor, model, numeric_cols, categorical_cols, df[:5])"
      ],
      "metadata": {
        "id": "n3tx_nQ0vw7W",
        "collapsed": true,
        "colab": {
          "base_uri": "https://localhost:8080/"
        },
        "outputId": "42dc0f00-e508-41dc-c54e-91e518aa6874"
      },
      "execution_count": 39,
      "outputs": [
        {
          "output_type": "execute_result",
          "data": {
            "text/plain": [
              "array([0.00617054, 0.02975421, 0.6169147 , 0.31788778, 0.97539206])"
            ]
          },
          "metadata": {},
          "execution_count": 39
        }
      ]
    },
    {
      "cell_type": "markdown",
      "source": [
        "11. Зчитайте дані з `test.csv` в змінну `test_raw_df`. Зробіть передбачення для кожного рядка даних з функцією з попереднього завдання і запишіть результат в нову колонку `Exited` в датафреймі `test_raw_df`."
      ],
      "metadata": {
        "id": "W8rRDFfExV40"
      }
    },
    {
      "cell_type": "code",
      "source": [
        "# Завантаження test.csv\n",
        "test_file_path = \"/content/bank-customer-churn-prediction-dlu-course-c-2/test.csv\"\n",
        "\n",
        "test_raw_df = pd.read_csv(test_file_path)\n",
        "\n",
        "# Отримання прогнозів для кожного рядка тестових даних\n",
        "test_raw_df[\"Exited\"] = predict_raw_df(preprocessor, model, numeric_cols, categorical_cols, test_raw_df)\n",
        "\n",
        "# Відображення оновленого датафрейму\n",
        "print(test_raw_df.head())"
      ],
      "metadata": {
        "id": "LyWEdGWx2u6d",
        "colab": {
          "base_uri": "https://localhost:8080/"
        },
        "outputId": "e0bb1bf7-2d2b-460e-fcae-32f04c06c182"
      },
      "execution_count": 50,
      "outputs": [
        {
          "output_type": "stream",
          "name": "stdout",
          "text": [
            "      id  CustomerId     Surname  CreditScore Geography Gender   Age  Tenure  \\\n",
            "0  15000  15594796.0         Chu        584.0   Germany   Male  30.0     2.0   \n",
            "1  15001  15642821.0       Mazzi        551.0    France   Male  39.0     5.0   \n",
            "2  15002  15716284.0   Onyekachi        706.0    France   Male  43.0     8.0   \n",
            "3  15003  15785078.0      Martin        717.0     Spain   Male  45.0     3.0   \n",
            "4  15004  15662955.0  Kenechukwu        592.0     Spain   Male  43.0     8.0   \n",
            "\n",
            "     Balance  NumOfProducts  HasCrCard  IsActiveMember  EstimatedSalary  \\\n",
            "0  146053.66            1.0        1.0             1.0        157891.86   \n",
            "1       0.00            2.0        1.0             1.0         67431.28   \n",
            "2       0.00            2.0        1.0             0.0        156768.45   \n",
            "3       0.00            1.0        1.0             1.0        166909.87   \n",
            "4       0.00            2.0        1.0             1.0        143681.97   \n",
            "\n",
            "     Exited  \n",
            "0  0.022522  \n",
            "1  0.048720  \n",
            "2  0.074365  \n",
            "3  0.299841  \n",
            "4  0.036270  \n"
          ]
        }
      ]
    },
    {
      "cell_type": "markdown",
      "source": [
        "12. Зчитайте файл 'sample_submission.csv' і зповніть колонку `Exited` передбаченими вашою моделлю значеннями для кожного відповідного `id` клієнта.\n",
        "Виведіть перші 5 рядків фінального датасету, збережіть результат в файл `submission_log_reg.csv` (УВАГА! не запишіть випадково ще індекси рядків!) і здайте цей файл на Kaggle зі свого профіля натиснувши `Submit Prediction`."
      ],
      "metadata": {
        "id": "ZHZciHxEx7IZ"
      }
    },
    {
      "cell_type": "code",
      "source": [
        "# Завантаження sample_submission.csv\n",
        "submission_file_path = \"/content/bank-customer-churn-prediction-dlu-course-c-2/sample_submission.csv\"\n",
        "\n",
        "# Читаємо файл\n",
        "submission_df = pd.read_csv(submission_file_path)\n",
        "\n",
        "submission_df['Exited'] = submission_df['id'].map(test_raw_df.set_index('id')['Exited'])\n",
        "\n",
        "# Виведення перших 5 рядків фінального датасету\n",
        "print(submission_df.head())\n",
        "\n",
        "# Збереження у файл без індексів\n",
        "submission_csv_path = \"/content/bank-customer-churn-prediction-dlu-course-c-2/submission_log_reg.csv\"\n",
        "submission_df.to_csv(submission_csv_path, index=False)"
      ],
      "metadata": {
        "id": "HjkKnrll2wNA",
        "colab": {
          "base_uri": "https://localhost:8080/"
        },
        "outputId": "8d7dbe4f-ae54-4663-b643-7f0f7f28872a"
      },
      "execution_count": 52,
      "outputs": [
        {
          "output_type": "stream",
          "name": "stdout",
          "text": [
            "      id    Exited\n",
            "0  15000  0.022522\n",
            "1  15001  0.048720\n",
            "2  15002  0.074365\n",
            "3  15003  0.299841\n",
            "4  15004  0.036270\n"
          ]
        }
      ]
    }
  ]
}